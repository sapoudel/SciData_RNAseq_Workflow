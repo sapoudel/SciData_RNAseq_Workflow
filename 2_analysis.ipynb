{
 "cells": [
  {
   "cell_type": "markdown",
   "metadata": {},
   "source": [
    "# Adapted from:  http://www.bioconductor.org/help/workflows/rnaseqGene/"
   ]
  },
  {
   "cell_type": "markdown",
   "metadata": {},
   "source": [
    "#### To learn basics of R: https://www.datacamp.com/courses/free-introduction-to-r"
   ]
  },
  {
   "cell_type": "markdown",
   "metadata": {},
   "source": [
    "# Table of Contents"
   ]
  },
  {
   "cell_type": "markdown",
   "metadata": {},
   "source": [
    "1. [Setup](#Setup)\n",
    "1. [Create DESeq Data Set](#Create-DESeq-Data-Set)\n",
    "1. [Calculate TPM](#Calculate-TPM)\n",
    "1. [PCA and Clustering](#PCA-and-Clustering)\n",
    "    1. [PCA](#PCA)\n",
    "    1. [Clustering](#Clustering)\n",
    "1. [Find DEGs](#Find-DEGs)"
   ]
  },
  {
   "cell_type": "markdown",
   "metadata": {},
   "source": [
    "# Setup"
   ]
  },
  {
   "cell_type": "markdown",
   "metadata": {},
   "source": [
    "If this is your first time running this script, uncomment and run the following code block. This will install all necessary R packages, but it may take 5-10 minutes to complete"
   ]
  },
  {
   "cell_type": "code",
   "execution_count": 1,
   "metadata": {
    "collapsed": true
   },
   "outputs": [],
   "source": [
    "# source(\"https://bioconductor.org/biocLite.R\")\n",
    "# biocLite('SummarizedExperiment')\n",
    "# biocLite('GenomicFeatures')\n",
    "# biocLite('DESeq2')\n",
    "# biocLite('pheatmap')\n",
    "# biocLite('RColorBrewer')"
   ]
  },
  {
   "cell_type": "code",
   "execution_count": 2,
   "metadata": {
    "collapsed": true
   },
   "outputs": [],
   "source": [
    "suppressPackageStartupMessages(library('SummarizedExperiment'))\n",
    "suppressPackageStartupMessages(library('GenomicFeatures'))\n",
    "suppressPackageStartupMessages(library('DESeq2'))"
   ]
  },
  {
   "cell_type": "markdown",
   "metadata": {},
   "source": [
    "# Create DESeq Data Set"
   ]
  },
  {
   "cell_type": "markdown",
   "metadata": {},
   "source": [
    "## From R pipeline"
   ]
  },
  {
   "cell_type": "code",
   "execution_count": 3,
   "metadata": {
    "collapsed": true
   },
   "outputs": [],
   "source": [
    "load('example/se.rda')"
   ]
  },
  {
   "cell_type": "markdown",
   "metadata": {},
   "source": [
    "Create the DESeqDataSet, and designate the experimental design. The experimental design can include information from the colData. Use ~1 to ignore design criteria."
   ]
  },
  {
   "cell_type": "code",
   "execution_count": 4,
   "metadata": {},
   "outputs": [
    {
     "data": {
      "text/html": [
       "<ol class=list-inline>\n",
       "\t<li>'wt_fe2_1'</li>\n",
       "\t<li>'wt_fe2_2'</li>\n",
       "\t<li>'wt_dpd_1'</li>\n",
       "\t<li>'wt_dpd_2'</li>\n",
       "\t<li>'delfur_fe2_1'</li>\n",
       "\t<li>'delfur_fe2_2'</li>\n",
       "\t<li>'delfur_dpd_1'</li>\n",
       "\t<li>'delfur_dpd_2'</li>\n",
       "</ol>\n"
      ],
      "text/latex": [
       "\\begin{enumerate*}\n",
       "\\item 'wt\\_fe2\\_1'\n",
       "\\item 'wt\\_fe2\\_2'\n",
       "\\item 'wt\\_dpd\\_1'\n",
       "\\item 'wt\\_dpd\\_2'\n",
       "\\item 'delfur\\_fe2\\_1'\n",
       "\\item 'delfur\\_fe2\\_2'\n",
       "\\item 'delfur\\_dpd\\_1'\n",
       "\\item 'delfur\\_dpd\\_2'\n",
       "\\end{enumerate*}\n"
      ],
      "text/markdown": [
       "1. 'wt_fe2_1'\n",
       "2. 'wt_fe2_2'\n",
       "3. 'wt_dpd_1'\n",
       "4. 'wt_dpd_2'\n",
       "5. 'delfur_fe2_1'\n",
       "6. 'delfur_fe2_2'\n",
       "7. 'delfur_dpd_1'\n",
       "8. 'delfur_dpd_2'\n",
       "\n",
       "\n"
      ],
      "text/plain": [
       "[1] \"wt_fe2_1\"     \"wt_fe2_2\"     \"wt_dpd_1\"     \"wt_dpd_2\"     \"delfur_fe2_1\"\n",
       "[6] \"delfur_fe2_2\" \"delfur_dpd_1\" \"delfur_dpd_2\""
      ]
     },
     "metadata": {},
     "output_type": "display_data"
    }
   ],
   "source": [
    "colnames(se)"
   ]
  },
  {
   "cell_type": "code",
   "execution_count": 5,
   "metadata": {},
   "outputs": [
    {
     "data": {
      "text/html": [
       "<ol class=list-inline>\n",
       "\t<li>'wt_fe2'</li>\n",
       "\t<li>'wt_fe2'</li>\n",
       "\t<li>'wt_dpd'</li>\n",
       "\t<li>'wt_dpd'</li>\n",
       "\t<li>'delfur_fe2'</li>\n",
       "\t<li>'delfur_fe2'</li>\n",
       "\t<li>'delfur_dpd'</li>\n",
       "\t<li>'delfur_dpd'</li>\n",
       "</ol>\n"
      ],
      "text/latex": [
       "\\begin{enumerate*}\n",
       "\\item 'wt\\_fe2'\n",
       "\\item 'wt\\_fe2'\n",
       "\\item 'wt\\_dpd'\n",
       "\\item 'wt\\_dpd'\n",
       "\\item 'delfur\\_fe2'\n",
       "\\item 'delfur\\_fe2'\n",
       "\\item 'delfur\\_dpd'\n",
       "\\item 'delfur\\_dpd'\n",
       "\\end{enumerate*}\n"
      ],
      "text/markdown": [
       "1. 'wt_fe2'\n",
       "2. 'wt_fe2'\n",
       "3. 'wt_dpd'\n",
       "4. 'wt_dpd'\n",
       "5. 'delfur_fe2'\n",
       "6. 'delfur_fe2'\n",
       "7. 'delfur_dpd'\n",
       "8. 'delfur_dpd'\n",
       "\n",
       "\n"
      ],
      "text/plain": [
       "[1] \"wt_fe2\"     \"wt_fe2\"     \"wt_dpd\"     \"wt_dpd\"     \"delfur_fe2\"\n",
       "[6] \"delfur_fe2\" \"delfur_dpd\" \"delfur_dpd\""
      ]
     },
     "metadata": {},
     "output_type": "display_data"
    }
   ],
   "source": [
    "# Designate groups for comparisons by removing the replicate subscript from colnames\n",
    "colData(se)$group <- gsub('.{2}$', '', colnames(se))\n",
    "colData(se)$group"
   ]
  },
  {
   "cell_type": "code",
   "execution_count": 6,
   "metadata": {
    "scrolled": true
   },
   "outputs": [
    {
     "name": "stderr",
     "output_type": "stream",
     "text": [
      "Warning message in DESeqDataSet(se, design = ~group):\n",
      "“some variables in design formula are characters, converting to factors”"
     ]
    }
   ],
   "source": [
    "dds <- DESeqDataSet(se, design = ~group)"
   ]
  },
  {
   "cell_type": "markdown",
   "metadata": {},
   "source": [
    "Remove genes that have 0 counts across experimental conditions"
   ]
  },
  {
   "cell_type": "code",
   "execution_count": 7,
   "metadata": {},
   "outputs": [
    {
     "data": {
      "text/html": [
       "4319"
      ],
      "text/latex": [
       "4319"
      ],
      "text/markdown": [
       "4319"
      ],
      "text/plain": [
       "[1] 4319"
      ]
     },
     "metadata": {},
     "output_type": "display_data"
    },
    {
     "data": {
      "text/html": [
       "4270"
      ],
      "text/latex": [
       "4270"
      ],
      "text/markdown": [
       "4270"
      ],
      "text/plain": [
       "[1] 4270"
      ]
     },
     "metadata": {},
     "output_type": "display_data"
    }
   ],
   "source": [
    "nrow(dds)\n",
    "dds <- dds[rowSums(assay(dds)) > 1, ]\n",
    "nrow(dds)"
   ]
  },
  {
   "cell_type": "code",
   "execution_count": 8,
   "metadata": {},
   "outputs": [
    {
     "data": {
      "text/html": [
       "<table>\n",
       "<thead><tr><th></th><th scope=col>wt_fe2_1</th><th scope=col>wt_fe2_2</th><th scope=col>wt_dpd_1</th><th scope=col>wt_dpd_2</th><th scope=col>delfur_fe2_1</th><th scope=col>delfur_fe2_2</th><th scope=col>delfur_dpd_1</th><th scope=col>delfur_dpd_2</th></tr></thead>\n",
       "<tbody>\n",
       "\t<tr><th scope=row>b0001</th><td> 2303</td><td> 2354</td><td>  311</td><td>  284</td><td> 3019</td><td> 3485</td><td>  245</td><td>  232</td></tr>\n",
       "\t<tr><th scope=row>b0002</th><td>36937</td><td>25801</td><td>58117</td><td>60901</td><td>40532</td><td>38470</td><td>17890</td><td>23112</td></tr>\n",
       "\t<tr><th scope=row>b0003</th><td>10922</td><td> 8250</td><td>16854</td><td>21042</td><td>11589</td><td>10840</td><td> 4805</td><td> 7879</td></tr>\n",
       "\t<tr><th scope=row>b0004</th><td>11953</td><td> 8463</td><td>12127</td><td>14498</td><td>10077</td><td> 9532</td><td> 3727</td><td> 5103</td></tr>\n",
       "\t<tr><th scope=row>b0005</th><td>  472</td><td>  345</td><td>  216</td><td>  178</td><td>  362</td><td>  297</td><td>  104</td><td>  120</td></tr>\n",
       "\t<tr><th scope=row>b0006</th><td>  669</td><td>  588</td><td>  703</td><td>  633</td><td>  682</td><td>  653</td><td>  660</td><td>  767</td></tr>\n",
       "</tbody>\n",
       "</table>\n"
      ],
      "text/latex": [
       "\\begin{tabular}{r|llllllll}\n",
       "  & wt\\_fe2\\_1 & wt\\_fe2\\_2 & wt\\_dpd\\_1 & wt\\_dpd\\_2 & delfur\\_fe2\\_1 & delfur\\_fe2\\_2 & delfur\\_dpd\\_1 & delfur\\_dpd\\_2\\\\\n",
       "\\hline\n",
       "\tb0001 &  2303 &  2354 &   311 &   284 &  3019 &  3485 &   245 &   232\\\\\n",
       "\tb0002 & 36937 & 25801 & 58117 & 60901 & 40532 & 38470 & 17890 & 23112\\\\\n",
       "\tb0003 & 10922 &  8250 & 16854 & 21042 & 11589 & 10840 &  4805 &  7879\\\\\n",
       "\tb0004 & 11953 &  8463 & 12127 & 14498 & 10077 &  9532 &  3727 &  5103\\\\\n",
       "\tb0005 &   472 &   345 &   216 &   178 &   362 &   297 &   104 &   120\\\\\n",
       "\tb0006 &   669 &   588 &   703 &   633 &   682 &   653 &   660 &   767\\\\\n",
       "\\end{tabular}\n"
      ],
      "text/markdown": [
       "\n",
       "| <!--/--> | wt_fe2_1 | wt_fe2_2 | wt_dpd_1 | wt_dpd_2 | delfur_fe2_1 | delfur_fe2_2 | delfur_dpd_1 | delfur_dpd_2 | \n",
       "|---|---|---|---|---|---|\n",
       "| b0001 |  2303 |  2354 |   311 |   284 |  3019 |  3485 |   245 |   232 | \n",
       "| b0002 | 36937 | 25801 | 58117 | 60901 | 40532 | 38470 | 17890 | 23112 | \n",
       "| b0003 | 10922 |  8250 | 16854 | 21042 | 11589 | 10840 |  4805 |  7879 | \n",
       "| b0004 | 11953 |  8463 | 12127 | 14498 | 10077 |  9532 |  3727 |  5103 | \n",
       "| b0005 |   472 |   345 |   216 |   178 |   362 |   297 |   104 |   120 | \n",
       "| b0006 |   669 |   588 |   703 |   633 |   682 |   653 |   660 |   767 | \n",
       "\n",
       "\n"
      ],
      "text/plain": [
       "      wt_fe2_1 wt_fe2_2 wt_dpd_1 wt_dpd_2 delfur_fe2_1 delfur_fe2_2\n",
       "b0001  2303     2354      311      284     3019         3485       \n",
       "b0002 36937    25801    58117    60901    40532        38470       \n",
       "b0003 10922     8250    16854    21042    11589        10840       \n",
       "b0004 11953     8463    12127    14498    10077         9532       \n",
       "b0005   472      345      216      178      362          297       \n",
       "b0006   669      588      703      633      682          653       \n",
       "      delfur_dpd_1 delfur_dpd_2\n",
       "b0001   245          232       \n",
       "b0002 17890        23112       \n",
       "b0003  4805         7879       \n",
       "b0004  3727         5103       \n",
       "b0005   104          120       \n",
       "b0006   660          767       "
      ]
     },
     "metadata": {},
     "output_type": "display_data"
    }
   ],
   "source": [
    "head(assay(dds))"
   ]
  },
  {
   "cell_type": "markdown",
   "metadata": {},
   "source": [
    "## From Python pipeline"
   ]
  },
  {
   "cell_type": "code",
   "execution_count": 6,
   "metadata": {
    "collapsed": true
   },
   "outputs": [],
   "source": [
    "countdata <- read.csv(file='example/counts/counts.csv',row.names=1)"
   ]
  },
  {
   "cell_type": "code",
   "execution_count": 8,
   "metadata": {
    "collapsed": true
   },
   "outputs": [],
   "source": [
    "coldata <- read.csv(file='example/metadata.csv')"
   ]
  },
  {
   "cell_type": "code",
   "execution_count": 9,
   "metadata": {
    "collapsed": true
   },
   "outputs": [],
   "source": [
    "coldata$group <- gsub('.{2}$', '', coldata$sample_id)"
   ]
  },
  {
   "cell_type": "code",
   "execution_count": 10,
   "metadata": {},
   "outputs": [
    {
     "name": "stderr",
     "output_type": "stream",
     "text": [
      "Import genomic features from the file as a GRanges object ... OK\n",
      "Prepare the 'metadata' data frame ... OK\n",
      "Make the TxDb object ... OK\n"
     ]
    }
   ],
   "source": [
    "GFF_FILE <- \"./example/ref/NC_000913.3.gff\"\n",
    "txdb <- suppressWarnings(makeTxDbFromGFF(GFF_FILE, format=\"gtf\"))\n",
    "exons <- exonsBy(txdb, by=\"gene\")"
   ]
  },
  {
   "cell_type": "code",
   "execution_count": 11,
   "metadata": {},
   "outputs": [
    {
     "data": {
      "text/html": [
       "<ol class=list-inline>\n",
       "\t<li>'wt_fe2'</li>\n",
       "\t<li>'wt_fe2'</li>\n",
       "\t<li>'wt_dpd'</li>\n",
       "\t<li>'wt_dpd'</li>\n",
       "\t<li>'delfur_fe2'</li>\n",
       "\t<li>'delfur_fe2'</li>\n",
       "\t<li>'delfur_dpd'</li>\n",
       "\t<li>'delfur_dpd'</li>\n",
       "</ol>\n"
      ],
      "text/latex": [
       "\\begin{enumerate*}\n",
       "\\item 'wt\\_fe2'\n",
       "\\item 'wt\\_fe2'\n",
       "\\item 'wt\\_dpd'\n",
       "\\item 'wt\\_dpd'\n",
       "\\item 'delfur\\_fe2'\n",
       "\\item 'delfur\\_fe2'\n",
       "\\item 'delfur\\_dpd'\n",
       "\\item 'delfur\\_dpd'\n",
       "\\end{enumerate*}\n"
      ],
      "text/markdown": [
       "1. 'wt_fe2'\n",
       "2. 'wt_fe2'\n",
       "3. 'wt_dpd'\n",
       "4. 'wt_dpd'\n",
       "5. 'delfur_fe2'\n",
       "6. 'delfur_fe2'\n",
       "7. 'delfur_dpd'\n",
       "8. 'delfur_dpd'\n",
       "\n",
       "\n"
      ],
      "text/plain": [
       "[1] \"wt_fe2\"     \"wt_fe2\"     \"wt_dpd\"     \"wt_dpd\"     \"delfur_fe2\"\n",
       "[6] \"delfur_fe2\" \"delfur_dpd\" \"delfur_dpd\""
      ]
     },
     "metadata": {},
     "output_type": "display_data"
    }
   ],
   "source": [
    "coldata$group"
   ]
  },
  {
   "cell_type": "code",
   "execution_count": 12,
   "metadata": {},
   "outputs": [
    {
     "name": "stderr",
     "output_type": "stream",
     "text": [
      "Warning message in DESeqDataSet(se, design = design, ignoreRank):\n",
      "“some variables in design formula are characters, converting to factors”"
     ]
    }
   ],
   "source": [
    "dds <- DESeqDataSetFromMatrix(countData = countdata,\n",
    "                              colData = coldata,\n",
    "                              design = ~group,\n",
    "                              rowRanges = exons[rownames(countdata)])"
   ]
  },
  {
   "cell_type": "code",
   "execution_count": 13,
   "metadata": {},
   "outputs": [
    {
     "data": {
      "text/html": [
       "<table>\n",
       "<thead><tr><th></th><th scope=col>wt_fe2_1</th><th scope=col>wt_fe2_2</th><th scope=col>wt_dpd_1</th><th scope=col>wt_dpd_2</th><th scope=col>delfur_fe2_1</th><th scope=col>delfur_fe2_2</th><th scope=col>delfur_dpd_1</th><th scope=col>delfur_dpd_2</th></tr></thead>\n",
       "<tbody>\n",
       "\t<tr><th scope=row>b0001</th><td> 2303</td><td> 2354</td><td>  311</td><td>  284</td><td> 3019</td><td> 3485</td><td>  245</td><td>  232</td></tr>\n",
       "\t<tr><th scope=row>b0002</th><td>36937</td><td>25801</td><td>58117</td><td>60901</td><td>40532</td><td>38470</td><td>17890</td><td>23112</td></tr>\n",
       "\t<tr><th scope=row>b0003</th><td>10922</td><td> 8250</td><td>16854</td><td>21042</td><td>11589</td><td>10840</td><td> 4805</td><td> 7879</td></tr>\n",
       "\t<tr><th scope=row>b0004</th><td>11953</td><td> 8463</td><td>12127</td><td>14498</td><td>10077</td><td> 9532</td><td> 3727</td><td> 5103</td></tr>\n",
       "\t<tr><th scope=row>b0005</th><td>  472</td><td>  345</td><td>  216</td><td>  178</td><td>  362</td><td>  297</td><td>  104</td><td>  120</td></tr>\n",
       "\t<tr><th scope=row>b0006</th><td>  669</td><td>  588</td><td>  703</td><td>  633</td><td>  682</td><td>  653</td><td>  660</td><td>  767</td></tr>\n",
       "</tbody>\n",
       "</table>\n"
      ],
      "text/latex": [
       "\\begin{tabular}{r|llllllll}\n",
       "  & wt\\_fe2\\_1 & wt\\_fe2\\_2 & wt\\_dpd\\_1 & wt\\_dpd\\_2 & delfur\\_fe2\\_1 & delfur\\_fe2\\_2 & delfur\\_dpd\\_1 & delfur\\_dpd\\_2\\\\\n",
       "\\hline\n",
       "\tb0001 &  2303 &  2354 &   311 &   284 &  3019 &  3485 &   245 &   232\\\\\n",
       "\tb0002 & 36937 & 25801 & 58117 & 60901 & 40532 & 38470 & 17890 & 23112\\\\\n",
       "\tb0003 & 10922 &  8250 & 16854 & 21042 & 11589 & 10840 &  4805 &  7879\\\\\n",
       "\tb0004 & 11953 &  8463 & 12127 & 14498 & 10077 &  9532 &  3727 &  5103\\\\\n",
       "\tb0005 &   472 &   345 &   216 &   178 &   362 &   297 &   104 &   120\\\\\n",
       "\tb0006 &   669 &   588 &   703 &   633 &   682 &   653 &   660 &   767\\\\\n",
       "\\end{tabular}\n"
      ],
      "text/markdown": [
       "\n",
       "| <!--/--> | wt_fe2_1 | wt_fe2_2 | wt_dpd_1 | wt_dpd_2 | delfur_fe2_1 | delfur_fe2_2 | delfur_dpd_1 | delfur_dpd_2 | \n",
       "|---|---|---|---|---|---|\n",
       "| b0001 |  2303 |  2354 |   311 |   284 |  3019 |  3485 |   245 |   232 | \n",
       "| b0002 | 36937 | 25801 | 58117 | 60901 | 40532 | 38470 | 17890 | 23112 | \n",
       "| b0003 | 10922 |  8250 | 16854 | 21042 | 11589 | 10840 |  4805 |  7879 | \n",
       "| b0004 | 11953 |  8463 | 12127 | 14498 | 10077 |  9532 |  3727 |  5103 | \n",
       "| b0005 |   472 |   345 |   216 |   178 |   362 |   297 |   104 |   120 | \n",
       "| b0006 |   669 |   588 |   703 |   633 |   682 |   653 |   660 |   767 | \n",
       "\n",
       "\n"
      ],
      "text/plain": [
       "      wt_fe2_1 wt_fe2_2 wt_dpd_1 wt_dpd_2 delfur_fe2_1 delfur_fe2_2\n",
       "b0001  2303     2354      311      284     3019         3485       \n",
       "b0002 36937    25801    58117    60901    40532        38470       \n",
       "b0003 10922     8250    16854    21042    11589        10840       \n",
       "b0004 11953     8463    12127    14498    10077         9532       \n",
       "b0005   472      345      216      178      362          297       \n",
       "b0006   669      588      703      633      682          653       \n",
       "      delfur_dpd_1 delfur_dpd_2\n",
       "b0001   245          232       \n",
       "b0002 17890        23112       \n",
       "b0003  4805         7879       \n",
       "b0004  3727         5103       \n",
       "b0005   104          120       \n",
       "b0006   660          767       "
      ]
     },
     "metadata": {},
     "output_type": "display_data"
    }
   ],
   "source": [
    "head(assay(dds))"
   ]
  },
  {
   "cell_type": "markdown",
   "metadata": {},
   "source": [
    "# Calculate TPM"
   ]
  },
  {
   "cell_type": "code",
   "execution_count": 14,
   "metadata": {},
   "outputs": [
    {
     "data": {
      "text/html": [
       "<table>\n",
       "<thead><tr><th></th><th scope=col>wt_fe2_1</th><th scope=col>wt_fe2_2</th><th scope=col>wt_dpd_1</th><th scope=col>wt_dpd_2</th><th scope=col>delfur_fe2_1</th><th scope=col>delfur_fe2_2</th><th scope=col>delfur_dpd_1</th><th scope=col>delfur_dpd_2</th></tr></thead>\n",
       "<tbody>\n",
       "\t<tr><th scope=row>b0001</th><td>4792.9986 </td><td>5831.7428 </td><td> 538.74088</td><td> 533.92930</td><td>5896.1015 </td><td>7118.8552 </td><td>427.60161 </td><td> 393.01857</td></tr>\n",
       "\t<tr><th scope=row>b0002</th><td>2090.3022 </td><td>1738.0511 </td><td>2737.51703</td><td>3113.32128</td><td>2152.4545 </td><td>2136.7989 </td><td>849.01954 </td><td>1064.62512</td></tr>\n",
       "\t<tr><th scope=row>b0003</th><td>1630.5851 </td><td>1466.1344 </td><td>2094.35577</td><td>2837.79070</td><td>1623.5876 </td><td>1588.4172 </td><td>601.58163 </td><td> 957.46765</td></tr>\n",
       "\t<tr><th scope=row>b0004</th><td>1294.0445 </td><td>1090.6243 </td><td>1092.77779</td><td>1417.85707</td><td>1023.7456 </td><td>1012.8622 </td><td>338.36979 </td><td> 449.68623</td></tr>\n",
       "\t<tr><th scope=row>b0005</th><td> 220.8584 </td><td> 192.1629 </td><td>  84.12631</td><td>  75.23916</td><td> 158.9531 </td><td> 136.4025 </td><td> 40.80986 </td><td>  45.70512</td></tr>\n",
       "\t<tr><th scope=row>b0006</th><td> 119.9043 </td><td> 125.4482 </td><td> 104.87454</td><td> 102.48595</td><td> 114.7048 </td><td> 114.8724 </td><td> 99.20016 </td><td> 111.89628</td></tr>\n",
       "</tbody>\n",
       "</table>\n"
      ],
      "text/latex": [
       "\\begin{tabular}{r|llllllll}\n",
       "  & wt\\_fe2\\_1 & wt\\_fe2\\_2 & wt\\_dpd\\_1 & wt\\_dpd\\_2 & delfur\\_fe2\\_1 & delfur\\_fe2\\_2 & delfur\\_dpd\\_1 & delfur\\_dpd\\_2\\\\\n",
       "\\hline\n",
       "\tb0001 & 4792.9986  & 5831.7428  &  538.74088 &  533.92930 & 5896.1015  & 7118.8552  & 427.60161  &  393.01857\\\\\n",
       "\tb0002 & 2090.3022  & 1738.0511  & 2737.51703 & 3113.32128 & 2152.4545  & 2136.7989  & 849.01954  & 1064.62512\\\\\n",
       "\tb0003 & 1630.5851  & 1466.1344  & 2094.35577 & 2837.79070 & 1623.5876  & 1588.4172  & 601.58163  &  957.46765\\\\\n",
       "\tb0004 & 1294.0445  & 1090.6243  & 1092.77779 & 1417.85707 & 1023.7456  & 1012.8622  & 338.36979  &  449.68623\\\\\n",
       "\tb0005 &  220.8584  &  192.1629  &   84.12631 &   75.23916 &  158.9531  &  136.4025  &  40.80986  &   45.70512\\\\\n",
       "\tb0006 &  119.9043  &  125.4482  &  104.87454 &  102.48595 &  114.7048  &  114.8724  &  99.20016  &  111.89628\\\\\n",
       "\\end{tabular}\n"
      ],
      "text/markdown": [
       "\n",
       "| <!--/--> | wt_fe2_1 | wt_fe2_2 | wt_dpd_1 | wt_dpd_2 | delfur_fe2_1 | delfur_fe2_2 | delfur_dpd_1 | delfur_dpd_2 | \n",
       "|---|---|---|---|---|---|\n",
       "| b0001 | 4792.9986  | 5831.7428  |  538.74088 |  533.92930 | 5896.1015  | 7118.8552  | 427.60161  |  393.01857 | \n",
       "| b0002 | 2090.3022  | 1738.0511  | 2737.51703 | 3113.32128 | 2152.4545  | 2136.7989  | 849.01954  | 1064.62512 | \n",
       "| b0003 | 1630.5851  | 1466.1344  | 2094.35577 | 2837.79070 | 1623.5876  | 1588.4172  | 601.58163  |  957.46765 | \n",
       "| b0004 | 1294.0445  | 1090.6243  | 1092.77779 | 1417.85707 | 1023.7456  | 1012.8622  | 338.36979  |  449.68623 | \n",
       "| b0005 |  220.8584  |  192.1629  |   84.12631 |   75.23916 |  158.9531  |  136.4025  |  40.80986  |   45.70512 | \n",
       "| b0006 |  119.9043  |  125.4482  |  104.87454 |  102.48595 |  114.7048  |  114.8724  |  99.20016  |  111.89628 | \n",
       "\n",
       "\n"
      ],
      "text/plain": [
       "      wt_fe2_1  wt_fe2_2  wt_dpd_1   wt_dpd_2   delfur_fe2_1 delfur_fe2_2\n",
       "b0001 4792.9986 5831.7428  538.74088  533.92930 5896.1015    7118.8552   \n",
       "b0002 2090.3022 1738.0511 2737.51703 3113.32128 2152.4545    2136.7989   \n",
       "b0003 1630.5851 1466.1344 2094.35577 2837.79070 1623.5876    1588.4172   \n",
       "b0004 1294.0445 1090.6243 1092.77779 1417.85707 1023.7456    1012.8622   \n",
       "b0005  220.8584  192.1629   84.12631   75.23916  158.9531     136.4025   \n",
       "b0006  119.9043  125.4482  104.87454  102.48595  114.7048     114.8724   \n",
       "      delfur_dpd_1 delfur_dpd_2\n",
       "b0001 427.60161     393.01857  \n",
       "b0002 849.01954    1064.62512  \n",
       "b0003 601.58163     957.46765  \n",
       "b0004 338.36979     449.68623  \n",
       "b0005  40.80986      45.70512  \n",
       "b0006  99.20016     111.89628  "
      ]
     },
     "metadata": {},
     "output_type": "display_data"
    }
   ],
   "source": [
    "fpkm_data <- fpkm(dds)\n",
    "head(fpkm_data)"
   ]
  },
  {
   "cell_type": "code",
   "execution_count": 15,
   "metadata": {},
   "outputs": [
    {
     "data": {
      "text/html": [
       "<table>\n",
       "<thead><tr><th></th><th scope=col>wt_fe2_1</th><th scope=col>wt_fe2_2</th><th scope=col>wt_dpd_1</th><th scope=col>wt_dpd_2</th><th scope=col>delfur_fe2_1</th><th scope=col>delfur_fe2_2</th><th scope=col>delfur_dpd_1</th><th scope=col>delfur_dpd_2</th></tr></thead>\n",
       "<tbody>\n",
       "\t<tr><th scope=row>b0001</th><td>3498.0646 </td><td>4252.37912</td><td> 476.45215</td><td> 479.91504</td><td>4825.76963</td><td>5809.58076</td><td>370.45069 </td><td>345.39672 </td></tr>\n",
       "\t<tr><th scope=row>b0002</th><td>1525.5611 </td><td>1267.34879</td><td>2421.00780</td><td>2798.36617</td><td>1761.71481</td><td>1743.80652</td><td>735.54418 </td><td>935.62506 </td></tr>\n",
       "\t<tr><th scope=row>b0003</th><td>1190.0466 </td><td>1069.07308</td><td>1852.20827</td><td>2550.70928</td><td>1328.85429</td><td>1296.28119</td><td>521.17748 </td><td>841.45180 </td></tr>\n",
       "\t<tr><th scope=row>b0004</th><td> 944.4299 </td><td> 795.25938</td><td> 966.43182</td><td>1274.42140</td><td> 837.90286</td><td> 826.58017</td><td>293.14511 </td><td>395.19799 </td></tr>\n",
       "\t<tr><th scope=row>b0005</th><td> 161.1886 </td><td> 140.12098</td><td>  74.39970</td><td>  67.62769</td><td> 130.09799</td><td> 111.31585</td><td> 35.35544 </td><td> 40.16706 </td></tr>\n",
       "\t<tr><th scope=row>b0006</th><td>  87.5095 </td><td>  91.47408</td><td>  92.74904</td><td>  92.11809</td><td>  93.88216</td><td>  93.74549</td><td> 85.94161 </td><td> 98.33787 </td></tr>\n",
       "</tbody>\n",
       "</table>\n"
      ],
      "text/latex": [
       "\\begin{tabular}{r|llllllll}\n",
       "  & wt\\_fe2\\_1 & wt\\_fe2\\_2 & wt\\_dpd\\_1 & wt\\_dpd\\_2 & delfur\\_fe2\\_1 & delfur\\_fe2\\_2 & delfur\\_dpd\\_1 & delfur\\_dpd\\_2\\\\\n",
       "\\hline\n",
       "\tb0001 & 3498.0646  & 4252.37912 &  476.45215 &  479.91504 & 4825.76963 & 5809.58076 & 370.45069  & 345.39672 \\\\\n",
       "\tb0002 & 1525.5611  & 1267.34879 & 2421.00780 & 2798.36617 & 1761.71481 & 1743.80652 & 735.54418  & 935.62506 \\\\\n",
       "\tb0003 & 1190.0466  & 1069.07308 & 1852.20827 & 2550.70928 & 1328.85429 & 1296.28119 & 521.17748  & 841.45180 \\\\\n",
       "\tb0004 &  944.4299  &  795.25938 &  966.43182 & 1274.42140 &  837.90286 &  826.58017 & 293.14511  & 395.19799 \\\\\n",
       "\tb0005 &  161.1886  &  140.12098 &   74.39970 &   67.62769 &  130.09799 &  111.31585 &  35.35544  &  40.16706 \\\\\n",
       "\tb0006 &   87.5095  &   91.47408 &   92.74904 &   92.11809 &   93.88216 &   93.74549 &  85.94161  &  98.33787 \\\\\n",
       "\\end{tabular}\n"
      ],
      "text/markdown": [
       "\n",
       "| <!--/--> | wt_fe2_1 | wt_fe2_2 | wt_dpd_1 | wt_dpd_2 | delfur_fe2_1 | delfur_fe2_2 | delfur_dpd_1 | delfur_dpd_2 | \n",
       "|---|---|---|---|---|---|\n",
       "| b0001 | 3498.0646  | 4252.37912 |  476.45215 |  479.91504 | 4825.76963 | 5809.58076 | 370.45069  | 345.39672  | \n",
       "| b0002 | 1525.5611  | 1267.34879 | 2421.00780 | 2798.36617 | 1761.71481 | 1743.80652 | 735.54418  | 935.62506  | \n",
       "| b0003 | 1190.0466  | 1069.07308 | 1852.20827 | 2550.70928 | 1328.85429 | 1296.28119 | 521.17748  | 841.45180  | \n",
       "| b0004 |  944.4299  |  795.25938 |  966.43182 | 1274.42140 |  837.90286 |  826.58017 | 293.14511  | 395.19799  | \n",
       "| b0005 |  161.1886  |  140.12098 |   74.39970 |   67.62769 |  130.09799 |  111.31585 |  35.35544  |  40.16706  | \n",
       "| b0006 |   87.5095  |   91.47408 |   92.74904 |   92.11809 |   93.88216 |   93.74549 |  85.94161  |  98.33787  | \n",
       "\n",
       "\n"
      ],
      "text/plain": [
       "      wt_fe2_1  wt_fe2_2   wt_dpd_1   wt_dpd_2   delfur_fe2_1 delfur_fe2_2\n",
       "b0001 3498.0646 4252.37912  476.45215  479.91504 4825.76963   5809.58076  \n",
       "b0002 1525.5611 1267.34879 2421.00780 2798.36617 1761.71481   1743.80652  \n",
       "b0003 1190.0466 1069.07308 1852.20827 2550.70928 1328.85429   1296.28119  \n",
       "b0004  944.4299  795.25938  966.43182 1274.42140  837.90286    826.58017  \n",
       "b0005  161.1886  140.12098   74.39970   67.62769  130.09799    111.31585  \n",
       "b0006   87.5095   91.47408   92.74904   92.11809   93.88216     93.74549  \n",
       "      delfur_dpd_1 delfur_dpd_2\n",
       "b0001 370.45069    345.39672   \n",
       "b0002 735.54418    935.62506   \n",
       "b0003 521.17748    841.45180   \n",
       "b0004 293.14511    395.19799   \n",
       "b0005  35.35544     40.16706   \n",
       "b0006  85.94161     98.33787   "
      ]
     },
     "metadata": {},
     "output_type": "display_data"
    }
   ],
   "source": [
    "tpm_data <- sweep(fpkm_data,2,colSums(fpkm_data),`/`)*1e6 # Divide each column by the column sum (times 1e6)\n",
    "head(tpm_data)"
   ]
  },
  {
   "cell_type": "code",
   "execution_count": 16,
   "metadata": {
    "collapsed": true
   },
   "outputs": [],
   "source": [
    "write.csv(tpm_data, file = \"example/deseq2-tpm.csv\")"
   ]
  },
  {
   "cell_type": "markdown",
   "metadata": {},
   "source": [
    "# PCA and clustering"
   ]
  },
  {
   "cell_type": "markdown",
   "metadata": {},
   "source": [
    "Raw counts from RNAseq tend to be exponentially distributed, so a log transform must be applied before running linear methods such as PCA or clustering. Since some counts can be 0, we must apply log(x + 1) to avoid infinite values. However, due to technical reasons, genes with lower counts have higher variance than genes with higher counts. PCA works best with constant variance, so to fix this DESeq2 has a model-based regularized log transform (rlog) to normalize the variance. The rlog counts are only used for this QC step, and should not be used for finding DEGs or other statistical tests."
   ]
  },
  {
   "cell_type": "code",
   "execution_count": 17,
   "metadata": {
    "collapsed": true
   },
   "outputs": [],
   "source": [
    "rld <- rlog(dds)"
   ]
  },
  {
   "cell_type": "code",
   "execution_count": 18,
   "metadata": {
    "collapsed": true
   },
   "outputs": [],
   "source": [
    "library(\"pheatmap\")\n",
    "library(\"RColorBrewer\")"
   ]
  },
  {
   "cell_type": "markdown",
   "metadata": {},
   "source": [
    "## PCA"
   ]
  },
  {
   "cell_type": "code",
   "execution_count": 19,
   "metadata": {},
   "outputs": [
    {
     "data": {},
     "metadata": {},
     "output_type": "display_data"
    },
    {
     "data": {
      "image/png": "[encoded data removed]",
      "text/plain": [
       "plot without title"
      ]
     },
     "metadata": {},
     "output_type": "display_data"
    }
   ],
   "source": [
    "options(repr.plot.width=7, repr.plot.height=3)\n",
    "plotPCA(rld,intgroup=c('group'))"
   ]
  },
  {
   "cell_type": "markdown",
   "metadata": {},
   "source": [
    "## Clustering"
   ]
  },
  {
   "cell_type": "code",
   "execution_count": 20,
   "metadata": {},
   "outputs": [
    {
     "data": {
      "image/png": "[encoded data removed]",
      "text/plain": [
       "plot without title"
      ]
     },
     "metadata": {},
     "output_type": "display_data"
    }
   ],
   "source": [
    "options(repr.plot.width=5, repr.plot.height=3)\n",
    "# Generate (euclidean) distance matrix\n",
    "sampleDists <- dist(t(assay(rld)))\n",
    "sampleDistMatrix <- as.matrix( sampleDists )\n",
    "# Designate the names for the rows\n",
    "rownames(sampleDistMatrix) <- colData(rld)$group\n",
    "# Designate the names for the columns\n",
    "colnames(sampleDistMatrix) <- NULL\n",
    "# Choose color palette\n",
    "colors <- colorRampPalette( rev(brewer.pal(9, \"Blues\")) )(255)\n",
    "# Create heatmap\n",
    "pheatmap(sampleDistMatrix,\n",
    "         clustering_distance_rows = sampleDists,\n",
    "         clustering_distance_cols = sampleDists,\n",
    "         col = colors)"
   ]
  },
  {
   "cell_type": "markdown",
   "metadata": {
    "collapsed": true
   },
   "source": [
    "# Find DEGs"
   ]
  },
  {
   "cell_type": "code",
   "execution_count": 21,
   "metadata": {},
   "outputs": [
    {
     "name": "stderr",
     "output_type": "stream",
     "text": [
      "estimating size factors\n",
      "estimating dispersions\n",
      "gene-wise dispersion estimates\n",
      "mean-dispersion relationship\n",
      "final dispersion estimates\n",
      "fitting model and testing\n"
     ]
    }
   ],
   "source": [
    "dds <- DESeq(dds)"
   ]
  },
  {
   "cell_type": "markdown",
   "metadata": {},
   "source": [
    "Designate which groups you want to compare for DEGs"
   ]
  },
  {
   "cell_type": "code",
   "execution_count": 22,
   "metadata": {
    "collapsed": true
   },
   "outputs": [],
   "source": [
    "res_FeCl2 <- results(dds,contrast = c('group','wt_fe2','delfur_fe2'))\n",
    "res_DPD <- results(dds,contrast = c('group','wt_dpd','delfur_dpd'))"
   ]
  },
  {
   "cell_type": "markdown",
   "metadata": {},
   "source": [
    "Put results into table form"
   ]
  },
  {
   "cell_type": "code",
   "execution_count": 23,
   "metadata": {
    "collapsed": true
   },
   "outputs": [],
   "source": [
    "resTable_FeCl2 <- data.frame(res_FeCl2@listData,row.names = res_FeCl2@rownames)\n",
    "resTable_DPD <- data.frame(res_DPD@listData,row.names = res_DPD@rownames)"
   ]
  },
  {
   "cell_type": "code",
   "execution_count": 24,
   "metadata": {},
   "outputs": [
    {
     "data": {
      "text/html": [
       "<table>\n",
       "<thead><tr><th></th><th scope=col>baseMean</th><th scope=col>log2FoldChange</th><th scope=col>lfcSE</th><th scope=col>stat</th><th scope=col>pvalue</th><th scope=col>padj</th></tr></thead>\n",
       "<tbody>\n",
       "\t<tr><th scope=row>b0001</th><td> 1641.4347 </td><td>-0.29114551</td><td>0.1396314  </td><td>-2.0850999 </td><td>0.037060235</td><td>0.1324374  </td></tr>\n",
       "\t<tr><th scope=row>b0002</th><td>37548.7517 </td><td>-0.16273993</td><td>0.1377272  </td><td>-1.1816106 </td><td>0.237360251</td><td>0.4975561  </td></tr>\n",
       "\t<tr><th scope=row>b0003</th><td>11471.0002 </td><td>-0.05194698</td><td>0.1895609  </td><td>-0.2740385 </td><td>0.784055068</td><td>0.9067643  </td></tr>\n",
       "\t<tr><th scope=row>b0004</th><td> 9540.6615 </td><td> 0.22540421</td><td>0.1601785  </td><td> 1.4072063 </td><td>0.159366224</td><td>0.3812192  </td></tr>\n",
       "\t<tr><th scope=row>b0005</th><td>  272.8531 </td><td> 0.47959143</td><td>0.1706994  </td><td> 2.8095678 </td><td>0.004960806</td><td>0.0259829  </td></tr>\n",
       "\t<tr><th scope=row>b0006</th><td>  666.9084 </td><td> 0.09469423</td><td>0.1283777  </td><td> 0.7376223 </td><td>0.460743970</td><td>0.7185345  </td></tr>\n",
       "</tbody>\n",
       "</table>\n"
      ],
      "text/latex": [
       "\\begin{tabular}{r|llllll}\n",
       "  & baseMean & log2FoldChange & lfcSE & stat & pvalue & padj\\\\\n",
       "\\hline\n",
       "\tb0001 &  1641.4347  & -0.29114551 & 0.1396314   & -2.0850999  & 0.037060235 & 0.1324374  \\\\\n",
       "\tb0002 & 37548.7517  & -0.16273993 & 0.1377272   & -1.1816106  & 0.237360251 & 0.4975561  \\\\\n",
       "\tb0003 & 11471.0002  & -0.05194698 & 0.1895609   & -0.2740385  & 0.784055068 & 0.9067643  \\\\\n",
       "\tb0004 &  9540.6615  &  0.22540421 & 0.1601785   &  1.4072063  & 0.159366224 & 0.3812192  \\\\\n",
       "\tb0005 &   272.8531  &  0.47959143 & 0.1706994   &  2.8095678  & 0.004960806 & 0.0259829  \\\\\n",
       "\tb0006 &   666.9084  &  0.09469423 & 0.1283777   &  0.7376223  & 0.460743970 & 0.7185345  \\\\\n",
       "\\end{tabular}\n"
      ],
      "text/markdown": [
       "\n",
       "| <!--/--> | baseMean | log2FoldChange | lfcSE | stat | pvalue | padj | \n",
       "|---|---|---|---|---|---|\n",
       "| b0001 |  1641.4347  | -0.29114551 | 0.1396314   | -2.0850999  | 0.037060235 | 0.1324374   | \n",
       "| b0002 | 37548.7517  | -0.16273993 | 0.1377272   | -1.1816106  | 0.237360251 | 0.4975561   | \n",
       "| b0003 | 11471.0002  | -0.05194698 | 0.1895609   | -0.2740385  | 0.784055068 | 0.9067643   | \n",
       "| b0004 |  9540.6615  |  0.22540421 | 0.1601785   |  1.4072063  | 0.159366224 | 0.3812192   | \n",
       "| b0005 |   272.8531  |  0.47959143 | 0.1706994   |  2.8095678  | 0.004960806 | 0.0259829   | \n",
       "| b0006 |   666.9084  |  0.09469423 | 0.1283777   |  0.7376223  | 0.460743970 | 0.7185345   | \n",
       "\n",
       "\n"
      ],
      "text/plain": [
       "      baseMean   log2FoldChange lfcSE     stat       pvalue      padj     \n",
       "b0001  1641.4347 -0.29114551    0.1396314 -2.0850999 0.037060235 0.1324374\n",
       "b0002 37548.7517 -0.16273993    0.1377272 -1.1816106 0.237360251 0.4975561\n",
       "b0003 11471.0002 -0.05194698    0.1895609 -0.2740385 0.784055068 0.9067643\n",
       "b0004  9540.6615  0.22540421    0.1601785  1.4072063 0.159366224 0.3812192\n",
       "b0005   272.8531  0.47959143    0.1706994  2.8095678 0.004960806 0.0259829\n",
       "b0006   666.9084  0.09469423    0.1283777  0.7376223 0.460743970 0.7185345"
      ]
     },
     "metadata": {},
     "output_type": "display_data"
    }
   ],
   "source": [
    "head(resTable_FeCl2)"
   ]
  },
  {
   "cell_type": "code",
   "execution_count": 25,
   "metadata": {
    "collapsed": true
   },
   "outputs": [],
   "source": [
    "deg_FeCl2 <- resTable_FeCl2[complete.cases(resTable_FeCl2[,c('padj','log2FoldChange')]) & \n",
    "                            # ^ Make sure that LogFoldChange and p-adjusted are complete (not null)\n",
    "                            resTable_FeCl2$padj < .05 & # Adjusted p-value cutoff of 0.05\n",
    "                            abs(resTable_FeCl2$log2FoldChange) > 1,] # abs(log2foldChange) cutoff of 1\n",
    "\n",
    "deg_DPD <- resTable_DPD[complete.cases(resTable_DPD[,c('padj','log2FoldChange')]) & \n",
    "                        # ^ Make sure that LogFoldChange and p-adjusted are complete (not null)\n",
    "                        resTable_DPD$padj < .05 & # Adjusted p-value cutoff of 0.05\n",
    "                        abs(resTable_DPD$log2FoldChange) > 1,] # abs(log2foldChange) cutoff of 1"
   ]
  },
  {
   "cell_type": "code",
   "execution_count": 26,
   "metadata": {},
   "outputs": [
    {
     "data": {
      "text/html": [
       "<table>\n",
       "<thead><tr><th></th><th scope=col>baseMean</th><th scope=col>log2FoldChange</th><th scope=col>lfcSE</th><th scope=col>stat</th><th scope=col>pvalue</th><th scope=col>padj</th></tr></thead>\n",
       "<tbody>\n",
       "\t<tr><th scope=row>b0034</th><td>  166.5339  </td><td> 1.127907   </td><td>0.21114017  </td><td> 5.341982   </td><td>9.193573e-08</td><td>1.317861e-06</td></tr>\n",
       "\t<tr><th scope=row>b0118</th><td>24669.6455  </td><td> 1.325075   </td><td>0.09821153  </td><td>13.492048   </td><td>1.741934e-41</td><td>8.975668e-40</td></tr>\n",
       "\t<tr><th scope=row>b0123</th><td> 3277.0215  </td><td> 2.046606   </td><td>0.11728763  </td><td>17.449460   </td><td>3.475033e-68</td><td>3.154833e-66</td></tr>\n",
       "\t<tr><th scope=row>b0150</th><td> 7195.9552  </td><td>-1.100910   </td><td>0.14788888  </td><td>-7.444170   </td><td>9.755570e-14</td><td>2.162674e-12</td></tr>\n",
       "\t<tr><th scope=row>b0152</th><td>  424.6290  </td><td>-1.052878   </td><td>0.17088598  </td><td>-6.161290   </td><td>7.215489e-10</td><td>1.285638e-08</td></tr>\n",
       "\t<tr><th scope=row>b0273</th><td> 3507.3308  </td><td> 1.178922   </td><td>0.20747700  </td><td> 5.682183   </td><td>1.329863e-08</td><td>2.157773e-07</td></tr>\n",
       "</tbody>\n",
       "</table>\n"
      ],
      "text/latex": [
       "\\begin{tabular}{r|llllll}\n",
       "  & baseMean & log2FoldChange & lfcSE & stat & pvalue & padj\\\\\n",
       "\\hline\n",
       "\tb0034 &   166.5339   &  1.127907    & 0.21114017   &  5.341982    & 9.193573e-08 & 1.317861e-06\\\\\n",
       "\tb0118 & 24669.6455   &  1.325075    & 0.09821153   & 13.492048    & 1.741934e-41 & 8.975668e-40\\\\\n",
       "\tb0123 &  3277.0215   &  2.046606    & 0.11728763   & 17.449460    & 3.475033e-68 & 3.154833e-66\\\\\n",
       "\tb0150 &  7195.9552   & -1.100910    & 0.14788888   & -7.444170    & 9.755570e-14 & 2.162674e-12\\\\\n",
       "\tb0152 &   424.6290   & -1.052878    & 0.17088598   & -6.161290    & 7.215489e-10 & 1.285638e-08\\\\\n",
       "\tb0273 &  3507.3308   &  1.178922    & 0.20747700   &  5.682183    & 1.329863e-08 & 2.157773e-07\\\\\n",
       "\\end{tabular}\n"
      ],
      "text/markdown": [
       "\n",
       "| <!--/--> | baseMean | log2FoldChange | lfcSE | stat | pvalue | padj | \n",
       "|---|---|---|---|---|---|\n",
       "| b0034 |   166.5339   |  1.127907    | 0.21114017   |  5.341982    | 9.193573e-08 | 1.317861e-06 | \n",
       "| b0118 | 24669.6455   |  1.325075    | 0.09821153   | 13.492048    | 1.741934e-41 | 8.975668e-40 | \n",
       "| b0123 |  3277.0215   |  2.046606    | 0.11728763   | 17.449460    | 3.475033e-68 | 3.154833e-66 | \n",
       "| b0150 |  7195.9552   | -1.100910    | 0.14788888   | -7.444170    | 9.755570e-14 | 2.162674e-12 | \n",
       "| b0152 |   424.6290   | -1.052878    | 0.17088598   | -6.161290    | 7.215489e-10 | 1.285638e-08 | \n",
       "| b0273 |  3507.3308   |  1.178922    | 0.20747700   |  5.682183    | 1.329863e-08 | 2.157773e-07 | \n",
       "\n",
       "\n"
      ],
      "text/plain": [
       "      baseMean   log2FoldChange lfcSE      stat      pvalue       padj        \n",
       "b0034   166.5339  1.127907      0.21114017  5.341982 9.193573e-08 1.317861e-06\n",
       "b0118 24669.6455  1.325075      0.09821153 13.492048 1.741934e-41 8.975668e-40\n",
       "b0123  3277.0215  2.046606      0.11728763 17.449460 3.475033e-68 3.154833e-66\n",
       "b0150  7195.9552 -1.100910      0.14788888 -7.444170 9.755570e-14 2.162674e-12\n",
       "b0152   424.6290 -1.052878      0.17088598 -6.161290 7.215489e-10 1.285638e-08\n",
       "b0273  3507.3308  1.178922      0.20747700  5.682183 1.329863e-08 2.157773e-07"
      ]
     },
     "metadata": {},
     "output_type": "display_data"
    }
   ],
   "source": [
    "head(deg_FeCl2)"
   ]
  },
  {
   "cell_type": "code",
   "execution_count": null,
   "metadata": {
    "collapsed": true
   },
   "outputs": [],
   "source": []
  }
 ],
 "metadata": {
  "kernelspec": {
   "display_name": "R",
   "language": "R",
   "name": "ir"
  },
  "language_info": {
   "codemirror_mode": "r",
   "file_extension": ".r",
   "mimetype": "text/x-r-source",
   "name": "R",
   "pygments_lexer": "r",
   "version": "3.3.1"
  }
 },
 "nbformat": 4,
 "nbformat_minor": 1
}
