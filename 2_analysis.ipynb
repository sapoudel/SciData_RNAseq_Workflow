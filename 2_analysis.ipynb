{
 "cells": [
  {
   "cell_type": "markdown",
   "metadata": {},
   "source": [
    "# Adapted from:  http://www.bioconductor.org/help/workflows/rnaseqGene/"
   ]
  },
  {
   "cell_type": "markdown",
   "metadata": {},
   "source": [
    "#### To learn basics of R: https://www.datacamp.com/courses/free-introduction-to-r"
   ]
  },
  {
   "cell_type": "markdown",
   "metadata": {},
   "source": [
    "# Table of Contents"
   ]
  },
  {
   "cell_type": "markdown",
   "metadata": {},
   "source": [
    "1. [Setup](#Setup)\n",
    "1. [Create DESeq Data Set](#Create-DESeq-Data-Set)\n",
    "1. [Calculate TPM](#Calculate-TPM)\n",
    "1. [PCA and Clustering](#PCA-and-Clustering)\n",
    "    1. [PCA](#PCA)\n",
    "    1. [Clustering](#Clustering)\n",
    "1. [Find DEGs](#Find-DEGs)"
   ]
  },
  {
   "cell_type": "markdown",
   "metadata": {},
   "source": [
    "# Setup"
   ]
  },
  {
   "cell_type": "markdown",
   "metadata": {},
   "source": [
    "If this is your first time running this script, uncomment and run the following code block. This will install all necessary R packages, but it may take 5-10 minutes to complete"
   ]
  },
  {
   "cell_type": "code",
   "execution_count": null,
   "metadata": {},
   "outputs": [],
   "source": [
    "# source(\"https://bioconductor.org/biocLite.R\")\n",
    "# biocLite('SummarizedExperiment')\n",
    "# biocLite('GenomicFeatures')\n",
    "# biocLite('DESeq2')\n",
    "# biocLite('pheatmap')\n",
    "# biocLite('RColorBrewer')"
   ]
  },
  {
   "cell_type": "code",
   "execution_count": 21,
   "metadata": {},
   "outputs": [],
   "source": [
    "suppressPackageStartupMessages(library('SummarizedExperiment'))\n",
    "suppressPackageStartupMessages(library('GenomicFeatures'))\n",
    "suppressPackageStartupMessages(library('DESeq2'))"
   ]
  },
  {
   "cell_type": "markdown",
   "metadata": {},
   "source": [
    "# Create DESeq Data Set"
   ]
  },
  {
   "cell_type": "markdown",
   "metadata": {},
   "source": [
    "### From R pipeline"
   ]
  },
  {
   "cell_type": "code",
   "execution_count": 22,
   "metadata": {},
   "outputs": [],
   "source": [
    "load('example/se.rda')"
   ]
  },
  {
   "cell_type": "markdown",
   "metadata": {},
   "source": [
    "Create the DESeqDataSet, and designate the experimental design. The experimental design can include information from the colData. Use ~1 to ignore design criteria."
   ]
  },
  {
   "cell_type": "code",
   "execution_count": 23,
   "metadata": {},
   "outputs": [
    {
     "data": {
      "text/html": [
       "<ol class=list-inline>\n",
       "\t<li>'wt_fe2_1'</li>\n",
       "\t<li>'wt_fe2_2'</li>\n",
       "\t<li>'wt_dpd_1'</li>\n",
       "\t<li>'wt_dpd_2'</li>\n",
       "\t<li>'delfur_fe2_1'</li>\n",
       "\t<li>'delfur_fe2_2'</li>\n",
       "\t<li>'delfur_dpd_1'</li>\n",
       "\t<li>'delfur_dpd_2'</li>\n",
       "</ol>\n"
      ],
      "text/latex": [
       "\\begin{enumerate*}\n",
       "\\item 'wt\\_fe2\\_1'\n",
       "\\item 'wt\\_fe2\\_2'\n",
       "\\item 'wt\\_dpd\\_1'\n",
       "\\item 'wt\\_dpd\\_2'\n",
       "\\item 'delfur\\_fe2\\_1'\n",
       "\\item 'delfur\\_fe2\\_2'\n",
       "\\item 'delfur\\_dpd\\_1'\n",
       "\\item 'delfur\\_dpd\\_2'\n",
       "\\end{enumerate*}\n"
      ],
      "text/markdown": [
       "1. 'wt_fe2_1'\n",
       "2. 'wt_fe2_2'\n",
       "3. 'wt_dpd_1'\n",
       "4. 'wt_dpd_2'\n",
       "5. 'delfur_fe2_1'\n",
       "6. 'delfur_fe2_2'\n",
       "7. 'delfur_dpd_1'\n",
       "8. 'delfur_dpd_2'\n",
       "\n",
       "\n"
      ],
      "text/plain": [
       "[1] \"wt_fe2_1\"     \"wt_fe2_2\"     \"wt_dpd_1\"     \"wt_dpd_2\"     \"delfur_fe2_1\"\n",
       "[6] \"delfur_fe2_2\" \"delfur_dpd_1\" \"delfur_dpd_2\""
      ]
     },
     "metadata": {},
     "output_type": "display_data"
    }
   ],
   "source": [
    "colnames(se)"
   ]
  },
  {
   "cell_type": "code",
   "execution_count": 24,
   "metadata": {},
   "outputs": [
    {
     "data": {
      "text/html": [
       "<ol class=list-inline>\n",
       "\t<li>'wt_fe2'</li>\n",
       "\t<li>'wt_fe2'</li>\n",
       "\t<li>'wt_dpd'</li>\n",
       "\t<li>'wt_dpd'</li>\n",
       "\t<li>'delfur_fe2'</li>\n",
       "\t<li>'delfur_fe2'</li>\n",
       "\t<li>'delfur_dpd'</li>\n",
       "\t<li>'delfur_dpd'</li>\n",
       "</ol>\n"
      ],
      "text/latex": [
       "\\begin{enumerate*}\n",
       "\\item 'wt\\_fe2'\n",
       "\\item 'wt\\_fe2'\n",
       "\\item 'wt\\_dpd'\n",
       "\\item 'wt\\_dpd'\n",
       "\\item 'delfur\\_fe2'\n",
       "\\item 'delfur\\_fe2'\n",
       "\\item 'delfur\\_dpd'\n",
       "\\item 'delfur\\_dpd'\n",
       "\\end{enumerate*}\n"
      ],
      "text/markdown": [
       "1. 'wt_fe2'\n",
       "2. 'wt_fe2'\n",
       "3. 'wt_dpd'\n",
       "4. 'wt_dpd'\n",
       "5. 'delfur_fe2'\n",
       "6. 'delfur_fe2'\n",
       "7. 'delfur_dpd'\n",
       "8. 'delfur_dpd'\n",
       "\n",
       "\n"
      ],
      "text/plain": [
       "[1] \"wt_fe2\"     \"wt_fe2\"     \"wt_dpd\"     \"wt_dpd\"     \"delfur_fe2\"\n",
       "[6] \"delfur_fe2\" \"delfur_dpd\" \"delfur_dpd\""
      ]
     },
     "metadata": {},
     "output_type": "display_data"
    }
   ],
   "source": [
    "# Designate groups for comparisons by removing the replicate subscript from colnames\n",
    "colData(se)$group <- gsub('.{2}$', '', colnames(se))\n",
    "colData(se)$group"
   ]
  },
  {
   "cell_type": "code",
   "execution_count": 25,
   "metadata": {
    "scrolled": true
   },
   "outputs": [
    {
     "name": "stderr",
     "output_type": "stream",
     "text": [
      "Warning message in DESeqDataSet(se, design = ~group):\n",
      "“some variables in design formula are characters, converting to factors”"
     ]
    }
   ],
   "source": [
    "dds <- DESeqDataSet(se, design = ~group)"
   ]
  },
  {
   "cell_type": "markdown",
   "metadata": {},
   "source": [
    "Remove genes that have 0 counts across experimental conditions"
   ]
  },
  {
   "cell_type": "code",
   "execution_count": 26,
   "metadata": {},
   "outputs": [
    {
     "data": {
      "text/html": [
       "4319"
      ],
      "text/latex": [
       "4319"
      ],
      "text/markdown": [
       "4319"
      ],
      "text/plain": [
       "[1] 4319"
      ]
     },
     "metadata": {},
     "output_type": "display_data"
    },
    {
     "data": {
      "text/html": [
       "4270"
      ],
      "text/latex": [
       "4270"
      ],
      "text/markdown": [
       "4270"
      ],
      "text/plain": [
       "[1] 4270"
      ]
     },
     "metadata": {},
     "output_type": "display_data"
    }
   ],
   "source": [
    "nrow(dds)\n",
    "dds <- dds[rowSums(assay(dds)) > 1, ]\n",
    "nrow(dds)"
   ]
  },
  {
   "cell_type": "code",
   "execution_count": 27,
   "metadata": {},
   "outputs": [
    {
     "data": {
      "text/html": [
       "<table>\n",
       "<thead><tr><th></th><th scope=col>wt_fe2_1</th><th scope=col>wt_fe2_2</th><th scope=col>wt_dpd_1</th><th scope=col>wt_dpd_2</th><th scope=col>delfur_fe2_1</th><th scope=col>delfur_fe2_2</th><th scope=col>delfur_dpd_1</th><th scope=col>delfur_dpd_2</th></tr></thead>\n",
       "<tbody>\n",
       "\t<tr><th scope=row>b0001</th><td> 2303</td><td> 2354</td><td>  311</td><td>  284</td><td> 3019</td><td> 3485</td><td>  245</td><td>  232</td></tr>\n",
       "\t<tr><th scope=row>b0002</th><td>36937</td><td>25801</td><td>58117</td><td>60901</td><td>40532</td><td>38470</td><td>17890</td><td>23112</td></tr>\n",
       "\t<tr><th scope=row>b0003</th><td>10922</td><td> 8250</td><td>16854</td><td>21042</td><td>11589</td><td>10840</td><td> 4805</td><td> 7879</td></tr>\n",
       "\t<tr><th scope=row>b0004</th><td>11953</td><td> 8463</td><td>12127</td><td>14498</td><td>10077</td><td> 9532</td><td> 3727</td><td> 5103</td></tr>\n",
       "\t<tr><th scope=row>b0005</th><td>  472</td><td>  345</td><td>  216</td><td>  178</td><td>  362</td><td>  297</td><td>  104</td><td>  120</td></tr>\n",
       "\t<tr><th scope=row>b0006</th><td>  669</td><td>  588</td><td>  703</td><td>  633</td><td>  682</td><td>  653</td><td>  660</td><td>  767</td></tr>\n",
       "\t<tr><th scope=row>b0007</th><td>  116</td><td>  101</td><td>  134</td><td>  120</td><td>  117</td><td>  112</td><td>  161</td><td>  138</td></tr>\n",
       "\t<tr><th scope=row>b0008</th><td>15470</td><td>13532</td><td>16026</td><td>12204</td><td>15773</td><td>14951</td><td>12826</td><td>12494</td></tr>\n",
       "\t<tr><th scope=row>b0009</th><td>  358</td><td>  321</td><td>  459</td><td>  403</td><td>  411</td><td>  324</td><td>  407</td><td>  410</td></tr>\n",
       "\t<tr><th scope=row>b0010</th><td>  123</td><td>  111</td><td>   72</td><td>   64</td><td>   85</td><td>   82</td><td>  110</td><td>   67</td></tr>\n",
       "\t<tr><th scope=row>b0011</th><td>   22</td><td>   13</td><td>   41</td><td>   25</td><td>   35</td><td>   32</td><td>   35</td><td>   27</td></tr>\n",
       "\t<tr><th scope=row>b0013</th><td>    5</td><td>    8</td><td>    8</td><td>    8</td><td>    7</td><td>    8</td><td>    4</td><td>    3</td></tr>\n",
       "\t<tr><th scope=row>b0014</th><td>13327</td><td>11750</td><td>27555</td><td>24866</td><td>26930</td><td>26627</td><td>19224</td><td>19764</td></tr>\n",
       "\t<tr><th scope=row>b0015</th><td> 2005</td><td> 1547</td><td> 2776</td><td> 2601</td><td> 3091</td><td> 3150</td><td> 2592</td><td> 2212</td></tr>\n",
       "\t<tr><th scope=row>b0016</th><td>  650</td><td>  568</td><td>  659</td><td>  612</td><td>  730</td><td>  731</td><td>  685</td><td>  623</td></tr>\n",
       "\t<tr><th scope=row>b0018</th><td>    4</td><td>    2</td><td>   13</td><td>    4</td><td>   11</td><td>   11</td><td>   18</td><td>    7</td></tr>\n",
       "\t<tr><th scope=row>b0019</th><td>  497</td><td>  417</td><td> 1346</td><td> 1187</td><td>  591</td><td>  623</td><td> 1516</td><td> 1366</td></tr>\n",
       "\t<tr><th scope=row>b0020</th><td>  408</td><td>  330</td><td>  389</td><td>  446</td><td>  429</td><td>  394</td><td>  528</td><td>  531</td></tr>\n",
       "\t<tr><th scope=row>b0021</th><td>    8</td><td>    8</td><td>    9</td><td>   11</td><td>   10</td><td>   15</td><td>   16</td><td>   14</td></tr>\n",
       "\t<tr><th scope=row>b0022</th><td>   49</td><td>   38</td><td>   18</td><td>   27</td><td>   33</td><td>   26</td><td>   17</td><td>   30</td></tr>\n",
       "\t<tr><th scope=row>b0023</th><td>13768</td><td>11440</td><td> 4018</td><td> 3024</td><td>11110</td><td>10438</td><td> 4697</td><td> 4420</td></tr>\n",
       "\t<tr><th scope=row>b0024</th><td>   10</td><td>   16</td><td>   35</td><td>   52</td><td>   14</td><td>   10</td><td>   40</td><td>   43</td></tr>\n",
       "\t<tr><th scope=row>b0025</th><td> 2352</td><td> 2102</td><td> 3226</td><td> 3298</td><td> 2528</td><td> 2444</td><td> 2698</td><td> 3447</td></tr>\n",
       "\t<tr><th scope=row>b0026</th><td>12853</td><td>10448</td><td>21372</td><td>20545</td><td>13746</td><td>13091</td><td>16340</td><td>17800</td></tr>\n",
       "\t<tr><th scope=row>b0027</th><td>  757</td><td>  645</td><td> 1300</td><td> 1329</td><td>  732</td><td>  758</td><td> 1053</td><td> 1157</td></tr>\n",
       "\t<tr><th scope=row>b0028</th><td>  703</td><td>  662</td><td>  737</td><td>  717</td><td>  734</td><td>  724</td><td>  657</td><td>  585</td></tr>\n",
       "\t<tr><th scope=row>b0029</th><td> 1072</td><td>  906</td><td> 1652</td><td> 1595</td><td>  981</td><td>  903</td><td> 1391</td><td> 1461</td></tr>\n",
       "\t<tr><th scope=row>b0030</th><td>  175</td><td>  174</td><td>   64</td><td>   51</td><td>  165</td><td>  167</td><td>   67</td><td>   73</td></tr>\n",
       "\t<tr><th scope=row>b0031</th><td> 3920</td><td> 2880</td><td> 1620</td><td> 1118</td><td> 2702</td><td> 2757</td><td> 1184</td><td> 1240</td></tr>\n",
       "\t<tr><th scope=row>b0032</th><td>18052</td><td>14494</td><td> 1106</td><td>  468</td><td>11511</td><td>10682</td><td> 2325</td><td> 3218</td></tr>\n",
       "\t<tr><th scope=row>⋮</th><td>⋮</td><td>⋮</td><td>⋮</td><td>⋮</td><td>⋮</td><td>⋮</td><td>⋮</td><td>⋮</td></tr>\n",
       "\t<tr><th scope=row>b4666</th><td>  1</td><td>  0</td><td>  0</td><td>  0</td><td>  2</td><td>  1</td><td>  0</td><td>  0</td></tr>\n",
       "\t<tr><th scope=row>b4667</th><td>  3</td><td>  1</td><td>  3</td><td>  0</td><td>  2</td><td>  2</td><td>  3</td><td>  1</td></tr>\n",
       "\t<tr><th scope=row>b4668</th><td>  3</td><td>  1</td><td>  2</td><td>  1</td><td>  5</td><td>  3</td><td>  1</td><td>  3</td></tr>\n",
       "\t<tr><th scope=row>b4669</th><td>  9</td><td> 20</td><td>  5</td><td>  5</td><td> 35</td><td> 53</td><td>  6</td><td>  5</td></tr>\n",
       "\t<tr><th scope=row>b4670</th><td>  6</td><td>  7</td><td>  5</td><td>  8</td><td> 12</td><td>  9</td><td>  4</td><td>  2</td></tr>\n",
       "\t<tr><th scope=row>b4671</th><td>  5</td><td>  7</td><td>  1</td><td>  4</td><td>  1</td><td>  0</td><td>  0</td><td>  1</td></tr>\n",
       "\t<tr><th scope=row>b4672</th><td> 10</td><td>  3</td><td> 10</td><td>  3</td><td>  5</td><td>  4</td><td> 10</td><td>  3</td></tr>\n",
       "\t<tr><th scope=row>b4673</th><td>  2</td><td>  1</td><td>  6</td><td>  2</td><td>  0</td><td>  0</td><td>  4</td><td>  3</td></tr>\n",
       "\t<tr><th scope=row>b4675</th><td> 11</td><td>  8</td><td>  2</td><td>  1</td><td>  8</td><td> 10</td><td>  5</td><td>  0</td></tr>\n",
       "\t<tr><th scope=row>b4676</th><td> 12</td><td> 11</td><td>  4</td><td>  1</td><td> 15</td><td> 17</td><td>  3</td><td>  6</td></tr>\n",
       "\t<tr><th scope=row>b4677</th><td>  2</td><td>  0</td><td>  1</td><td>  0</td><td>  1</td><td>  2</td><td>  1</td><td>  0</td></tr>\n",
       "\t<tr><th scope=row>b4678</th><td>143</td><td>111</td><td>  4</td><td>  1</td><td>116</td><td>133</td><td>  4</td><td>  5</td></tr>\n",
       "\t<tr><th scope=row>b4679</th><td> 82</td><td> 48</td><td>430</td><td>517</td><td> 78</td><td>109</td><td>549</td><td>489</td></tr>\n",
       "\t<tr><th scope=row>b4680</th><td> 71</td><td> 61</td><td> 10</td><td>  8</td><td> 82</td><td> 88</td><td>  8</td><td>  7</td></tr>\n",
       "\t<tr><th scope=row>b4682</th><td>  3</td><td>  0</td><td>  0</td><td>  0</td><td>  0</td><td>  1</td><td>  3</td><td>  0</td></tr>\n",
       "\t<tr><th scope=row>b4683</th><td>  0</td><td>  1</td><td>  0</td><td>  0</td><td>  0</td><td>  1</td><td>  1</td><td>  1</td></tr>\n",
       "\t<tr><th scope=row>b4684</th><td>  2</td><td>  1</td><td>  0</td><td>  0</td><td>  3</td><td>  1</td><td>  0</td><td>  0</td></tr>\n",
       "\t<tr><th scope=row>b4685</th><td> 40</td><td> 58</td><td> 20</td><td> 32</td><td> 45</td><td> 40</td><td> 15</td><td> 45</td></tr>\n",
       "\t<tr><th scope=row>b4686</th><td>822</td><td>573</td><td>410</td><td>281</td><td>753</td><td>832</td><td>414</td><td>344</td></tr>\n",
       "\t<tr><th scope=row>b4687</th><td>104</td><td> 91</td><td> 26</td><td> 19</td><td> 94</td><td>105</td><td> 39</td><td> 32</td></tr>\n",
       "\t<tr><th scope=row>b4688</th><td> 77</td><td> 55</td><td> 62</td><td> 59</td><td> 80</td><td> 64</td><td> 43</td><td> 72</td></tr>\n",
       "\t<tr><th scope=row>b4692</th><td>  2</td><td>  1</td><td>  2</td><td>  1</td><td> 23</td><td> 11</td><td>  8</td><td> 11</td></tr>\n",
       "\t<tr><th scope=row>b4693</th><td> 20</td><td> 23</td><td> 37</td><td> 25</td><td>143</td><td>132</td><td> 99</td><td> 76</td></tr>\n",
       "\t<tr><th scope=row>b4694</th><td> 14</td><td> 16</td><td> 26</td><td> 26</td><td> 16</td><td> 15</td><td> 36</td><td> 32</td></tr>\n",
       "\t<tr><th scope=row>b4696</th><td>136</td><td>101</td><td>459</td><td>423</td><td>187</td><td>179</td><td>418</td><td>411</td></tr>\n",
       "\t<tr><th scope=row>b4697</th><td>  6</td><td>  9</td><td>  0</td><td>  4</td><td>  6</td><td>  2</td><td>  1</td><td>  1</td></tr>\n",
       "\t<tr><th scope=row>b4702</th><td>248</td><td>211</td><td> 21</td><td> 18</td><td>205</td><td>296</td><td> 38</td><td> 14</td></tr>\n",
       "\t<tr><th scope=row>b4703</th><td> 89</td><td> 63</td><td> 78</td><td>100</td><td> 62</td><td> 72</td><td> 85</td><td>117</td></tr>\n",
       "\t<tr><th scope=row>b4705</th><td>496</td><td>451</td><td>370</td><td>397</td><td> 98</td><td>101</td><td>404</td><td>472</td></tr>\n",
       "\t<tr><th scope=row>b4708</th><td> 13</td><td>  6</td><td> 12</td><td>  8</td><td> 12</td><td> 12</td><td> 11</td><td> 17</td></tr>\n",
       "</tbody>\n",
       "</table>\n"
      ],
      "text/latex": [
       "\\begin{tabular}{r|llllllll}\n",
       "  & wt\\_fe2\\_1 & wt\\_fe2\\_2 & wt\\_dpd\\_1 & wt\\_dpd\\_2 & delfur\\_fe2\\_1 & delfur\\_fe2\\_2 & delfur\\_dpd\\_1 & delfur\\_dpd\\_2\\\\\n",
       "\\hline\n",
       "\tb0001 &  2303 &  2354 &   311 &   284 &  3019 &  3485 &   245 &   232\\\\\n",
       "\tb0002 & 36937 & 25801 & 58117 & 60901 & 40532 & 38470 & 17890 & 23112\\\\\n",
       "\tb0003 & 10922 &  8250 & 16854 & 21042 & 11589 & 10840 &  4805 &  7879\\\\\n",
       "\tb0004 & 11953 &  8463 & 12127 & 14498 & 10077 &  9532 &  3727 &  5103\\\\\n",
       "\tb0005 &   472 &   345 &   216 &   178 &   362 &   297 &   104 &   120\\\\\n",
       "\tb0006 &   669 &   588 &   703 &   633 &   682 &   653 &   660 &   767\\\\\n",
       "\tb0007 &   116 &   101 &   134 &   120 &   117 &   112 &   161 &   138\\\\\n",
       "\tb0008 & 15470 & 13532 & 16026 & 12204 & 15773 & 14951 & 12826 & 12494\\\\\n",
       "\tb0009 &   358 &   321 &   459 &   403 &   411 &   324 &   407 &   410\\\\\n",
       "\tb0010 &   123 &   111 &    72 &    64 &    85 &    82 &   110 &    67\\\\\n",
       "\tb0011 &    22 &    13 &    41 &    25 &    35 &    32 &    35 &    27\\\\\n",
       "\tb0013 &     5 &     8 &     8 &     8 &     7 &     8 &     4 &     3\\\\\n",
       "\tb0014 & 13327 & 11750 & 27555 & 24866 & 26930 & 26627 & 19224 & 19764\\\\\n",
       "\tb0015 &  2005 &  1547 &  2776 &  2601 &  3091 &  3150 &  2592 &  2212\\\\\n",
       "\tb0016 &   650 &   568 &   659 &   612 &   730 &   731 &   685 &   623\\\\\n",
       "\tb0018 &     4 &     2 &    13 &     4 &    11 &    11 &    18 &     7\\\\\n",
       "\tb0019 &   497 &   417 &  1346 &  1187 &   591 &   623 &  1516 &  1366\\\\\n",
       "\tb0020 &   408 &   330 &   389 &   446 &   429 &   394 &   528 &   531\\\\\n",
       "\tb0021 &     8 &     8 &     9 &    11 &    10 &    15 &    16 &    14\\\\\n",
       "\tb0022 &    49 &    38 &    18 &    27 &    33 &    26 &    17 &    30\\\\\n",
       "\tb0023 & 13768 & 11440 &  4018 &  3024 & 11110 & 10438 &  4697 &  4420\\\\\n",
       "\tb0024 &    10 &    16 &    35 &    52 &    14 &    10 &    40 &    43\\\\\n",
       "\tb0025 &  2352 &  2102 &  3226 &  3298 &  2528 &  2444 &  2698 &  3447\\\\\n",
       "\tb0026 & 12853 & 10448 & 21372 & 20545 & 13746 & 13091 & 16340 & 17800\\\\\n",
       "\tb0027 &   757 &   645 &  1300 &  1329 &   732 &   758 &  1053 &  1157\\\\\n",
       "\tb0028 &   703 &   662 &   737 &   717 &   734 &   724 &   657 &   585\\\\\n",
       "\tb0029 &  1072 &   906 &  1652 &  1595 &   981 &   903 &  1391 &  1461\\\\\n",
       "\tb0030 &   175 &   174 &    64 &    51 &   165 &   167 &    67 &    73\\\\\n",
       "\tb0031 &  3920 &  2880 &  1620 &  1118 &  2702 &  2757 &  1184 &  1240\\\\\n",
       "\tb0032 & 18052 & 14494 &  1106 &   468 & 11511 & 10682 &  2325 &  3218\\\\\n",
       "\t⋮ & ⋮ & ⋮ & ⋮ & ⋮ & ⋮ & ⋮ & ⋮ & ⋮\\\\\n",
       "\tb4666 &   1 &   0 &   0 &   0 &   2 &   1 &   0 &   0\\\\\n",
       "\tb4667 &   3 &   1 &   3 &   0 &   2 &   2 &   3 &   1\\\\\n",
       "\tb4668 &   3 &   1 &   2 &   1 &   5 &   3 &   1 &   3\\\\\n",
       "\tb4669 &   9 &  20 &   5 &   5 &  35 &  53 &   6 &   5\\\\\n",
       "\tb4670 &   6 &   7 &   5 &   8 &  12 &   9 &   4 &   2\\\\\n",
       "\tb4671 &   5 &   7 &   1 &   4 &   1 &   0 &   0 &   1\\\\\n",
       "\tb4672 &  10 &   3 &  10 &   3 &   5 &   4 &  10 &   3\\\\\n",
       "\tb4673 &   2 &   1 &   6 &   2 &   0 &   0 &   4 &   3\\\\\n",
       "\tb4675 &  11 &   8 &   2 &   1 &   8 &  10 &   5 &   0\\\\\n",
       "\tb4676 &  12 &  11 &   4 &   1 &  15 &  17 &   3 &   6\\\\\n",
       "\tb4677 &   2 &   0 &   1 &   0 &   1 &   2 &   1 &   0\\\\\n",
       "\tb4678 & 143 & 111 &   4 &   1 & 116 & 133 &   4 &   5\\\\\n",
       "\tb4679 &  82 &  48 & 430 & 517 &  78 & 109 & 549 & 489\\\\\n",
       "\tb4680 &  71 &  61 &  10 &   8 &  82 &  88 &   8 &   7\\\\\n",
       "\tb4682 &   3 &   0 &   0 &   0 &   0 &   1 &   3 &   0\\\\\n",
       "\tb4683 &   0 &   1 &   0 &   0 &   0 &   1 &   1 &   1\\\\\n",
       "\tb4684 &   2 &   1 &   0 &   0 &   3 &   1 &   0 &   0\\\\\n",
       "\tb4685 &  40 &  58 &  20 &  32 &  45 &  40 &  15 &  45\\\\\n",
       "\tb4686 & 822 & 573 & 410 & 281 & 753 & 832 & 414 & 344\\\\\n",
       "\tb4687 & 104 &  91 &  26 &  19 &  94 & 105 &  39 &  32\\\\\n",
       "\tb4688 &  77 &  55 &  62 &  59 &  80 &  64 &  43 &  72\\\\\n",
       "\tb4692 &   2 &   1 &   2 &   1 &  23 &  11 &   8 &  11\\\\\n",
       "\tb4693 &  20 &  23 &  37 &  25 & 143 & 132 &  99 &  76\\\\\n",
       "\tb4694 &  14 &  16 &  26 &  26 &  16 &  15 &  36 &  32\\\\\n",
       "\tb4696 & 136 & 101 & 459 & 423 & 187 & 179 & 418 & 411\\\\\n",
       "\tb4697 &   6 &   9 &   0 &   4 &   6 &   2 &   1 &   1\\\\\n",
       "\tb4702 & 248 & 211 &  21 &  18 & 205 & 296 &  38 &  14\\\\\n",
       "\tb4703 &  89 &  63 &  78 & 100 &  62 &  72 &  85 & 117\\\\\n",
       "\tb4705 & 496 & 451 & 370 & 397 &  98 & 101 & 404 & 472\\\\\n",
       "\tb4708 &  13 &   6 &  12 &   8 &  12 &  12 &  11 &  17\\\\\n",
       "\\end{tabular}\n"
      ],
      "text/markdown": [
       "\n",
       "| <!--/--> | wt_fe2_1 | wt_fe2_2 | wt_dpd_1 | wt_dpd_2 | delfur_fe2_1 | delfur_fe2_2 | delfur_dpd_1 | delfur_dpd_2 | \n",
       "|---|---|---|---|---|---|---|---|---|---|---|---|---|---|---|---|---|---|---|---|---|---|---|---|---|---|---|---|---|---|---|---|---|---|---|---|---|---|---|---|---|---|---|---|---|---|---|---|---|---|---|---|---|---|---|---|---|---|---|---|---|\n",
       "| b0001 |  2303 |  2354 |   311 |   284 |  3019 |  3485 |   245 |   232 | \n",
       "| b0002 | 36937 | 25801 | 58117 | 60901 | 40532 | 38470 | 17890 | 23112 | \n",
       "| b0003 | 10922 |  8250 | 16854 | 21042 | 11589 | 10840 |  4805 |  7879 | \n",
       "| b0004 | 11953 |  8463 | 12127 | 14498 | 10077 |  9532 |  3727 |  5103 | \n",
       "| b0005 |   472 |   345 |   216 |   178 |   362 |   297 |   104 |   120 | \n",
       "| b0006 |   669 |   588 |   703 |   633 |   682 |   653 |   660 |   767 | \n",
       "| b0007 |   116 |   101 |   134 |   120 |   117 |   112 |   161 |   138 | \n",
       "| b0008 | 15470 | 13532 | 16026 | 12204 | 15773 | 14951 | 12826 | 12494 | \n",
       "| b0009 |   358 |   321 |   459 |   403 |   411 |   324 |   407 |   410 | \n",
       "| b0010 |   123 |   111 |    72 |    64 |    85 |    82 |   110 |    67 | \n",
       "| b0011 |    22 |    13 |    41 |    25 |    35 |    32 |    35 |    27 | \n",
       "| b0013 |     5 |     8 |     8 |     8 |     7 |     8 |     4 |     3 | \n",
       "| b0014 | 13327 | 11750 | 27555 | 24866 | 26930 | 26627 | 19224 | 19764 | \n",
       "| b0015 |  2005 |  1547 |  2776 |  2601 |  3091 |  3150 |  2592 |  2212 | \n",
       "| b0016 |   650 |   568 |   659 |   612 |   730 |   731 |   685 |   623 | \n",
       "| b0018 |     4 |     2 |    13 |     4 |    11 |    11 |    18 |     7 | \n",
       "| b0019 |   497 |   417 |  1346 |  1187 |   591 |   623 |  1516 |  1366 | \n",
       "| b0020 |   408 |   330 |   389 |   446 |   429 |   394 |   528 |   531 | \n",
       "| b0021 |     8 |     8 |     9 |    11 |    10 |    15 |    16 |    14 | \n",
       "| b0022 |    49 |    38 |    18 |    27 |    33 |    26 |    17 |    30 | \n",
       "| b0023 | 13768 | 11440 |  4018 |  3024 | 11110 | 10438 |  4697 |  4420 | \n",
       "| b0024 |    10 |    16 |    35 |    52 |    14 |    10 |    40 |    43 | \n",
       "| b0025 |  2352 |  2102 |  3226 |  3298 |  2528 |  2444 |  2698 |  3447 | \n",
       "| b0026 | 12853 | 10448 | 21372 | 20545 | 13746 | 13091 | 16340 | 17800 | \n",
       "| b0027 |   757 |   645 |  1300 |  1329 |   732 |   758 |  1053 |  1157 | \n",
       "| b0028 |   703 |   662 |   737 |   717 |   734 |   724 |   657 |   585 | \n",
       "| b0029 |  1072 |   906 |  1652 |  1595 |   981 |   903 |  1391 |  1461 | \n",
       "| b0030 |   175 |   174 |    64 |    51 |   165 |   167 |    67 |    73 | \n",
       "| b0031 |  3920 |  2880 |  1620 |  1118 |  2702 |  2757 |  1184 |  1240 | \n",
       "| b0032 | 18052 | 14494 |  1106 |   468 | 11511 | 10682 |  2325 |  3218 | \n",
       "| ⋮ | ⋮ | ⋮ | ⋮ | ⋮ | ⋮ | ⋮ | ⋮ | ⋮ | \n",
       "| b4666 |   1 |   0 |   0 |   0 |   2 |   1 |   0 |   0 | \n",
       "| b4667 |   3 |   1 |   3 |   0 |   2 |   2 |   3 |   1 | \n",
       "| b4668 |   3 |   1 |   2 |   1 |   5 |   3 |   1 |   3 | \n",
       "| b4669 |   9 |  20 |   5 |   5 |  35 |  53 |   6 |   5 | \n",
       "| b4670 |   6 |   7 |   5 |   8 |  12 |   9 |   4 |   2 | \n",
       "| b4671 |   5 |   7 |   1 |   4 |   1 |   0 |   0 |   1 | \n",
       "| b4672 |  10 |   3 |  10 |   3 |   5 |   4 |  10 |   3 | \n",
       "| b4673 |   2 |   1 |   6 |   2 |   0 |   0 |   4 |   3 | \n",
       "| b4675 |  11 |   8 |   2 |   1 |   8 |  10 |   5 |   0 | \n",
       "| b4676 |  12 |  11 |   4 |   1 |  15 |  17 |   3 |   6 | \n",
       "| b4677 |   2 |   0 |   1 |   0 |   1 |   2 |   1 |   0 | \n",
       "| b4678 | 143 | 111 |   4 |   1 | 116 | 133 |   4 |   5 | \n",
       "| b4679 |  82 |  48 | 430 | 517 |  78 | 109 | 549 | 489 | \n",
       "| b4680 |  71 |  61 |  10 |   8 |  82 |  88 |   8 |   7 | \n",
       "| b4682 |   3 |   0 |   0 |   0 |   0 |   1 |   3 |   0 | \n",
       "| b4683 |   0 |   1 |   0 |   0 |   0 |   1 |   1 |   1 | \n",
       "| b4684 |   2 |   1 |   0 |   0 |   3 |   1 |   0 |   0 | \n",
       "| b4685 |  40 |  58 |  20 |  32 |  45 |  40 |  15 |  45 | \n",
       "| b4686 | 822 | 573 | 410 | 281 | 753 | 832 | 414 | 344 | \n",
       "| b4687 | 104 |  91 |  26 |  19 |  94 | 105 |  39 |  32 | \n",
       "| b4688 |  77 |  55 |  62 |  59 |  80 |  64 |  43 |  72 | \n",
       "| b4692 |   2 |   1 |   2 |   1 |  23 |  11 |   8 |  11 | \n",
       "| b4693 |  20 |  23 |  37 |  25 | 143 | 132 |  99 |  76 | \n",
       "| b4694 |  14 |  16 |  26 |  26 |  16 |  15 |  36 |  32 | \n",
       "| b4696 | 136 | 101 | 459 | 423 | 187 | 179 | 418 | 411 | \n",
       "| b4697 |   6 |   9 |   0 |   4 |   6 |   2 |   1 |   1 | \n",
       "| b4702 | 248 | 211 |  21 |  18 | 205 | 296 |  38 |  14 | \n",
       "| b4703 |  89 |  63 |  78 | 100 |  62 |  72 |  85 | 117 | \n",
       "| b4705 | 496 | 451 | 370 | 397 |  98 | 101 | 404 | 472 | \n",
       "| b4708 |  13 |   6 |  12 |   8 |  12 |  12 |  11 |  17 | \n",
       "\n",
       "\n"
      ],
      "text/plain": [
       "      wt_fe2_1 wt_fe2_2 wt_dpd_1 wt_dpd_2 delfur_fe2_1 delfur_fe2_2\n",
       "b0001  2303     2354      311      284     3019         3485       \n",
       "b0002 36937    25801    58117    60901    40532        38470       \n",
       "b0003 10922     8250    16854    21042    11589        10840       \n",
       "b0004 11953     8463    12127    14498    10077         9532       \n",
       "b0005   472      345      216      178      362          297       \n",
       "b0006   669      588      703      633      682          653       \n",
       "b0007   116      101      134      120      117          112       \n",
       "b0008 15470    13532    16026    12204    15773        14951       \n",
       "b0009   358      321      459      403      411          324       \n",
       "b0010   123      111       72       64       85           82       \n",
       "b0011    22       13       41       25       35           32       \n",
       "b0013     5        8        8        8        7            8       \n",
       "b0014 13327    11750    27555    24866    26930        26627       \n",
       "b0015  2005     1547     2776     2601     3091         3150       \n",
       "b0016   650      568      659      612      730          731       \n",
       "b0018     4        2       13        4       11           11       \n",
       "b0019   497      417     1346     1187      591          623       \n",
       "b0020   408      330      389      446      429          394       \n",
       "b0021     8        8        9       11       10           15       \n",
       "b0022    49       38       18       27       33           26       \n",
       "b0023 13768    11440     4018     3024    11110        10438       \n",
       "b0024    10       16       35       52       14           10       \n",
       "b0025  2352     2102     3226     3298     2528         2444       \n",
       "b0026 12853    10448    21372    20545    13746        13091       \n",
       "b0027   757      645     1300     1329      732          758       \n",
       "b0028   703      662      737      717      734          724       \n",
       "b0029  1072      906     1652     1595      981          903       \n",
       "b0030   175      174       64       51      165          167       \n",
       "b0031  3920     2880     1620     1118     2702         2757       \n",
       "b0032 18052    14494     1106      468    11511        10682       \n",
       "⋮     ⋮        ⋮        ⋮        ⋮        ⋮            ⋮           \n",
       "b4666   1        0        0        0        2            1         \n",
       "b4667   3        1        3        0        2            2         \n",
       "b4668   3        1        2        1        5            3         \n",
       "b4669   9       20        5        5       35           53         \n",
       "b4670   6        7        5        8       12            9         \n",
       "b4671   5        7        1        4        1            0         \n",
       "b4672  10        3       10        3        5            4         \n",
       "b4673   2        1        6        2        0            0         \n",
       "b4675  11        8        2        1        8           10         \n",
       "b4676  12       11        4        1       15           17         \n",
       "b4677   2        0        1        0        1            2         \n",
       "b4678 143      111        4        1      116          133         \n",
       "b4679  82       48      430      517       78          109         \n",
       "b4680  71       61       10        8       82           88         \n",
       "b4682   3        0        0        0        0            1         \n",
       "b4683   0        1        0        0        0            1         \n",
       "b4684   2        1        0        0        3            1         \n",
       "b4685  40       58       20       32       45           40         \n",
       "b4686 822      573      410      281      753          832         \n",
       "b4687 104       91       26       19       94          105         \n",
       "b4688  77       55       62       59       80           64         \n",
       "b4692   2        1        2        1       23           11         \n",
       "b4693  20       23       37       25      143          132         \n",
       "b4694  14       16       26       26       16           15         \n",
       "b4696 136      101      459      423      187          179         \n",
       "b4697   6        9        0        4        6            2         \n",
       "b4702 248      211       21       18      205          296         \n",
       "b4703  89       63       78      100       62           72         \n",
       "b4705 496      451      370      397       98          101         \n",
       "b4708  13        6       12        8       12           12         \n",
       "      delfur_dpd_1 delfur_dpd_2\n",
       "b0001   245          232       \n",
       "b0002 17890        23112       \n",
       "b0003  4805         7879       \n",
       "b0004  3727         5103       \n",
       "b0005   104          120       \n",
       "b0006   660          767       \n",
       "b0007   161          138       \n",
       "b0008 12826        12494       \n",
       "b0009   407          410       \n",
       "b0010   110           67       \n",
       "b0011    35           27       \n",
       "b0013     4            3       \n",
       "b0014 19224        19764       \n",
       "b0015  2592         2212       \n",
       "b0016   685          623       \n",
       "b0018    18            7       \n",
       "b0019  1516         1366       \n",
       "b0020   528          531       \n",
       "b0021    16           14       \n",
       "b0022    17           30       \n",
       "b0023  4697         4420       \n",
       "b0024    40           43       \n",
       "b0025  2698         3447       \n",
       "b0026 16340        17800       \n",
       "b0027  1053         1157       \n",
       "b0028   657          585       \n",
       "b0029  1391         1461       \n",
       "b0030    67           73       \n",
       "b0031  1184         1240       \n",
       "b0032  2325         3218       \n",
       "⋮     ⋮            ⋮           \n",
       "b4666   0            0         \n",
       "b4667   3            1         \n",
       "b4668   1            3         \n",
       "b4669   6            5         \n",
       "b4670   4            2         \n",
       "b4671   0            1         \n",
       "b4672  10            3         \n",
       "b4673   4            3         \n",
       "b4675   5            0         \n",
       "b4676   3            6         \n",
       "b4677   1            0         \n",
       "b4678   4            5         \n",
       "b4679 549          489         \n",
       "b4680   8            7         \n",
       "b4682   3            0         \n",
       "b4683   1            1         \n",
       "b4684   0            0         \n",
       "b4685  15           45         \n",
       "b4686 414          344         \n",
       "b4687  39           32         \n",
       "b4688  43           72         \n",
       "b4692   8           11         \n",
       "b4693  99           76         \n",
       "b4694  36           32         \n",
       "b4696 418          411         \n",
       "b4697   1            1         \n",
       "b4702  38           14         \n",
       "b4703  85          117         \n",
       "b4705 404          472         \n",
       "b4708  11           17         "
      ]
     },
     "metadata": {},
     "output_type": "display_data"
    }
   ],
   "source": [
    "assay(dds)"
   ]
  },
  {
   "cell_type": "markdown",
   "metadata": {},
   "source": [
    "## From Python pipeline"
   ]
  },
  {
   "cell_type": "code",
   "execution_count": 28,
   "metadata": {},
   "outputs": [],
   "source": [
    "countdata <- read.csv(file='example/counts.csv',row.names=1)"
   ]
  },
  {
   "cell_type": "code",
   "execution_count": 29,
   "metadata": {},
   "outputs": [],
   "source": [
    "coldata <- read.csv(file='example/metadata.csv')"
   ]
  },
  {
   "cell_type": "code",
   "execution_count": 30,
   "metadata": {},
   "outputs": [],
   "source": [
    "coldata$group <- gsub('.{2}$', '', coldata$sample_id)"
   ]
  },
  {
   "cell_type": "code",
   "execution_count": 31,
   "metadata": {},
   "outputs": [
    {
     "name": "stderr",
     "output_type": "stream",
     "text": [
      "Import genomic features from the file as a GRanges object ... OK\n",
      "Prepare the 'metadata' data frame ... OK\n",
      "Make the TxDb object ... Warning message:\n",
      "“Named parameters not used in query: internal_chrom_id, chrom, length, is_circular”Warning message:\n",
      "“Named parameters not used in query: internal_id, name, type, chrom, strand, start, end”Warning message:\n",
      "“Named parameters not used in query: internal_id, name, chrom, strand, start, end”Warning message:\n",
      "“Named parameters not used in query: internal_tx_id, exon_rank, internal_exon_id, internal_cds_id”Warning message:\n",
      "“Named parameters not used in query: gene_id, internal_tx_id”OK\n"
     ]
    }
   ],
   "source": [
    "GFF_FILE <- \"./example/ref/NC_000913.3.gff\"\n",
    "txdb <- makeTxDbFromGFF(GFF_FILE, format=\"gtf\")\n",
    "exons <- exonsBy(txdb, by=\"gene\")"
   ]
  },
  {
   "cell_type": "code",
   "execution_count": 32,
   "metadata": {},
   "outputs": [
    {
     "name": "stderr",
     "output_type": "stream",
     "text": [
      "Warning message in DESeqDataSet(se, design = design, ignoreRank):\n",
      "“some variables in design formula are characters, converting to factors”"
     ]
    }
   ],
   "source": [
    "dds2 <- DESeqDataSetFromMatrix(countData = countdata,\n",
    "                              colData = coldata,\n",
    "                              design = ~group,\n",
    "                              rowRanges = exons[rownames(countdata)])"
   ]
  },
  {
   "cell_type": "code",
   "execution_count": null,
   "metadata": {
    "collapsed": true
   },
   "outputs": [],
   "source": [
    "head(assay(dds))"
   ]
  },
  {
   "cell_type": "code",
   "execution_count": 34,
   "metadata": {},
   "outputs": [
    {
     "data": {
      "text/html": [
       "<table>\n",
       "<thead><tr><th></th><th scope=col>wt_fe2_1</th><th scope=col>wt_fe2_2</th><th scope=col>wt_dpd_1</th><th scope=col>wt_dpd_2</th><th scope=col>delfur_fe2_1</th><th scope=col>delfur_fe2_2</th><th scope=col>delfur_dpd_1</th><th scope=col>delfur_dpd_2</th></tr></thead>\n",
       "<tbody>\n",
       "\t<tr><th scope=row>b0001</th><td> 4134 </td><td> 4226 </td><td>  311 </td><td>   447</td><td> 5277 </td><td> 6196 </td><td>  358 </td><td>  368 </td></tr>\n",
       "\t<tr><th scope=row>b0002</th><td>76008 </td><td>52897 </td><td>58117 </td><td>127141</td><td>82980 </td><td>78532 </td><td>36899 </td><td>48026 </td></tr>\n",
       "\t<tr><th scope=row>b0003</th><td>26803 </td><td>19819 </td><td>16854 </td><td> 52019</td><td>27615 </td><td>25772 </td><td>12258 </td><td>19451 </td></tr>\n",
       "\t<tr><th scope=row>b0004</th><td>26024 </td><td>18376 </td><td>12127 </td><td> 31955</td><td>21903 </td><td>20725 </td><td> 8593 </td><td>11451 </td></tr>\n",
       "\t<tr><th scope=row>b0005</th><td>  738 </td><td>  528 </td><td>  216 </td><td>   278</td><td>  578 </td><td>  463 </td><td>  182 </td><td>  198 </td></tr>\n",
       "\t<tr><th scope=row>b0006</th><td> 1304 </td><td> 1138 </td><td>  703 </td><td>  1209</td><td> 1318 </td><td> 1268 </td><td> 1259 </td><td> 1461 </td></tr>\n",
       "</tbody>\n",
       "</table>\n"
      ],
      "text/latex": [
       "\\begin{tabular}{r|llllllll}\n",
       "  & wt\\_fe2\\_1 & wt\\_fe2\\_2 & wt\\_dpd\\_1 & wt\\_dpd\\_2 & delfur\\_fe2\\_1 & delfur\\_fe2\\_2 & delfur\\_dpd\\_1 & delfur\\_dpd\\_2\\\\\n",
       "\\hline\n",
       "\tb0001 &  4134  &  4226  &   311  &    447 &  5277  &  6196  &   358  &   368 \\\\\n",
       "\tb0002 & 76008  & 52897  & 58117  & 127141 & 82980  & 78532  & 36899  & 48026 \\\\\n",
       "\tb0003 & 26803  & 19819  & 16854  &  52019 & 27615  & 25772  & 12258  & 19451 \\\\\n",
       "\tb0004 & 26024  & 18376  & 12127  &  31955 & 21903  & 20725  &  8593  & 11451 \\\\\n",
       "\tb0005 &   738  &   528  &   216  &    278 &   578  &   463  &   182  &   198 \\\\\n",
       "\tb0006 &  1304  &  1138  &   703  &   1209 &  1318  &  1268  &  1259  &  1461 \\\\\n",
       "\\end{tabular}\n"
      ],
      "text/markdown": [
       "\n",
       "| <!--/--> | wt_fe2_1 | wt_fe2_2 | wt_dpd_1 | wt_dpd_2 | delfur_fe2_1 | delfur_fe2_2 | delfur_dpd_1 | delfur_dpd_2 | \n",
       "|---|---|---|---|---|---|\n",
       "| b0001 |  4134  |  4226  |   311  |    447 |  5277  |  6196  |   358  |   368  | \n",
       "| b0002 | 76008  | 52897  | 58117  | 127141 | 82980  | 78532  | 36899  | 48026  | \n",
       "| b0003 | 26803  | 19819  | 16854  |  52019 | 27615  | 25772  | 12258  | 19451  | \n",
       "| b0004 | 26024  | 18376  | 12127  |  31955 | 21903  | 20725  |  8593  | 11451  | \n",
       "| b0005 |   738  |   528  |   216  |    278 |   578  |   463  |   182  |   198  | \n",
       "| b0006 |  1304  |  1138  |   703  |   1209 |  1318  |  1268  |  1259  |  1461  | \n",
       "\n",
       "\n"
      ],
      "text/plain": [
       "      wt_fe2_1 wt_fe2_2 wt_dpd_1 wt_dpd_2 delfur_fe2_1 delfur_fe2_2\n",
       "b0001  4134     4226      311       447    5277         6196       \n",
       "b0002 76008    52897    58117    127141   82980        78532       \n",
       "b0003 26803    19819    16854     52019   27615        25772       \n",
       "b0004 26024    18376    12127     31955   21903        20725       \n",
       "b0005   738      528      216       278     578          463       \n",
       "b0006  1304     1138      703      1209    1318         1268       \n",
       "      delfur_dpd_1 delfur_dpd_2\n",
       "b0001   358          368       \n",
       "b0002 36899        48026       \n",
       "b0003 12258        19451       \n",
       "b0004  8593        11451       \n",
       "b0005   182          198       \n",
       "b0006  1259         1461       "
      ]
     },
     "metadata": {},
     "output_type": "display_data"
    }
   ],
   "source": [
    "head(assay(dds2))"
   ]
  },
  {
   "cell_type": "markdown",
   "metadata": {},
   "source": [
    "# Calculate TPM"
   ]
  },
  {
   "cell_type": "code",
   "execution_count": 61,
   "metadata": {
    "scrolled": true
   },
   "outputs": [
    {
     "data": {
      "text/html": [
       "<table>\n",
       "<thead><tr><th></th><th scope=col>wt_fe2_1</th><th scope=col>wt_fe2_2</th><th scope=col>wt_dpd_1</th><th scope=col>wt_dpd_2</th><th scope=col>delfur_fe2_1</th><th scope=col>delfur_fe2_2</th><th scope=col>delfur_dpd_1</th><th scope=col>delfur_dpd_2</th></tr></thead>\n",
       "<tbody>\n",
       "\t<tr><th scope=row>b0001</th><td>4106.7522 </td><td>5045.3267 </td><td> 433.16027</td><td> 398.30296</td><td>4974.6676 </td><td>6096.7173 </td><td>290.03315 </td><td> 296.46774</td></tr>\n",
       "\t<tr><th scope=row>b0002</th><td>2053.1535 </td><td>1717.2161 </td><td>2635.56977</td><td>3080.53209</td><td>2127.0833 </td><td>2101.1904 </td><td>812.85544 </td><td>1052.05911</td></tr>\n",
       "\t<tr><th scope=row>b0003</th><td>1910.0263 </td><td>1697.3424 </td><td>2502.66173</td><td>3325.03286</td><td>1867.4541 </td><td>1819.1173 </td><td>712.38073 </td><td>1124.08587</td></tr>\n",
       "\t<tr><th scope=row>b0004</th><td>1344.8103 </td><td>1141.2209 </td><td>1169.43185</td><td>1481.16615</td><td>1074.0871 </td><td>1060.8113 </td><td>362.13322 </td><td> 479.87926</td></tr>\n",
       "\t<tr><th scope=row>b0005</th><td> 164.8325 </td><td> 141.7269 </td><td>  62.22036</td><td>  55.69412</td><td> 122.5077 </td><td> 102.4293 </td><td> 33.15084 </td><td>  35.86356</td></tr>\n",
       "\t<tr><th scope=row>b0006</th><td> 111.5580 </td><td> 117.0031 </td><td>  91.39236</td><td>  92.77426</td><td> 107.0009 </td><td> 107.4482 </td><td> 87.83863 </td><td> 101.36197</td></tr>\n",
       "</tbody>\n",
       "</table>\n"
      ],
      "text/latex": [
       "\\begin{tabular}{r|llllllll}\n",
       "  & wt\\_fe2\\_1 & wt\\_fe2\\_2 & wt\\_dpd\\_1 & wt\\_dpd\\_2 & delfur\\_fe2\\_1 & delfur\\_fe2\\_2 & delfur\\_dpd\\_1 & delfur\\_dpd\\_2\\\\\n",
       "\\hline\n",
       "\tb0001 & 4106.7522  & 5045.3267  &  433.16027 &  398.30296 & 4974.6676  & 6096.7173  & 290.03315  &  296.46774\\\\\n",
       "\tb0002 & 2053.1535  & 1717.2161  & 2635.56977 & 3080.53209 & 2127.0833  & 2101.1904  & 812.85544  & 1052.05911\\\\\n",
       "\tb0003 & 1910.0263  & 1697.3424  & 2502.66173 & 3325.03286 & 1867.4541  & 1819.1173  & 712.38073  & 1124.08587\\\\\n",
       "\tb0004 & 1344.8103  & 1141.2209  & 1169.43185 & 1481.16615 & 1074.0871  & 1060.8113  & 362.13322  &  479.87926\\\\\n",
       "\tb0005 &  164.8325  &  141.7269  &   62.22036 &   55.69412 &  122.5077  &  102.4293  &  33.15084  &   35.86356\\\\\n",
       "\tb0006 &  111.5580  &  117.0031  &   91.39236 &   92.77426 &  107.0009  &  107.4482  &  87.83863  &  101.36197\\\\\n",
       "\\end{tabular}\n"
      ],
      "text/markdown": [
       "\n",
       "| <!--/--> | wt_fe2_1 | wt_fe2_2 | wt_dpd_1 | wt_dpd_2 | delfur_fe2_1 | delfur_fe2_2 | delfur_dpd_1 | delfur_dpd_2 | \n",
       "|---|---|---|---|---|---|\n",
       "| b0001 | 4106.7522  | 5045.3267  |  433.16027 |  398.30296 | 4974.6676  | 6096.7173  | 290.03315  |  296.46774 | \n",
       "| b0002 | 2053.1535  | 1717.2161  | 2635.56977 | 3080.53209 | 2127.0833  | 2101.1904  | 812.85544  | 1052.05911 | \n",
       "| b0003 | 1910.0263  | 1697.3424  | 2502.66173 | 3325.03286 | 1867.4541  | 1819.1173  | 712.38073  | 1124.08587 | \n",
       "| b0004 | 1344.8103  | 1141.2209  | 1169.43185 | 1481.16615 | 1074.0871  | 1060.8113  | 362.13322  |  479.87926 | \n",
       "| b0005 |  164.8325  |  141.7269  |   62.22036 |   55.69412 |  122.5077  |  102.4293  |  33.15084  |   35.86356 | \n",
       "| b0006 |  111.5580  |  117.0031  |   91.39236 |   92.77426 |  107.0009  |  107.4482  |  87.83863  |  101.36197 | \n",
       "\n",
       "\n"
      ],
      "text/plain": [
       "      wt_fe2_1  wt_fe2_2  wt_dpd_1   wt_dpd_2   delfur_fe2_1 delfur_fe2_2\n",
       "b0001 4106.7522 5045.3267  433.16027  398.30296 4974.6676    6096.7173   \n",
       "b0002 2053.1535 1717.2161 2635.56977 3080.53209 2127.0833    2101.1904   \n",
       "b0003 1910.0263 1697.3424 2502.66173 3325.03286 1867.4541    1819.1173   \n",
       "b0004 1344.8103 1141.2209 1169.43185 1481.16615 1074.0871    1060.8113   \n",
       "b0005  164.8325  141.7269   62.22036   55.69412  122.5077     102.4293   \n",
       "b0006  111.5580  117.0031   91.39236   92.77426  107.0009     107.4482   \n",
       "      delfur_dpd_1 delfur_dpd_2\n",
       "b0001 290.03315     296.46774  \n",
       "b0002 812.85544    1052.05911  \n",
       "b0003 712.38073    1124.08587  \n",
       "b0004 362.13322     479.87926  \n",
       "b0005  33.15084      35.86356  \n",
       "b0006  87.83863     101.36197  "
      ]
     },
     "metadata": {},
     "output_type": "display_data"
    }
   ],
   "source": [
    "fpkm_data <- fpkm(dds)\n",
    "head(fpkm_data)"
   ]
  },
  {
   "cell_type": "code",
   "execution_count": 62,
   "metadata": {},
   "outputs": [
    {
     "data": {
      "text/html": [
       "<table>\n",
       "<thead><tr><th></th><th scope=col>wt_fe2_1</th><th scope=col>wt_fe2_2</th><th scope=col>wt_dpd_1</th><th scope=col>wt_dpd_2</th><th scope=col>delfur_fe2_1</th><th scope=col>delfur_fe2_2</th><th scope=col>delfur_dpd_1</th><th scope=col>delfur_dpd_2</th></tr></thead>\n",
       "<tbody>\n",
       "\t<tr><th scope=row>b0001</th><td>2826.95054</td><td>3490.55060</td><td> 377.86153</td><td> 349.10610</td><td>3939.03848</td><td>4848.54671</td><td>249.61259 </td><td>252.04908 </td></tr>\n",
       "\t<tr><th scope=row>b0002</th><td>1413.32207</td><td>1188.03596</td><td>2299.10381</td><td>2700.03648</td><td>1684.26591</td><td>1671.01725</td><td>699.57159 </td><td>894.43299 </td></tr>\n",
       "\t<tr><th scope=row>b0003</th><td>1314.79811</td><td>1174.28661</td><td>2183.16327</td><td>2914.33744</td><td>1478.68649</td><td>1446.69248</td><td>613.09957 </td><td>955.66824 </td></tr>\n",
       "\t<tr><th scope=row>b0004</th><td> 925.72230</td><td> 789.54042</td><td>1020.13813</td><td>1298.21813</td><td> 850.48307</td><td> 843.63318</td><td>311.66441 </td><td>407.98073 </td></tr>\n",
       "\t<tr><th scope=row>b0005</th><td> 113.46519</td><td>  98.05210</td><td>  54.27709</td><td>  48.81499</td><td>  97.00397</td><td>  81.45912</td><td> 28.53076 </td><td> 30.49025 </td></tr>\n",
       "\t<tr><th scope=row>b0006</th><td>  76.79281</td><td>  80.94722</td><td>  79.72490</td><td>  81.31514</td><td>  84.72542</td><td>  85.45051</td><td> 75.59697 </td><td> 86.17528 </td></tr>\n",
       "</tbody>\n",
       "</table>\n"
      ],
      "text/latex": [
       "\\begin{tabular}{r|llllllll}\n",
       "  & wt\\_fe2\\_1 & wt\\_fe2\\_2 & wt\\_dpd\\_1 & wt\\_dpd\\_2 & delfur\\_fe2\\_1 & delfur\\_fe2\\_2 & delfur\\_dpd\\_1 & delfur\\_dpd\\_2\\\\\n",
       "\\hline\n",
       "\tb0001 & 2826.95054 & 3490.55060 &  377.86153 &  349.10610 & 3939.03848 & 4848.54671 & 249.61259  & 252.04908 \\\\\n",
       "\tb0002 & 1413.32207 & 1188.03596 & 2299.10381 & 2700.03648 & 1684.26591 & 1671.01725 & 699.57159  & 894.43299 \\\\\n",
       "\tb0003 & 1314.79811 & 1174.28661 & 2183.16327 & 2914.33744 & 1478.68649 & 1446.69248 & 613.09957  & 955.66824 \\\\\n",
       "\tb0004 &  925.72230 &  789.54042 & 1020.13813 & 1298.21813 &  850.48307 &  843.63318 & 311.66441  & 407.98073 \\\\\n",
       "\tb0005 &  113.46519 &   98.05210 &   54.27709 &   48.81499 &   97.00397 &   81.45912 &  28.53076  &  30.49025 \\\\\n",
       "\tb0006 &   76.79281 &   80.94722 &   79.72490 &   81.31514 &   84.72542 &   85.45051 &  75.59697  &  86.17528 \\\\\n",
       "\\end{tabular}\n"
      ],
      "text/markdown": [
       "\n",
       "| <!--/--> | wt_fe2_1 | wt_fe2_2 | wt_dpd_1 | wt_dpd_2 | delfur_fe2_1 | delfur_fe2_2 | delfur_dpd_1 | delfur_dpd_2 | \n",
       "|---|---|---|---|---|---|\n",
       "| b0001 | 2826.95054 | 3490.55060 |  377.86153 |  349.10610 | 3939.03848 | 4848.54671 | 249.61259  | 252.04908  | \n",
       "| b0002 | 1413.32207 | 1188.03596 | 2299.10381 | 2700.03648 | 1684.26591 | 1671.01725 | 699.57159  | 894.43299  | \n",
       "| b0003 | 1314.79811 | 1174.28661 | 2183.16327 | 2914.33744 | 1478.68649 | 1446.69248 | 613.09957  | 955.66824  | \n",
       "| b0004 |  925.72230 |  789.54042 | 1020.13813 | 1298.21813 |  850.48307 |  843.63318 | 311.66441  | 407.98073  | \n",
       "| b0005 |  113.46519 |   98.05210 |   54.27709 |   48.81499 |   97.00397 |   81.45912 |  28.53076  |  30.49025  | \n",
       "| b0006 |   76.79281 |   80.94722 |   79.72490 |   81.31514 |   84.72542 |   85.45051 |  75.59697  |  86.17528  | \n",
       "\n",
       "\n"
      ],
      "text/plain": [
       "      wt_fe2_1   wt_fe2_2   wt_dpd_1   wt_dpd_2   delfur_fe2_1 delfur_fe2_2\n",
       "b0001 2826.95054 3490.55060  377.86153  349.10610 3939.03848   4848.54671  \n",
       "b0002 1413.32207 1188.03596 2299.10381 2700.03648 1684.26591   1671.01725  \n",
       "b0003 1314.79811 1174.28661 2183.16327 2914.33744 1478.68649   1446.69248  \n",
       "b0004  925.72230  789.54042 1020.13813 1298.21813  850.48307    843.63318  \n",
       "b0005  113.46519   98.05210   54.27709   48.81499   97.00397     81.45912  \n",
       "b0006   76.79281   80.94722   79.72490   81.31514   84.72542     85.45051  \n",
       "      delfur_dpd_1 delfur_dpd_2\n",
       "b0001 249.61259    252.04908   \n",
       "b0002 699.57159    894.43299   \n",
       "b0003 613.09957    955.66824   \n",
       "b0004 311.66441    407.98073   \n",
       "b0005  28.53076     30.49025   \n",
       "b0006  75.59697     86.17528   "
      ]
     },
     "metadata": {},
     "output_type": "display_data"
    }
   ],
   "source": [
    "tpm_data <- sweep(fpkm_data,2,colSums(fpkm_data),`/`)*1e6 # Divide each column by the column sum (times 1e6)\n",
    "head(tpm_data)"
   ]
  },
  {
   "cell_type": "code",
   "execution_count": 10,
   "metadata": {},
   "outputs": [],
   "source": [
    "write.csv(tpm_data, file = \"example/deseq2-tpm.csv\")"
   ]
  },
  {
   "cell_type": "markdown",
   "metadata": {},
   "source": [
    "# PCA and clustering"
   ]
  },
  {
   "cell_type": "markdown",
   "metadata": {},
   "source": [
    "Raw counts from RNAseq tend to be exponentially distributed, so a log transform must be applied before running linear methods such as PCA or clustering. Since some counts can be 0, we must apply log(x + 1) to avoid infinite values. However, due to technical reasons, genes with lower counts have higher variance than genes with higher counts. PCA works best with constant variance, so to fix this DESeq2 has a model-based regularized log transform (rlog) to normalize the variance. The rlog counts are only used for this QC step, and should not be used for finding DEGs or other statistical tests."
   ]
  },
  {
   "cell_type": "code",
   "execution_count": 11,
   "metadata": {},
   "outputs": [],
   "source": [
    "rld <- rlog(dds)"
   ]
  },
  {
   "cell_type": "code",
   "execution_count": 12,
   "metadata": {},
   "outputs": [],
   "source": [
    "library(\"pheatmap\")\n",
    "library(\"RColorBrewer\")"
   ]
  },
  {
   "cell_type": "markdown",
   "metadata": {},
   "source": [
    "## PCA"
   ]
  },
  {
   "cell_type": "code",
   "execution_count": 13,
   "metadata": {},
   "outputs": [
    {
     "data": {},
     "metadata": {},
     "output_type": "display_data"
    },
    {
     "data": {
      "image/png": "[encoded data removed]",
      "text/plain": [
       "plot without title"
      ]
     },
     "metadata": {},
     "output_type": "display_data"
    }
   ],
   "source": [
    "options(repr.plot.width=7, repr.plot.height=3)\n",
    "plotPCA(rld,intgroup=c('group'))"
   ]
  },
  {
   "cell_type": "markdown",
   "metadata": {},
   "source": [
    "## Clustering"
   ]
  },
  {
   "cell_type": "code",
   "execution_count": 14,
   "metadata": {},
   "outputs": [
    {
     "data": {
      "image/png": "[encoded data removed]",
      "text/plain": [
       "plot without title"
      ]
     },
     "metadata": {},
     "output_type": "display_data"
    }
   ],
   "source": [
    "options(repr.plot.width=5, repr.plot.height=3)\n",
    "# Generate (euclidean) distance matrix\n",
    "sampleDists <- dist(t(assay(rld)))\n",
    "sampleDistMatrix <- as.matrix( sampleDists )\n",
    "# Designate the names for the rows\n",
    "rownames(sampleDistMatrix) <- colData(rld)$group\n",
    "# Designate the names for the columns\n",
    "colnames(sampleDistMatrix) <- NULL\n",
    "# Choose color palette\n",
    "colors <- colorRampPalette( rev(brewer.pal(9, \"Blues\")) )(255)\n",
    "# Create heatmap\n",
    "pheatmap(sampleDistMatrix,\n",
    "         clustering_distance_rows = sampleDists,\n",
    "         clustering_distance_cols = sampleDists,\n",
    "         col = colors)"
   ]
  },
  {
   "cell_type": "markdown",
   "metadata": {
    "collapsed": true
   },
   "source": [
    "# Find DEGs"
   ]
  },
  {
   "cell_type": "code",
   "execution_count": 15,
   "metadata": {},
   "outputs": [
    {
     "name": "stderr",
     "output_type": "stream",
     "text": [
      "estimating size factors\n",
      "estimating dispersions\n",
      "gene-wise dispersion estimates\n",
      "mean-dispersion relationship\n",
      "final dispersion estimates\n",
      "fitting model and testing\n"
     ]
    }
   ],
   "source": [
    "dds <- DESeq(dds)"
   ]
  },
  {
   "cell_type": "markdown",
   "metadata": {},
   "source": [
    "Designate which groups you want to compare for DEGs"
   ]
  },
  {
   "cell_type": "code",
   "execution_count": 16,
   "metadata": {
    "collapsed": true
   },
   "outputs": [],
   "source": [
    "res_FeCl2 <- results(dds,contrast = c('group','wt_fe2','delfur_fe2'))\n",
    "res_DPD <- results(dds,contrast = c('group','wt_dpd','delfur_dpd'))"
   ]
  },
  {
   "cell_type": "markdown",
   "metadata": {},
   "source": [
    "Put results into table form"
   ]
  },
  {
   "cell_type": "code",
   "execution_count": 17,
   "metadata": {
    "collapsed": true
   },
   "outputs": [],
   "source": [
    "resTable_FeCl2 <- data.frame(res_FeCl2@listData,row.names = res_FeCl2@rownames)\n",
    "resTable_DPD <- data.frame(res_DPD@listData,row.names = res_DPD@rownames)"
   ]
  },
  {
   "cell_type": "code",
   "execution_count": 18,
   "metadata": {},
   "outputs": [
    {
     "data": {
      "text/html": [
       "<table>\n",
       "<thead><tr><th></th><th scope=col>baseMean</th><th scope=col>log2FoldChange</th><th scope=col>lfcSE</th><th scope=col>stat</th><th scope=col>pvalue</th><th scope=col>padj</th></tr></thead>\n",
       "<tbody>\n",
       "\t<tr><th scope=row>b0001</th><td> 1639.1251 </td><td>-0.29108132</td><td>0.1395702  </td><td>-2.0855546 </td><td>0.037018984</td><td>0.13266283 </td></tr>\n",
       "\t<tr><th scope=row>b0002</th><td>37542.6022 </td><td>-0.16292124</td><td>0.1373759  </td><td>-1.1859524 </td><td>0.235641112</td><td>0.49597824 </td></tr>\n",
       "\t<tr><th scope=row>b0003</th><td>11469.7950 </td><td>-0.05210016</td><td>0.1880405  </td><td>-0.2770689 </td><td>0.781727234</td><td>0.90848108 </td></tr>\n",
       "\t<tr><th scope=row>b0004</th><td> 9537.3314 </td><td> 0.22528062</td><td>0.1592775  </td><td> 1.4143909 </td><td>0.157247165</td><td>0.37852128 </td></tr>\n",
       "\t<tr><th scope=row>b0005</th><td>  272.6053 </td><td> 0.47939480</td><td>0.1710197  </td><td> 2.8031560 </td><td>0.005060518</td><td>0.02633381 </td></tr>\n",
       "\t<tr><th scope=row>b0006</th><td>  666.5451 </td><td> 0.09461495</td><td>0.1295187  </td><td> 0.7305121 </td><td>0.465077235</td><td>0.72268510 </td></tr>\n",
       "</tbody>\n",
       "</table>\n"
      ],
      "text/latex": [
       "\\begin{tabular}{r|llllll}\n",
       "  & baseMean & log2FoldChange & lfcSE & stat & pvalue & padj\\\\\n",
       "\\hline\n",
       "\tb0001 &  1639.1251  & -0.29108132 & 0.1395702   & -2.0855546  & 0.037018984 & 0.13266283 \\\\\n",
       "\tb0002 & 37542.6022  & -0.16292124 & 0.1373759   & -1.1859524  & 0.235641112 & 0.49597824 \\\\\n",
       "\tb0003 & 11469.7950  & -0.05210016 & 0.1880405   & -0.2770689  & 0.781727234 & 0.90848108 \\\\\n",
       "\tb0004 &  9537.3314  &  0.22528062 & 0.1592775   &  1.4143909  & 0.157247165 & 0.37852128 \\\\\n",
       "\tb0005 &   272.6053  &  0.47939480 & 0.1710197   &  2.8031560  & 0.005060518 & 0.02633381 \\\\\n",
       "\tb0006 &   666.5451  &  0.09461495 & 0.1295187   &  0.7305121  & 0.465077235 & 0.72268510 \\\\\n",
       "\\end{tabular}\n"
      ],
      "text/markdown": [
       "\n",
       "| <!--/--> | baseMean | log2FoldChange | lfcSE | stat | pvalue | padj | \n",
       "|---|---|---|---|---|---|\n",
       "| b0001 |  1639.1251  | -0.29108132 | 0.1395702   | -2.0855546  | 0.037018984 | 0.13266283  | \n",
       "| b0002 | 37542.6022  | -0.16292124 | 0.1373759   | -1.1859524  | 0.235641112 | 0.49597824  | \n",
       "| b0003 | 11469.7950  | -0.05210016 | 0.1880405   | -0.2770689  | 0.781727234 | 0.90848108  | \n",
       "| b0004 |  9537.3314  |  0.22528062 | 0.1592775   |  1.4143909  | 0.157247165 | 0.37852128  | \n",
       "| b0005 |   272.6053  |  0.47939480 | 0.1710197   |  2.8031560  | 0.005060518 | 0.02633381  | \n",
       "| b0006 |   666.5451  |  0.09461495 | 0.1295187   |  0.7305121  | 0.465077235 | 0.72268510  | \n",
       "\n",
       "\n"
      ],
      "text/plain": [
       "      baseMean   log2FoldChange lfcSE     stat       pvalue      padj      \n",
       "b0001  1639.1251 -0.29108132    0.1395702 -2.0855546 0.037018984 0.13266283\n",
       "b0002 37542.6022 -0.16292124    0.1373759 -1.1859524 0.235641112 0.49597824\n",
       "b0003 11469.7950 -0.05210016    0.1880405 -0.2770689 0.781727234 0.90848108\n",
       "b0004  9537.3314  0.22528062    0.1592775  1.4143909 0.157247165 0.37852128\n",
       "b0005   272.6053  0.47939480    0.1710197  2.8031560 0.005060518 0.02633381\n",
       "b0006   666.5451  0.09461495    0.1295187  0.7305121 0.465077235 0.72268510"
      ]
     },
     "metadata": {},
     "output_type": "display_data"
    }
   ],
   "source": [
    "head(resTable_FeCl2)"
   ]
  },
  {
   "cell_type": "code",
   "execution_count": 19,
   "metadata": {
    "collapsed": true
   },
   "outputs": [],
   "source": [
    "deg_FeCl2 <- resTable_FeCl2[complete.cases(resTable_FeCl2[,c('padj','log2FoldChange')]) & \n",
    "                            # ^ Make sure that LogFoldChange and p-adjusted are complete (not null)\n",
    "                            resTable_FeCl2$padj < .05 & # Adjusted p-value cutoff of 0.05\n",
    "                            abs(resTable_FeCl2$log2FoldChange) > 1,] # abs(log2foldChange) cutoff of 1\n",
    "\n",
    "deg_DPD <- resTable_DPD[complete.cases(resTable_DPD[,c('padj','log2FoldChange')]) & \n",
    "                        # ^ Make sure that LogFoldChange and p-adjusted are complete (not null)\n",
    "                        resTable_DPD$padj < .05 & # Adjusted p-value cutoff of 0.05\n",
    "                        abs(resTable_DPD$log2FoldChange) > 1,] # abs(log2foldChange) cutoff of 1"
   ]
  },
  {
   "cell_type": "code",
   "execution_count": 20,
   "metadata": {},
   "outputs": [
    {
     "data": {
      "text/html": [
       "<table>\n",
       "<thead><tr><th></th><th scope=col>baseMean</th><th scope=col>log2FoldChange</th><th scope=col>lfcSE</th><th scope=col>stat</th><th scope=col>pvalue</th><th scope=col>padj</th></tr></thead>\n",
       "<tbody>\n",
       "\t<tr><th scope=row>b0034</th><td>  166.2879  </td><td> 1.127988   </td><td>0.21046357  </td><td> 5.359542   </td><td>8.343335e-08</td><td>1.214034e-06</td></tr>\n",
       "\t<tr><th scope=row>b0118</th><td>24650.1372  </td><td> 1.324849   </td><td>0.09947515  </td><td>13.318394   </td><td>1.809595e-40</td><td>8.722249e-39</td></tr>\n",
       "\t<tr><th scope=row>b0123</th><td> 3273.5336  </td><td> 2.046491   </td><td>0.11783836  </td><td>17.366937   </td><td>1.468591e-67</td><td>1.348306e-65</td></tr>\n",
       "\t<tr><th scope=row>b0150</th><td> 7194.8108  </td><td>-1.101286   </td><td>0.14720093  </td><td>-7.481517   </td><td>7.346954e-14</td><td>1.628153e-12</td></tr>\n",
       "\t<tr><th scope=row>b0152</th><td>  424.5647  </td><td>-1.053181   </td><td>0.17091003  </td><td>-6.162194   </td><td>7.174390e-10</td><td>1.257475e-08</td></tr>\n",
       "\t<tr><th scope=row>b0273</th><td> 3502.7665  </td><td> 1.179236   </td><td>0.20566736  </td><td> 5.733703   </td><td>9.826115e-09</td><td>1.591996e-07</td></tr>\n",
       "</tbody>\n",
       "</table>\n"
      ],
      "text/latex": [
       "\\begin{tabular}{r|llllll}\n",
       "  & baseMean & log2FoldChange & lfcSE & stat & pvalue & padj\\\\\n",
       "\\hline\n",
       "\tb0034 &   166.2879   &  1.127988    & 0.21046357   &  5.359542    & 8.343335e-08 & 1.214034e-06\\\\\n",
       "\tb0118 & 24650.1372   &  1.324849    & 0.09947515   & 13.318394    & 1.809595e-40 & 8.722249e-39\\\\\n",
       "\tb0123 &  3273.5336   &  2.046491    & 0.11783836   & 17.366937    & 1.468591e-67 & 1.348306e-65\\\\\n",
       "\tb0150 &  7194.8108   & -1.101286    & 0.14720093   & -7.481517    & 7.346954e-14 & 1.628153e-12\\\\\n",
       "\tb0152 &   424.5647   & -1.053181    & 0.17091003   & -6.162194    & 7.174390e-10 & 1.257475e-08\\\\\n",
       "\tb0273 &  3502.7665   &  1.179236    & 0.20566736   &  5.733703    & 9.826115e-09 & 1.591996e-07\\\\\n",
       "\\end{tabular}\n"
      ],
      "text/markdown": [
       "\n",
       "| <!--/--> | baseMean | log2FoldChange | lfcSE | stat | pvalue | padj | \n",
       "|---|---|---|---|---|---|\n",
       "| b0034 |   166.2879   |  1.127988    | 0.21046357   |  5.359542    | 8.343335e-08 | 1.214034e-06 | \n",
       "| b0118 | 24650.1372   |  1.324849    | 0.09947515   | 13.318394    | 1.809595e-40 | 8.722249e-39 | \n",
       "| b0123 |  3273.5336   |  2.046491    | 0.11783836   | 17.366937    | 1.468591e-67 | 1.348306e-65 | \n",
       "| b0150 |  7194.8108   | -1.101286    | 0.14720093   | -7.481517    | 7.346954e-14 | 1.628153e-12 | \n",
       "| b0152 |   424.5647   | -1.053181    | 0.17091003   | -6.162194    | 7.174390e-10 | 1.257475e-08 | \n",
       "| b0273 |  3502.7665   |  1.179236    | 0.20566736   |  5.733703    | 9.826115e-09 | 1.591996e-07 | \n",
       "\n",
       "\n"
      ],
      "text/plain": [
       "      baseMean   log2FoldChange lfcSE      stat      pvalue       padj        \n",
       "b0034   166.2879  1.127988      0.21046357  5.359542 8.343335e-08 1.214034e-06\n",
       "b0118 24650.1372  1.324849      0.09947515 13.318394 1.809595e-40 8.722249e-39\n",
       "b0123  3273.5336  2.046491      0.11783836 17.366937 1.468591e-67 1.348306e-65\n",
       "b0150  7194.8108 -1.101286      0.14720093 -7.481517 7.346954e-14 1.628153e-12\n",
       "b0152   424.5647 -1.053181      0.17091003 -6.162194 7.174390e-10 1.257475e-08\n",
       "b0273  3502.7665  1.179236      0.20566736  5.733703 9.826115e-09 1.591996e-07"
      ]
     },
     "metadata": {},
     "output_type": "display_data"
    }
   ],
   "source": [
    "head(deg_FeCl2)"
   ]
  },
  {
   "cell_type": "code",
   "execution_count": null,
   "metadata": {
    "collapsed": true
   },
   "outputs": [],
   "source": []
  }
 ],
 "metadata": {
  "kernelspec": {
   "display_name": "R",
   "language": "R",
   "name": "ir"
  },
  "language_info": {
   "codemirror_mode": "r",
   "file_extension": ".r",
   "mimetype": "text/x-r-source",
   "name": "R",
   "pygments_lexer": "r",
   "version": "3.3.1"
  }
 },
 "nbformat": 4,
 "nbformat_minor": 1
}
