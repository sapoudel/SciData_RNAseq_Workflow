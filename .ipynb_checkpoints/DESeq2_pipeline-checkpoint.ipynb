{
 "cells": [
  {
   "cell_type": "markdown",
   "metadata": {},
   "source": [
    "# Adapted from:  http://www.bioconductor.org/help/workflows/rnaseqGene/"
   ]
  },
  {
   "cell_type": "markdown",
   "metadata": {},
   "source": [
    "#### To learn basics of R: [https://www.datacamp.com/courses/free-introduction-to-r](#https://www.datacamp.com/courses/free-introduction-to-r)"
   ]
  },
  {
   "cell_type": "markdown",
   "metadata": {},
   "source": [
    "# Table of Contents"
   ]
  },
  {
   "cell_type": "markdown",
   "metadata": {},
   "source": [
    "1. [Setup](#Setup)\n",
    "1. [Generate BAM list](#Generate-BAM-list)\n",
    "1. [Load GTF file](#Load-GTF-file)"
   ]
  },
  {
   "cell_type": "markdown",
   "metadata": {},
   "source": [
    "# Setup"
   ]
  },
  {
   "cell_type": "markdown",
   "metadata": {},
   "source": [
    "If this is your first time running this script, uncomment and run the following code block. This will install all necessary R packages, but it may take 5-10 minutes to complete"
   ]
  },
  {
   "cell_type": "code",
   "execution_count": 8,
   "metadata": {
    "collapsed": false
   },
   "outputs": [],
   "source": [
    "# source(\"https://bioconductor.org/biocLite.R\")\n",
    "# biocLite('Rsamtools')\n",
    "# biocLite('GenomicFeatures')\n",
    "# biocLite('GenomicAlignments')\n",
    "# biocLite('BiocParallel')\n",
    "# biocLite('SummarizedExperiment')\n",
    "# biocLite('DESeq2')"
   ]
  },
  {
   "cell_type": "code",
   "execution_count": 9,
   "metadata": {
    "collapsed": false
   },
   "outputs": [],
   "source": [
    "library('Rsamtools')\n",
    "library('GenomicFeatures')\n",
    "library('GenomicAlignments')\n",
    "library('BiocParallel')\n",
    "library('SummarizedExperiment')\n",
    "library('DESeq2')"
   ]
  },
  {
   "cell_type": "markdown",
   "metadata": {},
   "source": [
    "# Load BAM files"
   ]
  },
  {
   "cell_type": "markdown",
   "metadata": {},
   "source": [
    "The `align_reads.ipynb` script stored all our BAM files in `example/aligned_files.csv`"
   ]
  },
  {
   "cell_type": "code",
   "execution_count": 19,
   "metadata": {
    "collapsed": false,
    "scrolled": false
   },
   "outputs": [
    {
     "data": {
      "text/html": [
       "<table>\n",
       "<thead><tr><th></th><th scope=col>sample_id</th><th scope=col>metadata</th><th scope=col>R1</th><th scope=col>R2</th><th scope=col>BAM</th><th scope=col>alignment</th></tr></thead>\n",
       "<tbody>\n",
       "\t<tr><th scope=row>0</th><td>wt_fe2_1                                                                                   </td><td>/media/nucleoid/raw_data/dhkim/fur/2016-02-14_RNA-seq/2016-02-14_RNA-seq.csv               </td><td>/media/nucleoid/raw_data/dhkim/fur/2016-02-14_RNA-seq/WT-Fe2-1_S1_L001_R1_001.fastq.gz     </td><td>/media/nucleoid/raw_data/dhkim/fur/2016-02-14_RNA-seq/WT-Fe2-1_S1_L001_R2_001.fastq.gz     </td><td>/home/anand/Documents/github/RNAseq_workflow/example/bam/wt_fe2_1.bam                      </td><td>93.35                                                                                      </td></tr>\n",
       "\t<tr><th scope=row>1</th><td>wt_fe2_2                                                                                   </td><td>/media/nucleoid/raw_data/dhkim/fur/2016-02-14_RNA-seq/2016-02-14_RNA-seq.csv               </td><td>/media/nucleoid/raw_data/dhkim/fur/2016-02-14_RNA-seq/WT-FE2-2_S2_L001_R1_001.fastq.gz     </td><td>/media/nucleoid/raw_data/dhkim/fur/2016-02-14_RNA-seq/WT-FE2-2_S2_L001_R2_001.fastq.gz     </td><td>/home/anand/Documents/github/RNAseq_workflow/example/bam/wt_fe2_2.bam                      </td><td>92.38                                                                                      </td></tr>\n",
       "\t<tr><th scope=row>2</th><td>wt_dpd_1                                                                                   </td><td>/media/nucleoid/raw_data/dhkim/fur/2016-02-13_RNA-seq/2016-02-13_RNA-seq.csv               </td><td>/media/nucleoid/raw_data/dhkim/fur/2016-02-13_RNA-seq/WTDPD1_S1_L001_R1_001.fastq.gz       </td><td>/media/nucleoid/raw_data/dhkim/fur/2016-02-13_RNA-seq/WTDPD1_S1_L001_R2_001.fastq.gz       </td><td>/home/anand/Documents/github/RNAseq_workflow/example/bam/wt_dpd_1.bam                      </td><td>98.04                                                                                      </td></tr>\n",
       "\t<tr><th scope=row>3</th><td>wt_dpd_2                                                                                   </td><td>/media/nucleoid/raw_data/dhkim/fur/2016-02-13_RNA-seq/2016-02-13_RNA-seq.csv               </td><td>/media/nucleoid/raw_data/dhkim/fur/2016-02-13_RNA-seq/WTDPD2_S1_L001_R1_001.fastq.gz       </td><td>/media/nucleoid/raw_data/dhkim/fur/2016-02-13_RNA-seq/WTDPD2_S1_L001_R2_001.fastq.gz       </td><td>/home/anand/Documents/github/RNAseq_workflow/example/bam/wt_dpd_2.bam                      </td><td>98.30                                                                                      </td></tr>\n",
       "\t<tr><th scope=row>4</th><td>delfur_fe2_1                                                                               </td><td>/media/nucleoid/raw_data/dhkim/fur/2016-02-11_RNA-seq/2016-02-11_RNA-seq.csv               </td><td>/media/nucleoid/raw_data/dhkim/fur/2016-02-11_RNA-seq/del-fur-Fe2-1_S1_L001_R1_001.fastq.gz</td><td>/media/nucleoid/raw_data/dhkim/fur/2016-02-11_RNA-seq/del-fur-Fe2-1_S1_L001_R2_001.fastq.gz</td><td>/home/anand/Documents/github/RNAseq_workflow/example/bam/delfur_fe2_1.bam                  </td><td>92.80                                                                                      </td></tr>\n",
       "\t<tr><th scope=row>5</th><td>delfur_fe2_2                                                                               </td><td>/media/nucleoid/raw_data/dhkim/fur/2016-02-11_RNA-seq/2016-02-11_RNA-seq.csv               </td><td>/media/nucleoid/raw_data/dhkim/fur/2016-02-11_RNA-seq/del-fur-Fe2-2_S2_L001_R1_001.fastq.gz</td><td>/media/nucleoid/raw_data/dhkim/fur/2016-02-11_RNA-seq/del-fur-Fe2-2_S2_L001_R2_001.fastq.gz</td><td>/home/anand/Documents/github/RNAseq_workflow/example/bam/delfur_fe2_2.bam                  </td><td>93.24                                                                                      </td></tr>\n",
       "</tbody>\n",
       "</table>\n"
      ],
      "text/latex": [
       "\\begin{tabular}{r|llllll}\n",
       "  & sample\\_id & metadata & R1 & R2 & BAM & alignment\\\\\n",
       "\\hline\n",
       "\t0 & wt\\_fe2\\_1                                                                                            & /media/nucleoid/raw\\_data/dhkim/fur/2016-02-14\\_RNA-seq/2016-02-14\\_RNA-seq.csv                      & /media/nucleoid/raw\\_data/dhkim/fur/2016-02-14\\_RNA-seq/WT-Fe2-1\\_S1\\_L001\\_R1\\_001.fastq.gz      & /media/nucleoid/raw\\_data/dhkim/fur/2016-02-14\\_RNA-seq/WT-Fe2-1\\_S1\\_L001\\_R2\\_001.fastq.gz      & /home/anand/Documents/github/RNAseq\\_workflow/example/bam/wt\\_fe2\\_1.bam                             & 93.35                                                                                                  \\\\\n",
       "\t1 & wt\\_fe2\\_2                                                                                            & /media/nucleoid/raw\\_data/dhkim/fur/2016-02-14\\_RNA-seq/2016-02-14\\_RNA-seq.csv                      & /media/nucleoid/raw\\_data/dhkim/fur/2016-02-14\\_RNA-seq/WT-FE2-2\\_S2\\_L001\\_R1\\_001.fastq.gz      & /media/nucleoid/raw\\_data/dhkim/fur/2016-02-14\\_RNA-seq/WT-FE2-2\\_S2\\_L001\\_R2\\_001.fastq.gz      & /home/anand/Documents/github/RNAseq\\_workflow/example/bam/wt\\_fe2\\_2.bam                             & 92.38                                                                                                  \\\\\n",
       "\t2 & wt\\_dpd\\_1                                                                                            & /media/nucleoid/raw\\_data/dhkim/fur/2016-02-13\\_RNA-seq/2016-02-13\\_RNA-seq.csv                      & /media/nucleoid/raw\\_data/dhkim/fur/2016-02-13\\_RNA-seq/WTDPD1\\_S1\\_L001\\_R1\\_001.fastq.gz        & /media/nucleoid/raw\\_data/dhkim/fur/2016-02-13\\_RNA-seq/WTDPD1\\_S1\\_L001\\_R2\\_001.fastq.gz        & /home/anand/Documents/github/RNAseq\\_workflow/example/bam/wt\\_dpd\\_1.bam                             & 98.04                                                                                                  \\\\\n",
       "\t3 & wt\\_dpd\\_2                                                                                            & /media/nucleoid/raw\\_data/dhkim/fur/2016-02-13\\_RNA-seq/2016-02-13\\_RNA-seq.csv                      & /media/nucleoid/raw\\_data/dhkim/fur/2016-02-13\\_RNA-seq/WTDPD2\\_S1\\_L001\\_R1\\_001.fastq.gz        & /media/nucleoid/raw\\_data/dhkim/fur/2016-02-13\\_RNA-seq/WTDPD2\\_S1\\_L001\\_R2\\_001.fastq.gz        & /home/anand/Documents/github/RNAseq\\_workflow/example/bam/wt\\_dpd\\_2.bam                             & 98.30                                                                                                  \\\\\n",
       "\t4 & delfur\\_fe2\\_1                                                                                        & /media/nucleoid/raw\\_data/dhkim/fur/2016-02-11\\_RNA-seq/2016-02-11\\_RNA-seq.csv                      & /media/nucleoid/raw\\_data/dhkim/fur/2016-02-11\\_RNA-seq/del-fur-Fe2-1\\_S1\\_L001\\_R1\\_001.fastq.gz & /media/nucleoid/raw\\_data/dhkim/fur/2016-02-11\\_RNA-seq/del-fur-Fe2-1\\_S1\\_L001\\_R2\\_001.fastq.gz & /home/anand/Documents/github/RNAseq\\_workflow/example/bam/delfur\\_fe2\\_1.bam                         & 92.80                                                                                                  \\\\\n",
       "\t5 & delfur\\_fe2\\_2                                                                                        & /media/nucleoid/raw\\_data/dhkim/fur/2016-02-11\\_RNA-seq/2016-02-11\\_RNA-seq.csv                      & /media/nucleoid/raw\\_data/dhkim/fur/2016-02-11\\_RNA-seq/del-fur-Fe2-2\\_S2\\_L001\\_R1\\_001.fastq.gz & /media/nucleoid/raw\\_data/dhkim/fur/2016-02-11\\_RNA-seq/del-fur-Fe2-2\\_S2\\_L001\\_R2\\_001.fastq.gz & /home/anand/Documents/github/RNAseq\\_workflow/example/bam/delfur\\_fe2\\_2.bam                         & 93.24                                                                                                  \\\\\n",
       "\\end{tabular}\n"
      ],
      "text/markdown": [
       "\n",
       "| <!--/--> | sample_id | metadata | R1 | R2 | BAM | alignment | \n",
       "|---|---|---|---|---|---|\n",
       "| 0 | wt_fe2_1                                                                                    | /media/nucleoid/raw_data/dhkim/fur/2016-02-14_RNA-seq/2016-02-14_RNA-seq.csv                | /media/nucleoid/raw_data/dhkim/fur/2016-02-14_RNA-seq/WT-Fe2-1_S1_L001_R1_001.fastq.gz      | /media/nucleoid/raw_data/dhkim/fur/2016-02-14_RNA-seq/WT-Fe2-1_S1_L001_R2_001.fastq.gz      | /home/anand/Documents/github/RNAseq_workflow/example/bam/wt_fe2_1.bam                       | 93.35                                                                                       | \n",
       "| 1 | wt_fe2_2                                                                                    | /media/nucleoid/raw_data/dhkim/fur/2016-02-14_RNA-seq/2016-02-14_RNA-seq.csv                | /media/nucleoid/raw_data/dhkim/fur/2016-02-14_RNA-seq/WT-FE2-2_S2_L001_R1_001.fastq.gz      | /media/nucleoid/raw_data/dhkim/fur/2016-02-14_RNA-seq/WT-FE2-2_S2_L001_R2_001.fastq.gz      | /home/anand/Documents/github/RNAseq_workflow/example/bam/wt_fe2_2.bam                       | 92.38                                                                                       | \n",
       "| 2 | wt_dpd_1                                                                                    | /media/nucleoid/raw_data/dhkim/fur/2016-02-13_RNA-seq/2016-02-13_RNA-seq.csv                | /media/nucleoid/raw_data/dhkim/fur/2016-02-13_RNA-seq/WTDPD1_S1_L001_R1_001.fastq.gz        | /media/nucleoid/raw_data/dhkim/fur/2016-02-13_RNA-seq/WTDPD1_S1_L001_R2_001.fastq.gz        | /home/anand/Documents/github/RNAseq_workflow/example/bam/wt_dpd_1.bam                       | 98.04                                                                                       | \n",
       "| 3 | wt_dpd_2                                                                                    | /media/nucleoid/raw_data/dhkim/fur/2016-02-13_RNA-seq/2016-02-13_RNA-seq.csv                | /media/nucleoid/raw_data/dhkim/fur/2016-02-13_RNA-seq/WTDPD2_S1_L001_R1_001.fastq.gz        | /media/nucleoid/raw_data/dhkim/fur/2016-02-13_RNA-seq/WTDPD2_S1_L001_R2_001.fastq.gz        | /home/anand/Documents/github/RNAseq_workflow/example/bam/wt_dpd_2.bam                       | 98.30                                                                                       | \n",
       "| 4 | delfur_fe2_1                                                                                | /media/nucleoid/raw_data/dhkim/fur/2016-02-11_RNA-seq/2016-02-11_RNA-seq.csv                | /media/nucleoid/raw_data/dhkim/fur/2016-02-11_RNA-seq/del-fur-Fe2-1_S1_L001_R1_001.fastq.gz | /media/nucleoid/raw_data/dhkim/fur/2016-02-11_RNA-seq/del-fur-Fe2-1_S1_L001_R2_001.fastq.gz | /home/anand/Documents/github/RNAseq_workflow/example/bam/delfur_fe2_1.bam                   | 92.80                                                                                       | \n",
       "| 5 | delfur_fe2_2                                                                                | /media/nucleoid/raw_data/dhkim/fur/2016-02-11_RNA-seq/2016-02-11_RNA-seq.csv                | /media/nucleoid/raw_data/dhkim/fur/2016-02-11_RNA-seq/del-fur-Fe2-2_S2_L001_R1_001.fastq.gz | /media/nucleoid/raw_data/dhkim/fur/2016-02-11_RNA-seq/del-fur-Fe2-2_S2_L001_R2_001.fastq.gz | /home/anand/Documents/github/RNAseq_workflow/example/bam/delfur_fe2_2.bam                   | 93.24                                                                                       | \n",
       "\n",
       "\n"
      ],
      "text/plain": [
       "  sample_id   \n",
       "0 wt_fe2_1    \n",
       "1 wt_fe2_2    \n",
       "2 wt_dpd_1    \n",
       "3 wt_dpd_2    \n",
       "4 delfur_fe2_1\n",
       "5 delfur_fe2_2\n",
       "  metadata                                                                    \n",
       "0 /media/nucleoid/raw_data/dhkim/fur/2016-02-14_RNA-seq/2016-02-14_RNA-seq.csv\n",
       "1 /media/nucleoid/raw_data/dhkim/fur/2016-02-14_RNA-seq/2016-02-14_RNA-seq.csv\n",
       "2 /media/nucleoid/raw_data/dhkim/fur/2016-02-13_RNA-seq/2016-02-13_RNA-seq.csv\n",
       "3 /media/nucleoid/raw_data/dhkim/fur/2016-02-13_RNA-seq/2016-02-13_RNA-seq.csv\n",
       "4 /media/nucleoid/raw_data/dhkim/fur/2016-02-11_RNA-seq/2016-02-11_RNA-seq.csv\n",
       "5 /media/nucleoid/raw_data/dhkim/fur/2016-02-11_RNA-seq/2016-02-11_RNA-seq.csv\n",
       "  R1                                                                                         \n",
       "0 /media/nucleoid/raw_data/dhkim/fur/2016-02-14_RNA-seq/WT-Fe2-1_S1_L001_R1_001.fastq.gz     \n",
       "1 /media/nucleoid/raw_data/dhkim/fur/2016-02-14_RNA-seq/WT-FE2-2_S2_L001_R1_001.fastq.gz     \n",
       "2 /media/nucleoid/raw_data/dhkim/fur/2016-02-13_RNA-seq/WTDPD1_S1_L001_R1_001.fastq.gz       \n",
       "3 /media/nucleoid/raw_data/dhkim/fur/2016-02-13_RNA-seq/WTDPD2_S1_L001_R1_001.fastq.gz       \n",
       "4 /media/nucleoid/raw_data/dhkim/fur/2016-02-11_RNA-seq/del-fur-Fe2-1_S1_L001_R1_001.fastq.gz\n",
       "5 /media/nucleoid/raw_data/dhkim/fur/2016-02-11_RNA-seq/del-fur-Fe2-2_S2_L001_R1_001.fastq.gz\n",
       "  R2                                                                                         \n",
       "0 /media/nucleoid/raw_data/dhkim/fur/2016-02-14_RNA-seq/WT-Fe2-1_S1_L001_R2_001.fastq.gz     \n",
       "1 /media/nucleoid/raw_data/dhkim/fur/2016-02-14_RNA-seq/WT-FE2-2_S2_L001_R2_001.fastq.gz     \n",
       "2 /media/nucleoid/raw_data/dhkim/fur/2016-02-13_RNA-seq/WTDPD1_S1_L001_R2_001.fastq.gz       \n",
       "3 /media/nucleoid/raw_data/dhkim/fur/2016-02-13_RNA-seq/WTDPD2_S1_L001_R2_001.fastq.gz       \n",
       "4 /media/nucleoid/raw_data/dhkim/fur/2016-02-11_RNA-seq/del-fur-Fe2-1_S1_L001_R2_001.fastq.gz\n",
       "5 /media/nucleoid/raw_data/dhkim/fur/2016-02-11_RNA-seq/del-fur-Fe2-2_S2_L001_R2_001.fastq.gz\n",
       "  BAM                                                                      \n",
       "0 /home/anand/Documents/github/RNAseq_workflow/example/bam/wt_fe2_1.bam    \n",
       "1 /home/anand/Documents/github/RNAseq_workflow/example/bam/wt_fe2_2.bam    \n",
       "2 /home/anand/Documents/github/RNAseq_workflow/example/bam/wt_dpd_1.bam    \n",
       "3 /home/anand/Documents/github/RNAseq_workflow/example/bam/wt_dpd_2.bam    \n",
       "4 /home/anand/Documents/github/RNAseq_workflow/example/bam/delfur_fe2_1.bam\n",
       "5 /home/anand/Documents/github/RNAseq_workflow/example/bam/delfur_fe2_2.bam\n",
       "  alignment\n",
       "0 93.35    \n",
       "1 92.38    \n",
       "2 98.04    \n",
       "3 98.30    \n",
       "4 92.80    \n",
       "5 93.24    "
      ]
     },
     "metadata": {},
     "output_type": "display_data"
    }
   ],
   "source": [
    "sampleTable <- read.csv('example/aligned_files.csv',row.names=1)\n",
    "head(sampleTable)"
   ]
  },
  {
   "cell_type": "markdown",
   "metadata": {},
   "source": [
    "Put filenames into a character vector and check that they all exist"
   ]
  },
  {
   "cell_type": "code",
   "execution_count": 23,
   "metadata": {
    "collapsed": false
   },
   "outputs": [
    {
     "data": {
      "text/html": [
       "TRUE"
      ],
      "text/latex": [
       "TRUE"
      ],
      "text/markdown": [
       "TRUE"
      ],
      "text/plain": [
       "[1] TRUE"
      ]
     },
     "metadata": {},
     "output_type": "display_data"
    }
   ],
   "source": [
    "filenames <- as.character(sampleTable$BAM)\n",
    "all(file.exists(filenames))"
   ]
  },
  {
   "cell_type": "markdown",
   "metadata": {},
   "source": [
    "The BamFileList function prepares the BAM files to be processed. The `yieldSize` argument states how many reads can be processed at once (default 2,000,000). This can be increased to speed alignment time, or decreased to reduce memory load."
   ]
  },
  {
   "cell_type": "code",
   "execution_count": 24,
   "metadata": {
    "collapsed": false,
    "scrolled": true
   },
   "outputs": [
    {
     "data": {
      "text/plain": [
       "BamFileList of length 8\n",
       "names(8): wt_fe2_1.bam wt_fe2_2.bam ... delfur_dpd_1.bam delfur_dpd_2.bam"
      ]
     },
     "metadata": {},
     "output_type": "display_data"
    }
   ],
   "source": [
    "(bamfiles <- BamFileList(filenames, yieldSize=2000000))"
   ]
  },
  {
   "cell_type": "markdown",
   "metadata": {},
   "source": [
    "# Load GTF File"
   ]
  },
  {
   "cell_type": "markdown",
   "metadata": {},
   "source": [
    "`makeTxDbFromGFF` loads the GFF file"
   ]
  },
  {
   "cell_type": "code",
   "execution_count": 26,
   "metadata": {
    "collapsed": false
   },
   "outputs": [
    {
     "name": "stderr",
     "output_type": "stream",
     "text": [
      "Import genomic features from the file as a GRanges object ... OK\n",
      "Prepare the 'metadata' data frame ... OK\n",
      "Make the TxDb object ... Warning message:\n",
      "“Named parameters not used in query: internal_chrom_id, chrom, length, is_circular”Warning message:\n",
      "“Named parameters not used in query: internal_id, name, type, chrom, strand, start, end”Warning message:\n",
      "“Named parameters not used in query: internal_id, name, chrom, strand, start, end”Warning message:\n",
      "“Named parameters not used in query: internal_tx_id, exon_rank, internal_exon_id, internal_cds_id”Warning message:\n",
      "“Named parameters not used in query: gene_id, internal_tx_id”OK\n"
     ]
    }
   ],
   "source": [
    "GFF_FILE <- \"/home//anand//Documents//ref//NC_000913.3.gff\"\n",
    "txdb <- makeTxDbFromGFF(GFF_FILE, format=\"gtf\")"
   ]
  },
  {
   "cell_type": "markdown",
   "metadata": {},
   "source": [
    "# Count reads"
   ]
  },
  {
   "cell_type": "code",
   "execution_count": 4,
   "metadata": {
    "collapsed": false
   },
   "outputs": [
    {
     "ename": "ERROR",
     "evalue": "Error in eval(expr, envir, enclos): could not find function \"register\"\n",
     "output_type": "error",
     "traceback": [
      "Error in eval(expr, envir, enclos): could not find function \"register\"\nTraceback:\n"
     ]
    }
   ],
   "source": [
    "register(MulticoreParam(workers = 6))"
   ]
  },
  {
   "cell_type": "code",
   "execution_count": 31,
   "metadata": {
    "collapsed": false
   },
   "outputs": [],
   "source": [
    "se <- summarizeOverlaps(features=ebg, reads=bamfiles,\n",
    "                        mode=\"Union\",\n",
    "                        singleEnd=FALSE,\n",
    "                        ignore.strand=TRUE,\n",
    "                        fragments=FALSE)"
   ]
  },
  {
   "cell_type": "code",
   "execution_count": 6,
   "metadata": {
    "collapsed": false
   },
   "outputs": [
    {
     "ename": "ERROR",
     "evalue": "Error in eval(expr, envir, enclos): object 'se' not found\n",
     "output_type": "error",
     "traceback": [
      "Error in eval(expr, envir, enclos): object 'se' not found\nTraceback:\n"
     ]
    }
   ],
   "source": [
    "dim(se)"
   ]
  },
  {
   "cell_type": "code",
   "execution_count": 33,
   "metadata": {
    "collapsed": false
   },
   "outputs": [],
   "source": [
    "colData(se) <- DataFrame(sampleTable)"
   ]
  },
  {
   "cell_type": "code",
   "execution_count": 34,
   "metadata": {
    "collapsed": false
   },
   "outputs": [
    {
     "data": {
      "text/html": [
       "<ol class=list-inline>\n",
       "\t<li>4.4</li>\n",
       "\t<li>3</li>\n",
       "\t<li>7.6</li>\n",
       "\t<li>7.2</li>\n",
       "\t<li>8.2</li>\n",
       "\t<li>8.6</li>\n",
       "</ol>\n"
      ],
      "text/latex": [
       "\\begin{enumerate*}\n",
       "\\item 4.4\n",
       "\\item 3\n",
       "\\item 7.6\n",
       "\\item 7.2\n",
       "\\item 8.2\n",
       "\\item 8.6\n",
       "\\end{enumerate*}\n"
      ],
      "text/markdown": [
       "1. 4.4\n",
       "2. 3\n",
       "3. 7.6\n",
       "4. 7.2\n",
       "5. 8.2\n",
       "6. 8.6\n",
       "\n",
       "\n"
      ],
      "text/plain": [
       "[1] 4.4 3.0 7.6 7.2 8.2 8.6"
      ]
     },
     "metadata": {},
     "output_type": "display_data"
    }
   ],
   "source": [
    "head(round(colSums(assay(se)) / 1e6, 1))"
   ]
  },
  {
   "cell_type": "code",
   "execution_count": 44,
   "metadata": {
    "collapsed": false
   },
   "outputs": [],
   "source": [
    "se <- se[,1:162]"
   ]
  },
  {
   "cell_type": "code",
   "execution_count": 45,
   "metadata": {
    "collapsed": false
   },
   "outputs": [],
   "source": [
    "save(se,file='se.rda')"
   ]
  },
  {
   "cell_type": "markdown",
   "metadata": {},
   "source": [
    "# Run DESeq"
   ]
  },
  {
   "cell_type": "markdown",
   "metadata": {},
   "source": [
    "### Create DESeq Data Set"
   ]
  },
  {
   "cell_type": "code",
   "execution_count": 3,
   "metadata": {
    "collapsed": false
   },
   "outputs": [],
   "source": [
    "load('se.rda')"
   ]
  },
  {
   "cell_type": "code",
   "execution_count": 4,
   "metadata": {
    "collapsed": false
   },
   "outputs": [
    {
     "data": {
      "text/plain": [
       "class: RangedSummarizedExperiment \n",
       "dim: 4319 162 \n",
       "metadata(0):\n",
       "assays(1): counts\n",
       "rownames(4319): b0001 b0002 ... b4706 b4708\n",
       "rowData names(0):\n",
       "colnames(162): wt_dhk__wt_glc__1 wt_dhk__wt_glc__2 ... dki__ins82__1\n",
       "  dki__ins82_rpoBE672K__1\n",
       "colData names(43): creator creator.email ... doi GEO"
      ]
     },
     "metadata": {},
     "output_type": "display_data"
    }
   ],
   "source": [
    "se"
   ]
  },
  {
   "cell_type": "code",
   "execution_count": 5,
   "metadata": {
    "collapsed": false
   },
   "outputs": [
    {
     "data": {
      "text/plain": [
       "DataFrame with 4319 rows and 0 columns"
      ]
     },
     "metadata": {},
     "output_type": "display_data"
    }
   ],
   "source": [
    "mcols(se)"
   ]
  },
  {
   "cell_type": "code",
   "execution_count": 6,
   "metadata": {
    "collapsed": false
   },
   "outputs": [],
   "source": [
    "readcounts <- assay(se)\n",
    "colnames(readcounts) <- colData(se)$name"
   ]
  },
  {
   "cell_type": "code",
   "execution_count": 7,
   "metadata": {
    "collapsed": false
   },
   "outputs": [],
   "source": [
    "dds <- DESeqDataSet(se, design = ~1)"
   ]
  },
  {
   "cell_type": "code",
   "execution_count": 8,
   "metadata": {
    "collapsed": false
   },
   "outputs": [
    {
     "data": {
      "text/html": [
       "<table>\n",
       "<thead><tr><th></th><th scope=col>wt_dhk__wt_glc__1</th><th scope=col>wt_dhk__wt_glc__2</th><th scope=col>fur__delfur_fe2__1</th><th scope=col>fur__delfur_fe2__2</th><th scope=col>fur__delfur_dpd__1</th><th scope=col>fur__delfur_dpd__2</th><th scope=col>fur__wt_fe__1</th><th scope=col>fur__wt_fe__2</th><th scope=col>fur__wt_dpd__1</th><th scope=col>fur__wt_dpd__2</th><th scope=col>⋯</th><th scope=col>misc__wt_no_te__1</th><th scope=col>misc__wt_no_te__2</th><th scope=col>lipidome__del_fabr__1</th><th scope=col>lipidome__del_fabr__2</th><th scope=col>lipidome__del_fadr__1</th><th scope=col>lipidome__del_fadr__2</th><th scope=col>sulfur__del_cbl__1</th><th scope=col>sulfur__del_cbl__2</th><th scope=col>dki__ins82__1</th><th scope=col>dki__ins82_rpoBE672K__1</th></tr></thead>\n",
       "<tbody>\n",
       "\t<tr><th scope=row>b0001</th><td>5073.896921</td><td>4452.320846</td><td>5751.588669</td><td>6934.373844</td><td> 435.793011</td><td> 396.829339</td><td>4648.307607</td><td>5639.709690</td><td> 552.438799</td><td> 541.425573</td><td>⋯          </td><td> 713.276477</td><td> 449.486834</td><td> 642.633720</td><td> 704.207135</td><td> 676.978544</td><td> 992.288632</td><td> 775.308563</td><td> 562.439771</td><td> 667.323869</td><td> 799.737728</td></tr>\n",
       "\t<tr><th scope=row>b0002</th><td>1624.844271</td><td>1702.627914</td><td>2100.267863</td><td>2080.934086</td><td> 865.719190</td><td>1075.226965</td><td>2027.529498</td><td>1680.430786</td><td>2807.458703</td><td>3157.705639</td><td>⋯          </td><td>1667.911865</td><td>2224.937938</td><td>2521.251929</td><td>2563.973117</td><td>2084.036740</td><td>2114.555772</td><td>2253.457908</td><td>2210.050546</td><td>2645.147464</td><td>2588.917375</td></tr>\n",
       "\t<tr><th scope=row>b0003</th><td> 990.357349</td><td>1022.031680</td><td>1584.476962</td><td>1546.794746</td><td> 613.999082</td><td> 967.119513</td><td>1581.940136</td><td>1418.113010</td><td>2148.498418</td><td>2878.043018</td><td>⋯          </td><td>1148.345368</td><td>1327.666683</td><td>2557.108609</td><td>2394.048894</td><td>2093.943197</td><td>1897.524672</td><td>2355.301989</td><td>2247.843266</td><td>1634.134990</td><td>2342.682135</td></tr>\n",
       "\t<tr><th scope=row>b0004</th><td>1231.413206</td><td>1269.032718</td><td> 999.149187</td><td> 986.979517</td><td> 345.221922</td><td> 454.313392</td><td>1255.084926</td><td>1054.761664</td><td>1120.932150</td><td>1438.259367</td><td>⋯          </td><td> 918.411403</td><td>1258.870238</td><td>1500.830996</td><td>1466.012035</td><td>1195.868330</td><td>1131.035633</td><td>1300.548375</td><td>1256.060435</td><td>1713.556915</td><td>1592.554009</td></tr>\n",
       "\t<tr><th scope=row>b0005</th><td> 213.229062</td><td> 234.877411</td><td> 176.045556</td><td> 155.146977</td><td>  65.986738</td><td>  66.915014</td><td> 237.334651</td><td> 202.447408</td><td> 103.438470</td><td>  96.012324</td><td>⋯          </td><td>  83.214766</td><td> 136.631931</td><td> 243.966074</td><td> 252.211651</td><td> 155.809108</td><td> 210.998196</td><td> 199.035284</td><td> 206.508487</td><td> 444.580072</td><td> 228.066640</td></tr>\n",
       "\t<tr><th scope=row>b0006</th><td> 118.427092</td><td> 115.670440</td><td> 111.893353</td><td> 112.687671</td><td>  97.117756</td><td> 110.771704</td><td> 114.198789</td><td> 120.647106</td><td> 104.328596</td><td> 101.626339</td><td>⋯          </td><td> 136.572858</td><td> 137.494440</td><td> 138.809858</td><td> 123.728168</td><td> 131.089227</td><td> 132.381533</td><td> 118.726031</td><td> 120.309594</td><td> 183.295114</td><td> 107.929305</td></tr>\n",
       "\t<tr><th scope=row>b0007</th><td>  15.372105</td><td>  14.197930</td><td>  17.114244</td><td>  14.980040</td><td>  17.976275</td><td>  16.245894</td><td>  15.676200</td><td>  16.582856</td><td>  16.455867</td><td>  16.858309</td><td>⋯          </td><td>  20.184099</td><td>  15.478418</td><td>  11.336873</td><td>   9.437435</td><td>  12.557257</td><td>  15.108419</td><td>  11.080337</td><td>  11.990425</td><td>  12.489022</td><td>  11.176774</td></tr>\n",
       "\t<tr><th scope=row>b0008</th><td>2298.594936</td><td>2318.806306</td><td>2110.331892</td><td>2087.311944</td><td>1602.949044</td><td>1501.580654</td><td>2191.872327</td><td>2276.042668</td><td>1998.191438</td><td>1634.016470</td><td>⋯          </td><td>1947.486943</td><td>2177.406475</td><td>2616.425469</td><td>2623.187789</td><td>2300.829419</td><td>2391.960662</td><td>2566.971740</td><td>2571.843958</td><td>2902.684139</td><td>2165.837169</td></tr>\n",
       "\t<tr><th scope=row>b0009</th><td>  68.196581</td><td>  74.695916</td><td>  79.316821</td><td>  65.601355</td><td>  66.366288</td><td>  73.352792</td><td>  74.618032</td><td>  77.637261</td><td>  77.389504</td><td>  75.250503</td><td>⋯          </td><td>  65.243955</td><td>  71.173073</td><td>  77.494996</td><td>  98.219265</td><td>  82.020085</td><td>  73.464366</td><td>  84.023871</td><td>  75.845738</td><td> 118.658544</td><td>  83.489330</td></tr>\n",
       "\t<tr><th scope=row>b0010</th><td>  45.946680</td><td>  52.225174</td><td>  36.405432</td><td>  33.309654</td><td>  37.137607</td><td>  31.475081</td><td>  43.807171</td><td>  48.869558</td><td>  29.753537</td><td>  31.033158</td><td>⋯          </td><td>  35.562845</td><td>  36.478072</td><td>  40.594291</td><td>  41.324633</td><td>  29.768381</td><td>  29.361226</td><td>  30.262844</td><td>  39.324947</td><td>  54.686919</td><td>  46.555063</td></tr>\n",
       "\t<tr><th scope=row>b0011</th><td>   3.173939</td><td>   5.593884</td><td>   6.605340</td><td>   6.149474</td><td>   6.333832</td><td>   4.487894</td><td>   5.106619</td><td>   4.039309</td><td>   6.824587</td><td>   5.895262</td><td>⋯          </td><td>   5.282768</td><td>   6.402201</td><td>   5.265034</td><td>   6.632024</td><td>   3.002942</td><td>   7.879974</td><td>   6.076290</td><td>   4.675368</td><td>   4.936772</td><td>   5.839516</td></tr>\n",
       "\t<tr><th scope=row>b0013</th><td>   4.471658</td><td>   9.851297</td><td>   7.231049</td><td>   6.235305</td><td>   4.990130</td><td>   5.645398</td><td>   8.327022</td><td>   7.508760</td><td>   9.087287</td><td>   9.123620</td><td>⋯          </td><td>   7.685414</td><td>   7.714345</td><td>   8.113145</td><td>   9.927617</td><td>  10.576865</td><td>   6.106009</td><td>   8.374582</td><td>   7.110935</td><td>   4.636837</td><td>   9.141224</td></tr>\n",
       "\t<tr><th scope=row>b0014</th><td>1042.630716</td><td>1044.219555</td><td>1793.201503</td><td>1850.613494</td><td>1195.364344</td><td>1181.925851</td><td> 940.199773</td><td> 983.950413</td><td>1710.688739</td><td>1656.769489</td><td>⋯          </td><td>1505.768410</td><td>1498.683783</td><td>3144.769965</td><td>3139.096449</td><td>2370.153801</td><td>2216.189613</td><td>2669.128161</td><td>2693.102060</td><td>2063.155476</td><td>1990.997813</td></tr>\n",
       "\t<tr><th scope=row>b0015</th><td> 215.108675</td><td> 256.748715</td><td> 348.877845</td><td> 371.114267</td><td> 272.988951</td><td> 224.242484</td><td> 239.759967</td><td> 219.697903</td><td> 292.173421</td><td> 293.712864</td><td>⋯          </td><td> 288.409571</td><td> 300.730516</td><td> 548.712335</td><td> 579.751400</td><td> 418.941251</td><td> 414.301453</td><td> 495.427900</td><td> 445.646810</td><td> 631.121829</td><td> 426.828343</td></tr>\n",
       "\t<tr><th scope=row>b0016</th><td>  78.633344</td><td>  87.065484</td><td>  89.602695</td><td>  94.247781</td><td>  77.667694</td><td>  67.279561</td><td>  83.639178</td><td>  87.570742</td><td>  72.540938</td><td>  73.038100</td><td>⋯          </td><td>  76.510648</td><td>  79.154874</td><td> 104.545954</td><td> 105.351847</td><td>  97.332791</td><td>  91.643953</td><td>  96.481437</td><td> 107.483097</td><td> 128.855365</td><td> 100.362681</td></tr>\n",
       "\t<tr><th scope=row>b0018</th><td>   6.453175</td><td>   6.318526</td><td>   6.654413</td><td>   6.946089</td><td>  10.166677</td><td>   3.801948</td><td>   2.563618</td><td>   1.520856</td><td>   6.768577</td><td>   2.421435</td><td>⋯          </td><td>   2.334955</td><td>   3.425473</td><td>   0.000000</td><td>   1.123672</td><td>   2.543962</td><td>   0.000000</td><td>   5.371375</td><td>   0.000000</td><td>   2.230516</td><td>   9.893967</td></tr>\n",
       "\t<tr><th scope=row>b0019</th><td>  78.495209</td><td>  61.067361</td><td>  65.461129</td><td>  72.323015</td><td> 154.888049</td><td> 134.225134</td><td>  58.931930</td><td>  58.108299</td><td> 137.661055</td><td> 130.355284</td><td>⋯          </td><td> 102.781334</td><td>  94.059738</td><td>  41.093634</td><td>  42.425365</td><td>  51.241876</td><td>  64.638723</td><td>  47.223340</td><td>  47.874486</td><td>  54.196008</td><td>  39.718932</td></tr>\n",
       "\t<tr><th scope=row>b0020</th><td>  74.311117</td><td>  75.332919</td><td>  63.610771</td><td>  62.873348</td><td>  71.873537</td><td>  68.356618</td><td>  65.006222</td><td>  63.154103</td><td>  50.256249</td><td>  65.484858</td><td>⋯          </td><td>  81.297796</td><td>  73.313434</td><td>  32.685150</td><td>  31.891481</td><td>  44.682006</td><td>  39.010648</td><td>  31.864040</td><td>  39.201954</td><td>  49.554596</td><td>  31.456343</td></tr>\n",
       "\t<tr><th scope=row>b0021</th><td>  13.930764</td><td>  20.460137</td><td>  10.110395</td><td>  11.608909</td><td>  10.147663</td><td>  11.573625</td><td>  10.175785</td><td>  13.979832</td><td>   7.305819</td><td>   9.864350</td><td>⋯          </td><td>   8.455157</td><td>   8.587424</td><td>   7.454454</td><td>   6.572927</td><td>   9.566303</td><td>   7.586620</td><td>   6.732833</td><td>   8.725810</td><td>   6.057729</td><td>   9.645802</td></tr>\n",
       "\t<tr><th scope=row>b0022</th><td>  31.132103</td><td>  31.284686</td><td>  16.128270</td><td>  12.987157</td><td>   7.314053</td><td>  12.411723</td><td>  24.409898</td><td>  22.590481</td><td>   8.593079</td><td>  12.450283</td><td>⋯          </td><td>   7.707318</td><td>   5.218591</td><td>  11.891468</td><td>   7.703443</td><td>   7.751276</td><td>  13.017603</td><td>  10.910808</td><td>  10.422526</td><td>  28.034449</td><td>  10.886142</td></tr>\n",
       "\t<tr><th scope=row>b0023</th><td>6010.823807</td><td>4636.045371</td><td>5004.116150</td><td>4853.907853</td><td>1803.830674</td><td>1833.192763</td><td>6414.534256</td><td>6506.412630</td><td>1470.386095</td><td>1349.607194</td><td>⋯          </td><td>2220.448219</td><td>2916.555537</td><td>3606.461231</td><td>3754.151137</td><td>2940.113964</td><td>3178.953870</td><td>3385.824357</td><td>3279.814637</td><td>4156.718632</td><td>4632.168716</td></tr>\n",
       "\t<tr><th scope=row>b0024</th><td> 246.535719</td><td> 201.496349</td><td> 291.839998</td><td> 330.068385</td><td>  33.585977</td><td>  32.296808</td><td> 214.525277</td><td> 297.562448</td><td>  23.802829</td><td>  35.996828</td><td>⋯          </td><td>  24.633775</td><td>  13.141361</td><td>  33.153260</td><td>  68.973051</td><td>  58.557370</td><td>  50.195433</td><td>  83.284799</td><td>  50.419592</td><td>  25.671215</td><td>  32.685070</td></tr>\n",
       "\t<tr><th scope=row>b0025</th><td> 307.315053</td><td> 310.328058</td><td> 342.458806</td><td> 346.307363</td><td> 341.225164</td><td> 419.274060</td><td> 338.148786</td><td> 357.822973</td><td> 407.525640</td><td> 447.396012</td><td>⋯          </td><td> 366.763737</td><td> 354.872477</td><td> 501.750254</td><td> 469.915484</td><td> 449.400385</td><td> 421.816749</td><td> 479.745063</td><td> 504.994263</td><td> 412.744860</td><td> 419.148875</td></tr>\n",
       "\t<tr><th scope=row>b0026</th><td> 611.392124</td><td> 657.378921</td><td> 623.271049</td><td> 619.479178</td><td> 691.373326</td><td> 724.251055</td><td> 617.176633</td><td> 595.454098</td><td> 903.080019</td><td> 931.373325</td><td>⋯          </td><td> 725.318114</td><td> 761.418574</td><td>1031.463421</td><td>1002.058139</td><td> 873.451324</td><td> 842.288099</td><td> 971.882474</td><td> 933.319058</td><td> 923.908663</td><td> 807.821620</td></tr>\n",
       "\t<tr><th scope=row>b0027</th><td> 220.988708</td><td> 207.641914</td><td> 189.664181</td><td> 204.424567</td><td> 253.969925</td><td> 268.712970</td><td> 207.753821</td><td> 209.944093</td><td> 313.611874</td><td> 344.563813</td><td>⋯          </td><td> 301.631307</td><td> 338.557833</td><td> 374.742231</td><td> 357.554352</td><td> 345.224815</td><td> 288.524603</td><td> 353.794215</td><td> 351.383113</td><td> 425.093236</td><td> 362.902911</td></tr>\n",
       "\t<tr><th scope=row>b0028</th><td> 190.204106</td><td> 160.369366</td><td> 208.305521</td><td> 213.890813</td><td> 173.611227</td><td> 148.905818</td><td> 210.792186</td><td> 236.228438</td><td> 195.014311</td><td> 203.349510</td><td>⋯          </td><td> 188.258120</td><td> 181.628560</td><td> 226.934193</td><td> 221.849297</td><td> 203.522565</td><td> 208.377257</td><td> 200.620663</td><td> 220.680471</td><td> 254.103285</td><td> 183.612431</td></tr>\n",
       "\t<tr><th scope=row>b0029</th><td> 143.980812</td><td> 146.694995</td><td> 131.934282</td><td> 126.660657</td><td> 174.257415</td><td> 175.995278</td><td> 152.844934</td><td> 152.697487</td><td> 206.774578</td><td> 214.539242</td><td>⋯          </td><td> 143.007001</td><td> 152.855741</td><td> 217.733966</td><td> 211.940893</td><td> 200.163277</td><td> 186.306749</td><td> 210.520855</td><td> 205.578674</td><td> 228.398309</td><td> 190.537390</td></tr>\n",
       "\t<tr><th scope=row>b0030</th><td>  30.720681</td><td>  30.200966</td><td>  25.222179</td><td>  26.618631</td><td>  11.969647</td><td>  13.261754</td><td>  28.050064</td><td>  34.157005</td><td>  11.043889</td><td>  10.737186</td><td>⋯          </td><td>  20.079933</td><td>  20.515443</td><td>  29.795436</td><td>  35.978369</td><td>  21.681995</td><td>  26.079616</td><td>  29.901241</td><td>  31.020249</td><td>  55.233282</td><td>  36.211872</td></tr>\n",
       "\t<tr><th scope=row>b0031</th><td> 497.716456</td><td> 526.074846</td><td> 421.239840</td><td> 446.665050</td><td> 171.885746</td><td> 173.364475</td><td> 646.084614</td><td> 562.648456</td><td> 235.136090</td><td> 174.291075</td><td>⋯          </td><td> 298.718198</td><td> 401.053672</td><td> 674.396532</td><td> 693.711341</td><td> 482.641746</td><td> 450.734497</td><td> 531.104778</td><td> 523.237854</td><td> 859.502219</td><td> 708.558718</td></tr>\n",
       "\t<tr><th scope=row>b0032</th><td>1627.629083</td><td>1629.992823</td><td>1277.991290</td><td>1238.308094</td><td> 241.668299</td><td> 320.884414</td><td>2123.124087</td><td>2022.511408</td><td> 115.598958</td><td>  53.202605</td><td>⋯          </td><td> 310.456970</td><td> 866.282295</td><td>1859.744426</td><td>1824.187271</td><td>1167.137484</td><td>1173.673437</td><td>1426.555497</td><td>1445.105376</td><td>1046.660076</td><td>1148.295733</td></tr>\n",
       "\t<tr><th scope=row>⋮</th><td>⋮</td><td>⋮</td><td>⋮</td><td>⋮</td><td>⋮</td><td>⋮</td><td>⋮</td><td>⋮</td><td>⋮</td><td>⋮</td><td>⋱</td><td>⋮</td><td>⋮</td><td>⋮</td><td>⋮</td><td>⋮</td><td>⋮</td><td>⋮</td><td>⋮</td><td>⋮</td><td>⋮</td></tr>\n",
       "\t<tr><th scope=row>b4670</th><td>  4.1261208</td><td>  6.060041 </td><td>  2.320795 </td><td>  2.422520 </td><td> 10.8341862</td><td>  4.1673300</td><td> 12.293712 </td><td>  2.9172789</td><td> 10.819468 </td><td>  4.6447520</td><td>⋯          </td><td>  5.9718243</td><td>  0.000000 </td><td>  0.000000 </td><td>  4.310816 </td><td>  0.000000 </td><td>  4.097586 </td><td>  3.434425 </td><td>  0.0000000</td><td>  4.2785358</td><td>  0.000000 </td></tr>\n",
       "\t<tr><th scope=row>b4671</th><td>  2.2032684</td><td>  6.471888 </td><td>  1.239260 </td><td>  0.000000 </td><td>  0.0000000</td><td>  1.1126367</td><td> 52.516829 </td><td> 46.7331086</td><td>  1.155477 </td><td>  7.4406222</td><td>⋯          </td><td> 54.2102497</td><td>  2.339077 </td><td>  2.284283 </td><td>  0.000000 </td><td>  2.605708 </td><td>  2.188032 </td><td>  0.000000 </td><td>  0.0000000</td><td>  0.0000000</td><td>  0.000000 </td></tr>\n",
       "\t<tr><th scope=row>b4672</th><td>  0.0000000</td><td>  6.288721 </td><td>  3.612559 </td><td>  8.798776 </td><td>  1.1243023</td><td>  2.1622939</td><td>  6.378813 </td><td>  7.5684122</td><td>  1.122775 </td><td>  0.0000000</td><td>⋯          </td><td>  1.5492940</td><td>  2.272877 </td><td>  2.219634 </td><td>  6.710232 </td><td>  2.531962 </td><td>  2.126106 </td><td>  5.346038 </td><td>  2.8669708</td><td>  0.0000000</td><td>  0.000000 </td></tr>\n",
       "\t<tr><th scope=row>b4673</th><td>  3.3871141</td><td> 14.923980 </td><td>  0.000000 </td><td>  0.000000 </td><td>  7.1149879</td><td>  5.1314139</td><td>  4.036741 </td><td>  2.3947812</td><td> 10.657983 </td><td>  3.8128561</td><td>⋯          </td><td>  0.0000000</td><td>  0.000000 </td><td>  0.000000 </td><td>  0.000000 </td><td>  0.000000 </td><td>  0.000000 </td><td>  0.000000 </td><td>  0.0000000</td><td>  0.0000000</td><td>  3.462068 </td></tr>\n",
       "\t<tr><th scope=row>b4674</th><td>  0.0000000</td><td>  0.000000 </td><td>  0.000000 </td><td>  3.977272 </td><td>  0.0000000</td><td>  0.0000000</td><td>  0.000000 </td><td>  0.0000000</td><td>  0.000000 </td><td>  3.8128561</td><td>⋯          </td><td>  0.0000000</td><td>  0.000000 </td><td>  0.000000 </td><td>  0.000000 </td><td>  0.000000 </td><td>  0.000000 </td><td>  0.000000 </td><td>  0.0000000</td><td>  0.0000000</td><td>  0.000000 </td></tr>\n",
       "\t<tr><th scope=row>b4675</th><td>  5.9720170</td><td>  0.000000 </td><td>  6.718091 </td><td> 10.518838 </td><td>  4.7043177</td><td>  0.0000000</td><td>  7.117412 </td><td>  6.3335660</td><td>  1.565976 </td><td>  3.3613337</td><td>⋯          </td><td>  4.3217150</td><td>  0.000000 </td><td>  0.000000 </td><td>  0.000000 </td><td>  0.000000 </td><td>  0.000000 </td><td>  0.000000 </td><td>  0.0000000</td><td>  0.0000000</td><td>  0.000000 </td></tr>\n",
       "\t<tr><th scope=row>b4676</th><td>  9.0774658</td><td>  6.666045 </td><td> 19.146560 </td><td> 26.647723 </td><td>  5.9588024</td><td>  9.1681261</td><td> 14.875392 </td><td> 20.8585441</td><td>  8.330990 </td><td>  5.1092272</td><td>⋯          </td><td>  1.6422517</td><td>  0.000000 </td><td>  2.352812 </td><td>  7.112846 </td><td>  0.000000 </td><td>  0.000000 </td><td>  5.666801 </td><td>  0.0000000</td><td>  0.0000000</td><td>  0.000000 </td></tr>\n",
       "\t<tr><th scope=row>b4677</th><td>  3.3871141</td><td>  4.974660 </td><td>  1.905130 </td><td>  5.965908 </td><td>  1.7787470</td><td>  0.0000000</td><td>  2.018371 </td><td>  0.0000000</td><td>  0.000000 </td><td>  0.0000000</td><td>⋯          </td><td>  0.0000000</td><td>  0.000000 </td><td>  0.000000 </td><td>  0.000000 </td><td>  0.000000 </td><td>  0.000000 </td><td>  0.000000 </td><td>  0.0000000</td><td>  0.0000000</td><td>  0.000000 </td></tr>\n",
       "\t<tr><th scope=row>b4678</th><td>109.9224373</td><td>124.988337 </td><td>231.354273 </td><td>285.213908 </td><td>  9.3106288</td><td>  8.9532482</td><td>308.495339 </td><td>283.2951305</td><td> 11.157576 </td><td>  3.9915838</td><td>⋯          </td><td> 17.9621278</td><td> 26.351166 </td><td> 29.410150 </td><td> 55.569109 </td><td> 79.677671 </td><td> 59.863175 </td><td> 76.737927 </td><td> 40.3615738</td><td>150.7515353</td><td>148.598454 </td></tr>\n",
       "\t<tr><th scope=row>b4679</th><td>288.3430308</td><td>423.489893 </td><td>124.640355 </td><td>175.561468 </td><td>775.3453477</td><td>671.4304121</td><td>136.821785 </td><td> 96.2702036</td><td>604.871897 </td><td>784.4166520</td><td>⋯          </td><td>341.9747622</td><td>260.765821 </td><td> 91.344465 </td><td> 72.523135 </td><td> 78.937630 </td><td>135.220349 </td><td> 60.001420 </td><td> 78.6561881</td><td> 35.9900365</td><td> 27.289243 </td></tr>\n",
       "\t<tr><th scope=row>b4680</th><td> 87.0441925</td><td> 59.355192 </td><td>141.632091 </td><td>158.791225 </td><td> 13.0603888</td><td> 10.9891923</td><td>127.820925 </td><td>127.4810916</td><td> 16.303308 </td><td> 12.2481475</td><td>⋯          </td><td> 62.9904755</td><td> 39.604100 </td><td> 77.352723 </td><td> 58.461747 </td><td> 69.854396 </td><td> 98.791123 </td><td> 51.751605 </td><td> 56.2004831</td><td> 64.4710876</td><td> 69.905320 </td></tr>\n",
       "\t<tr><th scope=row>b4682</th><td>  0.0000000</td><td>  0.000000 </td><td>  0.000000 </td><td>  1.876600 </td><td>  2.5178038</td><td>  0.0000000</td><td>  3.809319 </td><td>  0.0000000</td><td>  0.000000 </td><td>  0.0000000</td><td>⋯          </td><td>  1.1565153</td><td>  0.000000 </td><td>  0.000000 </td><td>  0.000000 </td><td>  0.000000 </td><td>  0.000000 </td><td>  0.000000 </td><td>  0.0000000</td><td>  0.0000000</td><td>  0.000000 </td></tr>\n",
       "\t<tr><th scope=row>b4683</th><td>  0.0000000</td><td>  0.000000 </td><td>  0.000000 </td><td>  1.624861 </td><td>  0.0000000</td><td>  0.0000000</td><td>  1.649157 </td><td>  0.0000000</td><td>  0.000000 </td><td>  0.0000000</td><td>⋯          </td><td>  0.0000000</td><td>  0.000000 </td><td>  0.000000 </td><td>  0.000000 </td><td>  0.000000 </td><td>  0.000000 </td><td>  0.000000 </td><td>  0.0000000</td><td>  0.0000000</td><td>  0.000000 </td></tr>\n",
       "\t<tr><th scope=row>b4684</th><td>  5.3607081</td><td>  7.873281 </td><td>  3.015206 </td><td>  4.196492 </td><td>  0.9383941</td><td>  1.8047492</td><td>  3.194429 </td><td>  2.5267770</td><td>  3.748477 </td><td>  1.0057534</td><td>⋯          </td><td>  0.0000000</td><td>  1.897047 </td><td>  0.000000 </td><td>  0.000000 </td><td>  0.000000 </td><td>  1.774545 </td><td>  0.000000 </td><td>  1.1964524</td><td>  0.0000000</td><td>  3.652891 </td></tr>\n",
       "\t<tr><th scope=row>b4685</th><td> 16.6051203</td><td> 20.323307 </td><td> 71.605023 </td><td> 64.994446 </td><td> 21.8004966</td><td> 62.8911090</td><td> 65.966260 </td><td>113.4892644</td><td> 29.027841 </td><td> 49.8461194</td><td>⋯          </td><td>  2.0027460</td><td>  8.814327 </td><td>  8.607849 </td><td> 20.239806 </td><td> 39.276284 </td><td> 27.483811 </td><td> 34.553663 </td><td> 29.6486740</td><td> 20.0882474</td><td> 25.458867 </td></tr>\n",
       "\t<tr><th scope=row>b4686</th><td>956.3758596</td><td>863.014705 </td><td>862.734898 </td><td>998.099976 </td><td>422.4365273</td><td>348.9208709</td><td>991.290307 </td><td>832.3361355</td><td>423.987896 </td><td>306.7817246</td><td>⋯          </td><td>325.5177443</td><td>367.840761 </td><td>741.555919 </td><td>893.339579 </td><td>726.085240 </td><td>804.883031 </td><td>674.619139 </td><td>716.3331419</td><td>407.6069385</td><td>671.022983 </td></tr>\n",
       "\t<tr><th scope=row>b4687</th><td>213.0990444</td><td>162.586454 </td><td>165.002879 </td><td>190.108754 </td><td> 58.1346576</td><td> 46.1201466</td><td>184.705529 </td><td>197.6278570</td><td> 39.187585 </td><td> 34.2692071</td><td>⋯          </td><td> 88.1208220</td><td> 79.328945 </td><td> 91.817053 </td><td> 89.633424 </td><td> 78.552569 </td><td>115.432005 </td><td>103.660990 </td><td> 63.0034323</td><td> 74.6134904</td><td>118.808044 </td></tr>\n",
       "\t<tr><th scope=row>b4688</th><td>  8.8130736</td><td>  8.089860 </td><td> 11.153336 </td><td>  9.701841 </td><td>  2.3140980</td><td>  3.8942283</td><td> 10.503366 </td><td>  7.7888514</td><td>  3.466431 </td><td>  2.4802074</td><td>⋯          </td><td>  3.1888382</td><td>  0.000000 </td><td>  2.284283 </td><td>  3.452838 </td><td>  0.000000 </td><td>  2.188032 </td><td>  0.000000 </td><td>  0.0000000</td><td>  1.1423275</td><td>  4.504050 </td></tr>\n",
       "\t<tr><th scope=row>b4689</th><td>  0.0000000</td><td>  0.000000 </td><td>  0.000000 </td><td>  0.000000 </td><td>  0.0000000</td><td>  0.0000000</td><td>  0.000000 </td><td>  0.0000000</td><td>  0.000000 </td><td>  0.0000000</td><td>⋯          </td><td>  0.0000000</td><td>  0.000000 </td><td>  0.000000 </td><td>  0.000000 </td><td>  0.000000 </td><td>  0.000000 </td><td>  0.000000 </td><td>  0.0000000</td><td>  0.0000000</td><td>  0.000000 </td></tr>\n",
       "\t<tr><th scope=row>b4692</th><td>  0.0000000</td><td>  0.000000 </td><td> 12.492791 </td><td>  6.236701 </td><td>  4.0570570</td><td>  5.3643291</td><td>  1.150901 </td><td>  0.6827674</td><td>  1.012886 </td><td>  0.5435348</td><td>⋯          </td><td>  0.6988305</td><td>  0.000000 </td><td>  0.000000 </td><td>  0.000000 </td><td>  0.000000 </td><td>  0.000000 </td><td>  0.000000 </td><td>  0.6465934</td><td>  0.0000000</td><td>  0.000000 </td></tr>\n",
       "\t<tr><th scope=row>b4693</th><td>  0.7997767</td><td>  1.174633 </td><td> 16.194448 </td><td> 15.730374 </td><td> 11.0250970</td><td>  7.7747325</td><td>  2.502068 </td><td>  3.3927825</td><td>  4.194331 </td><td>  3.3761413</td><td>⋯          </td><td>  2.7491438</td><td>  2.971761 </td><td>  2.072962 </td><td>  3.133412 </td><td>  3.310512 </td><td>  2.184176 </td><td>  1.830685 </td><td>  1.3387617</td><td>  0.8293197</td><td>  3.678638 </td></tr>\n",
       "\t<tr><th scope=row>b4694</th><td> 14.0166751</td><td> 15.684811 </td><td> 17.269447 </td><td> 15.283253 </td><td> 22.7836562</td><td> 19.8867441</td><td> 12.727608 </td><td> 14.1573829</td><td> 19.952372 </td><td> 16.1541743</td><td>⋯          </td><td> 10.1433192</td><td> 15.589261 </td><td> 11.072056 </td><td> 10.460068 </td><td> 14.208773 </td><td> 17.233966 </td><td> 17.222630 </td><td> 16.0887658</td><td> 11.7659735</td><td> 12.280159 </td></tr>\n",
       "\t<tr><th scope=row>b4695</th><td>  0.0000000</td><td>  0.000000 </td><td>  0.000000 </td><td>  0.000000 </td><td>  0.0000000</td><td>  0.0000000</td><td>  0.000000 </td><td>  0.0000000</td><td>  1.506508 </td><td>  0.0000000</td><td>⋯          </td><td>  0.0000000</td><td>  0.000000 </td><td>  0.000000 </td><td>  0.000000 </td><td>  0.000000 </td><td>  0.000000 </td><td>  0.000000 </td><td>  0.0000000</td><td>  0.0000000</td><td>  0.000000 </td></tr>\n",
       "\t<tr><th scope=row>b4696</th><td>  5.4560275</td><td>  4.382261 </td><td>  5.250559 </td><td>  5.355572 </td><td>  9.9164142</td><td>  9.3635773</td><td>  4.038637 </td><td>  3.5260499</td><td> 10.841822 </td><td> 10.7961695</td><td>⋯          </td><td>  5.6448546</td><td>  5.294556 </td><td>  6.010188 </td><td>  7.036249 </td><td>  6.200548 </td><td>  8.677740 </td><td>  7.947429 </td><td>  6.9924148</td><td>  3.8453783</td><td>  5.184649 </td></tr>\n",
       "\t<tr><th scope=row>b4697</th><td>  3.1518978</td><td>  2.314599 </td><td>  6.204904 </td><td>  1.850536 </td><td>  0.8276114</td><td>  0.7958443</td><td>  5.634618 </td><td> 10.0281462</td><td>  0.000000 </td><td>  4.4350931</td><td>⋯          </td><td>  1.1404526</td><td>  0.000000 </td><td>  1.633897 </td><td>  0.000000 </td><td>  0.000000 </td><td>  1.565050 </td><td>  2.623519 </td><td>  0.0000000</td><td>  1.6341630</td><td>  1.610823 </td></tr>\n",
       "\t<tr><th scope=row>b4702</th><td>557.0263096</td><td>448.443002 </td><td>475.763018 </td><td>726.756077 </td><td> 88.8403267</td><td> 29.1713103</td><td>612.226865 </td><td>615.5458474</td><td> 45.441765 </td><td> 41.8027683</td><td>⋯          </td><td>200.0561141</td><td>271.588118 </td><td>141.168719 </td><td>181.054260 </td><td>107.355177 </td><td>225.367249 </td><td>133.942564 </td><td>146.4240196</td><td>273.8262920</td><td>118.087995 </td></tr>\n",
       "\t<tr><th scope=row>b4703</th><td>  2.4938093</td><td>  7.325324 </td><td> 14.026784 </td><td> 17.569927 </td><td>  9.1673883</td><td>  5.0374319</td><td> 20.804744 </td><td> 21.1582865</td><td>  5.231391 </td><td>  8.4218031</td><td>⋯          </td><td>  9.0233609</td><td>  2.647527 </td><td>  2.585508 </td><td>  0.000000 </td><td>  0.000000 </td><td>  0.000000 </td><td>  2.075751 </td><td>  3.3395484</td><td>  0.0000000</td><td>  7.646986 </td></tr>\n",
       "\t<tr><th scope=row>b4705</th><td>764.6019258</td><td>581.996973 </td><td>113.897488 </td><td>109.665629 </td><td>371.2792265</td><td>418.7365290</td><td>519.078353 </td><td>559.1077210</td><td>340.563557 </td><td>391.0523923</td><td>⋯          </td><td>277.9195156</td><td>242.778212 </td><td>264.238884 </td><td>213.385378 </td><td>206.452264 </td><td>273.907887 </td><td>245.561367 </td><td>245.4568109</td><td>112.2292855</td><td>155.233807 </td></tr>\n",
       "\t<tr><th scope=row>b4706</th><td>  0.0000000</td><td>  0.000000 </td><td>  0.000000 </td><td>  0.000000 </td><td>  0.0000000</td><td>  0.0000000</td><td>  0.000000 </td><td>  0.0000000</td><td>  0.000000 </td><td>  0.0000000</td><td>⋯          </td><td>  0.0000000</td><td>  0.000000 </td><td>  0.000000 </td><td>  0.000000 </td><td>  0.000000 </td><td>  0.000000 </td><td>  0.000000 </td><td>  0.0000000</td><td>  0.0000000</td><td>  0.000000 </td></tr>\n",
       "\t<tr><th scope=row>b4708</th><td>  7.7806850</td><td> 15.236673 </td><td> 11.670284 </td><td> 10.659089 </td><td>  4.7670419</td><td>  0.0000000</td><td>  6.181981 </td><td>  5.5011545</td><td>  2.040243 </td><td>  3.6494480</td><td>⋯          </td><td>  0.9384295</td><td>  0.000000 </td><td>  0.000000 </td><td>  1.354828 </td><td>  0.000000 </td><td>  2.575626 </td><td>  2.158781 </td><td>  2.6048478</td><td>  1.3446827</td><td>  2.650955 </td></tr>\n",
       "</tbody>\n",
       "</table>\n"
      ],
      "text/latex": [
       "\\begin{tabular}{r|llllllllllllllllllllllllllllllllllllllllllllllllllllllllllllllllllllllllllllllllllllllllllllllllllllllllllllllllllllllllllllllllllllllllllllllllllllllllllllllllll}\n",
       "  & wt\\_dhk\\_\\_wt\\_glc\\_\\_1 & wt\\_dhk\\_\\_wt\\_glc\\_\\_2 & fur\\_\\_delfur\\_fe2\\_\\_1 & fur\\_\\_delfur\\_fe2\\_\\_2 & fur\\_\\_delfur\\_dpd\\_\\_1 & fur\\_\\_delfur\\_dpd\\_\\_2 & fur\\_\\_wt\\_fe\\_\\_1 & fur\\_\\_wt\\_fe\\_\\_2 & fur\\_\\_wt\\_dpd\\_\\_1 & fur\\_\\_wt\\_dpd\\_\\_2 & ⋯ & misc\\_\\_wt\\_no\\_te\\_\\_1 & misc\\_\\_wt\\_no\\_te\\_\\_2 & lipidome\\_\\_del\\_fabr\\_\\_1 & lipidome\\_\\_del\\_fabr\\_\\_2 & lipidome\\_\\_del\\_fadr\\_\\_1 & lipidome\\_\\_del\\_fadr\\_\\_2 & sulfur\\_\\_del\\_cbl\\_\\_1 & sulfur\\_\\_del\\_cbl\\_\\_2 & dki\\_\\_ins82\\_\\_1 & dki\\_\\_ins82\\_rpoBE672K\\_\\_1\\\\\n",
       "\\hline\n",
       "\tb0001 & 5073.896921 & 4452.320846 & 5751.588669 & 6934.373844 &  435.793011 &  396.829339 & 4648.307607 & 5639.709690 &  552.438799 &  541.425573 & ⋯           &  713.276477 &  449.486834 &  642.633720 &  704.207135 &  676.978544 &  992.288632 &  775.308563 &  562.439771 &  667.323869 &  799.737728\\\\\n",
       "\tb0002 & 1624.844271 & 1702.627914 & 2100.267863 & 2080.934086 &  865.719190 & 1075.226965 & 2027.529498 & 1680.430786 & 2807.458703 & 3157.705639 & ⋯           & 1667.911865 & 2224.937938 & 2521.251929 & 2563.973117 & 2084.036740 & 2114.555772 & 2253.457908 & 2210.050546 & 2645.147464 & 2588.917375\\\\\n",
       "\tb0003 &  990.357349 & 1022.031680 & 1584.476962 & 1546.794746 &  613.999082 &  967.119513 & 1581.940136 & 1418.113010 & 2148.498418 & 2878.043018 & ⋯           & 1148.345368 & 1327.666683 & 2557.108609 & 2394.048894 & 2093.943197 & 1897.524672 & 2355.301989 & 2247.843266 & 1634.134990 & 2342.682135\\\\\n",
       "\tb0004 & 1231.413206 & 1269.032718 &  999.149187 &  986.979517 &  345.221922 &  454.313392 & 1255.084926 & 1054.761664 & 1120.932150 & 1438.259367 & ⋯           &  918.411403 & 1258.870238 & 1500.830996 & 1466.012035 & 1195.868330 & 1131.035633 & 1300.548375 & 1256.060435 & 1713.556915 & 1592.554009\\\\\n",
       "\tb0005 &  213.229062 &  234.877411 &  176.045556 &  155.146977 &   65.986738 &   66.915014 &  237.334651 &  202.447408 &  103.438470 &   96.012324 & ⋯           &   83.214766 &  136.631931 &  243.966074 &  252.211651 &  155.809108 &  210.998196 &  199.035284 &  206.508487 &  444.580072 &  228.066640\\\\\n",
       "\tb0006 &  118.427092 &  115.670440 &  111.893353 &  112.687671 &   97.117756 &  110.771704 &  114.198789 &  120.647106 &  104.328596 &  101.626339 & ⋯           &  136.572858 &  137.494440 &  138.809858 &  123.728168 &  131.089227 &  132.381533 &  118.726031 &  120.309594 &  183.295114 &  107.929305\\\\\n",
       "\tb0007 &   15.372105 &   14.197930 &   17.114244 &   14.980040 &   17.976275 &   16.245894 &   15.676200 &   16.582856 &   16.455867 &   16.858309 & ⋯           &   20.184099 &   15.478418 &   11.336873 &    9.437435 &   12.557257 &   15.108419 &   11.080337 &   11.990425 &   12.489022 &   11.176774\\\\\n",
       "\tb0008 & 2298.594936 & 2318.806306 & 2110.331892 & 2087.311944 & 1602.949044 & 1501.580654 & 2191.872327 & 2276.042668 & 1998.191438 & 1634.016470 & ⋯           & 1947.486943 & 2177.406475 & 2616.425469 & 2623.187789 & 2300.829419 & 2391.960662 & 2566.971740 & 2571.843958 & 2902.684139 & 2165.837169\\\\\n",
       "\tb0009 &   68.196581 &   74.695916 &   79.316821 &   65.601355 &   66.366288 &   73.352792 &   74.618032 &   77.637261 &   77.389504 &   75.250503 & ⋯           &   65.243955 &   71.173073 &   77.494996 &   98.219265 &   82.020085 &   73.464366 &   84.023871 &   75.845738 &  118.658544 &   83.489330\\\\\n",
       "\tb0010 &   45.946680 &   52.225174 &   36.405432 &   33.309654 &   37.137607 &   31.475081 &   43.807171 &   48.869558 &   29.753537 &   31.033158 & ⋯           &   35.562845 &   36.478072 &   40.594291 &   41.324633 &   29.768381 &   29.361226 &   30.262844 &   39.324947 &   54.686919 &   46.555063\\\\\n",
       "\tb0011 &    3.173939 &    5.593884 &    6.605340 &    6.149474 &    6.333832 &    4.487894 &    5.106619 &    4.039309 &    6.824587 &    5.895262 & ⋯           &    5.282768 &    6.402201 &    5.265034 &    6.632024 &    3.002942 &    7.879974 &    6.076290 &    4.675368 &    4.936772 &    5.839516\\\\\n",
       "\tb0013 &    4.471658 &    9.851297 &    7.231049 &    6.235305 &    4.990130 &    5.645398 &    8.327022 &    7.508760 &    9.087287 &    9.123620 & ⋯           &    7.685414 &    7.714345 &    8.113145 &    9.927617 &   10.576865 &    6.106009 &    8.374582 &    7.110935 &    4.636837 &    9.141224\\\\\n",
       "\tb0014 & 1042.630716 & 1044.219555 & 1793.201503 & 1850.613494 & 1195.364344 & 1181.925851 &  940.199773 &  983.950413 & 1710.688739 & 1656.769489 & ⋯           & 1505.768410 & 1498.683783 & 3144.769965 & 3139.096449 & 2370.153801 & 2216.189613 & 2669.128161 & 2693.102060 & 2063.155476 & 1990.997813\\\\\n",
       "\tb0015 &  215.108675 &  256.748715 &  348.877845 &  371.114267 &  272.988951 &  224.242484 &  239.759967 &  219.697903 &  292.173421 &  293.712864 & ⋯           &  288.409571 &  300.730516 &  548.712335 &  579.751400 &  418.941251 &  414.301453 &  495.427900 &  445.646810 &  631.121829 &  426.828343\\\\\n",
       "\tb0016 &   78.633344 &   87.065484 &   89.602695 &   94.247781 &   77.667694 &   67.279561 &   83.639178 &   87.570742 &   72.540938 &   73.038100 & ⋯           &   76.510648 &   79.154874 &  104.545954 &  105.351847 &   97.332791 &   91.643953 &   96.481437 &  107.483097 &  128.855365 &  100.362681\\\\\n",
       "\tb0018 &    6.453175 &    6.318526 &    6.654413 &    6.946089 &   10.166677 &    3.801948 &    2.563618 &    1.520856 &    6.768577 &    2.421435 & ⋯           &    2.334955 &    3.425473 &    0.000000 &    1.123672 &    2.543962 &    0.000000 &    5.371375 &    0.000000 &    2.230516 &    9.893967\\\\\n",
       "\tb0019 &   78.495209 &   61.067361 &   65.461129 &   72.323015 &  154.888049 &  134.225134 &   58.931930 &   58.108299 &  137.661055 &  130.355284 & ⋯           &  102.781334 &   94.059738 &   41.093634 &   42.425365 &   51.241876 &   64.638723 &   47.223340 &   47.874486 &   54.196008 &   39.718932\\\\\n",
       "\tb0020 &   74.311117 &   75.332919 &   63.610771 &   62.873348 &   71.873537 &   68.356618 &   65.006222 &   63.154103 &   50.256249 &   65.484858 & ⋯           &   81.297796 &   73.313434 &   32.685150 &   31.891481 &   44.682006 &   39.010648 &   31.864040 &   39.201954 &   49.554596 &   31.456343\\\\\n",
       "\tb0021 &   13.930764 &   20.460137 &   10.110395 &   11.608909 &   10.147663 &   11.573625 &   10.175785 &   13.979832 &    7.305819 &    9.864350 & ⋯           &    8.455157 &    8.587424 &    7.454454 &    6.572927 &    9.566303 &    7.586620 &    6.732833 &    8.725810 &    6.057729 &    9.645802\\\\\n",
       "\tb0022 &   31.132103 &   31.284686 &   16.128270 &   12.987157 &    7.314053 &   12.411723 &   24.409898 &   22.590481 &    8.593079 &   12.450283 & ⋯           &    7.707318 &    5.218591 &   11.891468 &    7.703443 &    7.751276 &   13.017603 &   10.910808 &   10.422526 &   28.034449 &   10.886142\\\\\n",
       "\tb0023 & 6010.823807 & 4636.045371 & 5004.116150 & 4853.907853 & 1803.830674 & 1833.192763 & 6414.534256 & 6506.412630 & 1470.386095 & 1349.607194 & ⋯           & 2220.448219 & 2916.555537 & 3606.461231 & 3754.151137 & 2940.113964 & 3178.953870 & 3385.824357 & 3279.814637 & 4156.718632 & 4632.168716\\\\\n",
       "\tb0024 &  246.535719 &  201.496349 &  291.839998 &  330.068385 &   33.585977 &   32.296808 &  214.525277 &  297.562448 &   23.802829 &   35.996828 & ⋯           &   24.633775 &   13.141361 &   33.153260 &   68.973051 &   58.557370 &   50.195433 &   83.284799 &   50.419592 &   25.671215 &   32.685070\\\\\n",
       "\tb0025 &  307.315053 &  310.328058 &  342.458806 &  346.307363 &  341.225164 &  419.274060 &  338.148786 &  357.822973 &  407.525640 &  447.396012 & ⋯           &  366.763737 &  354.872477 &  501.750254 &  469.915484 &  449.400385 &  421.816749 &  479.745063 &  504.994263 &  412.744860 &  419.148875\\\\\n",
       "\tb0026 &  611.392124 &  657.378921 &  623.271049 &  619.479178 &  691.373326 &  724.251055 &  617.176633 &  595.454098 &  903.080019 &  931.373325 & ⋯           &  725.318114 &  761.418574 & 1031.463421 & 1002.058139 &  873.451324 &  842.288099 &  971.882474 &  933.319058 &  923.908663 &  807.821620\\\\\n",
       "\tb0027 &  220.988708 &  207.641914 &  189.664181 &  204.424567 &  253.969925 &  268.712970 &  207.753821 &  209.944093 &  313.611874 &  344.563813 & ⋯           &  301.631307 &  338.557833 &  374.742231 &  357.554352 &  345.224815 &  288.524603 &  353.794215 &  351.383113 &  425.093236 &  362.902911\\\\\n",
       "\tb0028 &  190.204106 &  160.369366 &  208.305521 &  213.890813 &  173.611227 &  148.905818 &  210.792186 &  236.228438 &  195.014311 &  203.349510 & ⋯           &  188.258120 &  181.628560 &  226.934193 &  221.849297 &  203.522565 &  208.377257 &  200.620663 &  220.680471 &  254.103285 &  183.612431\\\\\n",
       "\tb0029 &  143.980812 &  146.694995 &  131.934282 &  126.660657 &  174.257415 &  175.995278 &  152.844934 &  152.697487 &  206.774578 &  214.539242 & ⋯           &  143.007001 &  152.855741 &  217.733966 &  211.940893 &  200.163277 &  186.306749 &  210.520855 &  205.578674 &  228.398309 &  190.537390\\\\\n",
       "\tb0030 &   30.720681 &   30.200966 &   25.222179 &   26.618631 &   11.969647 &   13.261754 &   28.050064 &   34.157005 &   11.043889 &   10.737186 & ⋯           &   20.079933 &   20.515443 &   29.795436 &   35.978369 &   21.681995 &   26.079616 &   29.901241 &   31.020249 &   55.233282 &   36.211872\\\\\n",
       "\tb0031 &  497.716456 &  526.074846 &  421.239840 &  446.665050 &  171.885746 &  173.364475 &  646.084614 &  562.648456 &  235.136090 &  174.291075 & ⋯           &  298.718198 &  401.053672 &  674.396532 &  693.711341 &  482.641746 &  450.734497 &  531.104778 &  523.237854 &  859.502219 &  708.558718\\\\\n",
       "\tb0032 & 1627.629083 & 1629.992823 & 1277.991290 & 1238.308094 &  241.668299 &  320.884414 & 2123.124087 & 2022.511408 &  115.598958 &   53.202605 & ⋯           &  310.456970 &  866.282295 & 1859.744426 & 1824.187271 & 1167.137484 & 1173.673437 & 1426.555497 & 1445.105376 & 1046.660076 & 1148.295733\\\\\n",
       "\t⋮ & ⋮ & ⋮ & ⋮ & ⋮ & ⋮ & ⋮ & ⋮ & ⋮ & ⋮ & ⋮ & ⋱ & ⋮ & ⋮ & ⋮ & ⋮ & ⋮ & ⋮ & ⋮ & ⋮ & ⋮ & ⋮\\\\\n",
       "\tb4670 &   4.1261208 &   6.060041  &   2.320795  &   2.422520  &  10.8341862 &   4.1673300 &  12.293712  &   2.9172789 &  10.819468  &   4.6447520 & ⋯           &   5.9718243 &   0.000000  &   0.000000  &   4.310816  &   0.000000  &   4.097586  &   3.434425  &   0.0000000 &   4.2785358 &   0.000000 \\\\\n",
       "\tb4671 &   2.2032684 &   6.471888  &   1.239260  &   0.000000  &   0.0000000 &   1.1126367 &  52.516829  &  46.7331086 &   1.155477  &   7.4406222 & ⋯           &  54.2102497 &   2.339077  &   2.284283  &   0.000000  &   2.605708  &   2.188032  &   0.000000  &   0.0000000 &   0.0000000 &   0.000000 \\\\\n",
       "\tb4672 &   0.0000000 &   6.288721  &   3.612559  &   8.798776  &   1.1243023 &   2.1622939 &   6.378813  &   7.5684122 &   1.122775  &   0.0000000 & ⋯           &   1.5492940 &   2.272877  &   2.219634  &   6.710232  &   2.531962  &   2.126106  &   5.346038  &   2.8669708 &   0.0000000 &   0.000000 \\\\\n",
       "\tb4673 &   3.3871141 &  14.923980  &   0.000000  &   0.000000  &   7.1149879 &   5.1314139 &   4.036741  &   2.3947812 &  10.657983  &   3.8128561 & ⋯           &   0.0000000 &   0.000000  &   0.000000  &   0.000000  &   0.000000  &   0.000000  &   0.000000  &   0.0000000 &   0.0000000 &   3.462068 \\\\\n",
       "\tb4674 &   0.0000000 &   0.000000  &   0.000000  &   3.977272  &   0.0000000 &   0.0000000 &   0.000000  &   0.0000000 &   0.000000  &   3.8128561 & ⋯           &   0.0000000 &   0.000000  &   0.000000  &   0.000000  &   0.000000  &   0.000000  &   0.000000  &   0.0000000 &   0.0000000 &   0.000000 \\\\\n",
       "\tb4675 &   5.9720170 &   0.000000  &   6.718091  &  10.518838  &   4.7043177 &   0.0000000 &   7.117412  &   6.3335660 &   1.565976  &   3.3613337 & ⋯           &   4.3217150 &   0.000000  &   0.000000  &   0.000000  &   0.000000  &   0.000000  &   0.000000  &   0.0000000 &   0.0000000 &   0.000000 \\\\\n",
       "\tb4676 &   9.0774658 &   6.666045  &  19.146560  &  26.647723  &   5.9588024 &   9.1681261 &  14.875392  &  20.8585441 &   8.330990  &   5.1092272 & ⋯           &   1.6422517 &   0.000000  &   2.352812  &   7.112846  &   0.000000  &   0.000000  &   5.666801  &   0.0000000 &   0.0000000 &   0.000000 \\\\\n",
       "\tb4677 &   3.3871141 &   4.974660  &   1.905130  &   5.965908  &   1.7787470 &   0.0000000 &   2.018371  &   0.0000000 &   0.000000  &   0.0000000 & ⋯           &   0.0000000 &   0.000000  &   0.000000  &   0.000000  &   0.000000  &   0.000000  &   0.000000  &   0.0000000 &   0.0000000 &   0.000000 \\\\\n",
       "\tb4678 & 109.9224373 & 124.988337  & 231.354273  & 285.213908  &   9.3106288 &   8.9532482 & 308.495339  & 283.2951305 &  11.157576  &   3.9915838 & ⋯           &  17.9621278 &  26.351166  &  29.410150  &  55.569109  &  79.677671  &  59.863175  &  76.737927  &  40.3615738 & 150.7515353 & 148.598454 \\\\\n",
       "\tb4679 & 288.3430308 & 423.489893  & 124.640355  & 175.561468  & 775.3453477 & 671.4304121 & 136.821785  &  96.2702036 & 604.871897  & 784.4166520 & ⋯           & 341.9747622 & 260.765821  &  91.344465  &  72.523135  &  78.937630  & 135.220349  &  60.001420  &  78.6561881 &  35.9900365 &  27.289243 \\\\\n",
       "\tb4680 &  87.0441925 &  59.355192  & 141.632091  & 158.791225  &  13.0603888 &  10.9891923 & 127.820925  & 127.4810916 &  16.303308  &  12.2481475 & ⋯           &  62.9904755 &  39.604100  &  77.352723  &  58.461747  &  69.854396  &  98.791123  &  51.751605  &  56.2004831 &  64.4710876 &  69.905320 \\\\\n",
       "\tb4682 &   0.0000000 &   0.000000  &   0.000000  &   1.876600  &   2.5178038 &   0.0000000 &   3.809319  &   0.0000000 &   0.000000  &   0.0000000 & ⋯           &   1.1565153 &   0.000000  &   0.000000  &   0.000000  &   0.000000  &   0.000000  &   0.000000  &   0.0000000 &   0.0000000 &   0.000000 \\\\\n",
       "\tb4683 &   0.0000000 &   0.000000  &   0.000000  &   1.624861  &   0.0000000 &   0.0000000 &   1.649157  &   0.0000000 &   0.000000  &   0.0000000 & ⋯           &   0.0000000 &   0.000000  &   0.000000  &   0.000000  &   0.000000  &   0.000000  &   0.000000  &   0.0000000 &   0.0000000 &   0.000000 \\\\\n",
       "\tb4684 &   5.3607081 &   7.873281  &   3.015206  &   4.196492  &   0.9383941 &   1.8047492 &   3.194429  &   2.5267770 &   3.748477  &   1.0057534 & ⋯           &   0.0000000 &   1.897047  &   0.000000  &   0.000000  &   0.000000  &   1.774545  &   0.000000  &   1.1964524 &   0.0000000 &   3.652891 \\\\\n",
       "\tb4685 &  16.6051203 &  20.323307  &  71.605023  &  64.994446  &  21.8004966 &  62.8911090 &  65.966260  & 113.4892644 &  29.027841  &  49.8461194 & ⋯           &   2.0027460 &   8.814327  &   8.607849  &  20.239806  &  39.276284  &  27.483811  &  34.553663  &  29.6486740 &  20.0882474 &  25.458867 \\\\\n",
       "\tb4686 & 956.3758596 & 863.014705  & 862.734898  & 998.099976  & 422.4365273 & 348.9208709 & 991.290307  & 832.3361355 & 423.987896  & 306.7817246 & ⋯           & 325.5177443 & 367.840761  & 741.555919  & 893.339579  & 726.085240  & 804.883031  & 674.619139  & 716.3331419 & 407.6069385 & 671.022983 \\\\\n",
       "\tb4687 & 213.0990444 & 162.586454  & 165.002879  & 190.108754  &  58.1346576 &  46.1201466 & 184.705529  & 197.6278570 &  39.187585  &  34.2692071 & ⋯           &  88.1208220 &  79.328945  &  91.817053  &  89.633424  &  78.552569  & 115.432005  & 103.660990  &  63.0034323 &  74.6134904 & 118.808044 \\\\\n",
       "\tb4688 &   8.8130736 &   8.089860  &  11.153336  &   9.701841  &   2.3140980 &   3.8942283 &  10.503366  &   7.7888514 &   3.466431  &   2.4802074 & ⋯           &   3.1888382 &   0.000000  &   2.284283  &   3.452838  &   0.000000  &   2.188032  &   0.000000  &   0.0000000 &   1.1423275 &   4.504050 \\\\\n",
       "\tb4689 &   0.0000000 &   0.000000  &   0.000000  &   0.000000  &   0.0000000 &   0.0000000 &   0.000000  &   0.0000000 &   0.000000  &   0.0000000 & ⋯           &   0.0000000 &   0.000000  &   0.000000  &   0.000000  &   0.000000  &   0.000000  &   0.000000  &   0.0000000 &   0.0000000 &   0.000000 \\\\\n",
       "\tb4692 &   0.0000000 &   0.000000  &  12.492791  &   6.236701  &   4.0570570 &   5.3643291 &   1.150901  &   0.6827674 &   1.012886  &   0.5435348 & ⋯           &   0.6988305 &   0.000000  &   0.000000  &   0.000000  &   0.000000  &   0.000000  &   0.000000  &   0.6465934 &   0.0000000 &   0.000000 \\\\\n",
       "\tb4693 &   0.7997767 &   1.174633  &  16.194448  &  15.730374  &  11.0250970 &   7.7747325 &   2.502068  &   3.3927825 &   4.194331  &   3.3761413 & ⋯           &   2.7491438 &   2.971761  &   2.072962  &   3.133412  &   3.310512  &   2.184176  &   1.830685  &   1.3387617 &   0.8293197 &   3.678638 \\\\\n",
       "\tb4694 &  14.0166751 &  15.684811  &  17.269447  &  15.283253  &  22.7836562 &  19.8867441 &  12.727608  &  14.1573829 &  19.952372  &  16.1541743 & ⋯           &  10.1433192 &  15.589261  &  11.072056  &  10.460068  &  14.208773  &  17.233966  &  17.222630  &  16.0887658 &  11.7659735 &  12.280159 \\\\\n",
       "\tb4695 &   0.0000000 &   0.000000  &   0.000000  &   0.000000  &   0.0000000 &   0.0000000 &   0.000000  &   0.0000000 &   1.506508  &   0.0000000 & ⋯           &   0.0000000 &   0.000000  &   0.000000  &   0.000000  &   0.000000  &   0.000000  &   0.000000  &   0.0000000 &   0.0000000 &   0.000000 \\\\\n",
       "\tb4696 &   5.4560275 &   4.382261  &   5.250559  &   5.355572  &   9.9164142 &   9.3635773 &   4.038637  &   3.5260499 &  10.841822  &  10.7961695 & ⋯           &   5.6448546 &   5.294556  &   6.010188  &   7.036249  &   6.200548  &   8.677740  &   7.947429  &   6.9924148 &   3.8453783 &   5.184649 \\\\\n",
       "\tb4697 &   3.1518978 &   2.314599  &   6.204904  &   1.850536  &   0.8276114 &   0.7958443 &   5.634618  &  10.0281462 &   0.000000  &   4.4350931 & ⋯           &   1.1404526 &   0.000000  &   1.633897  &   0.000000  &   0.000000  &   1.565050  &   2.623519  &   0.0000000 &   1.6341630 &   1.610823 \\\\\n",
       "\tb4702 & 557.0263096 & 448.443002  & 475.763018  & 726.756077  &  88.8403267 &  29.1713103 & 612.226865  & 615.5458474 &  45.441765  &  41.8027683 & ⋯           & 200.0561141 & 271.588118  & 141.168719  & 181.054260  & 107.355177  & 225.367249  & 133.942564  & 146.4240196 & 273.8262920 & 118.087995 \\\\\n",
       "\tb4703 &   2.4938093 &   7.325324  &  14.026784  &  17.569927  &   9.1673883 &   5.0374319 &  20.804744  &  21.1582865 &   5.231391  &   8.4218031 & ⋯           &   9.0233609 &   2.647527  &   2.585508  &   0.000000  &   0.000000  &   0.000000  &   2.075751  &   3.3395484 &   0.0000000 &   7.646986 \\\\\n",
       "\tb4705 & 764.6019258 & 581.996973  & 113.897488  & 109.665629  & 371.2792265 & 418.7365290 & 519.078353  & 559.1077210 & 340.563557  & 391.0523923 & ⋯           & 277.9195156 & 242.778212  & 264.238884  & 213.385378  & 206.452264  & 273.907887  & 245.561367  & 245.4568109 & 112.2292855 & 155.233807 \\\\\n",
       "\tb4706 &   0.0000000 &   0.000000  &   0.000000  &   0.000000  &   0.0000000 &   0.0000000 &   0.000000  &   0.0000000 &   0.000000  &   0.0000000 & ⋯           &   0.0000000 &   0.000000  &   0.000000  &   0.000000  &   0.000000  &   0.000000  &   0.000000  &   0.0000000 &   0.0000000 &   0.000000 \\\\\n",
       "\tb4708 &   7.7806850 &  15.236673  &  11.670284  &  10.659089  &   4.7670419 &   0.0000000 &   6.181981  &   5.5011545 &   2.040243  &   3.6494480 & ⋯           &   0.9384295 &   0.000000  &   0.000000  &   1.354828  &   0.000000  &   2.575626  &   2.158781  &   2.6048478 &   1.3446827 &   2.650955 \\\\\n",
       "\\end{tabular}\n"
      ],
      "text/markdown": [
       "\n",
       "| <!--/--> | wt_dhk__wt_glc__1 | wt_dhk__wt_glc__2 | fur__delfur_fe2__1 | fur__delfur_fe2__2 | fur__delfur_dpd__1 | fur__delfur_dpd__2 | fur__wt_fe__1 | fur__wt_fe__2 | fur__wt_dpd__1 | fur__wt_dpd__2 | ⋯ | misc__wt_no_te__1 | misc__wt_no_te__2 | lipidome__del_fabr__1 | lipidome__del_fabr__2 | lipidome__del_fadr__1 | lipidome__del_fadr__2 | sulfur__del_cbl__1 | sulfur__del_cbl__2 | dki__ins82__1 | dki__ins82_rpoBE672K__1 | \n",
       "|---|---|---|---|---|---|---|---|---|---|---|---|---|---|---|---|---|---|---|---|---|---|---|---|---|---|---|---|---|---|---|---|---|---|---|---|---|---|---|---|---|---|---|---|---|---|---|---|---|---|---|---|---|---|---|---|---|---|---|---|---|\n",
       "| b0001 | 5073.896921 | 4452.320846 | 5751.588669 | 6934.373844 |  435.793011 |  396.829339 | 4648.307607 | 5639.709690 |  552.438799 |  541.425573 | ⋯           |  713.276477 |  449.486834 |  642.633720 |  704.207135 |  676.978544 |  992.288632 |  775.308563 |  562.439771 |  667.323869 |  799.737728 | \n",
       "| b0002 | 1624.844271 | 1702.627914 | 2100.267863 | 2080.934086 |  865.719190 | 1075.226965 | 2027.529498 | 1680.430786 | 2807.458703 | 3157.705639 | ⋯           | 1667.911865 | 2224.937938 | 2521.251929 | 2563.973117 | 2084.036740 | 2114.555772 | 2253.457908 | 2210.050546 | 2645.147464 | 2588.917375 | \n",
       "| b0003 |  990.357349 | 1022.031680 | 1584.476962 | 1546.794746 |  613.999082 |  967.119513 | 1581.940136 | 1418.113010 | 2148.498418 | 2878.043018 | ⋯           | 1148.345368 | 1327.666683 | 2557.108609 | 2394.048894 | 2093.943197 | 1897.524672 | 2355.301989 | 2247.843266 | 1634.134990 | 2342.682135 | \n",
       "| b0004 | 1231.413206 | 1269.032718 |  999.149187 |  986.979517 |  345.221922 |  454.313392 | 1255.084926 | 1054.761664 | 1120.932150 | 1438.259367 | ⋯           |  918.411403 | 1258.870238 | 1500.830996 | 1466.012035 | 1195.868330 | 1131.035633 | 1300.548375 | 1256.060435 | 1713.556915 | 1592.554009 | \n",
       "| b0005 |  213.229062 |  234.877411 |  176.045556 |  155.146977 |   65.986738 |   66.915014 |  237.334651 |  202.447408 |  103.438470 |   96.012324 | ⋯           |   83.214766 |  136.631931 |  243.966074 |  252.211651 |  155.809108 |  210.998196 |  199.035284 |  206.508487 |  444.580072 |  228.066640 | \n",
       "| b0006 |  118.427092 |  115.670440 |  111.893353 |  112.687671 |   97.117756 |  110.771704 |  114.198789 |  120.647106 |  104.328596 |  101.626339 | ⋯           |  136.572858 |  137.494440 |  138.809858 |  123.728168 |  131.089227 |  132.381533 |  118.726031 |  120.309594 |  183.295114 |  107.929305 | \n",
       "| b0007 |   15.372105 |   14.197930 |   17.114244 |   14.980040 |   17.976275 |   16.245894 |   15.676200 |   16.582856 |   16.455867 |   16.858309 | ⋯           |   20.184099 |   15.478418 |   11.336873 |    9.437435 |   12.557257 |   15.108419 |   11.080337 |   11.990425 |   12.489022 |   11.176774 | \n",
       "| b0008 | 2298.594936 | 2318.806306 | 2110.331892 | 2087.311944 | 1602.949044 | 1501.580654 | 2191.872327 | 2276.042668 | 1998.191438 | 1634.016470 | ⋯           | 1947.486943 | 2177.406475 | 2616.425469 | 2623.187789 | 2300.829419 | 2391.960662 | 2566.971740 | 2571.843958 | 2902.684139 | 2165.837169 | \n",
       "| b0009 |   68.196581 |   74.695916 |   79.316821 |   65.601355 |   66.366288 |   73.352792 |   74.618032 |   77.637261 |   77.389504 |   75.250503 | ⋯           |   65.243955 |   71.173073 |   77.494996 |   98.219265 |   82.020085 |   73.464366 |   84.023871 |   75.845738 |  118.658544 |   83.489330 | \n",
       "| b0010 |   45.946680 |   52.225174 |   36.405432 |   33.309654 |   37.137607 |   31.475081 |   43.807171 |   48.869558 |   29.753537 |   31.033158 | ⋯           |   35.562845 |   36.478072 |   40.594291 |   41.324633 |   29.768381 |   29.361226 |   30.262844 |   39.324947 |   54.686919 |   46.555063 | \n",
       "| b0011 |    3.173939 |    5.593884 |    6.605340 |    6.149474 |    6.333832 |    4.487894 |    5.106619 |    4.039309 |    6.824587 |    5.895262 | ⋯           |    5.282768 |    6.402201 |    5.265034 |    6.632024 |    3.002942 |    7.879974 |    6.076290 |    4.675368 |    4.936772 |    5.839516 | \n",
       "| b0013 |    4.471658 |    9.851297 |    7.231049 |    6.235305 |    4.990130 |    5.645398 |    8.327022 |    7.508760 |    9.087287 |    9.123620 | ⋯           |    7.685414 |    7.714345 |    8.113145 |    9.927617 |   10.576865 |    6.106009 |    8.374582 |    7.110935 |    4.636837 |    9.141224 | \n",
       "| b0014 | 1042.630716 | 1044.219555 | 1793.201503 | 1850.613494 | 1195.364344 | 1181.925851 |  940.199773 |  983.950413 | 1710.688739 | 1656.769489 | ⋯           | 1505.768410 | 1498.683783 | 3144.769965 | 3139.096449 | 2370.153801 | 2216.189613 | 2669.128161 | 2693.102060 | 2063.155476 | 1990.997813 | \n",
       "| b0015 |  215.108675 |  256.748715 |  348.877845 |  371.114267 |  272.988951 |  224.242484 |  239.759967 |  219.697903 |  292.173421 |  293.712864 | ⋯           |  288.409571 |  300.730516 |  548.712335 |  579.751400 |  418.941251 |  414.301453 |  495.427900 |  445.646810 |  631.121829 |  426.828343 | \n",
       "| b0016 |   78.633344 |   87.065484 |   89.602695 |   94.247781 |   77.667694 |   67.279561 |   83.639178 |   87.570742 |   72.540938 |   73.038100 | ⋯           |   76.510648 |   79.154874 |  104.545954 |  105.351847 |   97.332791 |   91.643953 |   96.481437 |  107.483097 |  128.855365 |  100.362681 | \n",
       "| b0018 |    6.453175 |    6.318526 |    6.654413 |    6.946089 |   10.166677 |    3.801948 |    2.563618 |    1.520856 |    6.768577 |    2.421435 | ⋯           |    2.334955 |    3.425473 |    0.000000 |    1.123672 |    2.543962 |    0.000000 |    5.371375 |    0.000000 |    2.230516 |    9.893967 | \n",
       "| b0019 |   78.495209 |   61.067361 |   65.461129 |   72.323015 |  154.888049 |  134.225134 |   58.931930 |   58.108299 |  137.661055 |  130.355284 | ⋯           |  102.781334 |   94.059738 |   41.093634 |   42.425365 |   51.241876 |   64.638723 |   47.223340 |   47.874486 |   54.196008 |   39.718932 | \n",
       "| b0020 |   74.311117 |   75.332919 |   63.610771 |   62.873348 |   71.873537 |   68.356618 |   65.006222 |   63.154103 |   50.256249 |   65.484858 | ⋯           |   81.297796 |   73.313434 |   32.685150 |   31.891481 |   44.682006 |   39.010648 |   31.864040 |   39.201954 |   49.554596 |   31.456343 | \n",
       "| b0021 |   13.930764 |   20.460137 |   10.110395 |   11.608909 |   10.147663 |   11.573625 |   10.175785 |   13.979832 |    7.305819 |    9.864350 | ⋯           |    8.455157 |    8.587424 |    7.454454 |    6.572927 |    9.566303 |    7.586620 |    6.732833 |    8.725810 |    6.057729 |    9.645802 | \n",
       "| b0022 |   31.132103 |   31.284686 |   16.128270 |   12.987157 |    7.314053 |   12.411723 |   24.409898 |   22.590481 |    8.593079 |   12.450283 | ⋯           |    7.707318 |    5.218591 |   11.891468 |    7.703443 |    7.751276 |   13.017603 |   10.910808 |   10.422526 |   28.034449 |   10.886142 | \n",
       "| b0023 | 6010.823807 | 4636.045371 | 5004.116150 | 4853.907853 | 1803.830674 | 1833.192763 | 6414.534256 | 6506.412630 | 1470.386095 | 1349.607194 | ⋯           | 2220.448219 | 2916.555537 | 3606.461231 | 3754.151137 | 2940.113964 | 3178.953870 | 3385.824357 | 3279.814637 | 4156.718632 | 4632.168716 | \n",
       "| b0024 |  246.535719 |  201.496349 |  291.839998 |  330.068385 |   33.585977 |   32.296808 |  214.525277 |  297.562448 |   23.802829 |   35.996828 | ⋯           |   24.633775 |   13.141361 |   33.153260 |   68.973051 |   58.557370 |   50.195433 |   83.284799 |   50.419592 |   25.671215 |   32.685070 | \n",
       "| b0025 |  307.315053 |  310.328058 |  342.458806 |  346.307363 |  341.225164 |  419.274060 |  338.148786 |  357.822973 |  407.525640 |  447.396012 | ⋯           |  366.763737 |  354.872477 |  501.750254 |  469.915484 |  449.400385 |  421.816749 |  479.745063 |  504.994263 |  412.744860 |  419.148875 | \n",
       "| b0026 |  611.392124 |  657.378921 |  623.271049 |  619.479178 |  691.373326 |  724.251055 |  617.176633 |  595.454098 |  903.080019 |  931.373325 | ⋯           |  725.318114 |  761.418574 | 1031.463421 | 1002.058139 |  873.451324 |  842.288099 |  971.882474 |  933.319058 |  923.908663 |  807.821620 | \n",
       "| b0027 |  220.988708 |  207.641914 |  189.664181 |  204.424567 |  253.969925 |  268.712970 |  207.753821 |  209.944093 |  313.611874 |  344.563813 | ⋯           |  301.631307 |  338.557833 |  374.742231 |  357.554352 |  345.224815 |  288.524603 |  353.794215 |  351.383113 |  425.093236 |  362.902911 | \n",
       "| b0028 |  190.204106 |  160.369366 |  208.305521 |  213.890813 |  173.611227 |  148.905818 |  210.792186 |  236.228438 |  195.014311 |  203.349510 | ⋯           |  188.258120 |  181.628560 |  226.934193 |  221.849297 |  203.522565 |  208.377257 |  200.620663 |  220.680471 |  254.103285 |  183.612431 | \n",
       "| b0029 |  143.980812 |  146.694995 |  131.934282 |  126.660657 |  174.257415 |  175.995278 |  152.844934 |  152.697487 |  206.774578 |  214.539242 | ⋯           |  143.007001 |  152.855741 |  217.733966 |  211.940893 |  200.163277 |  186.306749 |  210.520855 |  205.578674 |  228.398309 |  190.537390 | \n",
       "| b0030 |   30.720681 |   30.200966 |   25.222179 |   26.618631 |   11.969647 |   13.261754 |   28.050064 |   34.157005 |   11.043889 |   10.737186 | ⋯           |   20.079933 |   20.515443 |   29.795436 |   35.978369 |   21.681995 |   26.079616 |   29.901241 |   31.020249 |   55.233282 |   36.211872 | \n",
       "| b0031 |  497.716456 |  526.074846 |  421.239840 |  446.665050 |  171.885746 |  173.364475 |  646.084614 |  562.648456 |  235.136090 |  174.291075 | ⋯           |  298.718198 |  401.053672 |  674.396532 |  693.711341 |  482.641746 |  450.734497 |  531.104778 |  523.237854 |  859.502219 |  708.558718 | \n",
       "| b0032 | 1627.629083 | 1629.992823 | 1277.991290 | 1238.308094 |  241.668299 |  320.884414 | 2123.124087 | 2022.511408 |  115.598958 |   53.202605 | ⋯           |  310.456970 |  866.282295 | 1859.744426 | 1824.187271 | 1167.137484 | 1173.673437 | 1426.555497 | 1445.105376 | 1046.660076 | 1148.295733 | \n",
       "| ⋮ | ⋮ | ⋮ | ⋮ | ⋮ | ⋮ | ⋮ | ⋮ | ⋮ | ⋮ | ⋮ | ⋱ | ⋮ | ⋮ | ⋮ | ⋮ | ⋮ | ⋮ | ⋮ | ⋮ | ⋮ | ⋮ | \n",
       "| b4670 |   4.1261208 |   6.060041  |   2.320795  |   2.422520  |  10.8341862 |   4.1673300 |  12.293712  |   2.9172789 |  10.819468  |   4.6447520 | ⋯           |   5.9718243 |   0.000000  |   0.000000  |   4.310816  |   0.000000  |   4.097586  |   3.434425  |   0.0000000 |   4.2785358 |   0.000000  | \n",
       "| b4671 |   2.2032684 |   6.471888  |   1.239260  |   0.000000  |   0.0000000 |   1.1126367 |  52.516829  |  46.7331086 |   1.155477  |   7.4406222 | ⋯           |  54.2102497 |   2.339077  |   2.284283  |   0.000000  |   2.605708  |   2.188032  |   0.000000  |   0.0000000 |   0.0000000 |   0.000000  | \n",
       "| b4672 |   0.0000000 |   6.288721  |   3.612559  |   8.798776  |   1.1243023 |   2.1622939 |   6.378813  |   7.5684122 |   1.122775  |   0.0000000 | ⋯           |   1.5492940 |   2.272877  |   2.219634  |   6.710232  |   2.531962  |   2.126106  |   5.346038  |   2.8669708 |   0.0000000 |   0.000000  | \n",
       "| b4673 |   3.3871141 |  14.923980  |   0.000000  |   0.000000  |   7.1149879 |   5.1314139 |   4.036741  |   2.3947812 |  10.657983  |   3.8128561 | ⋯           |   0.0000000 |   0.000000  |   0.000000  |   0.000000  |   0.000000  |   0.000000  |   0.000000  |   0.0000000 |   0.0000000 |   3.462068  | \n",
       "| b4674 |   0.0000000 |   0.000000  |   0.000000  |   3.977272  |   0.0000000 |   0.0000000 |   0.000000  |   0.0000000 |   0.000000  |   3.8128561 | ⋯           |   0.0000000 |   0.000000  |   0.000000  |   0.000000  |   0.000000  |   0.000000  |   0.000000  |   0.0000000 |   0.0000000 |   0.000000  | \n",
       "| b4675 |   5.9720170 |   0.000000  |   6.718091  |  10.518838  |   4.7043177 |   0.0000000 |   7.117412  |   6.3335660 |   1.565976  |   3.3613337 | ⋯           |   4.3217150 |   0.000000  |   0.000000  |   0.000000  |   0.000000  |   0.000000  |   0.000000  |   0.0000000 |   0.0000000 |   0.000000  | \n",
       "| b4676 |   9.0774658 |   6.666045  |  19.146560  |  26.647723  |   5.9588024 |   9.1681261 |  14.875392  |  20.8585441 |   8.330990  |   5.1092272 | ⋯           |   1.6422517 |   0.000000  |   2.352812  |   7.112846  |   0.000000  |   0.000000  |   5.666801  |   0.0000000 |   0.0000000 |   0.000000  | \n",
       "| b4677 |   3.3871141 |   4.974660  |   1.905130  |   5.965908  |   1.7787470 |   0.0000000 |   2.018371  |   0.0000000 |   0.000000  |   0.0000000 | ⋯           |   0.0000000 |   0.000000  |   0.000000  |   0.000000  |   0.000000  |   0.000000  |   0.000000  |   0.0000000 |   0.0000000 |   0.000000  | \n",
       "| b4678 | 109.9224373 | 124.988337  | 231.354273  | 285.213908  |   9.3106288 |   8.9532482 | 308.495339  | 283.2951305 |  11.157576  |   3.9915838 | ⋯           |  17.9621278 |  26.351166  |  29.410150  |  55.569109  |  79.677671  |  59.863175  |  76.737927  |  40.3615738 | 150.7515353 | 148.598454  | \n",
       "| b4679 | 288.3430308 | 423.489893  | 124.640355  | 175.561468  | 775.3453477 | 671.4304121 | 136.821785  |  96.2702036 | 604.871897  | 784.4166520 | ⋯           | 341.9747622 | 260.765821  |  91.344465  |  72.523135  |  78.937630  | 135.220349  |  60.001420  |  78.6561881 |  35.9900365 |  27.289243  | \n",
       "| b4680 |  87.0441925 |  59.355192  | 141.632091  | 158.791225  |  13.0603888 |  10.9891923 | 127.820925  | 127.4810916 |  16.303308  |  12.2481475 | ⋯           |  62.9904755 |  39.604100  |  77.352723  |  58.461747  |  69.854396  |  98.791123  |  51.751605  |  56.2004831 |  64.4710876 |  69.905320  | \n",
       "| b4682 |   0.0000000 |   0.000000  |   0.000000  |   1.876600  |   2.5178038 |   0.0000000 |   3.809319  |   0.0000000 |   0.000000  |   0.0000000 | ⋯           |   1.1565153 |   0.000000  |   0.000000  |   0.000000  |   0.000000  |   0.000000  |   0.000000  |   0.0000000 |   0.0000000 |   0.000000  | \n",
       "| b4683 |   0.0000000 |   0.000000  |   0.000000  |   1.624861  |   0.0000000 |   0.0000000 |   1.649157  |   0.0000000 |   0.000000  |   0.0000000 | ⋯           |   0.0000000 |   0.000000  |   0.000000  |   0.000000  |   0.000000  |   0.000000  |   0.000000  |   0.0000000 |   0.0000000 |   0.000000  | \n",
       "| b4684 |   5.3607081 |   7.873281  |   3.015206  |   4.196492  |   0.9383941 |   1.8047492 |   3.194429  |   2.5267770 |   3.748477  |   1.0057534 | ⋯           |   0.0000000 |   1.897047  |   0.000000  |   0.000000  |   0.000000  |   1.774545  |   0.000000  |   1.1964524 |   0.0000000 |   3.652891  | \n",
       "| b4685 |  16.6051203 |  20.323307  |  71.605023  |  64.994446  |  21.8004966 |  62.8911090 |  65.966260  | 113.4892644 |  29.027841  |  49.8461194 | ⋯           |   2.0027460 |   8.814327  |   8.607849  |  20.239806  |  39.276284  |  27.483811  |  34.553663  |  29.6486740 |  20.0882474 |  25.458867  | \n",
       "| b4686 | 956.3758596 | 863.014705  | 862.734898  | 998.099976  | 422.4365273 | 348.9208709 | 991.290307  | 832.3361355 | 423.987896  | 306.7817246 | ⋯           | 325.5177443 | 367.840761  | 741.555919  | 893.339579  | 726.085240  | 804.883031  | 674.619139  | 716.3331419 | 407.6069385 | 671.022983  | \n",
       "| b4687 | 213.0990444 | 162.586454  | 165.002879  | 190.108754  |  58.1346576 |  46.1201466 | 184.705529  | 197.6278570 |  39.187585  |  34.2692071 | ⋯           |  88.1208220 |  79.328945  |  91.817053  |  89.633424  |  78.552569  | 115.432005  | 103.660990  |  63.0034323 |  74.6134904 | 118.808044  | \n",
       "| b4688 |   8.8130736 |   8.089860  |  11.153336  |   9.701841  |   2.3140980 |   3.8942283 |  10.503366  |   7.7888514 |   3.466431  |   2.4802074 | ⋯           |   3.1888382 |   0.000000  |   2.284283  |   3.452838  |   0.000000  |   2.188032  |   0.000000  |   0.0000000 |   1.1423275 |   4.504050  | \n",
       "| b4689 |   0.0000000 |   0.000000  |   0.000000  |   0.000000  |   0.0000000 |   0.0000000 |   0.000000  |   0.0000000 |   0.000000  |   0.0000000 | ⋯           |   0.0000000 |   0.000000  |   0.000000  |   0.000000  |   0.000000  |   0.000000  |   0.000000  |   0.0000000 |   0.0000000 |   0.000000  | \n",
       "| b4692 |   0.0000000 |   0.000000  |  12.492791  |   6.236701  |   4.0570570 |   5.3643291 |   1.150901  |   0.6827674 |   1.012886  |   0.5435348 | ⋯           |   0.6988305 |   0.000000  |   0.000000  |   0.000000  |   0.000000  |   0.000000  |   0.000000  |   0.6465934 |   0.0000000 |   0.000000  | \n",
       "| b4693 |   0.7997767 |   1.174633  |  16.194448  |  15.730374  |  11.0250970 |   7.7747325 |   2.502068  |   3.3927825 |   4.194331  |   3.3761413 | ⋯           |   2.7491438 |   2.971761  |   2.072962  |   3.133412  |   3.310512  |   2.184176  |   1.830685  |   1.3387617 |   0.8293197 |   3.678638  | \n",
       "| b4694 |  14.0166751 |  15.684811  |  17.269447  |  15.283253  |  22.7836562 |  19.8867441 |  12.727608  |  14.1573829 |  19.952372  |  16.1541743 | ⋯           |  10.1433192 |  15.589261  |  11.072056  |  10.460068  |  14.208773  |  17.233966  |  17.222630  |  16.0887658 |  11.7659735 |  12.280159  | \n",
       "| b4695 |   0.0000000 |   0.000000  |   0.000000  |   0.000000  |   0.0000000 |   0.0000000 |   0.000000  |   0.0000000 |   1.506508  |   0.0000000 | ⋯           |   0.0000000 |   0.000000  |   0.000000  |   0.000000  |   0.000000  |   0.000000  |   0.000000  |   0.0000000 |   0.0000000 |   0.000000  | \n",
       "| b4696 |   5.4560275 |   4.382261  |   5.250559  |   5.355572  |   9.9164142 |   9.3635773 |   4.038637  |   3.5260499 |  10.841822  |  10.7961695 | ⋯           |   5.6448546 |   5.294556  |   6.010188  |   7.036249  |   6.200548  |   8.677740  |   7.947429  |   6.9924148 |   3.8453783 |   5.184649  | \n",
       "| b4697 |   3.1518978 |   2.314599  |   6.204904  |   1.850536  |   0.8276114 |   0.7958443 |   5.634618  |  10.0281462 |   0.000000  |   4.4350931 | ⋯           |   1.1404526 |   0.000000  |   1.633897  |   0.000000  |   0.000000  |   1.565050  |   2.623519  |   0.0000000 |   1.6341630 |   1.610823  | \n",
       "| b4702 | 557.0263096 | 448.443002  | 475.763018  | 726.756077  |  88.8403267 |  29.1713103 | 612.226865  | 615.5458474 |  45.441765  |  41.8027683 | ⋯           | 200.0561141 | 271.588118  | 141.168719  | 181.054260  | 107.355177  | 225.367249  | 133.942564  | 146.4240196 | 273.8262920 | 118.087995  | \n",
       "| b4703 |   2.4938093 |   7.325324  |  14.026784  |  17.569927  |   9.1673883 |   5.0374319 |  20.804744  |  21.1582865 |   5.231391  |   8.4218031 | ⋯           |   9.0233609 |   2.647527  |   2.585508  |   0.000000  |   0.000000  |   0.000000  |   2.075751  |   3.3395484 |   0.0000000 |   7.646986  | \n",
       "| b4705 | 764.6019258 | 581.996973  | 113.897488  | 109.665629  | 371.2792265 | 418.7365290 | 519.078353  | 559.1077210 | 340.563557  | 391.0523923 | ⋯           | 277.9195156 | 242.778212  | 264.238884  | 213.385378  | 206.452264  | 273.907887  | 245.561367  | 245.4568109 | 112.2292855 | 155.233807  | \n",
       "| b4706 |   0.0000000 |   0.000000  |   0.000000  |   0.000000  |   0.0000000 |   0.0000000 |   0.000000  |   0.0000000 |   0.000000  |   0.0000000 | ⋯           |   0.0000000 |   0.000000  |   0.000000  |   0.000000  |   0.000000  |   0.000000  |   0.000000  |   0.0000000 |   0.0000000 |   0.000000  | \n",
       "| b4708 |   7.7806850 |  15.236673  |  11.670284  |  10.659089  |   4.7670419 |   0.0000000 |   6.181981  |   5.5011545 |   2.040243  |   3.6494480 | ⋯           |   0.9384295 |   0.000000  |   0.000000  |   1.354828  |   0.000000  |   2.575626  |   2.158781  |   2.6048478 |   1.3446827 |   2.650955  | \n",
       "\n",
       "\n"
      ],
      "text/plain": [
       "      wt_dhk__wt_glc__1 wt_dhk__wt_glc__2 fur__delfur_fe2__1 fur__delfur_fe2__2\n",
       "b0001 5073.896921       4452.320846       5751.588669        6934.373844       \n",
       "b0002 1624.844271       1702.627914       2100.267863        2080.934086       \n",
       "b0003  990.357349       1022.031680       1584.476962        1546.794746       \n",
       "b0004 1231.413206       1269.032718        999.149187         986.979517       \n",
       "b0005  213.229062        234.877411        176.045556         155.146977       \n",
       "b0006  118.427092        115.670440        111.893353         112.687671       \n",
       "b0007   15.372105         14.197930         17.114244          14.980040       \n",
       "b0008 2298.594936       2318.806306       2110.331892        2087.311944       \n",
       "b0009   68.196581         74.695916         79.316821          65.601355       \n",
       "b0010   45.946680         52.225174         36.405432          33.309654       \n",
       "b0011    3.173939          5.593884          6.605340           6.149474       \n",
       "b0013    4.471658          9.851297          7.231049           6.235305       \n",
       "b0014 1042.630716       1044.219555       1793.201503        1850.613494       \n",
       "b0015  215.108675        256.748715        348.877845         371.114267       \n",
       "b0016   78.633344         87.065484         89.602695          94.247781       \n",
       "b0018    6.453175          6.318526          6.654413           6.946089       \n",
       "b0019   78.495209         61.067361         65.461129          72.323015       \n",
       "b0020   74.311117         75.332919         63.610771          62.873348       \n",
       "b0021   13.930764         20.460137         10.110395          11.608909       \n",
       "b0022   31.132103         31.284686         16.128270          12.987157       \n",
       "b0023 6010.823807       4636.045371       5004.116150        4853.907853       \n",
       "b0024  246.535719        201.496349        291.839998         330.068385       \n",
       "b0025  307.315053        310.328058        342.458806         346.307363       \n",
       "b0026  611.392124        657.378921        623.271049         619.479178       \n",
       "b0027  220.988708        207.641914        189.664181         204.424567       \n",
       "b0028  190.204106        160.369366        208.305521         213.890813       \n",
       "b0029  143.980812        146.694995        131.934282         126.660657       \n",
       "b0030   30.720681         30.200966         25.222179          26.618631       \n",
       "b0031  497.716456        526.074846        421.239840         446.665050       \n",
       "b0032 1627.629083       1629.992823       1277.991290        1238.308094       \n",
       "⋮     ⋮                 ⋮                 ⋮                  ⋮                 \n",
       "b4670   4.1261208         6.060041          2.320795           2.422520        \n",
       "b4671   2.2032684         6.471888          1.239260           0.000000        \n",
       "b4672   0.0000000         6.288721          3.612559           8.798776        \n",
       "b4673   3.3871141        14.923980          0.000000           0.000000        \n",
       "b4674   0.0000000         0.000000          0.000000           3.977272        \n",
       "b4675   5.9720170         0.000000          6.718091          10.518838        \n",
       "b4676   9.0774658         6.666045         19.146560          26.647723        \n",
       "b4677   3.3871141         4.974660          1.905130           5.965908        \n",
       "b4678 109.9224373       124.988337        231.354273         285.213908        \n",
       "b4679 288.3430308       423.489893        124.640355         175.561468        \n",
       "b4680  87.0441925        59.355192        141.632091         158.791225        \n",
       "b4682   0.0000000         0.000000          0.000000           1.876600        \n",
       "b4683   0.0000000         0.000000          0.000000           1.624861        \n",
       "b4684   5.3607081         7.873281          3.015206           4.196492        \n",
       "b4685  16.6051203        20.323307         71.605023          64.994446        \n",
       "b4686 956.3758596       863.014705        862.734898         998.099976        \n",
       "b4687 213.0990444       162.586454        165.002879         190.108754        \n",
       "b4688   8.8130736         8.089860         11.153336           9.701841        \n",
       "b4689   0.0000000         0.000000          0.000000           0.000000        \n",
       "b4692   0.0000000         0.000000         12.492791           6.236701        \n",
       "b4693   0.7997767         1.174633         16.194448          15.730374        \n",
       "b4694  14.0166751        15.684811         17.269447          15.283253        \n",
       "b4695   0.0000000         0.000000          0.000000           0.000000        \n",
       "b4696   5.4560275         4.382261          5.250559           5.355572        \n",
       "b4697   3.1518978         2.314599          6.204904           1.850536        \n",
       "b4702 557.0263096       448.443002        475.763018         726.756077        \n",
       "b4703   2.4938093         7.325324         14.026784          17.569927        \n",
       "b4705 764.6019258       581.996973        113.897488         109.665629        \n",
       "b4706   0.0000000         0.000000          0.000000           0.000000        \n",
       "b4708   7.7806850        15.236673         11.670284          10.659089        \n",
       "      fur__delfur_dpd__1 fur__delfur_dpd__2 fur__wt_fe__1 fur__wt_fe__2\n",
       "b0001  435.793011         396.829339        4648.307607   5639.709690  \n",
       "b0002  865.719190        1075.226965        2027.529498   1680.430786  \n",
       "b0003  613.999082         967.119513        1581.940136   1418.113010  \n",
       "b0004  345.221922         454.313392        1255.084926   1054.761664  \n",
       "b0005   65.986738          66.915014         237.334651    202.447408  \n",
       "b0006   97.117756         110.771704         114.198789    120.647106  \n",
       "b0007   17.976275          16.245894          15.676200     16.582856  \n",
       "b0008 1602.949044        1501.580654        2191.872327   2276.042668  \n",
       "b0009   66.366288          73.352792          74.618032     77.637261  \n",
       "b0010   37.137607          31.475081          43.807171     48.869558  \n",
       "b0011    6.333832           4.487894           5.106619      4.039309  \n",
       "b0013    4.990130           5.645398           8.327022      7.508760  \n",
       "b0014 1195.364344        1181.925851         940.199773    983.950413  \n",
       "b0015  272.988951         224.242484         239.759967    219.697903  \n",
       "b0016   77.667694          67.279561          83.639178     87.570742  \n",
       "b0018   10.166677           3.801948           2.563618      1.520856  \n",
       "b0019  154.888049         134.225134          58.931930     58.108299  \n",
       "b0020   71.873537          68.356618          65.006222     63.154103  \n",
       "b0021   10.147663          11.573625          10.175785     13.979832  \n",
       "b0022    7.314053          12.411723          24.409898     22.590481  \n",
       "b0023 1803.830674        1833.192763        6414.534256   6506.412630  \n",
       "b0024   33.585977          32.296808         214.525277    297.562448  \n",
       "b0025  341.225164         419.274060         338.148786    357.822973  \n",
       "b0026  691.373326         724.251055         617.176633    595.454098  \n",
       "b0027  253.969925         268.712970         207.753821    209.944093  \n",
       "b0028  173.611227         148.905818         210.792186    236.228438  \n",
       "b0029  174.257415         175.995278         152.844934    152.697487  \n",
       "b0030   11.969647          13.261754          28.050064     34.157005  \n",
       "b0031  171.885746         173.364475         646.084614    562.648456  \n",
       "b0032  241.668299         320.884414        2123.124087   2022.511408  \n",
       "⋮     ⋮                  ⋮                  ⋮             ⋮            \n",
       "b4670  10.8341862          4.1673300         12.293712      2.9172789  \n",
       "b4671   0.0000000          1.1126367         52.516829     46.7331086  \n",
       "b4672   1.1243023          2.1622939          6.378813      7.5684122  \n",
       "b4673   7.1149879          5.1314139          4.036741      2.3947812  \n",
       "b4674   0.0000000          0.0000000          0.000000      0.0000000  \n",
       "b4675   4.7043177          0.0000000          7.117412      6.3335660  \n",
       "b4676   5.9588024          9.1681261         14.875392     20.8585441  \n",
       "b4677   1.7787470          0.0000000          2.018371      0.0000000  \n",
       "b4678   9.3106288          8.9532482        308.495339    283.2951305  \n",
       "b4679 775.3453477        671.4304121        136.821785     96.2702036  \n",
       "b4680  13.0603888         10.9891923        127.820925    127.4810916  \n",
       "b4682   2.5178038          0.0000000          3.809319      0.0000000  \n",
       "b4683   0.0000000          0.0000000          1.649157      0.0000000  \n",
       "b4684   0.9383941          1.8047492          3.194429      2.5267770  \n",
       "b4685  21.8004966         62.8911090         65.966260    113.4892644  \n",
       "b4686 422.4365273        348.9208709        991.290307    832.3361355  \n",
       "b4687  58.1346576         46.1201466        184.705529    197.6278570  \n",
       "b4688   2.3140980          3.8942283         10.503366      7.7888514  \n",
       "b4689   0.0000000          0.0000000          0.000000      0.0000000  \n",
       "b4692   4.0570570          5.3643291          1.150901      0.6827674  \n",
       "b4693  11.0250970          7.7747325          2.502068      3.3927825  \n",
       "b4694  22.7836562         19.8867441         12.727608     14.1573829  \n",
       "b4695   0.0000000          0.0000000          0.000000      0.0000000  \n",
       "b4696   9.9164142          9.3635773          4.038637      3.5260499  \n",
       "b4697   0.8276114          0.7958443          5.634618     10.0281462  \n",
       "b4702  88.8403267         29.1713103        612.226865    615.5458474  \n",
       "b4703   9.1673883          5.0374319         20.804744     21.1582865  \n",
       "b4705 371.2792265        418.7365290        519.078353    559.1077210  \n",
       "b4706   0.0000000          0.0000000          0.000000      0.0000000  \n",
       "b4708   4.7670419          0.0000000          6.181981      5.5011545  \n",
       "      fur__wt_dpd__1 fur__wt_dpd__2 ⋯ misc__wt_no_te__1 misc__wt_no_te__2\n",
       "b0001  552.438799     541.425573    ⋯  713.276477        449.486834      \n",
       "b0002 2807.458703    3157.705639    ⋯ 1667.911865       2224.937938      \n",
       "b0003 2148.498418    2878.043018    ⋯ 1148.345368       1327.666683      \n",
       "b0004 1120.932150    1438.259367    ⋯  918.411403       1258.870238      \n",
       "b0005  103.438470      96.012324    ⋯   83.214766        136.631931      \n",
       "b0006  104.328596     101.626339    ⋯  136.572858        137.494440      \n",
       "b0007   16.455867      16.858309    ⋯   20.184099         15.478418      \n",
       "b0008 1998.191438    1634.016470    ⋯ 1947.486943       2177.406475      \n",
       "b0009   77.389504      75.250503    ⋯   65.243955         71.173073      \n",
       "b0010   29.753537      31.033158    ⋯   35.562845         36.478072      \n",
       "b0011    6.824587       5.895262    ⋯    5.282768          6.402201      \n",
       "b0013    9.087287       9.123620    ⋯    7.685414          7.714345      \n",
       "b0014 1710.688739    1656.769489    ⋯ 1505.768410       1498.683783      \n",
       "b0015  292.173421     293.712864    ⋯  288.409571        300.730516      \n",
       "b0016   72.540938      73.038100    ⋯   76.510648         79.154874      \n",
       "b0018    6.768577       2.421435    ⋯    2.334955          3.425473      \n",
       "b0019  137.661055     130.355284    ⋯  102.781334         94.059738      \n",
       "b0020   50.256249      65.484858    ⋯   81.297796         73.313434      \n",
       "b0021    7.305819       9.864350    ⋯    8.455157          8.587424      \n",
       "b0022    8.593079      12.450283    ⋯    7.707318          5.218591      \n",
       "b0023 1470.386095    1349.607194    ⋯ 2220.448219       2916.555537      \n",
       "b0024   23.802829      35.996828    ⋯   24.633775         13.141361      \n",
       "b0025  407.525640     447.396012    ⋯  366.763737        354.872477      \n",
       "b0026  903.080019     931.373325    ⋯  725.318114        761.418574      \n",
       "b0027  313.611874     344.563813    ⋯  301.631307        338.557833      \n",
       "b0028  195.014311     203.349510    ⋯  188.258120        181.628560      \n",
       "b0029  206.774578     214.539242    ⋯  143.007001        152.855741      \n",
       "b0030   11.043889      10.737186    ⋯   20.079933         20.515443      \n",
       "b0031  235.136090     174.291075    ⋯  298.718198        401.053672      \n",
       "b0032  115.598958      53.202605    ⋯  310.456970        866.282295      \n",
       "⋮     ⋮              ⋮              ⋱ ⋮                 ⋮                \n",
       "b4670  10.819468       4.6447520    ⋯   5.9718243         0.000000       \n",
       "b4671   1.155477       7.4406222    ⋯  54.2102497         2.339077       \n",
       "b4672   1.122775       0.0000000    ⋯   1.5492940         2.272877       \n",
       "b4673  10.657983       3.8128561    ⋯   0.0000000         0.000000       \n",
       "b4674   0.000000       3.8128561    ⋯   0.0000000         0.000000       \n",
       "b4675   1.565976       3.3613337    ⋯   4.3217150         0.000000       \n",
       "b4676   8.330990       5.1092272    ⋯   1.6422517         0.000000       \n",
       "b4677   0.000000       0.0000000    ⋯   0.0000000         0.000000       \n",
       "b4678  11.157576       3.9915838    ⋯  17.9621278        26.351166       \n",
       "b4679 604.871897     784.4166520    ⋯ 341.9747622       260.765821       \n",
       "b4680  16.303308      12.2481475    ⋯  62.9904755        39.604100       \n",
       "b4682   0.000000       0.0000000    ⋯   1.1565153         0.000000       \n",
       "b4683   0.000000       0.0000000    ⋯   0.0000000         0.000000       \n",
       "b4684   3.748477       1.0057534    ⋯   0.0000000         1.897047       \n",
       "b4685  29.027841      49.8461194    ⋯   2.0027460         8.814327       \n",
       "b4686 423.987896     306.7817246    ⋯ 325.5177443       367.840761       \n",
       "b4687  39.187585      34.2692071    ⋯  88.1208220        79.328945       \n",
       "b4688   3.466431       2.4802074    ⋯   3.1888382         0.000000       \n",
       "b4689   0.000000       0.0000000    ⋯   0.0000000         0.000000       \n",
       "b4692   1.012886       0.5435348    ⋯   0.6988305         0.000000       \n",
       "b4693   4.194331       3.3761413    ⋯   2.7491438         2.971761       \n",
       "b4694  19.952372      16.1541743    ⋯  10.1433192        15.589261       \n",
       "b4695   1.506508       0.0000000    ⋯   0.0000000         0.000000       \n",
       "b4696  10.841822      10.7961695    ⋯   5.6448546         5.294556       \n",
       "b4697   0.000000       4.4350931    ⋯   1.1404526         0.000000       \n",
       "b4702  45.441765      41.8027683    ⋯ 200.0561141       271.588118       \n",
       "b4703   5.231391       8.4218031    ⋯   9.0233609         2.647527       \n",
       "b4705 340.563557     391.0523923    ⋯ 277.9195156       242.778212       \n",
       "b4706   0.000000       0.0000000    ⋯   0.0000000         0.000000       \n",
       "b4708   2.040243       3.6494480    ⋯   0.9384295         0.000000       \n",
       "      lipidome__del_fabr__1 lipidome__del_fabr__2 lipidome__del_fadr__1\n",
       "b0001  642.633720            704.207135            676.978544          \n",
       "b0002 2521.251929           2563.973117           2084.036740          \n",
       "b0003 2557.108609           2394.048894           2093.943197          \n",
       "b0004 1500.830996           1466.012035           1195.868330          \n",
       "b0005  243.966074            252.211651            155.809108          \n",
       "b0006  138.809858            123.728168            131.089227          \n",
       "b0007   11.336873              9.437435             12.557257          \n",
       "b0008 2616.425469           2623.187789           2300.829419          \n",
       "b0009   77.494996             98.219265             82.020085          \n",
       "b0010   40.594291             41.324633             29.768381          \n",
       "b0011    5.265034              6.632024              3.002942          \n",
       "b0013    8.113145              9.927617             10.576865          \n",
       "b0014 3144.769965           3139.096449           2370.153801          \n",
       "b0015  548.712335            579.751400            418.941251          \n",
       "b0016  104.545954            105.351847             97.332791          \n",
       "b0018    0.000000              1.123672              2.543962          \n",
       "b0019   41.093634             42.425365             51.241876          \n",
       "b0020   32.685150             31.891481             44.682006          \n",
       "b0021    7.454454              6.572927              9.566303          \n",
       "b0022   11.891468              7.703443              7.751276          \n",
       "b0023 3606.461231           3754.151137           2940.113964          \n",
       "b0024   33.153260             68.973051             58.557370          \n",
       "b0025  501.750254            469.915484            449.400385          \n",
       "b0026 1031.463421           1002.058139            873.451324          \n",
       "b0027  374.742231            357.554352            345.224815          \n",
       "b0028  226.934193            221.849297            203.522565          \n",
       "b0029  217.733966            211.940893            200.163277          \n",
       "b0030   29.795436             35.978369             21.681995          \n",
       "b0031  674.396532            693.711341            482.641746          \n",
       "b0032 1859.744426           1824.187271           1167.137484          \n",
       "⋮     ⋮                     ⋮                     ⋮                    \n",
       "b4670   0.000000              4.310816              0.000000           \n",
       "b4671   2.284283              0.000000              2.605708           \n",
       "b4672   2.219634              6.710232              2.531962           \n",
       "b4673   0.000000              0.000000              0.000000           \n",
       "b4674   0.000000              0.000000              0.000000           \n",
       "b4675   0.000000              0.000000              0.000000           \n",
       "b4676   2.352812              7.112846              0.000000           \n",
       "b4677   0.000000              0.000000              0.000000           \n",
       "b4678  29.410150             55.569109             79.677671           \n",
       "b4679  91.344465             72.523135             78.937630           \n",
       "b4680  77.352723             58.461747             69.854396           \n",
       "b4682   0.000000              0.000000              0.000000           \n",
       "b4683   0.000000              0.000000              0.000000           \n",
       "b4684   0.000000              0.000000              0.000000           \n",
       "b4685   8.607849             20.239806             39.276284           \n",
       "b4686 741.555919            893.339579            726.085240           \n",
       "b4687  91.817053             89.633424             78.552569           \n",
       "b4688   2.284283              3.452838              0.000000           \n",
       "b4689   0.000000              0.000000              0.000000           \n",
       "b4692   0.000000              0.000000              0.000000           \n",
       "b4693   2.072962              3.133412              3.310512           \n",
       "b4694  11.072056             10.460068             14.208773           \n",
       "b4695   0.000000              0.000000              0.000000           \n",
       "b4696   6.010188              7.036249              6.200548           \n",
       "b4697   1.633897              0.000000              0.000000           \n",
       "b4702 141.168719            181.054260            107.355177           \n",
       "b4703   2.585508              0.000000              0.000000           \n",
       "b4705 264.238884            213.385378            206.452264           \n",
       "b4706   0.000000              0.000000              0.000000           \n",
       "b4708   0.000000              1.354828              0.000000           \n",
       "      lipidome__del_fadr__2 sulfur__del_cbl__1 sulfur__del_cbl__2 dki__ins82__1\n",
       "b0001  992.288632            775.308563         562.439771         667.323869  \n",
       "b0002 2114.555772           2253.457908        2210.050546        2645.147464  \n",
       "b0003 1897.524672           2355.301989        2247.843266        1634.134990  \n",
       "b0004 1131.035633           1300.548375        1256.060435        1713.556915  \n",
       "b0005  210.998196            199.035284         206.508487         444.580072  \n",
       "b0006  132.381533            118.726031         120.309594         183.295114  \n",
       "b0007   15.108419             11.080337          11.990425          12.489022  \n",
       "b0008 2391.960662           2566.971740        2571.843958        2902.684139  \n",
       "b0009   73.464366             84.023871          75.845738         118.658544  \n",
       "b0010   29.361226             30.262844          39.324947          54.686919  \n",
       "b0011    7.879974              6.076290           4.675368           4.936772  \n",
       "b0013    6.106009              8.374582           7.110935           4.636837  \n",
       "b0014 2216.189613           2669.128161        2693.102060        2063.155476  \n",
       "b0015  414.301453            495.427900         445.646810         631.121829  \n",
       "b0016   91.643953             96.481437         107.483097         128.855365  \n",
       "b0018    0.000000              5.371375           0.000000           2.230516  \n",
       "b0019   64.638723             47.223340          47.874486          54.196008  \n",
       "b0020   39.010648             31.864040          39.201954          49.554596  \n",
       "b0021    7.586620              6.732833           8.725810           6.057729  \n",
       "b0022   13.017603             10.910808          10.422526          28.034449  \n",
       "b0023 3178.953870           3385.824357        3279.814637        4156.718632  \n",
       "b0024   50.195433             83.284799          50.419592          25.671215  \n",
       "b0025  421.816749            479.745063         504.994263         412.744860  \n",
       "b0026  842.288099            971.882474         933.319058         923.908663  \n",
       "b0027  288.524603            353.794215         351.383113         425.093236  \n",
       "b0028  208.377257            200.620663         220.680471         254.103285  \n",
       "b0029  186.306749            210.520855         205.578674         228.398309  \n",
       "b0030   26.079616             29.901241          31.020249          55.233282  \n",
       "b0031  450.734497            531.104778         523.237854         859.502219  \n",
       "b0032 1173.673437           1426.555497        1445.105376        1046.660076  \n",
       "⋮     ⋮                     ⋮                  ⋮                  ⋮            \n",
       "b4670   4.097586              3.434425           0.0000000          4.2785358  \n",
       "b4671   2.188032              0.000000           0.0000000          0.0000000  \n",
       "b4672   2.126106              5.346038           2.8669708          0.0000000  \n",
       "b4673   0.000000              0.000000           0.0000000          0.0000000  \n",
       "b4674   0.000000              0.000000           0.0000000          0.0000000  \n",
       "b4675   0.000000              0.000000           0.0000000          0.0000000  \n",
       "b4676   0.000000              5.666801           0.0000000          0.0000000  \n",
       "b4677   0.000000              0.000000           0.0000000          0.0000000  \n",
       "b4678  59.863175             76.737927          40.3615738        150.7515353  \n",
       "b4679 135.220349             60.001420          78.6561881         35.9900365  \n",
       "b4680  98.791123             51.751605          56.2004831         64.4710876  \n",
       "b4682   0.000000              0.000000           0.0000000          0.0000000  \n",
       "b4683   0.000000              0.000000           0.0000000          0.0000000  \n",
       "b4684   1.774545              0.000000           1.1964524          0.0000000  \n",
       "b4685  27.483811             34.553663          29.6486740         20.0882474  \n",
       "b4686 804.883031            674.619139         716.3331419        407.6069385  \n",
       "b4687 115.432005            103.660990          63.0034323         74.6134904  \n",
       "b4688   2.188032              0.000000           0.0000000          1.1423275  \n",
       "b4689   0.000000              0.000000           0.0000000          0.0000000  \n",
       "b4692   0.000000              0.000000           0.6465934          0.0000000  \n",
       "b4693   2.184176              1.830685           1.3387617          0.8293197  \n",
       "b4694  17.233966             17.222630          16.0887658         11.7659735  \n",
       "b4695   0.000000              0.000000           0.0000000          0.0000000  \n",
       "b4696   8.677740              7.947429           6.9924148          3.8453783  \n",
       "b4697   1.565050              2.623519           0.0000000          1.6341630  \n",
       "b4702 225.367249            133.942564         146.4240196        273.8262920  \n",
       "b4703   0.000000              2.075751           3.3395484          0.0000000  \n",
       "b4705 273.907887            245.561367         245.4568109        112.2292855  \n",
       "b4706   0.000000              0.000000           0.0000000          0.0000000  \n",
       "b4708   2.575626              2.158781           2.6048478          1.3446827  \n",
       "      dki__ins82_rpoBE672K__1\n",
       "b0001  799.737728            \n",
       "b0002 2588.917375            \n",
       "b0003 2342.682135            \n",
       "b0004 1592.554009            \n",
       "b0005  228.066640            \n",
       "b0006  107.929305            \n",
       "b0007   11.176774            \n",
       "b0008 2165.837169            \n",
       "b0009   83.489330            \n",
       "b0010   46.555063            \n",
       "b0011    5.839516            \n",
       "b0013    9.141224            \n",
       "b0014 1990.997813            \n",
       "b0015  426.828343            \n",
       "b0016  100.362681            \n",
       "b0018    9.893967            \n",
       "b0019   39.718932            \n",
       "b0020   31.456343            \n",
       "b0021    9.645802            \n",
       "b0022   10.886142            \n",
       "b0023 4632.168716            \n",
       "b0024   32.685070            \n",
       "b0025  419.148875            \n",
       "b0026  807.821620            \n",
       "b0027  362.902911            \n",
       "b0028  183.612431            \n",
       "b0029  190.537390            \n",
       "b0030   36.211872            \n",
       "b0031  708.558718            \n",
       "b0032 1148.295733            \n",
       "⋮     ⋮                      \n",
       "b4670   0.000000             \n",
       "b4671   0.000000             \n",
       "b4672   0.000000             \n",
       "b4673   3.462068             \n",
       "b4674   0.000000             \n",
       "b4675   0.000000             \n",
       "b4676   0.000000             \n",
       "b4677   0.000000             \n",
       "b4678 148.598454             \n",
       "b4679  27.289243             \n",
       "b4680  69.905320             \n",
       "b4682   0.000000             \n",
       "b4683   0.000000             \n",
       "b4684   3.652891             \n",
       "b4685  25.458867             \n",
       "b4686 671.022983             \n",
       "b4687 118.808044             \n",
       "b4688   4.504050             \n",
       "b4689   0.000000             \n",
       "b4692   0.000000             \n",
       "b4693   3.678638             \n",
       "b4694  12.280159             \n",
       "b4695   0.000000             \n",
       "b4696   5.184649             \n",
       "b4697   1.610823             \n",
       "b4702 118.087995             \n",
       "b4703   7.646986             \n",
       "b4705 155.233807             \n",
       "b4706   0.000000             \n",
       "b4708   2.650955             "
      ]
     },
     "metadata": {},
     "output_type": "display_data"
    }
   ],
   "source": [
    "fpkm(dds)"
   ]
  },
  {
   "cell_type": "code",
   "execution_count": 9,
   "metadata": {
    "collapsed": false
   },
   "outputs": [
    {
     "data": {
      "text/html": [
       "4319"
      ],
      "text/latex": [
       "4319"
      ],
      "text/markdown": [
       "4319"
      ],
      "text/plain": [
       "[1] 4319"
      ]
     },
     "metadata": {},
     "output_type": "display_data"
    },
    {
     "data": {
      "text/html": [
       "4251"
      ],
      "text/latex": [
       "4251"
      ],
      "text/markdown": [
       "4251"
      ],
      "text/plain": [
       "[1] 4251"
      ]
     },
     "metadata": {},
     "output_type": "display_data"
    }
   ],
   "source": [
    "nrow(dds)\n",
    "dds <- dds[rowSums(assay(dds)) > 1, ]\n",
    "nrow(dds)"
   ]
  },
  {
   "cell_type": "code",
   "execution_count": 52,
   "metadata": {
    "collapsed": false
   },
   "outputs": [],
   "source": [
    "write.csv(fpkm(dds), file = \"deseq2-fpkm.csv\")"
   ]
  },
  {
   "cell_type": "markdown",
   "metadata": {},
   "source": [
    "### Normalize with rlog"
   ]
  },
  {
   "cell_type": "code",
   "execution_count": 12,
   "metadata": {
    "collapsed": false
   },
   "outputs": [],
   "source": [
    "rld <- rlog(dds)"
   ]
  },
  {
   "cell_type": "code",
   "execution_count": 13,
   "metadata": {
    "collapsed": false
   },
   "outputs": [],
   "source": [
    "library(\"pheatmap\")\n",
    "library(\"RColorBrewer\")"
   ]
  },
  {
   "cell_type": "code",
   "execution_count": 14,
   "metadata": {
    "collapsed": false
   },
   "outputs": [],
   "source": [
    "library(tools)"
   ]
  },
  {
   "cell_type": "code",
   "execution_count": 15,
   "metadata": {
    "collapsed": false
   },
   "outputs": [],
   "source": [
    "colnames(rld) <- colData(dds)$name"
   ]
  },
  {
   "cell_type": "code",
   "execution_count": 16,
   "metadata": {
    "collapsed": false
   },
   "outputs": [
    {
     "data": {
      "text/plain": [
       "class: DESeqTransform \n",
       "dim: 4251 162 \n",
       "metadata(1): version\n",
       "assays(1): ''\n",
       "rownames(4251): b0001 b0002 ... b4705 b4708\n",
       "rowData names(6): baseMean baseVar ... dispFit rlogIntercept\n",
       "colnames(162): wt_dhk__wt_glc__1 wt_dhk__wt_glc__2 ... dki__ins82__1\n",
       "  dki__ins82_rpoBE672K__1\n",
       "colData names(44): creator creator.email ... GEO sizeFactor"
      ]
     },
     "metadata": {},
     "output_type": "display_data"
    }
   ],
   "source": [
    "rld"
   ]
  },
  {
   "cell_type": "code",
   "execution_count": 17,
   "metadata": {
    "collapsed": false
   },
   "outputs": [
    {
     "data": {},
     "metadata": {},
     "output_type": "display_data"
    },
    {
     "data": {
      "image/png": "[encoded data removed]",
      "text/plain": [
       "plot without title"
      ]
     },
     "metadata": {},
     "output_type": "display_data"
    }
   ],
   "source": [
    "plotPCA(rld,intgroup=c(\"project\"),ntop=nrow(assay(rld)))"
   ]
  },
  {
   "cell_type": "code",
   "execution_count": 18,
   "metadata": {
    "collapsed": true
   },
   "outputs": [],
   "source": [
    "save(rld,file='rld.rda')"
   ]
  },
  {
   "cell_type": "code",
   "execution_count": 19,
   "metadata": {
    "collapsed": true
   },
   "outputs": [],
   "source": [
    "write.csv(assay(rld), file = \"rlog-data.csv\")"
   ]
  },
  {
   "cell_type": "code",
   "execution_count": null,
   "metadata": {
    "collapsed": true
   },
   "outputs": [],
   "source": []
  }
 ],
 "metadata": {
  "kernelspec": {
   "display_name": "R",
   "language": "R",
   "name": "ir"
  },
  "language_info": {
   "codemirror_mode": "r",
   "file_extension": ".r",
   "mimetype": "text/x-r-source",
   "name": "R",
   "pygments_lexer": "r",
   "version": "3.3.1"
  }
 },
 "nbformat": 4,
 "nbformat_minor": 1
}
