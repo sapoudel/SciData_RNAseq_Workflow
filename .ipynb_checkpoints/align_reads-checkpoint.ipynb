{
 "cells": [
  {
   "cell_type": "code",
   "execution_count": 1,
   "metadata": {
    "collapsed": true
   },
   "outputs": [],
   "source": [
    "import pandas as pd\n",
    "import os,sys,subprocess"
   ]
  },
  {
   "cell_type": "markdown",
   "metadata": {},
   "source": [
    "# Setup"
   ]
  },
  {
   "cell_type": "code",
   "execution_count": 2,
   "metadata": {
    "collapsed": true
   },
   "outputs": [],
   "source": [
    "ROOT_DIR = os.getcwd() # Location of github folder"
   ]
  },
  {
   "cell_type": "code",
   "execution_count": 3,
   "metadata": {
    "collapsed": false
   },
   "outputs": [],
   "source": [
    "sys.path.append(os.path.join(ROOT_DIR,'align_reads.py'))\n",
    "from align_reads import align_reads"
   ]
  },
  {
   "cell_type": "markdown",
   "metadata": {},
   "source": [
    "### Choose bowtie or bowtie2 as your aligner:"
   ]
  },
  {
   "cell_type": "code",
   "execution_count": 14,
   "metadata": {
    "collapsed": false
   },
   "outputs": [
    {
     "name": "stdout",
     "output_type": "stream",
     "text": [
      "bowtie version 1.1.2\n",
      "64-bit\n",
      "Built on localhost.localdomain\n",
      "Tue Jun 23 13:28:18 EDT 2015\n",
      "Compiler: gcc version 4.1.2 20080704 (Red Hat 4.1.2-54)\n",
      "Options: -O3 -m64  -Wl,--hash-style=both -DPOPCNT_CAPABILITY  \n",
      "Sizeof {int, long, long long, void*, size_t, off_t}: {4, 8, 8, 8, 8, 8}\n",
      "\n"
     ]
    }
   ],
   "source": [
    "ALIGNER = 'bowtie' # 'bowtie2'\n",
    "try:\n",
    "    print subprocess.check_output([ALIGNER,'--version'])\n",
    "except:\n",
    "    print 'Aligner not installed correctly.'"
   ]
  },
  {
   "cell_type": "markdown",
   "metadata": {},
   "source": [
    "### Enter bowtie index location"
   ]
  },
  {
   "cell_type": "code",
   "execution_count": 5,
   "metadata": {
    "collapsed": true
   },
   "outputs": [],
   "source": [
    "BT_INDEX = 'example/ref/NC_000913.3'"
   ]
  },
  {
   "cell_type": "markdown",
   "metadata": {},
   "source": [
    "### Choose directory for aligned files"
   ]
  },
  {
   "cell_type": "code",
   "execution_count": 6,
   "metadata": {
    "collapsed": false
   },
   "outputs": [],
   "source": [
    "OUT_DIR = 'example/bam/'"
   ]
  },
  {
   "cell_type": "markdown",
   "metadata": {},
   "source": [
    "### Enter files into a csv with 4 columns:\n",
    "1. Unique sample identifier\n",
    "1. Metadata file location (optional)\n",
    "1. R1 file location\n",
    "1. R2 file location\n",
    "\n",
    "Note: Use absolute file locations, not relative locations"
   ]
  },
  {
   "cell_type": "code",
   "execution_count": 7,
   "metadata": {
    "collapsed": false
   },
   "outputs": [
    {
     "data": {
      "text/html": [
       "<div>\n",
       "<table border=\"1\" class=\"dataframe\">\n",
       "  <thead>\n",
       "    <tr style=\"text-align: right;\">\n",
       "      <th></th>\n",
       "      <th>sample_id</th>\n",
       "      <th>metadata</th>\n",
       "      <th>R1</th>\n",
       "      <th>R2</th>\n",
       "    </tr>\n",
       "  </thead>\n",
       "  <tbody>\n",
       "    <tr>\n",
       "      <th>0</th>\n",
       "      <td>wt_fe2_1</td>\n",
       "      <td>/media/nucleoid/raw_data/dhkim/fur/2016-02-14_...</td>\n",
       "      <td>/media/nucleoid/raw_data/dhkim/fur/2016-02-14_...</td>\n",
       "      <td>/media/nucleoid/raw_data/dhkim/fur/2016-02-14_...</td>\n",
       "    </tr>\n",
       "    <tr>\n",
       "      <th>1</th>\n",
       "      <td>wt_fe2_2</td>\n",
       "      <td>/media/nucleoid/raw_data/dhkim/fur/2016-02-14_...</td>\n",
       "      <td>/media/nucleoid/raw_data/dhkim/fur/2016-02-14_...</td>\n",
       "      <td>/media/nucleoid/raw_data/dhkim/fur/2016-02-14_...</td>\n",
       "    </tr>\n",
       "    <tr>\n",
       "      <th>2</th>\n",
       "      <td>wt_dpd_1</td>\n",
       "      <td>/media/nucleoid/raw_data/dhkim/fur/2016-02-13_...</td>\n",
       "      <td>/media/nucleoid/raw_data/dhkim/fur/2016-02-13_...</td>\n",
       "      <td>/media/nucleoid/raw_data/dhkim/fur/2016-02-13_...</td>\n",
       "    </tr>\n",
       "    <tr>\n",
       "      <th>3</th>\n",
       "      <td>wt_dpd_2</td>\n",
       "      <td>/media/nucleoid/raw_data/dhkim/fur/2016-02-13_...</td>\n",
       "      <td>/media/nucleoid/raw_data/dhkim/fur/2016-02-13_...</td>\n",
       "      <td>/media/nucleoid/raw_data/dhkim/fur/2016-02-13_...</td>\n",
       "    </tr>\n",
       "    <tr>\n",
       "      <th>4</th>\n",
       "      <td>delfur_fe2_1</td>\n",
       "      <td>/media/nucleoid/raw_data/dhkim/fur/2016-02-11_...</td>\n",
       "      <td>/media/nucleoid/raw_data/dhkim/fur/2016-02-11_...</td>\n",
       "      <td>/media/nucleoid/raw_data/dhkim/fur/2016-02-11_...</td>\n",
       "    </tr>\n",
       "  </tbody>\n",
       "</table>\n",
       "</div>"
      ],
      "text/plain": [
       "      sample_id                                           metadata  \\\n",
       "0      wt_fe2_1  /media/nucleoid/raw_data/dhkim/fur/2016-02-14_...   \n",
       "1      wt_fe2_2  /media/nucleoid/raw_data/dhkim/fur/2016-02-14_...   \n",
       "2      wt_dpd_1  /media/nucleoid/raw_data/dhkim/fur/2016-02-13_...   \n",
       "3      wt_dpd_2  /media/nucleoid/raw_data/dhkim/fur/2016-02-13_...   \n",
       "4  delfur_fe2_1  /media/nucleoid/raw_data/dhkim/fur/2016-02-11_...   \n",
       "\n",
       "                                                  R1  \\\n",
       "0  /media/nucleoid/raw_data/dhkim/fur/2016-02-14_...   \n",
       "1  /media/nucleoid/raw_data/dhkim/fur/2016-02-14_...   \n",
       "2  /media/nucleoid/raw_data/dhkim/fur/2016-02-13_...   \n",
       "3  /media/nucleoid/raw_data/dhkim/fur/2016-02-13_...   \n",
       "4  /media/nucleoid/raw_data/dhkim/fur/2016-02-11_...   \n",
       "\n",
       "                                                  R2  \n",
       "0  /media/nucleoid/raw_data/dhkim/fur/2016-02-14_...  \n",
       "1  /media/nucleoid/raw_data/dhkim/fur/2016-02-14_...  \n",
       "2  /media/nucleoid/raw_data/dhkim/fur/2016-02-13_...  \n",
       "3  /media/nucleoid/raw_data/dhkim/fur/2016-02-13_...  \n",
       "4  /media/nucleoid/raw_data/dhkim/fur/2016-02-11_...  "
      ]
     },
     "execution_count": 7,
     "metadata": {},
     "output_type": "execute_result"
    }
   ],
   "source": [
    "DF_files = pd.read_csv('example/raw_files.csv')\n",
    "DF_files.head()"
   ]
  },
  {
   "cell_type": "markdown",
   "metadata": {},
   "source": [
    "# QC"
   ]
  },
  {
   "cell_type": "markdown",
   "metadata": {},
   "source": [
    "**Before alignment, run FastQC on your samples to assess the quality of the raw reads.**"
   ]
  },
  {
   "cell_type": "code",
   "execution_count": 11,
   "metadata": {
    "collapsed": false
   },
   "outputs": [
    {
     "name": "stdout",
     "output_type": "stream",
     "text": [
      "Number of unique sample IDs: 8\n",
      "Number of unique metadata files: 4\n"
     ]
    }
   ],
   "source": [
    "print 'Number of unique sample IDs: %d'%len(DF_files.sample_id.unique())\n",
    "print 'Number of unique metadata files: %d'%len(DF_files.metadata.unique())"
   ]
  },
  {
   "cell_type": "code",
   "execution_count": 9,
   "metadata": {
    "collapsed": false
   },
   "outputs": [
    {
     "name": "stdout",
     "output_type": "stream",
     "text": [
      "Number of unique R1 files: 8\n",
      "Number of unique R2 lists: 8\n"
     ]
    }
   ],
   "source": [
    "all_R1 = [r1.split(',') for r1 in DF_files.R1.values]\n",
    "all_R2 = [r1.split(',') for r1 in DF_files.R2.values]\n",
    "print 'Number of unique R1 files: %d'%len(DF_files.R1.unique())\n",
    "print 'Number of unique R2 lists: %d'%len(DF_files.R2.unique())"
   ]
  },
  {
   "cell_type": "markdown",
   "metadata": {},
   "source": [
    "# Process Reads"
   ]
  },
  {
   "cell_type": "markdown",
   "metadata": {},
   "source": [
    "The `align_reads` function takes the following required arguments:\n",
    "* `name`: The unique sample name used to name the output files\n",
    "* `R1`: Location of the R1 file\n",
    "* `R2`: Location of the R2 file\n",
    "* `bt_index`: Location of bowtie index to use for alignment\n",
    "* `out_dir`: Output directory\n",
    "\n",
    "Optional arguments:\n",
    "* `aligner`: 'bowtie' or 'bowtie2' (default 'bowtie')\n",
    "* `cores`: Number of cores to use (default 1)\n",
    "* `force`: Re-runs alignment even if BAM file already exists\n",
    "* `verbose`: Update user with current process"
   ]
  },
  {
   "cell_type": "code",
   "execution_count": null,
   "metadata": {
    "collapsed": true
   },
   "outputs": [],
   "source": [
    "s"
   ]
  },
  {
   "cell_type": "code",
   "execution_count": null,
   "metadata": {
    "collapsed": true
   },
   "outputs": [],
   "source": []
  },
  {
   "cell_type": "code",
   "execution_count": 10,
   "metadata": {
    "collapsed": true
   },
   "outputs": [
    {
     "name": "stdout",
     "output_type": "stream",
     "text": [
      "Processing wt_fe2_1\n",
      "Processing wt_fe2_2\n",
      "Unzipping file: /media/nucleoid/raw_data/dhkim/fur/2016-02-14_RNA-seq/WT-FE2-2_S2_L001_R1_001.fastq.gz\n",
      "Unzipping file: /media/nucleoid/raw_data/dhkim/fur/2016-02-14_RNA-seq/WT-FE2-2_S2_L001_R2_001.fastq.gz\n",
      "Running bowtie aligner...\n",
      "Converting to BAM...\n",
      "Sorting BAM file...\n",
      "Cleaning up...\n",
      "Processing wt_dpd_1\n",
      "Unzipping file: /media/nucleoid/raw_data/dhkim/fur/2016-02-13_RNA-seq/WTDPD1_S1_L001_R1_001.fastq.gz\n",
      "Unzipping file: /media/nucleoid/raw_data/dhkim/fur/2016-02-13_RNA-seq/WTDPD1_S1_L001_R2_001.fastq.gz\n",
      "Running bowtie aligner...\n",
      "Converting to BAM...\n",
      "Sorting BAM file...\n",
      "Cleaning up...\n",
      "Processing wt_dpd_2\n",
      "Unzipping file: /media/nucleoid/raw_data/dhkim/fur/2016-02-13_RNA-seq/WTDPD2_S1_L001_R1_001.fastq.gz\n",
      "Unzipping file: /media/nucleoid/raw_data/dhkim/fur/2016-02-13_RNA-seq/WTDPD2_S1_L001_R2_001.fastq.gz\n",
      "Running bowtie aligner...\n",
      "Converting to BAM...\n",
      "Sorting BAM file...\n",
      "Cleaning up...\n",
      "Processing delfur_fe2_1\n",
      "Unzipping file: /media/nucleoid/raw_data/dhkim/fur/2016-02-11_RNA-seq/del-fur-Fe2-1_S1_L001_R1_001.fastq.gz\n",
      "Unzipping file: /media/nucleoid/raw_data/dhkim/fur/2016-02-11_RNA-seq/del-fur-Fe2-1_S1_L001_R2_001.fastq.gz\n",
      "Running bowtie aligner...\n",
      "Converting to BAM...\n",
      "Sorting BAM file...\n",
      "Cleaning up...\n",
      "Processing delfur_fe2_2\n",
      "Unzipping file: /media/nucleoid/raw_data/dhkim/fur/2016-02-11_RNA-seq/del-fur-Fe2-2_S2_L001_R1_001.fastq.gz\n",
      "Unzipping file: /media/nucleoid/raw_data/dhkim/fur/2016-02-11_RNA-seq/del-fur-Fe2-2_S2_L001_R2_001.fastq.gz\n",
      "Running bowtie aligner...\n",
      "Converting to BAM...\n",
      "Sorting BAM file...\n",
      "Cleaning up...\n",
      "Processing delfur_dpd_1\n",
      "Unzipping file: /media/nucleoid/raw_data/dhkim/fur/2016-02-12_RNA-seq/delfurDPD1_S2_L001_R1_001.fastq.gz\n",
      "Unzipping file: /media/nucleoid/raw_data/dhkim/fur/2016-02-12_RNA-seq/delfurDPD1_S2_L001_R2_001.fastq.gz\n",
      "Running bowtie aligner...\n",
      "Converting to BAM...\n",
      "Sorting BAM file...\n",
      "Cleaning up...\n",
      "Processing delfur_dpd_2\n",
      "Unzipping file: /media/nucleoid/raw_data/dhkim/fur/2016-02-12_RNA-seq/delfurDPD2_S2_L001_R1_001.fastq.gz\n",
      "Unzipping file: /media/nucleoid/raw_data/dhkim/fur/2016-02-12_RNA-seq/delfurDPD2_S2_L001_R1_001.fastq.gz\n",
      "Running bowtie aligner...\n",
      "Converting to BAM...\n",
      "Sorting BAM file...\n",
      "Cleaning up...\n"
     ]
    },
    {
     "ename": "AttributeError",
     "evalue": "'NoneType' object has no attribute 'start'",
     "output_type": "error",
     "traceback": [
      "\u001b[0;31m---------------------------------------------------------------------------\u001b[0m",
      "\u001b[0;31mAttributeError\u001b[0m                            Traceback (most recent call last)",
      "\u001b[0;32m<ipython-input-10-8b130fa37ca6>\u001b[0m in \u001b[0;36m<module>\u001b[0;34m()\u001b[0m\n\u001b[1;32m      1\u001b[0m \u001b[0;32mfor\u001b[0m \u001b[0mi\u001b[0m\u001b[0;34m,\u001b[0m\u001b[0mrow\u001b[0m \u001b[0;32min\u001b[0m \u001b[0mDF_files\u001b[0m\u001b[0;34m.\u001b[0m\u001b[0miterrows\u001b[0m\u001b[0;34m(\u001b[0m\u001b[0;34m)\u001b[0m\u001b[0;34m:\u001b[0m\u001b[0;34m\u001b[0m\u001b[0m\n\u001b[1;32m      2\u001b[0m     bam,score = align_reads(row.sample_id,row.R1,row.R2,BT_INDEX,OUT_DIR,\n\u001b[0;32m----> 3\u001b[0;31m                             aligner=ALIGNER,cores=4,verbose=True)\n\u001b[0m\u001b[1;32m      4\u001b[0m     \u001b[0mDF_files\u001b[0m\u001b[0;34m.\u001b[0m\u001b[0mloc\u001b[0m\u001b[0;34m[\u001b[0m\u001b[0mi\u001b[0m\u001b[0;34m,\u001b[0m\u001b[0;34m'BAM'\u001b[0m\u001b[0;34m]\u001b[0m \u001b[0;34m=\u001b[0m \u001b[0mbam\u001b[0m\u001b[0;34m\u001b[0m\u001b[0m\n\u001b[1;32m      5\u001b[0m     \u001b[0mDF_files\u001b[0m\u001b[0;34m.\u001b[0m\u001b[0mloc\u001b[0m\u001b[0;34m[\u001b[0m\u001b[0mi\u001b[0m\u001b[0;34m,\u001b[0m\u001b[0;34m'alignment'\u001b[0m\u001b[0;34m]\u001b[0m \u001b[0;34m=\u001b[0m \u001b[0mscore\u001b[0m\u001b[0;34m\u001b[0m\u001b[0m\n",
      "\u001b[0;32m/home/anand/Documents/github/RNAseq_workflow/align_reads.py\u001b[0m in \u001b[0;36malign_reads\u001b[0;34m(name, R1, R2, bt_index, out_dir, aligner, cores, force, verbose)\u001b[0m\n\u001b[1;32m    120\u001b[0m \u001b[0;34m\u001b[0m\u001b[0m\n\u001b[1;32m    121\u001b[0m     \u001b[0;31m### Find alignment score ###\u001b[0m\u001b[0;34m\u001b[0m\u001b[0;34m\u001b[0m\u001b[0m\n\u001b[0;32m--> 122\u001b[0;31m         \u001b[0mscore\u001b[0m \u001b[0;34m=\u001b[0m \u001b[0mget_alignment_score\u001b[0m\u001b[0;34m(\u001b[0m\u001b[0mout_dir\u001b[0m\u001b[0;34m,\u001b[0m\u001b[0mname\u001b[0m\u001b[0;34m)\u001b[0m\u001b[0;34m\u001b[0m\u001b[0m\n\u001b[0m\u001b[1;32m    123\u001b[0m \u001b[0;34m\u001b[0m\u001b[0m\n\u001b[1;32m    124\u001b[0m     \u001b[0;31m### Add BAM file and alignment value to replicate ###\u001b[0m\u001b[0;34m\u001b[0m\u001b[0;34m\u001b[0m\u001b[0m\n",
      "\u001b[0;32m/home/anand/Documents/github/RNAseq_workflow/align_reads.py\u001b[0m in \u001b[0;36mget_alignment_score\u001b[0;34m(out_dir, name)\u001b[0m\n\u001b[1;32m     14\u001b[0m         \u001b[0mresult\u001b[0m \u001b[0;34m=\u001b[0m \u001b[0mf\u001b[0m\u001b[0;34m.\u001b[0m\u001b[0mreadlines\u001b[0m\u001b[0;34m(\u001b[0m\u001b[0;34m)\u001b[0m\u001b[0;34m[\u001b[0m\u001b[0;36m1\u001b[0m\u001b[0;34m]\u001b[0m\u001b[0;34m\u001b[0m\u001b[0m\n\u001b[1;32m     15\u001b[0m     \u001b[0mmatch\u001b[0m \u001b[0;34m=\u001b[0m \u001b[0mre\u001b[0m\u001b[0;34m.\u001b[0m\u001b[0msearch\u001b[0m\u001b[0;34m(\u001b[0m\u001b[0;34m'\\([\\d\\.]*%\\)'\u001b[0m\u001b[0;34m,\u001b[0m\u001b[0mresult\u001b[0m\u001b[0;34m)\u001b[0m\u001b[0;34m\u001b[0m\u001b[0m\n\u001b[0;32m---> 16\u001b[0;31m     \u001b[0;32mreturn\u001b[0m \u001b[0mfloat\u001b[0m\u001b[0;34m(\u001b[0m\u001b[0mresult\u001b[0m\u001b[0;34m[\u001b[0m\u001b[0mmatch\u001b[0m\u001b[0;34m.\u001b[0m\u001b[0mstart\u001b[0m\u001b[0;34m(\u001b[0m\u001b[0;34m)\u001b[0m\u001b[0;34m+\u001b[0m\u001b[0;36m1\u001b[0m\u001b[0;34m:\u001b[0m\u001b[0mmatch\u001b[0m\u001b[0;34m.\u001b[0m\u001b[0mend\u001b[0m\u001b[0;34m(\u001b[0m\u001b[0;34m)\u001b[0m\u001b[0;34m-\u001b[0m\u001b[0;36m2\u001b[0m\u001b[0;34m]\u001b[0m\u001b[0;34m)\u001b[0m\u001b[0;34m\u001b[0m\u001b[0m\n\u001b[0m\u001b[1;32m     17\u001b[0m \u001b[0;34m\u001b[0m\u001b[0m\n\u001b[1;32m     18\u001b[0m def align_reads(name,R1,R2,bt_index,out_dir,aligner='bowtie',cores=4,\n",
      "\u001b[0;31mAttributeError\u001b[0m: 'NoneType' object has no attribute 'start'"
     ]
    }
   ],
   "source": [
    "for i,row in DF_files.iterrows():\n",
    "    bam,score = align_reads(row.sample_id,row.R1,row.R2,BT_INDEX,OUT_DIR,\n",
    "                            aligner=ALIGNER,cores=4,verbose=True)\n",
    "    DF_files.loc[i,'BAM'] = bam\n",
    "    DF_files.loc[i,'alignment'] = score"
   ]
  },
  {
   "cell_type": "code",
   "execution_count": null,
   "metadata": {
    "collapsed": false
   },
   "outputs": [],
   "source": [
    "DF_files"
   ]
  },
  {
   "cell_type": "markdown",
   "metadata": {},
   "source": [
    "# Merge metadata (optional)"
   ]
  },
  {
   "cell_type": "code",
   "execution_count": 12,
   "metadata": {
    "collapsed": false
   },
   "outputs": [
    {
     "data": {
      "text/html": [
       "<div>\n",
       "<table border=\"1\" class=\"dataframe\">\n",
       "  <thead>\n",
       "    <tr style=\"text-align: right;\">\n",
       "      <th></th>\n",
       "      <th>creator</th>\n",
       "      <th>creator-email</th>\n",
       "      <th>project</th>\n",
       "      <th>data-type</th>\n",
       "      <th>run-date</th>\n",
       "      <th>taxonomy-id</th>\n",
       "      <th>strain-description</th>\n",
       "      <th>growth-stage</th>\n",
       "      <th>antibody</th>\n",
       "      <th>base-media</th>\n",
       "      <th>...</th>\n",
       "      <th>supplement</th>\n",
       "      <th>antibiotic</th>\n",
       "      <th>biological-replicates</th>\n",
       "      <th>technical-replicates</th>\n",
       "      <th>machine</th>\n",
       "      <th>illumina-kit</th>\n",
       "      <th>read-type</th>\n",
       "      <th>read-length</th>\n",
       "      <th>experiment-details</th>\n",
       "      <th>metadata</th>\n",
       "    </tr>\n",
       "  </thead>\n",
       "  <tbody>\n",
       "    <tr>\n",
       "      <th>0</th>\n",
       "      <td>Donghyuk Kim</td>\n",
       "      <td>dok023@ucsd.edu</td>\n",
       "      <td>fur</td>\n",
       "      <td>RNA-seq</td>\n",
       "      <td>2016-02-14</td>\n",
       "      <td>511145</td>\n",
       "      <td>Escherichia coli K-12 MG1655</td>\n",
       "      <td>mid-log</td>\n",
       "      <td>NaN</td>\n",
       "      <td>M9</td>\n",
       "      <td>...</td>\n",
       "      <td>non-sauer trace element mixture,FeCl2</td>\n",
       "      <td>NaN</td>\n",
       "      <td>2</td>\n",
       "      <td>1</td>\n",
       "      <td>MiSeq</td>\n",
       "      <td>50 Cycle</td>\n",
       "      <td>Paired-end reads</td>\n",
       "      <td>31</td>\n",
       "      <td>NaN</td>\n",
       "      <td>/media/nucleoid/raw_data/dhkim/fur/2016-02-14_...</td>\n",
       "    </tr>\n",
       "    <tr>\n",
       "      <th>1</th>\n",
       "      <td>Donghyuk Kim</td>\n",
       "      <td>dok023@ucsd.edu</td>\n",
       "      <td>fur</td>\n",
       "      <td>RNA-seq</td>\n",
       "      <td>2016-02-14</td>\n",
       "      <td>511145</td>\n",
       "      <td>Escherichia coli K-12 MG1655</td>\n",
       "      <td>mid-log</td>\n",
       "      <td>NaN</td>\n",
       "      <td>M9</td>\n",
       "      <td>...</td>\n",
       "      <td>non-sauer trace element mixture,FeCl2</td>\n",
       "      <td>NaN</td>\n",
       "      <td>2</td>\n",
       "      <td>1</td>\n",
       "      <td>MiSeq</td>\n",
       "      <td>50 Cycle</td>\n",
       "      <td>Paired-end reads</td>\n",
       "      <td>31</td>\n",
       "      <td>NaN</td>\n",
       "      <td>/media/nucleoid/raw_data/dhkim/fur/2016-02-14_...</td>\n",
       "    </tr>\n",
       "    <tr>\n",
       "      <th>2</th>\n",
       "      <td>Donghyuk Kim</td>\n",
       "      <td>dok023@ucsd.edu</td>\n",
       "      <td>fur</td>\n",
       "      <td>RNA-seq</td>\n",
       "      <td>2016-02-13</td>\n",
       "      <td>511145</td>\n",
       "      <td>Escherichia coli K-12 MG1655</td>\n",
       "      <td>mid-log</td>\n",
       "      <td>NaN</td>\n",
       "      <td>M9</td>\n",
       "      <td>...</td>\n",
       "      <td>non-sauer trace element mixture,DPD</td>\n",
       "      <td>NaN</td>\n",
       "      <td>2</td>\n",
       "      <td>1</td>\n",
       "      <td>MiSeq</td>\n",
       "      <td>50 Cycle</td>\n",
       "      <td>Paired-end reads</td>\n",
       "      <td>31</td>\n",
       "      <td>NaN</td>\n",
       "      <td>/media/nucleoid/raw_data/dhkim/fur/2016-02-13_...</td>\n",
       "    </tr>\n",
       "    <tr>\n",
       "      <th>3</th>\n",
       "      <td>Donghyuk Kim</td>\n",
       "      <td>dok023@ucsd.edu</td>\n",
       "      <td>fur</td>\n",
       "      <td>RNA-seq</td>\n",
       "      <td>2016-02-13</td>\n",
       "      <td>511145</td>\n",
       "      <td>Escherichia coli K-12 MG1655</td>\n",
       "      <td>mid-log</td>\n",
       "      <td>NaN</td>\n",
       "      <td>M9</td>\n",
       "      <td>...</td>\n",
       "      <td>non-sauer trace element mixture,DPD</td>\n",
       "      <td>NaN</td>\n",
       "      <td>2</td>\n",
       "      <td>1</td>\n",
       "      <td>MiSeq</td>\n",
       "      <td>50 Cycle</td>\n",
       "      <td>Paired-end reads</td>\n",
       "      <td>31</td>\n",
       "      <td>NaN</td>\n",
       "      <td>/media/nucleoid/raw_data/dhkim/fur/2016-02-13_...</td>\n",
       "    </tr>\n",
       "    <tr>\n",
       "      <th>4</th>\n",
       "      <td>Donghyuk Kim</td>\n",
       "      <td>dok023@ucsd.edu</td>\n",
       "      <td>fur</td>\n",
       "      <td>RNA-seq</td>\n",
       "      <td>2016-02-11</td>\n",
       "      <td>511145</td>\n",
       "      <td>Escherichia coli K-12 MG1655 del_fur</td>\n",
       "      <td>mid-log</td>\n",
       "      <td>NaN</td>\n",
       "      <td>M9</td>\n",
       "      <td>...</td>\n",
       "      <td>non-sauer trace element mixture,FeCl2</td>\n",
       "      <td>Kanamycin</td>\n",
       "      <td>2</td>\n",
       "      <td>1</td>\n",
       "      <td>MiSeq</td>\n",
       "      <td>50 Cycle</td>\n",
       "      <td>Paired-end reads</td>\n",
       "      <td>31</td>\n",
       "      <td>NaN</td>\n",
       "      <td>/media/nucleoid/raw_data/dhkim/fur/2016-02-11_...</td>\n",
       "    </tr>\n",
       "  </tbody>\n",
       "</table>\n",
       "<p>5 rows × 26 columns</p>\n",
       "</div>"
      ],
      "text/plain": [
       "0       creator    creator-email project data-type    run-date taxonomy-id  \\\n",
       "0  Donghyuk Kim  dok023@ucsd.edu     fur   RNA-seq  2016-02-14      511145   \n",
       "1  Donghyuk Kim  dok023@ucsd.edu     fur   RNA-seq  2016-02-14      511145   \n",
       "2  Donghyuk Kim  dok023@ucsd.edu     fur   RNA-seq  2016-02-13      511145   \n",
       "3  Donghyuk Kim  dok023@ucsd.edu     fur   RNA-seq  2016-02-13      511145   \n",
       "4  Donghyuk Kim  dok023@ucsd.edu     fur   RNA-seq  2016-02-11      511145   \n",
       "\n",
       "0                    strain-description growth-stage antibody base-media  \\\n",
       "0          Escherichia coli K-12 MG1655      mid-log      NaN         M9   \n",
       "1          Escherichia coli K-12 MG1655      mid-log      NaN         M9   \n",
       "2          Escherichia coli K-12 MG1655      mid-log      NaN         M9   \n",
       "3          Escherichia coli K-12 MG1655      mid-log      NaN         M9   \n",
       "4  Escherichia coli K-12 MG1655 del_fur      mid-log      NaN         M9   \n",
       "\n",
       "0                        ...                          \\\n",
       "0                        ...                           \n",
       "1                        ...                           \n",
       "2                        ...                           \n",
       "3                        ...                           \n",
       "4                        ...                           \n",
       "\n",
       "0                             supplement antibiotic biological-replicates  \\\n",
       "0  non-sauer trace element mixture,FeCl2        NaN                     2   \n",
       "1  non-sauer trace element mixture,FeCl2        NaN                     2   \n",
       "2    non-sauer trace element mixture,DPD        NaN                     2   \n",
       "3    non-sauer trace element mixture,DPD        NaN                     2   \n",
       "4  non-sauer trace element mixture,FeCl2  Kanamycin                     2   \n",
       "\n",
       "0 technical-replicates machine illumina-kit         read-type read-length  \\\n",
       "0                    1   MiSeq     50 Cycle  Paired-end reads          31   \n",
       "1                    1   MiSeq     50 Cycle  Paired-end reads          31   \n",
       "2                    1   MiSeq     50 Cycle  Paired-end reads          31   \n",
       "3                    1   MiSeq     50 Cycle  Paired-end reads          31   \n",
       "4                    1   MiSeq     50 Cycle  Paired-end reads          31   \n",
       "\n",
       "0 experiment-details                                           metadata  \n",
       "0                NaN  /media/nucleoid/raw_data/dhkim/fur/2016-02-14_...  \n",
       "1                NaN  /media/nucleoid/raw_data/dhkim/fur/2016-02-14_...  \n",
       "2                NaN  /media/nucleoid/raw_data/dhkim/fur/2016-02-13_...  \n",
       "3                NaN  /media/nucleoid/raw_data/dhkim/fur/2016-02-13_...  \n",
       "4                NaN  /media/nucleoid/raw_data/dhkim/fur/2016-02-11_...  \n",
       "\n",
       "[5 rows x 26 columns]"
      ]
     },
     "execution_count": 12,
     "metadata": {},
     "output_type": "execute_result"
    }
   ],
   "source": [
    "DF_metadata = pd.DataFrame()\n",
    "for metadata in DF_files.metadata:\n",
    "    df = pd.read_csv(metadata,index_col=0,header=None)\n",
    "    df.loc['metadata'] = metadata\n",
    "    DF_metadata = pd.concat([DF_metadata,df.transpose()])\n",
    "DF_metadata = DF_metadata.reset_index(drop=True)\n",
    "DF_metadata.head()"
   ]
  },
  {
   "cell_type": "code",
   "execution_count": null,
   "metadata": {
    "collapsed": true
   },
   "outputs": [],
   "source": []
  }
 ],
 "metadata": {
  "kernelspec": {
   "display_name": "Python 2",
   "language": "python",
   "name": "python2"
  },
  "language_info": {
   "codemirror_mode": {
    "name": "ipython",
    "version": 2
   },
   "file_extension": ".py",
   "mimetype": "text/x-python",
   "name": "python",
   "nbconvert_exporter": "python",
   "pygments_lexer": "ipython2",
   "version": "2.7.12"
  }
 },
 "nbformat": 4,
 "nbformat_minor": 2
}
