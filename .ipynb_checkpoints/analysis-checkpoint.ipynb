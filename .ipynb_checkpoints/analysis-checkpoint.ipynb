{
 "cells": [
  {
   "cell_type": "markdown",
   "metadata": {},
   "source": [
    "# Adapted from:  http://www.bioconductor.org/help/workflows/rnaseqGene/"
   ]
  },
  {
   "cell_type": "markdown",
   "metadata": {},
   "source": [
    "#### To learn basics of R: https://www.datacamp.com/courses/free-introduction-to-r"
   ]
  },
  {
   "cell_type": "markdown",
   "metadata": {},
   "source": [
    "# Table of Contents"
   ]
  },
  {
   "cell_type": "markdown",
   "metadata": {},
   "source": [
    "1. [Setup](#Setup)\n",
    "1. [Create DESeq Data Set](#Create-DESeq-Data-Set)\n",
    "1. [Calculate FPKM](#Calculate-FPKM)\n",
    "1. [PCA and Clustering](#PCA-and-Clustering)\n",
    "    1. [PCA](#PCA)\n",
    "    1. [Clustering](#Clustering)\n",
    "1. [Find DEGs](#Find-DEGs)"
   ]
  },
  {
   "cell_type": "markdown",
   "metadata": {},
   "source": [
    "# Setup"
   ]
  },
  {
   "cell_type": "markdown",
   "metadata": {},
   "source": [
    "If this is your first time running this script, uncomment and run the following code block. This will install all necessary R packages, but it may take 5-10 minutes to complete"
   ]
  },
  {
   "cell_type": "code",
   "execution_count": 1,
   "metadata": {
    "collapsed": false
   },
   "outputs": [],
   "source": [
    "# source(\"https://bioconductor.org/biocLite.R\")\n",
    "# biocLite('SummarizedExperiment')\n",
    "# biocLite('DESeq2')\n",
    "# biocLite('pheatmap')\n",
    "# biocLite('RColorBrewer')"
   ]
  },
  {
   "cell_type": "code",
   "execution_count": 2,
   "metadata": {
    "collapsed": false
   },
   "outputs": [],
   "source": [
    "library('SummarizedExperiment')\n",
    "library('DESeq2')"
   ]
  },
  {
   "cell_type": "markdown",
   "metadata": {},
   "source": [
    "# Create DESeq Data Set"
   ]
  },
  {
   "cell_type": "markdown",
   "metadata": {},
   "source": [
    "Load the checkpoint"
   ]
  },
  {
   "cell_type": "code",
   "execution_count": 3,
   "metadata": {
    "collapsed": false
   },
   "outputs": [],
   "source": [
    "load('example/se.rda')"
   ]
  },
  {
   "cell_type": "markdown",
   "metadata": {},
   "source": [
    "Create the DESeqDataSet, and designate the experimental design. The experimental design can include information from the colData. Use ~1 to ignore design criteria."
   ]
  },
  {
   "cell_type": "code",
   "execution_count": 5,
   "metadata": {
    "collapsed": false
   },
   "outputs": [
    {
     "data": {
      "text/html": [
       "<ol class=list-inline>\n",
       "\t<li>'wt_fe2_1'</li>\n",
       "\t<li>'wt_fe2_2'</li>\n",
       "\t<li>'wt_dpd_1'</li>\n",
       "\t<li>'wt_dpd_2'</li>\n",
       "\t<li>'delfur_fe2_1'</li>\n",
       "\t<li>'delfur_fe2_2'</li>\n",
       "\t<li>'delfur_dpd_1'</li>\n",
       "\t<li>'delfur_dpd_2'</li>\n",
       "</ol>\n"
      ],
      "text/latex": [
       "\\begin{enumerate*}\n",
       "\\item 'wt\\_fe2\\_1'\n",
       "\\item 'wt\\_fe2\\_2'\n",
       "\\item 'wt\\_dpd\\_1'\n",
       "\\item 'wt\\_dpd\\_2'\n",
       "\\item 'delfur\\_fe2\\_1'\n",
       "\\item 'delfur\\_fe2\\_2'\n",
       "\\item 'delfur\\_dpd\\_1'\n",
       "\\item 'delfur\\_dpd\\_2'\n",
       "\\end{enumerate*}\n"
      ],
      "text/markdown": [
       "1. 'wt_fe2_1'\n",
       "2. 'wt_fe2_2'\n",
       "3. 'wt_dpd_1'\n",
       "4. 'wt_dpd_2'\n",
       "5. 'delfur_fe2_1'\n",
       "6. 'delfur_fe2_2'\n",
       "7. 'delfur_dpd_1'\n",
       "8. 'delfur_dpd_2'\n",
       "\n",
       "\n"
      ],
      "text/plain": [
       "[1] \"wt_fe2_1\"     \"wt_fe2_2\"     \"wt_dpd_1\"     \"wt_dpd_2\"     \"delfur_fe2_1\"\n",
       "[6] \"delfur_fe2_2\" \"delfur_dpd_1\" \"delfur_dpd_2\""
      ]
     },
     "metadata": {},
     "output_type": "display_data"
    }
   ],
   "source": [
    "apply(colnames(se)"
   ]
  },
  {
   "cell_type": "code",
   "execution_count": 6,
   "metadata": {
    "collapsed": false
   },
   "outputs": [],
   "source": [
    "# Designate groups for comparisons\n",
    "colData(se)$group <- colnames(se)"
   ]
  },
  {
   "cell_type": "code",
   "execution_count": 35,
   "metadata": {
    "collapsed": false,
    "scrolled": true
   },
   "outputs": [
    {
     "name": "stderr",
     "output_type": "stream",
     "text": [
      "Warning message in DESeqDataSet(se, design = ~group):\n",
      "“some variables in design formula are characters, converting to factors”"
     ]
    }
   ],
   "source": [
    "dds <- DESeqDataSet(se, design = ~group)"
   ]
  },
  {
   "cell_type": "markdown",
   "metadata": {},
   "source": [
    "Remove genes that have 0 counts across experimental conditions"
   ]
  },
  {
   "cell_type": "code",
   "execution_count": 36,
   "metadata": {
    "collapsed": false
   },
   "outputs": [
    {
     "data": {
      "text/html": [
       "4319"
      ],
      "text/latex": [
       "4319"
      ],
      "text/markdown": [
       "4319"
      ],
      "text/plain": [
       "[1] 4319"
      ]
     },
     "metadata": {},
     "output_type": "display_data"
    },
    {
     "data": {
      "text/html": [
       "4270"
      ],
      "text/latex": [
       "4270"
      ],
      "text/markdown": [
       "4270"
      ],
      "text/plain": [
       "[1] 4270"
      ]
     },
     "metadata": {},
     "output_type": "display_data"
    }
   ],
   "source": [
    "nrow(dds)\n",
    "dds <- dds[rowSums(assay(dds)) > 1, ]\n",
    "nrow(dds)"
   ]
  },
  {
   "cell_type": "markdown",
   "metadata": {},
   "source": [
    "# Calculate FPKM"
   ]
  },
  {
   "cell_type": "code",
   "execution_count": 37,
   "metadata": {
    "collapsed": false,
    "scrolled": true
   },
   "outputs": [
    {
     "data": {
      "text/html": [
       "<table>\n",
       "<thead><tr><th></th><th scope=col>wt_fe2_1</th><th scope=col>wt_fe2_2</th><th scope=col>wt_dpd_1</th><th scope=col>wt_dpd_2</th><th scope=col>delfur_fe2_1</th><th scope=col>delfur_fe2_2</th><th scope=col>delfur_dpd_1</th><th scope=col>delfur_dpd_2</th></tr></thead>\n",
       "<tbody>\n",
       "\t<tr><th scope=row>b0001</th><td>4758.0010 </td><td>5796.6932 </td><td> 537.3883 </td><td> 532.08318</td><td>5860.5515 </td><td>7067.7993 </td><td>424.92836 </td><td> 390.86640</td></tr>\n",
       "\t<tr><th scope=row>b0002</th><td>2075.0392 </td><td>1727.6052 </td><td>2730.6442 </td><td>3102.55659</td><td>2139.4764 </td><td>2121.4740 </td><td>843.71171 </td><td>1058.79524</td></tr>\n",
       "\t<tr><th scope=row>b0003</th><td>1618.6788 </td><td>1457.3227 </td><td>2089.0977 </td><td>2827.97868</td><td>1613.7983 </td><td>1577.0252 </td><td>597.82071 </td><td> 952.22456</td></tr>\n",
       "\t<tr><th scope=row>b0004</th><td>1284.5957 </td><td>1084.0695 </td><td>1090.0343 </td><td>1412.95465</td><td>1017.5730 </td><td>1005.5980 </td><td>336.25439 </td><td> 447.22375</td></tr>\n",
       "\t<tr><th scope=row>b0005</th><td> 219.2457 </td><td> 191.0080 </td><td>  83.9151 </td><td>  74.97901</td><td> 157.9947 </td><td> 135.4242 </td><td> 40.55473 </td><td>  45.45484</td></tr>\n",
       "\t<tr><th scope=row>b0006</th><td> 119.0288 </td><td> 124.6942 </td><td> 104.6112 </td><td> 102.13159</td><td> 114.0132 </td><td> 114.0486 </td><td> 98.57999 </td><td> 111.28354</td></tr>\n",
       "</tbody>\n",
       "</table>\n"
      ],
      "text/latex": [
       "\\begin{tabular}{r|llllllll}\n",
       "  & wt\\_fe2\\_1 & wt\\_fe2\\_2 & wt\\_dpd\\_1 & wt\\_dpd\\_2 & delfur\\_fe2\\_1 & delfur\\_fe2\\_2 & delfur\\_dpd\\_1 & delfur\\_dpd\\_2\\\\\n",
       "\\hline\n",
       "\tb0001 & 4758.0010  & 5796.6932  &  537.3883  &  532.08318 & 5860.5515  & 7067.7993  & 424.92836  &  390.86640\\\\\n",
       "\tb0002 & 2075.0392  & 1727.6052  & 2730.6442  & 3102.55659 & 2139.4764  & 2121.4740  & 843.71171  & 1058.79524\\\\\n",
       "\tb0003 & 1618.6788  & 1457.3227  & 2089.0977  & 2827.97868 & 1613.7983  & 1577.0252  & 597.82071  &  952.22456\\\\\n",
       "\tb0004 & 1284.5957  & 1084.0695  & 1090.0343  & 1412.95465 & 1017.5730  & 1005.5980  & 336.25439  &  447.22375\\\\\n",
       "\tb0005 &  219.2457  &  191.0080  &   83.9151  &   74.97901 &  157.9947  &  135.4242  &  40.55473  &   45.45484\\\\\n",
       "\tb0006 &  119.0288  &  124.6942  &  104.6112  &  102.13159 &  114.0132  &  114.0486  &  98.57999  &  111.28354\\\\\n",
       "\\end{tabular}\n"
      ],
      "text/markdown": [
       "\n",
       "| <!--/--> | wt_fe2_1 | wt_fe2_2 | wt_dpd_1 | wt_dpd_2 | delfur_fe2_1 | delfur_fe2_2 | delfur_dpd_1 | delfur_dpd_2 | \n",
       "|---|---|---|---|---|---|\n",
       "| b0001 | 4758.0010  | 5796.6932  |  537.3883  |  532.08318 | 5860.5515  | 7067.7993  | 424.92836  |  390.86640 | \n",
       "| b0002 | 2075.0392  | 1727.6052  | 2730.6442  | 3102.55659 | 2139.4764  | 2121.4740  | 843.71171  | 1058.79524 | \n",
       "| b0003 | 1618.6788  | 1457.3227  | 2089.0977  | 2827.97868 | 1613.7983  | 1577.0252  | 597.82071  |  952.22456 | \n",
       "| b0004 | 1284.5957  | 1084.0695  | 1090.0343  | 1412.95465 | 1017.5730  | 1005.5980  | 336.25439  |  447.22375 | \n",
       "| b0005 |  219.2457  |  191.0080  |   83.9151  |   74.97901 |  157.9947  |  135.4242  |  40.55473  |   45.45484 | \n",
       "| b0006 |  119.0288  |  124.6942  |  104.6112  |  102.13159 |  114.0132  |  114.0486  |  98.57999  |  111.28354 | \n",
       "\n",
       "\n"
      ],
      "text/plain": [
       "      wt_fe2_1  wt_fe2_2  wt_dpd_1  wt_dpd_2   delfur_fe2_1 delfur_fe2_2\n",
       "b0001 4758.0010 5796.6932  537.3883  532.08318 5860.5515    7067.7993   \n",
       "b0002 2075.0392 1727.6052 2730.6442 3102.55659 2139.4764    2121.4740   \n",
       "b0003 1618.6788 1457.3227 2089.0977 2827.97868 1613.7983    1577.0252   \n",
       "b0004 1284.5957 1084.0695 1090.0343 1412.95465 1017.5730    1005.5980   \n",
       "b0005  219.2457  191.0080   83.9151   74.97901  157.9947     135.4242   \n",
       "b0006  119.0288  124.6942  104.6112  102.13159  114.0132     114.0486   \n",
       "      delfur_dpd_1 delfur_dpd_2\n",
       "b0001 424.92836     390.86640  \n",
       "b0002 843.71171    1058.79524  \n",
       "b0003 597.82071     952.22456  \n",
       "b0004 336.25439     447.22375  \n",
       "b0005  40.55473      45.45484  \n",
       "b0006  98.57999     111.28354  "
      ]
     },
     "metadata": {},
     "output_type": "display_data"
    }
   ],
   "source": [
    "head(fpkm(dds))"
   ]
  },
  {
   "cell_type": "code",
   "execution_count": 9,
   "metadata": {
    "collapsed": false
   },
   "outputs": [],
   "source": [
    "write.csv(fpkm(dds), file = \"example/deseq2-fpkm.csv\")"
   ]
  },
  {
   "cell_type": "markdown",
   "metadata": {},
   "source": [
    "# PCA and clustering"
   ]
  },
  {
   "cell_type": "markdown",
   "metadata": {},
   "source": [
    "Raw counts from RNAseq tend to be exponentially distributed, so a log transform must be applied before running linear methods such as PCA or clustering. Since some counts can be 0, we must apply log(x + 1) to avoid infinite values. However, due to technical reasons, genes with lower counts have higher variance than genes with higher counts. PCA works best with constant variance, so to fix this DESeq2 has a model-based regularized log transform (rlog) to normalize the variance. The rlog counts are only used for this QC step, and should not be used for finding DEGs or other statistical tests."
   ]
  },
  {
   "cell_type": "code",
   "execution_count": 38,
   "metadata": {
    "collapsed": false
   },
   "outputs": [],
   "source": [
    "rld <- rlog(dds)"
   ]
  },
  {
   "cell_type": "code",
   "execution_count": 39,
   "metadata": {
    "collapsed": false
   },
   "outputs": [],
   "source": [
    "library(\"pheatmap\")\n",
    "library(\"RColorBrewer\")"
   ]
  },
  {
   "cell_type": "markdown",
   "metadata": {},
   "source": [
    "## PCA"
   ]
  },
  {
   "cell_type": "code",
   "execution_count": 40,
   "metadata": {
    "collapsed": false
   },
   "outputs": [
    {
     "data": {},
     "metadata": {},
     "output_type": "display_data"
    },
    {
     "data": {
      "image/png": "[encoded data removed]",
      "text/plain": [
       "plot without title"
      ]
     },
     "metadata": {},
     "output_type": "display_data"
    }
   ],
   "source": [
    "options(repr.plot.width=7, repr.plot.height=3)\n",
    "plotPCA(rld,intgroup=c('group'))"
   ]
  },
  {
   "cell_type": "markdown",
   "metadata": {},
   "source": [
    "## Clustering"
   ]
  },
  {
   "cell_type": "code",
   "execution_count": 41,
   "metadata": {
    "collapsed": false
   },
   "outputs": [
    {
     "data": {
      "image/png": "[encoded data removed]",
      "text/plain": [
       "plot without title"
      ]
     },
     "metadata": {},
     "output_type": "display_data"
    }
   ],
   "source": [
    "options(repr.plot.width=5, repr.plot.height=3)\n",
    "# Generate (euclidean) distance matrix\n",
    "sampleDists <- dist(t(assay(rld)))\n",
    "sampleDistMatrix <- as.matrix( sampleDists )\n",
    "# Designate the names for the rows\n",
    "rownames(sampleDistMatrix) <- colData(rld)$group\n",
    "# Designate the names for the columns\n",
    "colnames(sampleDistMatrix) <- NULL\n",
    "# Choose color palette\n",
    "colors <- colorRampPalette( rev(brewer.pal(9, \"Blues\")) )(255)\n",
    "# Create heatmap\n",
    "pheatmap(sampleDistMatrix,\n",
    "         clustering_distance_rows = sampleDists,\n",
    "         clustering_distance_cols = sampleDists,\n",
    "         col = colors)"
   ]
  },
  {
   "cell_type": "markdown",
   "metadata": {
    "collapsed": true
   },
   "source": [
    "# Find DEGs"
   ]
  },
  {
   "cell_type": "code",
   "execution_count": 42,
   "metadata": {
    "collapsed": false
   },
   "outputs": [
    {
     "name": "stderr",
     "output_type": "stream",
     "text": [
      "estimating size factors\n",
      "estimating dispersions\n",
      "gene-wise dispersion estimates\n",
      "mean-dispersion relationship\n",
      "final dispersion estimates\n",
      "fitting model and testing\n"
     ]
    }
   ],
   "source": [
    "dds <- DESeq(dds)"
   ]
  },
  {
   "cell_type": "markdown",
   "metadata": {},
   "source": [
    "Designate which groups you want to compare for DEGs"
   ]
  },
  {
   "cell_type": "code",
   "execution_count": 44,
   "metadata": {
    "collapsed": true
   },
   "outputs": [],
   "source": [
    "res_FeCl2 <- results(dds,contrast = c('group','WT FeCl2','Fur KO FeCl2'))\n",
    "res_DPD <- results(dds,contrast = c('group','WT DPD','Fur KO DPD'))"
   ]
  },
  {
   "cell_type": "markdown",
   "metadata": {},
   "source": [
    "Put results into table form"
   ]
  },
  {
   "cell_type": "code",
   "execution_count": 45,
   "metadata": {
    "collapsed": true
   },
   "outputs": [],
   "source": [
    "resTable_FeCl2 <- data.frame(res_FeCl2@listData,row.names = res_FeCl2@rownames)\n",
    "resTable_DPD <- data.frame(res_DPD@listData,row.names = res_DPD@rownames)"
   ]
  },
  {
   "cell_type": "code",
   "execution_count": 47,
   "metadata": {
    "collapsed": false
   },
   "outputs": [
    {
     "data": {
      "text/html": [
       "<table>\n",
       "<thead><tr><th></th><th scope=col>baseMean</th><th scope=col>log2FoldChange</th><th scope=col>lfcSE</th><th scope=col>stat</th><th scope=col>pvalue</th><th scope=col>padj</th></tr></thead>\n",
       "<tbody>\n",
       "\t<tr><th scope=row>b0001</th><td> 1639.1251 </td><td>-0.29108132</td><td>0.1395702  </td><td>-2.0855546 </td><td>0.037018984</td><td>0.13266283 </td></tr>\n",
       "\t<tr><th scope=row>b0002</th><td>37542.6022 </td><td>-0.16292124</td><td>0.1373759  </td><td>-1.1859524 </td><td>0.235641112</td><td>0.49597824 </td></tr>\n",
       "\t<tr><th scope=row>b0003</th><td>11469.7950 </td><td>-0.05210016</td><td>0.1880405  </td><td>-0.2770689 </td><td>0.781727234</td><td>0.90848108 </td></tr>\n",
       "\t<tr><th scope=row>b0004</th><td> 9537.3314 </td><td> 0.22528062</td><td>0.1592775  </td><td> 1.4143909 </td><td>0.157247165</td><td>0.37852128 </td></tr>\n",
       "\t<tr><th scope=row>b0005</th><td>  272.6053 </td><td> 0.47939480</td><td>0.1710197  </td><td> 2.8031560 </td><td>0.005060518</td><td>0.02633381 </td></tr>\n",
       "\t<tr><th scope=row>b0006</th><td>  666.5451 </td><td> 0.09461495</td><td>0.1295187  </td><td> 0.7305121 </td><td>0.465077235</td><td>0.72268510 </td></tr>\n",
       "</tbody>\n",
       "</table>\n"
      ],
      "text/latex": [
       "\\begin{tabular}{r|llllll}\n",
       "  & baseMean & log2FoldChange & lfcSE & stat & pvalue & padj\\\\\n",
       "\\hline\n",
       "\tb0001 &  1639.1251  & -0.29108132 & 0.1395702   & -2.0855546  & 0.037018984 & 0.13266283 \\\\\n",
       "\tb0002 & 37542.6022  & -0.16292124 & 0.1373759   & -1.1859524  & 0.235641112 & 0.49597824 \\\\\n",
       "\tb0003 & 11469.7950  & -0.05210016 & 0.1880405   & -0.2770689  & 0.781727234 & 0.90848108 \\\\\n",
       "\tb0004 &  9537.3314  &  0.22528062 & 0.1592775   &  1.4143909  & 0.157247165 & 0.37852128 \\\\\n",
       "\tb0005 &   272.6053  &  0.47939480 & 0.1710197   &  2.8031560  & 0.005060518 & 0.02633381 \\\\\n",
       "\tb0006 &   666.5451  &  0.09461495 & 0.1295187   &  0.7305121  & 0.465077235 & 0.72268510 \\\\\n",
       "\\end{tabular}\n"
      ],
      "text/markdown": [
       "\n",
       "| <!--/--> | baseMean | log2FoldChange | lfcSE | stat | pvalue | padj | \n",
       "|---|---|---|---|---|---|\n",
       "| b0001 |  1639.1251  | -0.29108132 | 0.1395702   | -2.0855546  | 0.037018984 | 0.13266283  | \n",
       "| b0002 | 37542.6022  | -0.16292124 | 0.1373759   | -1.1859524  | 0.235641112 | 0.49597824  | \n",
       "| b0003 | 11469.7950  | -0.05210016 | 0.1880405   | -0.2770689  | 0.781727234 | 0.90848108  | \n",
       "| b0004 |  9537.3314  |  0.22528062 | 0.1592775   |  1.4143909  | 0.157247165 | 0.37852128  | \n",
       "| b0005 |   272.6053  |  0.47939480 | 0.1710197   |  2.8031560  | 0.005060518 | 0.02633381  | \n",
       "| b0006 |   666.5451  |  0.09461495 | 0.1295187   |  0.7305121  | 0.465077235 | 0.72268510  | \n",
       "\n",
       "\n"
      ],
      "text/plain": [
       "      baseMean   log2FoldChange lfcSE     stat       pvalue      padj      \n",
       "b0001  1639.1251 -0.29108132    0.1395702 -2.0855546 0.037018984 0.13266283\n",
       "b0002 37542.6022 -0.16292124    0.1373759 -1.1859524 0.235641112 0.49597824\n",
       "b0003 11469.7950 -0.05210016    0.1880405 -0.2770689 0.781727234 0.90848108\n",
       "b0004  9537.3314  0.22528062    0.1592775  1.4143909 0.157247165 0.37852128\n",
       "b0005   272.6053  0.47939480    0.1710197  2.8031560 0.005060518 0.02633381\n",
       "b0006   666.5451  0.09461495    0.1295187  0.7305121 0.465077235 0.72268510"
      ]
     },
     "metadata": {},
     "output_type": "display_data"
    }
   ],
   "source": [
    "head(resTable_FeCl2)"
   ]
  },
  {
   "cell_type": "code",
   "execution_count": 53,
   "metadata": {
    "collapsed": true
   },
   "outputs": [],
   "source": [
    "deg_FeCl2 <- resTable_FeCl2[complete.cases(resTable_FeCl2[,c('padj','log2FoldChange')]) & \n",
    "                            # ^ Make sure that LogFoldChange and p-adjusted are complete (not null)\n",
    "                            resTable_FeCl2$padj < .05 & # Adjusted p-value cutoff of 0.05\n",
    "                            abs(resTable_FeCl2$log2FoldChange) > 1,] # abs(log2foldChange) cutoff of 1\n",
    "\n",
    "deg_DPD <- resTable_DPD[complete.cases(resTable_DPD[,c('padj','log2FoldChange')]) & \n",
    "                        # ^ Make sure that LogFoldChange and p-adjusted are complete (not null)\n",
    "                        resTable_DPD$padj < .05 & # Adjusted p-value cutoff of 0.05\n",
    "                        abs(resTable_DPD$log2FoldChange) > 1,] # abs(log2foldChange) cutoff of 1"
   ]
  },
  {
   "cell_type": "code",
   "execution_count": 54,
   "metadata": {
    "collapsed": false
   },
   "outputs": [
    {
     "data": {
      "text/html": [
       "<table>\n",
       "<thead><tr><th></th><th scope=col>baseMean</th><th scope=col>log2FoldChange</th><th scope=col>lfcSE</th><th scope=col>stat</th><th scope=col>pvalue</th><th scope=col>padj</th></tr></thead>\n",
       "<tbody>\n",
       "\t<tr><th scope=row>b0034</th><td>  166.2879  </td><td> 1.127988   </td><td>0.21046357  </td><td> 5.359542   </td><td>8.343335e-08</td><td>1.214034e-06</td></tr>\n",
       "\t<tr><th scope=row>b0118</th><td>24650.1372  </td><td> 1.324849   </td><td>0.09947515  </td><td>13.318394   </td><td>1.809595e-40</td><td>8.722249e-39</td></tr>\n",
       "\t<tr><th scope=row>b0123</th><td> 3273.5336  </td><td> 2.046491   </td><td>0.11783836  </td><td>17.366937   </td><td>1.468591e-67</td><td>1.348306e-65</td></tr>\n",
       "\t<tr><th scope=row>b0150</th><td> 7194.8108  </td><td>-1.101286   </td><td>0.14720093  </td><td>-7.481517   </td><td>7.346954e-14</td><td>1.628153e-12</td></tr>\n",
       "\t<tr><th scope=row>b0152</th><td>  424.5647  </td><td>-1.053181   </td><td>0.17091003  </td><td>-6.162194   </td><td>7.174390e-10</td><td>1.257475e-08</td></tr>\n",
       "\t<tr><th scope=row>b0273</th><td> 3502.7665  </td><td> 1.179236   </td><td>0.20566736  </td><td> 5.733703   </td><td>9.826115e-09</td><td>1.591996e-07</td></tr>\n",
       "</tbody>\n",
       "</table>\n"
      ],
      "text/latex": [
       "\\begin{tabular}{r|llllll}\n",
       "  & baseMean & log2FoldChange & lfcSE & stat & pvalue & padj\\\\\n",
       "\\hline\n",
       "\tb0034 &   166.2879   &  1.127988    & 0.21046357   &  5.359542    & 8.343335e-08 & 1.214034e-06\\\\\n",
       "\tb0118 & 24650.1372   &  1.324849    & 0.09947515   & 13.318394    & 1.809595e-40 & 8.722249e-39\\\\\n",
       "\tb0123 &  3273.5336   &  2.046491    & 0.11783836   & 17.366937    & 1.468591e-67 & 1.348306e-65\\\\\n",
       "\tb0150 &  7194.8108   & -1.101286    & 0.14720093   & -7.481517    & 7.346954e-14 & 1.628153e-12\\\\\n",
       "\tb0152 &   424.5647   & -1.053181    & 0.17091003   & -6.162194    & 7.174390e-10 & 1.257475e-08\\\\\n",
       "\tb0273 &  3502.7665   &  1.179236    & 0.20566736   &  5.733703    & 9.826115e-09 & 1.591996e-07\\\\\n",
       "\\end{tabular}\n"
      ],
      "text/markdown": [
       "\n",
       "| <!--/--> | baseMean | log2FoldChange | lfcSE | stat | pvalue | padj | \n",
       "|---|---|---|---|---|---|\n",
       "| b0034 |   166.2879   |  1.127988    | 0.21046357   |  5.359542    | 8.343335e-08 | 1.214034e-06 | \n",
       "| b0118 | 24650.1372   |  1.324849    | 0.09947515   | 13.318394    | 1.809595e-40 | 8.722249e-39 | \n",
       "| b0123 |  3273.5336   |  2.046491    | 0.11783836   | 17.366937    | 1.468591e-67 | 1.348306e-65 | \n",
       "| b0150 |  7194.8108   | -1.101286    | 0.14720093   | -7.481517    | 7.346954e-14 | 1.628153e-12 | \n",
       "| b0152 |   424.5647   | -1.053181    | 0.17091003   | -6.162194    | 7.174390e-10 | 1.257475e-08 | \n",
       "| b0273 |  3502.7665   |  1.179236    | 0.20566736   |  5.733703    | 9.826115e-09 | 1.591996e-07 | \n",
       "\n",
       "\n"
      ],
      "text/plain": [
       "      baseMean   log2FoldChange lfcSE      stat      pvalue       padj        \n",
       "b0034   166.2879  1.127988      0.21046357  5.359542 8.343335e-08 1.214034e-06\n",
       "b0118 24650.1372  1.324849      0.09947515 13.318394 1.809595e-40 8.722249e-39\n",
       "b0123  3273.5336  2.046491      0.11783836 17.366937 1.468591e-67 1.348306e-65\n",
       "b0150  7194.8108 -1.101286      0.14720093 -7.481517 7.346954e-14 1.628153e-12\n",
       "b0152   424.5647 -1.053181      0.17091003 -6.162194 7.174390e-10 1.257475e-08\n",
       "b0273  3502.7665  1.179236      0.20566736  5.733703 9.826115e-09 1.591996e-07"
      ]
     },
     "metadata": {},
     "output_type": "display_data"
    }
   ],
   "source": [
    "head(deg_FeCl2)"
   ]
  },
  {
   "cell_type": "code",
   "execution_count": null,
   "metadata": {
    "collapsed": true
   },
   "outputs": [],
   "source": []
  }
 ],
 "metadata": {
  "kernelspec": {
   "display_name": "R",
   "language": "R",
   "name": "ir"
  },
  "language_info": {
   "codemirror_mode": "r",
   "file_extension": ".r",
   "mimetype": "text/x-r-source",
   "name": "R",
   "pygments_lexer": "r",
   "version": "3.3.1"
  }
 },
 "nbformat": 4,
 "nbformat_minor": 1
}
