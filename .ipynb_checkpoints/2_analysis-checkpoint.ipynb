{
 "cells": [
  {
   "cell_type": "markdown",
   "metadata": {
    "toc": true
   },
   "source": [
    "<h1>Table of Contents<span class=\"tocSkip\"></span></h1>\n",
    "<div class=\"toc\"><ul class=\"toc-item\"><li><span><a href=\"#Adapted-from:--http://www.bioconductor.org/help/workflows/rnaseqGene/\" data-toc-modified-id=\"Adapted-from:--http://www.bioconductor.org/help/workflows/rnaseqGene/-1\"><span class=\"toc-item-num\">1&nbsp;&nbsp;</span>Adapted from:  <a href=\"http://www.bioconductor.org/help/workflows/rnaseqGene/\" target=\"_blank\">http://www.bioconductor.org/help/workflows/rnaseqGene/</a></a></span><ul class=\"toc-item\"><li><ul class=\"toc-item\"><li><ul class=\"toc-item\"><li><span><a href=\"#To-learn-basics-of-R:-https://www.datacamp.com/courses/free-introduction-to-r\" data-toc-modified-id=\"To-learn-basics-of-R:-https://www.datacamp.com/courses/free-introduction-to-r-1.0.0.1\"><span class=\"toc-item-num\">1.0.0.1&nbsp;&nbsp;</span>To learn basics of R: <a href=\"https://www.datacamp.com/courses/free-introduction-to-r\" target=\"_blank\">https://www.datacamp.com/courses/free-introduction-to-r</a></a></span></li></ul></li></ul></li></ul></li><li><span><a href=\"#Table-of-Contents\" data-toc-modified-id=\"Table-of-Contents-2\"><span class=\"toc-item-num\">2&nbsp;&nbsp;</span>Table of Contents</a></span></li><li><span><a href=\"#Setup\" data-toc-modified-id=\"Setup-3\"><span class=\"toc-item-num\">3&nbsp;&nbsp;</span>Setup</a></span></li><li><span><a href=\"#Create-DESeq-Data-Set\" data-toc-modified-id=\"Create-DESeq-Data-Set-4\"><span class=\"toc-item-num\">4&nbsp;&nbsp;</span>Create DESeq Data Set</a></span><ul class=\"toc-item\"><li><span><a href=\"#From-R-pipeline\" data-toc-modified-id=\"From-R-pipeline-4.1\"><span class=\"toc-item-num\">4.1&nbsp;&nbsp;</span>From R pipeline</a></span></li><li><span><a href=\"#From-Python-pipeline\" data-toc-modified-id=\"From-Python-pipeline-4.2\"><span class=\"toc-item-num\">4.2&nbsp;&nbsp;</span>From Python pipeline</a></span></li></ul></li><li><span><a href=\"#Calculate-TPM\" data-toc-modified-id=\"Calculate-TPM-5\"><span class=\"toc-item-num\">5&nbsp;&nbsp;</span>Calculate TPM</a></span></li><li><span><a href=\"#PCA-and-clustering\" data-toc-modified-id=\"PCA-and-clustering-6\"><span class=\"toc-item-num\">6&nbsp;&nbsp;</span>PCA and clustering</a></span><ul class=\"toc-item\"><li><span><a href=\"#PCA\" data-toc-modified-id=\"PCA-6.1\"><span class=\"toc-item-num\">6.1&nbsp;&nbsp;</span>PCA</a></span></li><li><span><a href=\"#Clustering\" data-toc-modified-id=\"Clustering-6.2\"><span class=\"toc-item-num\">6.2&nbsp;&nbsp;</span>Clustering</a></span></li></ul></li><li><span><a href=\"#Find-DEGs\" data-toc-modified-id=\"Find-DEGs-7\"><span class=\"toc-item-num\">7&nbsp;&nbsp;</span>Find DEGs</a></span></li></ul></div>"
   ]
  },
  {
   "cell_type": "markdown",
   "metadata": {},
   "source": [
    "# Adapted from:  http://www.bioconductor.org/help/workflows/rnaseqGene/"
   ]
  },
  {
   "cell_type": "markdown",
   "metadata": {},
   "source": [
    "#### To learn basics of R: https://www.datacamp.com/courses/free-introduction-to-r"
   ]
  },
  {
   "cell_type": "markdown",
   "metadata": {},
   "source": [
    "# Table of Contents"
   ]
  },
  {
   "cell_type": "markdown",
   "metadata": {},
   "source": [
    "1. [Setup](#Setup)\n",
    "1. [Create DESeq Data Set](#Create-DESeq-Data-Set)\n",
    "1. [Calculate TPM](#Calculate-TPM)\n",
    "1. [PCA and Clustering](#PCA-and-Clustering)\n",
    "    1. [PCA](#PCA)\n",
    "    1. [Clustering](#Clustering)\n",
    "1. [Find DEGs](#Find-DEGs)"
   ]
  },
  {
   "cell_type": "markdown",
   "metadata": {},
   "source": [
    "# Setup"
   ]
  },
  {
   "cell_type": "markdown",
   "metadata": {},
   "source": [
    "If this is your first time running this script, uncomment and run the following code block. This will install all necessary R packages, but it may take 5-10 minutes to complete"
   ]
  },
  {
   "cell_type": "code",
   "execution_count": 3,
   "metadata": {
    "collapsed": true
   },
   "outputs": [],
   "source": [
    "# source(\"https://bioconductor.org/biocLite.R\")\n",
    "# biocLite('SummarizedExperiment')\n",
    "# biocLite('GenomicFeatures')\n",
    "# biocLite('DESeq2')\n",
    "# biocLite('pheatmap')\n",
    "# biocLite('RColorBrewer')"
   ]
  },
  {
   "cell_type": "code",
   "execution_count": 4,
   "metadata": {
    "collapsed": true
   },
   "outputs": [],
   "source": [
    "suppressPackageStartupMessages(library('SummarizedExperiment'))\n",
    "suppressPackageStartupMessages(library('GenomicFeatures'))\n",
    "suppressPackageStartupMessages(library('DESeq2'))"
   ]
  },
  {
   "cell_type": "markdown",
   "metadata": {},
   "source": [
    "# Create DESeq Data Set"
   ]
  },
  {
   "cell_type": "markdown",
   "metadata": {},
   "source": [
    "## From R pipeline"
   ]
  },
  {
   "cell_type": "code",
   "execution_count": 5,
   "metadata": {
    "collapsed": true
   },
   "outputs": [],
   "source": [
    "load('example/se.rda')"
   ]
  },
  {
   "cell_type": "markdown",
   "metadata": {},
   "source": [
    "Create the DESeqDataSet, and designate the experimental design. The experimental design can include information from the colData. Use ~1 to ignore design criteria."
   ]
  },
  {
   "cell_type": "code",
   "execution_count": 6,
   "metadata": {},
   "outputs": [
    {
     "data": {
      "text/html": [
       "<ol class=list-inline>\n",
       "\t<li>'wt_fe2_1'</li>\n",
       "\t<li>'wt_fe2_2'</li>\n",
       "\t<li>'wt_dpd_1'</li>\n",
       "\t<li>'wt_dpd_2'</li>\n",
       "\t<li>'delfur_fe2_1'</li>\n",
       "\t<li>'delfur_fe2_2'</li>\n",
       "\t<li>'delfur_dpd_1'</li>\n",
       "\t<li>'delfur_dpd_2'</li>\n",
       "</ol>\n"
      ],
      "text/latex": [
       "\\begin{enumerate*}\n",
       "\\item 'wt\\_fe2\\_1'\n",
       "\\item 'wt\\_fe2\\_2'\n",
       "\\item 'wt\\_dpd\\_1'\n",
       "\\item 'wt\\_dpd\\_2'\n",
       "\\item 'delfur\\_fe2\\_1'\n",
       "\\item 'delfur\\_fe2\\_2'\n",
       "\\item 'delfur\\_dpd\\_1'\n",
       "\\item 'delfur\\_dpd\\_2'\n",
       "\\end{enumerate*}\n"
      ],
      "text/markdown": [
       "1. 'wt_fe2_1'\n",
       "2. 'wt_fe2_2'\n",
       "3. 'wt_dpd_1'\n",
       "4. 'wt_dpd_2'\n",
       "5. 'delfur_fe2_1'\n",
       "6. 'delfur_fe2_2'\n",
       "7. 'delfur_dpd_1'\n",
       "8. 'delfur_dpd_2'\n",
       "\n",
       "\n"
      ],
      "text/plain": [
       "[1] \"wt_fe2_1\"     \"wt_fe2_2\"     \"wt_dpd_1\"     \"wt_dpd_2\"     \"delfur_fe2_1\"\n",
       "[6] \"delfur_fe2_2\" \"delfur_dpd_1\" \"delfur_dpd_2\""
      ]
     },
     "metadata": {},
     "output_type": "display_data"
    }
   ],
   "source": [
    "colnames(se)"
   ]
  },
  {
   "cell_type": "code",
   "execution_count": 7,
   "metadata": {},
   "outputs": [
    {
     "data": {
      "text/html": [
       "<ol class=list-inline>\n",
       "\t<li>'wt_fe2'</li>\n",
       "\t<li>'wt_fe2'</li>\n",
       "\t<li>'wt_dpd'</li>\n",
       "\t<li>'wt_dpd'</li>\n",
       "\t<li>'delfur_fe2'</li>\n",
       "\t<li>'delfur_fe2'</li>\n",
       "\t<li>'delfur_dpd'</li>\n",
       "\t<li>'delfur_dpd'</li>\n",
       "</ol>\n"
      ],
      "text/latex": [
       "\\begin{enumerate*}\n",
       "\\item 'wt\\_fe2'\n",
       "\\item 'wt\\_fe2'\n",
       "\\item 'wt\\_dpd'\n",
       "\\item 'wt\\_dpd'\n",
       "\\item 'delfur\\_fe2'\n",
       "\\item 'delfur\\_fe2'\n",
       "\\item 'delfur\\_dpd'\n",
       "\\item 'delfur\\_dpd'\n",
       "\\end{enumerate*}\n"
      ],
      "text/markdown": [
       "1. 'wt_fe2'\n",
       "2. 'wt_fe2'\n",
       "3. 'wt_dpd'\n",
       "4. 'wt_dpd'\n",
       "5. 'delfur_fe2'\n",
       "6. 'delfur_fe2'\n",
       "7. 'delfur_dpd'\n",
       "8. 'delfur_dpd'\n",
       "\n",
       "\n"
      ],
      "text/plain": [
       "[1] \"wt_fe2\"     \"wt_fe2\"     \"wt_dpd\"     \"wt_dpd\"     \"delfur_fe2\"\n",
       "[6] \"delfur_fe2\" \"delfur_dpd\" \"delfur_dpd\""
      ]
     },
     "metadata": {},
     "output_type": "display_data"
    }
   ],
   "source": [
    "# Designate groups for comparisons by removing the replicate subscript from colnames\n",
    "colData(se)$group <- gsub('.{2}$', '', colnames(se))\n",
    "colData(se)$group"
   ]
  },
  {
   "cell_type": "code",
   "execution_count": 8,
   "metadata": {
    "scrolled": true
   },
   "outputs": [
    {
     "name": "stderr",
     "output_type": "stream",
     "text": [
      "Warning message in DESeqDataSet(se, design = ~group):\n",
      "“some variables in design formula are characters, converting to factors”"
     ]
    }
   ],
   "source": [
    "dds <- DESeqDataSet(se, design = ~group)"
   ]
  },
  {
   "cell_type": "markdown",
   "metadata": {},
   "source": [
    "Remove genes that have 0 counts across experimental conditions"
   ]
  },
  {
   "cell_type": "code",
   "execution_count": 9,
   "metadata": {},
   "outputs": [
    {
     "data": {
      "text/html": [
       "4386"
      ],
      "text/latex": [
       "4386"
      ],
      "text/markdown": [
       "4386"
      ],
      "text/plain": [
       "[1] 4386"
      ]
     },
     "metadata": {},
     "output_type": "display_data"
    },
    {
     "data": {
      "text/html": [
       "4354"
      ],
      "text/latex": [
       "4354"
      ],
      "text/markdown": [
       "4354"
      ],
      "text/plain": [
       "[1] 4354"
      ]
     },
     "metadata": {},
     "output_type": "display_data"
    }
   ],
   "source": [
    "nrow(dds)\n",
    "dds <- dds[rowSums(assay(dds)) > 1, ]\n",
    "nrow(dds)"
   ]
  },
  {
   "cell_type": "code",
   "execution_count": 10,
   "metadata": {},
   "outputs": [
    {
     "data": {
      "text/html": [
       "<table>\n",
       "<thead><tr><th></th><th scope=col>wt_fe2_1</th><th scope=col>wt_fe2_2</th><th scope=col>wt_dpd_1</th><th scope=col>wt_dpd_2</th><th scope=col>delfur_fe2_1</th><th scope=col>delfur_fe2_2</th><th scope=col>delfur_dpd_1</th><th scope=col>delfur_dpd_2</th></tr></thead>\n",
       "<tbody>\n",
       "\t<tr><th scope=row>b0001</th><td> 2303</td><td> 2354</td><td>  311</td><td>  284</td><td> 3019</td><td> 3485</td><td>  245</td><td>  232</td></tr>\n",
       "\t<tr><th scope=row>b0002</th><td>36937</td><td>25801</td><td>58117</td><td>60901</td><td>40532</td><td>38470</td><td>17890</td><td>23112</td></tr>\n",
       "\t<tr><th scope=row>b0003</th><td>10922</td><td> 8250</td><td>16854</td><td>21042</td><td>11589</td><td>10840</td><td> 4805</td><td> 7879</td></tr>\n",
       "\t<tr><th scope=row>b0004</th><td>11953</td><td> 8463</td><td>12127</td><td>14498</td><td>10077</td><td> 9532</td><td> 3727</td><td> 5103</td></tr>\n",
       "\t<tr><th scope=row>b0005</th><td>  472</td><td>  345</td><td>  216</td><td>  178</td><td>  362</td><td>  297</td><td>  104</td><td>  120</td></tr>\n",
       "\t<tr><th scope=row>b0006</th><td>  669</td><td>  588</td><td>  703</td><td>  633</td><td>  682</td><td>  653</td><td>  660</td><td>  767</td></tr>\n",
       "</tbody>\n",
       "</table>\n"
      ],
      "text/latex": [
       "\\begin{tabular}{r|llllllll}\n",
       "  & wt\\_fe2\\_1 & wt\\_fe2\\_2 & wt\\_dpd\\_1 & wt\\_dpd\\_2 & delfur\\_fe2\\_1 & delfur\\_fe2\\_2 & delfur\\_dpd\\_1 & delfur\\_dpd\\_2\\\\\n",
       "\\hline\n",
       "\tb0001 &  2303 &  2354 &   311 &   284 &  3019 &  3485 &   245 &   232\\\\\n",
       "\tb0002 & 36937 & 25801 & 58117 & 60901 & 40532 & 38470 & 17890 & 23112\\\\\n",
       "\tb0003 & 10922 &  8250 & 16854 & 21042 & 11589 & 10840 &  4805 &  7879\\\\\n",
       "\tb0004 & 11953 &  8463 & 12127 & 14498 & 10077 &  9532 &  3727 &  5103\\\\\n",
       "\tb0005 &   472 &   345 &   216 &   178 &   362 &   297 &   104 &   120\\\\\n",
       "\tb0006 &   669 &   588 &   703 &   633 &   682 &   653 &   660 &   767\\\\\n",
       "\\end{tabular}\n"
      ],
      "text/markdown": [
       "\n",
       "| <!--/--> | wt_fe2_1 | wt_fe2_2 | wt_dpd_1 | wt_dpd_2 | delfur_fe2_1 | delfur_fe2_2 | delfur_dpd_1 | delfur_dpd_2 | \n",
       "|---|---|---|---|---|---|\n",
       "| b0001 |  2303 |  2354 |   311 |   284 |  3019 |  3485 |   245 |   232 | \n",
       "| b0002 | 36937 | 25801 | 58117 | 60901 | 40532 | 38470 | 17890 | 23112 | \n",
       "| b0003 | 10922 |  8250 | 16854 | 21042 | 11589 | 10840 |  4805 |  7879 | \n",
       "| b0004 | 11953 |  8463 | 12127 | 14498 | 10077 |  9532 |  3727 |  5103 | \n",
       "| b0005 |   472 |   345 |   216 |   178 |   362 |   297 |   104 |   120 | \n",
       "| b0006 |   669 |   588 |   703 |   633 |   682 |   653 |   660 |   767 | \n",
       "\n",
       "\n"
      ],
      "text/plain": [
       "      wt_fe2_1 wt_fe2_2 wt_dpd_1 wt_dpd_2 delfur_fe2_1 delfur_fe2_2\n",
       "b0001  2303     2354      311      284     3019         3485       \n",
       "b0002 36937    25801    58117    60901    40532        38470       \n",
       "b0003 10922     8250    16854    21042    11589        10840       \n",
       "b0004 11953     8463    12127    14498    10077         9532       \n",
       "b0005   472      345      216      178      362          297       \n",
       "b0006   669      588      703      633      682          653       \n",
       "      delfur_dpd_1 delfur_dpd_2\n",
       "b0001   245          232       \n",
       "b0002 17890        23112       \n",
       "b0003  4805         7879       \n",
       "b0004  3727         5103       \n",
       "b0005   104          120       \n",
       "b0006   660          767       "
      ]
     },
     "metadata": {},
     "output_type": "display_data"
    }
   ],
   "source": [
    "head(assay(dds))"
   ]
  },
  {
   "cell_type": "markdown",
   "metadata": {},
   "source": [
    "## From Python pipeline"
   ]
  },
  {
   "cell_type": "code",
   "execution_count": 11,
   "metadata": {
    "collapsed": true
   },
   "outputs": [],
   "source": [
    "countdata <- read.csv(file='example/counts/counts.csv',row.names=1)"
   ]
  },
  {
   "cell_type": "code",
   "execution_count": 12,
   "metadata": {
    "collapsed": true
   },
   "outputs": [],
   "source": [
    "coldata <- read.csv(file='example/metadata.csv')"
   ]
  },
  {
   "cell_type": "code",
   "execution_count": 13,
   "metadata": {
    "collapsed": true
   },
   "outputs": [],
   "source": [
    "coldata$group <- gsub('.{2}$', '', coldata$sample_id)"
   ]
  },
  {
   "cell_type": "code",
   "execution_count": 14,
   "metadata": {},
   "outputs": [
    {
     "name": "stderr",
     "output_type": "stream",
     "text": [
      "Import genomic features from the file as a GRanges object ... OK\n",
      "Prepare the 'metadata' data frame ... OK\n",
      "Make the TxDb object ... OK\n"
     ]
    }
   ],
   "source": [
    "GFF_FILE <- \"./example/ref/NC_000913.3.gff\"\n",
    "txdb <- suppressWarnings(makeTxDbFromGFF(GFF_FILE, format=\"gtf\"))\n",
    "exons <- exonsBy(txdb, by=\"gene\")"
   ]
  },
  {
   "cell_type": "code",
   "execution_count": 15,
   "metadata": {},
   "outputs": [
    {
     "data": {
      "text/html": [
       "<ol class=list-inline>\n",
       "\t<li>'wt_fe2'</li>\n",
       "\t<li>'wt_fe2'</li>\n",
       "\t<li>'wt_dpd'</li>\n",
       "\t<li>'wt_dpd'</li>\n",
       "\t<li>'delfur_fe2'</li>\n",
       "\t<li>'delfur_fe2'</li>\n",
       "\t<li>'delfur_dpd'</li>\n",
       "\t<li>'delfur_dpd'</li>\n",
       "</ol>\n"
      ],
      "text/latex": [
       "\\begin{enumerate*}\n",
       "\\item 'wt\\_fe2'\n",
       "\\item 'wt\\_fe2'\n",
       "\\item 'wt\\_dpd'\n",
       "\\item 'wt\\_dpd'\n",
       "\\item 'delfur\\_fe2'\n",
       "\\item 'delfur\\_fe2'\n",
       "\\item 'delfur\\_dpd'\n",
       "\\item 'delfur\\_dpd'\n",
       "\\end{enumerate*}\n"
      ],
      "text/markdown": [
       "1. 'wt_fe2'\n",
       "2. 'wt_fe2'\n",
       "3. 'wt_dpd'\n",
       "4. 'wt_dpd'\n",
       "5. 'delfur_fe2'\n",
       "6. 'delfur_fe2'\n",
       "7. 'delfur_dpd'\n",
       "8. 'delfur_dpd'\n",
       "\n",
       "\n"
      ],
      "text/plain": [
       "[1] \"wt_fe2\"     \"wt_fe2\"     \"wt_dpd\"     \"wt_dpd\"     \"delfur_fe2\"\n",
       "[6] \"delfur_fe2\" \"delfur_dpd\" \"delfur_dpd\""
      ]
     },
     "metadata": {},
     "output_type": "display_data"
    }
   ],
   "source": [
    "coldata$group"
   ]
  },
  {
   "cell_type": "code",
   "execution_count": 18,
   "metadata": {},
   "outputs": [
    {
     "data": {
      "text/plain": [
       "GRangesList object of length 4386:\n",
       "$b0001 \n",
       "GRanges object with 1 range and 2 metadata columns:\n",
       "                           seqnames     ranges strand |   exon_id   exon_name\n",
       "                              <Rle>  <IRanges>  <Rle> | <integer> <character>\n",
       "  [1] gi|556503834|ref|NC_000913.3| [189, 255]      + |         1        <NA>\n",
       "\n",
       "$b0002 \n",
       "GRanges object with 1 range and 2 metadata columns:\n",
       "                           seqnames      ranges strand | exon_id exon_name\n",
       "  [1] gi|556503834|ref|NC_000913.3| [336, 2799]      + |       2      <NA>\n",
       "\n",
       "$b0003 \n",
       "GRanges object with 1 range and 2 metadata columns:\n",
       "                           seqnames       ranges strand | exon_id exon_name\n",
       "  [1] gi|556503834|ref|NC_000913.3| [2800, 3733]      + |       3      <NA>\n",
       "\n",
       "...\n",
       "<4383 more elements>\n",
       "-------\n",
       "seqinfo: 1 sequence from an unspecified genome; no seqlengths"
      ]
     },
     "metadata": {},
     "output_type": "display_data"
    }
   ],
   "source": [
    "exons[rownames(countdata)]"
   ]
  },
  {
   "cell_type": "code",
   "execution_count": 20,
   "metadata": {},
   "outputs": [],
   "source": [
    "dds <- DESeqDataSetFromMatrix(countData = countdata,\n",
    "                              colData = coldata,\n",
    "                              design = ~group,\n",
    "                              rowRanges = exons[rownames(countdata)])"
   ]
  },
  {
   "cell_type": "code",
   "execution_count": 14,
   "metadata": {},
   "outputs": [
    {
     "data": {
      "text/html": [
       "<table>\n",
       "<thead><tr><th></th><th scope=col>wt_fe2_1</th><th scope=col>wt_fe2_2</th><th scope=col>wt_dpd_1</th><th scope=col>wt_dpd_2</th><th scope=col>delfur_fe2_1</th><th scope=col>delfur_fe2_2</th><th scope=col>delfur_dpd_1</th><th scope=col>delfur_dpd_2</th></tr></thead>\n",
       "<tbody>\n",
       "\t<tr><th scope=row>b0001</th><td> 2303</td><td> 2354</td><td>  311</td><td>  284</td><td> 3019</td><td> 3485</td><td>  245</td><td>  232</td></tr>\n",
       "\t<tr><th scope=row>b0002</th><td>36937</td><td>25801</td><td>58117</td><td>60901</td><td>40532</td><td>38470</td><td>17890</td><td>23112</td></tr>\n",
       "\t<tr><th scope=row>b0003</th><td>10922</td><td> 8250</td><td>16854</td><td>21042</td><td>11589</td><td>10840</td><td> 4805</td><td> 7879</td></tr>\n",
       "\t<tr><th scope=row>b0004</th><td>11953</td><td> 8463</td><td>12127</td><td>14498</td><td>10077</td><td> 9532</td><td> 3727</td><td> 5103</td></tr>\n",
       "\t<tr><th scope=row>b0005</th><td>  472</td><td>  345</td><td>  216</td><td>  178</td><td>  362</td><td>  297</td><td>  104</td><td>  120</td></tr>\n",
       "\t<tr><th scope=row>b0006</th><td>  669</td><td>  588</td><td>  703</td><td>  633</td><td>  682</td><td>  653</td><td>  660</td><td>  767</td></tr>\n",
       "</tbody>\n",
       "</table>\n"
      ],
      "text/latex": [
       "\\begin{tabular}{r|llllllll}\n",
       "  & wt\\_fe2\\_1 & wt\\_fe2\\_2 & wt\\_dpd\\_1 & wt\\_dpd\\_2 & delfur\\_fe2\\_1 & delfur\\_fe2\\_2 & delfur\\_dpd\\_1 & delfur\\_dpd\\_2\\\\\n",
       "\\hline\n",
       "\tb0001 &  2303 &  2354 &   311 &   284 &  3019 &  3485 &   245 &   232\\\\\n",
       "\tb0002 & 36937 & 25801 & 58117 & 60901 & 40532 & 38470 & 17890 & 23112\\\\\n",
       "\tb0003 & 10922 &  8250 & 16854 & 21042 & 11589 & 10840 &  4805 &  7879\\\\\n",
       "\tb0004 & 11953 &  8463 & 12127 & 14498 & 10077 &  9532 &  3727 &  5103\\\\\n",
       "\tb0005 &   472 &   345 &   216 &   178 &   362 &   297 &   104 &   120\\\\\n",
       "\tb0006 &   669 &   588 &   703 &   633 &   682 &   653 &   660 &   767\\\\\n",
       "\\end{tabular}\n"
      ],
      "text/markdown": [
       "\n",
       "| <!--/--> | wt_fe2_1 | wt_fe2_2 | wt_dpd_1 | wt_dpd_2 | delfur_fe2_1 | delfur_fe2_2 | delfur_dpd_1 | delfur_dpd_2 | \n",
       "|---|---|---|---|---|---|\n",
       "| b0001 |  2303 |  2354 |   311 |   284 |  3019 |  3485 |   245 |   232 | \n",
       "| b0002 | 36937 | 25801 | 58117 | 60901 | 40532 | 38470 | 17890 | 23112 | \n",
       "| b0003 | 10922 |  8250 | 16854 | 21042 | 11589 | 10840 |  4805 |  7879 | \n",
       "| b0004 | 11953 |  8463 | 12127 | 14498 | 10077 |  9532 |  3727 |  5103 | \n",
       "| b0005 |   472 |   345 |   216 |   178 |   362 |   297 |   104 |   120 | \n",
       "| b0006 |   669 |   588 |   703 |   633 |   682 |   653 |   660 |   767 | \n",
       "\n",
       "\n"
      ],
      "text/plain": [
       "      wt_fe2_1 wt_fe2_2 wt_dpd_1 wt_dpd_2 delfur_fe2_1 delfur_fe2_2\n",
       "b0001  2303     2354      311      284     3019         3485       \n",
       "b0002 36937    25801    58117    60901    40532        38470       \n",
       "b0003 10922     8250    16854    21042    11589        10840       \n",
       "b0004 11953     8463    12127    14498    10077         9532       \n",
       "b0005   472      345      216      178      362          297       \n",
       "b0006   669      588      703      633      682          653       \n",
       "      delfur_dpd_1 delfur_dpd_2\n",
       "b0001   245          232       \n",
       "b0002 17890        23112       \n",
       "b0003  4805         7879       \n",
       "b0004  3727         5103       \n",
       "b0005   104          120       \n",
       "b0006   660          767       "
      ]
     },
     "metadata": {},
     "output_type": "display_data"
    }
   ],
   "source": [
    "head(assay(dds))"
   ]
  },
  {
   "cell_type": "markdown",
   "metadata": {},
   "source": [
    "# Calculate TPM"
   ]
  },
  {
   "cell_type": "code",
   "execution_count": 21,
   "metadata": {},
   "outputs": [
    {
     "data": {
      "text/html": [
       "<table>\n",
       "<thead><tr><th></th><th scope=col>wt_fe2_1</th><th scope=col>wt_fe2_2</th><th scope=col>wt_dpd_1</th><th scope=col>wt_dpd_2</th><th scope=col>delfur_fe2_1</th><th scope=col>delfur_fe2_2</th><th scope=col>delfur_dpd_1</th><th scope=col>delfur_dpd_2</th></tr></thead>\n",
       "<tbody>\n",
       "\t<tr><th scope=row>b0001</th><td>4760.4528 </td><td>5804.0968 </td><td> 537.63924</td><td> 532.27497</td><td>5858.8251 </td><td>7071.1202 </td><td>424.85438 </td><td> 391.13903</td></tr>\n",
       "\t<tr><th scope=row>b0002</th><td>2076.1085 </td><td>1729.8117 </td><td>2731.91922</td><td>3103.67493</td><td>2138.8462 </td><td>2122.4708 </td><td>843.56481 </td><td>1059.53376</td></tr>\n",
       "\t<tr><th scope=row>b0003</th><td>1619.5130 </td><td>1459.1840 </td><td>2090.07313</td><td>2828.99805</td><td>1613.3229 </td><td>1577.7662 </td><td>597.71662 </td><td> 952.88875</td></tr>\n",
       "\t<tr><th scope=row>b0004</th><td>1285.2576 </td><td>1085.4541 </td><td>1090.54322</td><td>1413.46396</td><td>1017.2732 </td><td>1006.0705 </td><td>336.19585 </td><td> 447.53570</td></tr>\n",
       "\t<tr><th scope=row>b0005</th><td> 219.3587 </td><td> 191.2519 </td><td>  83.95428</td><td>  75.00604</td><td> 157.9481 </td><td> 135.4879 </td><td> 40.54767 </td><td>  45.48655</td></tr>\n",
       "\t<tr><th scope=row>b0006</th><td> 119.0901 </td><td> 124.8535 </td><td> 104.66009</td><td> 102.16841</td><td> 113.9796 </td><td> 114.1021 </td><td> 98.56283 </td><td> 111.36116</td></tr>\n",
       "</tbody>\n",
       "</table>\n"
      ],
      "text/latex": [
       "\\begin{tabular}{r|llllllll}\n",
       "  & wt\\_fe2\\_1 & wt\\_fe2\\_2 & wt\\_dpd\\_1 & wt\\_dpd\\_2 & delfur\\_fe2\\_1 & delfur\\_fe2\\_2 & delfur\\_dpd\\_1 & delfur\\_dpd\\_2\\\\\n",
       "\\hline\n",
       "\tb0001 & 4760.4528  & 5804.0968  &  537.63924 &  532.27497 & 5858.8251  & 7071.1202  & 424.85438  &  391.13903\\\\\n",
       "\tb0002 & 2076.1085  & 1729.8117  & 2731.91922 & 3103.67493 & 2138.8462  & 2122.4708  & 843.56481  & 1059.53376\\\\\n",
       "\tb0003 & 1619.5130  & 1459.1840  & 2090.07313 & 2828.99805 & 1613.3229  & 1577.7662  & 597.71662  &  952.88875\\\\\n",
       "\tb0004 & 1285.2576  & 1085.4541  & 1090.54322 & 1413.46396 & 1017.2732  & 1006.0705  & 336.19585  &  447.53570\\\\\n",
       "\tb0005 &  219.3587  &  191.2519  &   83.95428 &   75.00604 &  157.9481  &  135.4879  &  40.54767  &   45.48655\\\\\n",
       "\tb0006 &  119.0901  &  124.8535  &  104.66009 &  102.16841 &  113.9796  &  114.1021  &  98.56283  &  111.36116\\\\\n",
       "\\end{tabular}\n"
      ],
      "text/markdown": [
       "\n",
       "| <!--/--> | wt_fe2_1 | wt_fe2_2 | wt_dpd_1 | wt_dpd_2 | delfur_fe2_1 | delfur_fe2_2 | delfur_dpd_1 | delfur_dpd_2 | \n",
       "|---|---|---|---|---|---|\n",
       "| b0001 | 4760.4528  | 5804.0968  |  537.63924 |  532.27497 | 5858.8251  | 7071.1202  | 424.85438  |  391.13903 | \n",
       "| b0002 | 2076.1085  | 1729.8117  | 2731.91922 | 3103.67493 | 2138.8462  | 2122.4708  | 843.56481  | 1059.53376 | \n",
       "| b0003 | 1619.5130  | 1459.1840  | 2090.07313 | 2828.99805 | 1613.3229  | 1577.7662  | 597.71662  |  952.88875 | \n",
       "| b0004 | 1285.2576  | 1085.4541  | 1090.54322 | 1413.46396 | 1017.2732  | 1006.0705  | 336.19585  |  447.53570 | \n",
       "| b0005 |  219.3587  |  191.2519  |   83.95428 |   75.00604 |  157.9481  |  135.4879  |  40.54767  |   45.48655 | \n",
       "| b0006 |  119.0901  |  124.8535  |  104.66009 |  102.16841 |  113.9796  |  114.1021  |  98.56283  |  111.36116 | \n",
       "\n",
       "\n"
      ],
      "text/plain": [
       "      wt_fe2_1  wt_fe2_2  wt_dpd_1   wt_dpd_2   delfur_fe2_1 delfur_fe2_2\n",
       "b0001 4760.4528 5804.0968  537.63924  532.27497 5858.8251    7071.1202   \n",
       "b0002 2076.1085 1729.8117 2731.91922 3103.67493 2138.8462    2122.4708   \n",
       "b0003 1619.5130 1459.1840 2090.07313 2828.99805 1613.3229    1577.7662   \n",
       "b0004 1285.2576 1085.4541 1090.54322 1413.46396 1017.2732    1006.0705   \n",
       "b0005  219.3587  191.2519   83.95428   75.00604  157.9481     135.4879   \n",
       "b0006  119.0901  124.8535  104.66009  102.16841  113.9796     114.1021   \n",
       "      delfur_dpd_1 delfur_dpd_2\n",
       "b0001 424.85438     391.13903  \n",
       "b0002 843.56481    1059.53376  \n",
       "b0003 597.71662     952.88875  \n",
       "b0004 336.19585     447.53570  \n",
       "b0005  40.54767      45.48655  \n",
       "b0006  98.56283     111.36116  "
      ]
     },
     "metadata": {},
     "output_type": "display_data"
    }
   ],
   "source": [
    "fpkm_data <- fpkm(dds)\n",
    "head(fpkm_data)"
   ]
  },
  {
   "cell_type": "code",
   "execution_count": 22,
   "metadata": {},
   "outputs": [
    {
     "data": {
      "text/html": [
       "<table>\n",
       "<thead><tr><th></th><th scope=col>wt_fe2_1</th><th scope=col>wt_fe2_2</th><th scope=col>wt_dpd_1</th><th scope=col>wt_dpd_2</th><th scope=col>delfur_fe2_1</th><th scope=col>delfur_fe2_2</th><th scope=col>delfur_dpd_1</th><th scope=col>delfur_dpd_2</th></tr></thead>\n",
       "<tbody>\n",
       "\t<tr><th scope=row>b0001</th><td>3485.23015</td><td>4234.71066</td><td> 478.50639</td><td> 479.12574</td><td>4813.58219</td><td>5798.1099 </td><td>370.68253 </td><td>343.88551 </td></tr>\n",
       "\t<tr><th scope=row>b0002</th><td>1519.96379</td><td>1262.08301</td><td>2431.44608</td><td>2793.76380</td><td>1757.26562</td><td>1740.3634 </td><td>736.00450 </td><td>931.53144 </td></tr>\n",
       "\t<tr><th scope=row>b0003</th><td>1185.68035</td><td>1064.63112</td><td>1860.19414</td><td>2546.51422</td><td>1325.49828</td><td>1293.7217 </td><td>521.50365 </td><td>837.77021 </td></tr>\n",
       "\t<tr><th scope=row>b0004</th><td> 940.96481</td><td> 791.95511</td><td> 970.59863</td><td>1272.32540</td><td> 835.78674</td><td> 824.9481 </td><td>293.32857 </td><td>393.46889 </td></tr>\n",
       "\t<tr><th scope=row>b0005</th><td> 160.59723</td><td> 139.53878</td><td>  74.72048</td><td>  67.51647</td><td> 129.76943</td><td> 111.0961 </td><td> 35.37756 </td><td> 39.99131 </td></tr>\n",
       "\t<tr><th scope=row>b0006</th><td>  87.18843</td><td>  91.09401</td><td>  93.14893</td><td>  91.96659</td><td>  93.64506</td><td>  93.5604 </td><td> 85.99539 </td><td> 97.90761 </td></tr>\n",
       "</tbody>\n",
       "</table>\n"
      ],
      "text/latex": [
       "\\begin{tabular}{r|llllllll}\n",
       "  & wt\\_fe2\\_1 & wt\\_fe2\\_2 & wt\\_dpd\\_1 & wt\\_dpd\\_2 & delfur\\_fe2\\_1 & delfur\\_fe2\\_2 & delfur\\_dpd\\_1 & delfur\\_dpd\\_2\\\\\n",
       "\\hline\n",
       "\tb0001 & 3485.23015 & 4234.71066 &  478.50639 &  479.12574 & 4813.58219 & 5798.1099  & 370.68253  & 343.88551 \\\\\n",
       "\tb0002 & 1519.96379 & 1262.08301 & 2431.44608 & 2793.76380 & 1757.26562 & 1740.3634  & 736.00450  & 931.53144 \\\\\n",
       "\tb0003 & 1185.68035 & 1064.63112 & 1860.19414 & 2546.51422 & 1325.49828 & 1293.7217  & 521.50365  & 837.77021 \\\\\n",
       "\tb0004 &  940.96481 &  791.95511 &  970.59863 & 1272.32540 &  835.78674 &  824.9481  & 293.32857  & 393.46889 \\\\\n",
       "\tb0005 &  160.59723 &  139.53878 &   74.72048 &   67.51647 &  129.76943 &  111.0961  &  35.37756  &  39.99131 \\\\\n",
       "\tb0006 &   87.18843 &   91.09401 &   93.14893 &   91.96659 &   93.64506 &   93.5604  &  85.99539  &  97.90761 \\\\\n",
       "\\end{tabular}\n"
      ],
      "text/markdown": [
       "\n",
       "| <!--/--> | wt_fe2_1 | wt_fe2_2 | wt_dpd_1 | wt_dpd_2 | delfur_fe2_1 | delfur_fe2_2 | delfur_dpd_1 | delfur_dpd_2 | \n",
       "|---|---|---|---|---|---|\n",
       "| b0001 | 3485.23015 | 4234.71066 |  478.50639 |  479.12574 | 4813.58219 | 5798.1099  | 370.68253  | 343.88551  | \n",
       "| b0002 | 1519.96379 | 1262.08301 | 2431.44608 | 2793.76380 | 1757.26562 | 1740.3634  | 736.00450  | 931.53144  | \n",
       "| b0003 | 1185.68035 | 1064.63112 | 1860.19414 | 2546.51422 | 1325.49828 | 1293.7217  | 521.50365  | 837.77021  | \n",
       "| b0004 |  940.96481 |  791.95511 |  970.59863 | 1272.32540 |  835.78674 |  824.9481  | 293.32857  | 393.46889  | \n",
       "| b0005 |  160.59723 |  139.53878 |   74.72048 |   67.51647 |  129.76943 |  111.0961  |  35.37756  |  39.99131  | \n",
       "| b0006 |   87.18843 |   91.09401 |   93.14893 |   91.96659 |   93.64506 |   93.5604  |  85.99539  |  97.90761  | \n",
       "\n",
       "\n"
      ],
      "text/plain": [
       "      wt_fe2_1   wt_fe2_2   wt_dpd_1   wt_dpd_2   delfur_fe2_1 delfur_fe2_2\n",
       "b0001 3485.23015 4234.71066  478.50639  479.12574 4813.58219   5798.1099   \n",
       "b0002 1519.96379 1262.08301 2431.44608 2793.76380 1757.26562   1740.3634   \n",
       "b0003 1185.68035 1064.63112 1860.19414 2546.51422 1325.49828   1293.7217   \n",
       "b0004  940.96481  791.95511  970.59863 1272.32540  835.78674    824.9481   \n",
       "b0005  160.59723  139.53878   74.72048   67.51647  129.76943    111.0961   \n",
       "b0006   87.18843   91.09401   93.14893   91.96659   93.64506     93.5604   \n",
       "      delfur_dpd_1 delfur_dpd_2\n",
       "b0001 370.68253    343.88551   \n",
       "b0002 736.00450    931.53144   \n",
       "b0003 521.50365    837.77021   \n",
       "b0004 293.32857    393.46889   \n",
       "b0005  35.37756     39.99131   \n",
       "b0006  85.99539     97.90761   "
      ]
     },
     "metadata": {},
     "output_type": "display_data"
    }
   ],
   "source": [
    "tpm_data <- sweep(fpkm_data,2,colSums(fpkm_data),`/`)*1e6 # Divide each column by the column sum (times 1e6)\n",
    "head(tpm_data)"
   ]
  },
  {
   "cell_type": "code",
   "execution_count": 23,
   "metadata": {
    "collapsed": true
   },
   "outputs": [],
   "source": [
    "write.csv(tpm_data, file = \"example/deseq2-tpm.csv\")"
   ]
  },
  {
   "cell_type": "markdown",
   "metadata": {},
   "source": [
    "# PCA and clustering"
   ]
  },
  {
   "cell_type": "markdown",
   "metadata": {},
   "source": [
    "Raw counts from RNAseq tend to be exponentially distributed, so a log transform must be applied before running linear methods such as PCA or clustering. Since some counts can be 0, we must apply log(x + 1) to avoid infinite values. However, due to technical reasons, genes with lower counts have higher variance than genes with higher counts. PCA works best with constant variance, so to fix this DESeq2 has a model-based regularized log transform (rlog) to normalize the variance. The rlog counts are only used for this QC step, and should not be used for finding DEGs or other statistical tests."
   ]
  },
  {
   "cell_type": "code",
   "execution_count": 24,
   "metadata": {
    "collapsed": true
   },
   "outputs": [],
   "source": [
    "rld <- rlog(dds)"
   ]
  },
  {
   "cell_type": "code",
   "execution_count": 25,
   "metadata": {
    "collapsed": true
   },
   "outputs": [],
   "source": [
    "library(\"pheatmap\")\n",
    "library(\"RColorBrewer\")"
   ]
  },
  {
   "cell_type": "markdown",
   "metadata": {},
   "source": [
    "## PCA"
   ]
  },
  {
   "cell_type": "code",
   "execution_count": 26,
   "metadata": {},
   "outputs": [
    {
     "data": {},
     "metadata": {},
     "output_type": "display_data"
    },
    {
     "data": {
      "image/png": "[encoded data removed]",
      "text/plain": [
       "plot without title"
      ]
     },
     "metadata": {},
     "output_type": "display_data"
    }
   ],
   "source": [
    "options(repr.plot.width=7, repr.plot.height=3)\n",
    "plotPCA(rld,intgroup=c('group'))"
   ]
  },
  {
   "cell_type": "markdown",
   "metadata": {},
   "source": [
    "## Clustering"
   ]
  },
  {
   "cell_type": "code",
   "execution_count": 27,
   "metadata": {},
   "outputs": [
    {
     "data": {
      "image/png": "[encoded data removed]",
      "text/plain": [
       "plot without title"
      ]
     },
     "metadata": {},
     "output_type": "display_data"
    }
   ],
   "source": [
    "options(repr.plot.width=5, repr.plot.height=3)\n",
    "# Generate (euclidean) distance matrix\n",
    "sampleDists <- dist(t(assay(rld)))\n",
    "sampleDistMatrix <- as.matrix( sampleDists )\n",
    "# Designate the names for the rows\n",
    "rownames(sampleDistMatrix) <- colData(rld)$group\n",
    "# Designate the names for the columns\n",
    "colnames(sampleDistMatrix) <- NULL\n",
    "# Choose color palette\n",
    "colors <- colorRampPalette( rev(brewer.pal(9, \"Blues\")) )(255)\n",
    "# Create heatmap\n",
    "pheatmap(sampleDistMatrix,\n",
    "         clustering_distance_rows = sampleDists,\n",
    "         clustering_distance_cols = sampleDists,\n",
    "         col = colors)"
   ]
  },
  {
   "cell_type": "markdown",
   "metadata": {
    "collapsed": true
   },
   "source": [
    "# Find DEGs"
   ]
  },
  {
   "cell_type": "code",
   "execution_count": 28,
   "metadata": {},
   "outputs": [
    {
     "name": "stderr",
     "output_type": "stream",
     "text": [
      "estimating size factors\n",
      "estimating dispersions\n",
      "gene-wise dispersion estimates\n",
      "mean-dispersion relationship\n",
      "final dispersion estimates\n",
      "fitting model and testing\n"
     ]
    }
   ],
   "source": [
    "dds <- DESeq(dds)"
   ]
  },
  {
   "cell_type": "markdown",
   "metadata": {},
   "source": [
    "Designate which groups you want to compare for DEGs."
   ]
  },
  {
   "cell_type": "code",
   "execution_count": 29,
   "metadata": {
    "collapsed": true
   },
   "outputs": [],
   "source": [
    "res_FeCl2 <- results(dds,contrast = c('group','delfur_fe2','wt_fe2'))\n",
    "res_DPD <- results(dds,contrast = c('group','delfur_dpd','wt_dpd'))"
   ]
  },
  {
   "cell_type": "markdown",
   "metadata": {},
   "source": [
    "Put results into table form. Log2foldchange is positive if the first group (e.g. delfur_fe2) is larger than the second (e.g. wt_fe2)"
   ]
  },
  {
   "cell_type": "code",
   "execution_count": 30,
   "metadata": {
    "collapsed": true
   },
   "outputs": [],
   "source": [
    "resTable_FeCl2 <- data.frame(res_FeCl2@listData,row.names = res_FeCl2@rownames)\n",
    "resTable_DPD <- data.frame(res_DPD@listData,row.names = res_DPD@rownames)"
   ]
  },
  {
   "cell_type": "code",
   "execution_count": 31,
   "metadata": {},
   "outputs": [
    {
     "data": {
      "text/html": [
       "<table>\n",
       "<thead><tr><th></th><th scope=col>baseMean</th><th scope=col>log2FoldChange</th><th scope=col>lfcSE</th><th scope=col>stat</th><th scope=col>pvalue</th><th scope=col>padj</th></tr></thead>\n",
       "<tbody>\n",
       "\t<tr><th scope=row>b0001</th><td> 1639.2771 </td><td>-0.28992214</td><td>0.1400619  </td><td>-2.0699565 </td><td>0.038456419</td><td>0.13771461 </td></tr>\n",
       "\t<tr><th scope=row>b0002</th><td>37543.9371 </td><td>-0.16181437</td><td>0.1377818  </td><td>-1.1744247 </td><td>0.240224958</td><td>0.50484475 </td></tr>\n",
       "\t<tr><th scope=row>b0003</th><td>11470.3599 </td><td>-0.05096900</td><td>0.1893489  </td><td>-0.2691804 </td><td>0.787790843</td><td>0.91222156 </td></tr>\n",
       "\t<tr><th scope=row>b0004</th><td> 9538.0060 </td><td> 0.22638808</td><td>0.1600577  </td><td> 1.4144159 </td><td>0.157239838</td><td>0.38164632 </td></tr>\n",
       "\t<tr><th scope=row>b0005</th><td>  272.6342 </td><td> 0.48057410</td><td>0.1711926  </td><td> 2.8072134 </td><td>0.004997212</td><td>0.02630393 </td></tr>\n",
       "\t<tr><th scope=row>b0006</th><td>  666.5793 </td><td> 0.09578177</td><td>0.1293084  </td><td> 0.7407232 </td><td>0.458861280</td><td>0.72105480 </td></tr>\n",
       "</tbody>\n",
       "</table>\n"
      ],
      "text/latex": [
       "\\begin{tabular}{r|llllll}\n",
       "  & baseMean & log2FoldChange & lfcSE & stat & pvalue & padj\\\\\n",
       "\\hline\n",
       "\tb0001 &  1639.2771  & -0.28992214 & 0.1400619   & -2.0699565  & 0.038456419 & 0.13771461 \\\\\n",
       "\tb0002 & 37543.9371  & -0.16181437 & 0.1377818   & -1.1744247  & 0.240224958 & 0.50484475 \\\\\n",
       "\tb0003 & 11470.3599  & -0.05096900 & 0.1893489   & -0.2691804  & 0.787790843 & 0.91222156 \\\\\n",
       "\tb0004 &  9538.0060  &  0.22638808 & 0.1600577   &  1.4144159  & 0.157239838 & 0.38164632 \\\\\n",
       "\tb0005 &   272.6342  &  0.48057410 & 0.1711926   &  2.8072134  & 0.004997212 & 0.02630393 \\\\\n",
       "\tb0006 &   666.5793  &  0.09578177 & 0.1293084   &  0.7407232  & 0.458861280 & 0.72105480 \\\\\n",
       "\\end{tabular}\n"
      ],
      "text/markdown": [
       "\n",
       "| <!--/--> | baseMean | log2FoldChange | lfcSE | stat | pvalue | padj | \n",
       "|---|---|---|---|---|---|\n",
       "| b0001 |  1639.2771  | -0.28992214 | 0.1400619   | -2.0699565  | 0.038456419 | 0.13771461  | \n",
       "| b0002 | 37543.9371  | -0.16181437 | 0.1377818   | -1.1744247  | 0.240224958 | 0.50484475  | \n",
       "| b0003 | 11470.3599  | -0.05096900 | 0.1893489   | -0.2691804  | 0.787790843 | 0.91222156  | \n",
       "| b0004 |  9538.0060  |  0.22638808 | 0.1600577   |  1.4144159  | 0.157239838 | 0.38164632  | \n",
       "| b0005 |   272.6342  |  0.48057410 | 0.1711926   |  2.8072134  | 0.004997212 | 0.02630393  | \n",
       "| b0006 |   666.5793  |  0.09578177 | 0.1293084   |  0.7407232  | 0.458861280 | 0.72105480  | \n",
       "\n",
       "\n"
      ],
      "text/plain": [
       "      baseMean   log2FoldChange lfcSE     stat       pvalue      padj      \n",
       "b0001  1639.2771 -0.28992214    0.1400619 -2.0699565 0.038456419 0.13771461\n",
       "b0002 37543.9371 -0.16181437    0.1377818 -1.1744247 0.240224958 0.50484475\n",
       "b0003 11470.3599 -0.05096900    0.1893489 -0.2691804 0.787790843 0.91222156\n",
       "b0004  9538.0060  0.22638808    0.1600577  1.4144159 0.157239838 0.38164632\n",
       "b0005   272.6342  0.48057410    0.1711926  2.8072134 0.004997212 0.02630393\n",
       "b0006   666.5793  0.09578177    0.1293084  0.7407232 0.458861280 0.72105480"
      ]
     },
     "metadata": {},
     "output_type": "display_data"
    }
   ],
   "source": [
    "head(resTable_FeCl2)"
   ]
  },
  {
   "cell_type": "code",
   "execution_count": 32,
   "metadata": {
    "collapsed": true
   },
   "outputs": [],
   "source": [
    "deg_FeCl2 <- resTable_FeCl2[complete.cases(resTable_FeCl2[,c('padj','log2FoldChange')]) & \n",
    "                            # ^ Make sure that LogFoldChange and p-adjusted are complete (not null)\n",
    "                            resTable_FeCl2$padj < .05 & # Adjusted p-value cutoff of 0.05\n",
    "                            abs(resTable_FeCl2$log2FoldChange) > 1,] # abs(log2foldChange) cutoff of 1\n",
    "\n",
    "deg_DPD <- resTable_DPD[complete.cases(resTable_DPD[,c('padj','log2FoldChange')]) & \n",
    "                        # ^ Make sure that LogFoldChange and p-adjusted are complete (not null)\n",
    "                        resTable_DPD$padj < .05 & # Adjusted p-value cutoff of 0.05\n",
    "                        abs(resTable_DPD$log2FoldChange) > 1,] # abs(log2foldChange) cutoff of 1"
   ]
  },
  {
   "cell_type": "code",
   "execution_count": 33,
   "metadata": {},
   "outputs": [
    {
     "data": {
      "text/html": [
       "<table>\n",
       "<thead><tr><th></th><th scope=col>baseMean</th><th scope=col>log2FoldChange</th><th scope=col>lfcSE</th><th scope=col>stat</th><th scope=col>pvalue</th><th scope=col>padj</th></tr></thead>\n",
       "<tbody>\n",
       "\t<tr><th scope=row>b0034</th><td>  166.3247  </td><td> 1.129010   </td><td>0.21144959  </td><td> 5.339382   </td><td>9.326374e-08</td><td>1.353185e-06</td></tr>\n",
       "\t<tr><th scope=row>b0118</th><td>24654.2086  </td><td> 1.326099   </td><td>0.09896157  </td><td>13.400141   </td><td>6.034825e-41</td><td>3.042171e-39</td></tr>\n",
       "\t<tr><th scope=row>b0123</th><td> 3274.3594  </td><td> 2.047755   </td><td>0.11760840  </td><td>17.411643   </td><td>6.732403e-68</td><td>6.302812e-66</td></tr>\n",
       "\t<tr><th scope=row>b0150</th><td> 7194.4090  </td><td>-1.100248   </td><td>0.14747676  </td><td>-7.460482   </td><td>8.620658e-14</td><td>1.936939e-12</td></tr>\n",
       "\t<tr><th scope=row>b0152</th><td>  424.5402  </td><td>-1.052151   </td><td>0.17101989  </td><td>-6.152217   </td><td>7.640741e-10</td><td>1.353306e-08</td></tr>\n",
       "\t<tr><th scope=row>b0273</th><td> 3503.4496  </td><td> 1.180198   </td><td>0.20727385  </td><td> 5.693905   </td><td>1.241664e-08</td><td>2.017447e-07</td></tr>\n",
       "</tbody>\n",
       "</table>\n"
      ],
      "text/latex": [
       "\\begin{tabular}{r|llllll}\n",
       "  & baseMean & log2FoldChange & lfcSE & stat & pvalue & padj\\\\\n",
       "\\hline\n",
       "\tb0034 &   166.3247   &  1.129010    & 0.21144959   &  5.339382    & 9.326374e-08 & 1.353185e-06\\\\\n",
       "\tb0118 & 24654.2086   &  1.326099    & 0.09896157   & 13.400141    & 6.034825e-41 & 3.042171e-39\\\\\n",
       "\tb0123 &  3274.3594   &  2.047755    & 0.11760840   & 17.411643    & 6.732403e-68 & 6.302812e-66\\\\\n",
       "\tb0150 &  7194.4090   & -1.100248    & 0.14747676   & -7.460482    & 8.620658e-14 & 1.936939e-12\\\\\n",
       "\tb0152 &   424.5402   & -1.052151    & 0.17101989   & -6.152217    & 7.640741e-10 & 1.353306e-08\\\\\n",
       "\tb0273 &  3503.4496   &  1.180198    & 0.20727385   &  5.693905    & 1.241664e-08 & 2.017447e-07\\\\\n",
       "\\end{tabular}\n"
      ],
      "text/markdown": [
       "\n",
       "| <!--/--> | baseMean | log2FoldChange | lfcSE | stat | pvalue | padj | \n",
       "|---|---|---|---|---|---|\n",
       "| b0034 |   166.3247   |  1.129010    | 0.21144959   |  5.339382    | 9.326374e-08 | 1.353185e-06 | \n",
       "| b0118 | 24654.2086   |  1.326099    | 0.09896157   | 13.400141    | 6.034825e-41 | 3.042171e-39 | \n",
       "| b0123 |  3274.3594   |  2.047755    | 0.11760840   | 17.411643    | 6.732403e-68 | 6.302812e-66 | \n",
       "| b0150 |  7194.4090   | -1.100248    | 0.14747676   | -7.460482    | 8.620658e-14 | 1.936939e-12 | \n",
       "| b0152 |   424.5402   | -1.052151    | 0.17101989   | -6.152217    | 7.640741e-10 | 1.353306e-08 | \n",
       "| b0273 |  3503.4496   |  1.180198    | 0.20727385   |  5.693905    | 1.241664e-08 | 2.017447e-07 | \n",
       "\n",
       "\n"
      ],
      "text/plain": [
       "      baseMean   log2FoldChange lfcSE      stat      pvalue       padj        \n",
       "b0034   166.3247  1.129010      0.21144959  5.339382 9.326374e-08 1.353185e-06\n",
       "b0118 24654.2086  1.326099      0.09896157 13.400141 6.034825e-41 3.042171e-39\n",
       "b0123  3274.3594  2.047755      0.11760840 17.411643 6.732403e-68 6.302812e-66\n",
       "b0150  7194.4090 -1.100248      0.14747676 -7.460482 8.620658e-14 1.936939e-12\n",
       "b0152   424.5402 -1.052151      0.17101989 -6.152217 7.640741e-10 1.353306e-08\n",
       "b0273  3503.4496  1.180198      0.20727385  5.693905 1.241664e-08 2.017447e-07"
      ]
     },
     "metadata": {},
     "output_type": "display_data"
    }
   ],
   "source": [
    "head(deg_FeCl2)"
   ]
  },
  {
   "cell_type": "code",
   "execution_count": null,
   "metadata": {
    "collapsed": true
   },
   "outputs": [],
   "source": []
  }
 ],
 "metadata": {
  "kernelspec": {
   "display_name": "R",
   "language": "R",
   "name": "ir"
  },
  "language_info": {
   "codemirror_mode": "r",
   "file_extension": ".r",
   "mimetype": "text/x-r-source",
   "name": "R",
   "pygments_lexer": "r",
   "version": "3.3.1"
  },
  "toc": {
   "nav_menu": {},
   "number_sections": true,
   "sideBar": true,
   "skip_h1_title": false,
   "title_cell": "Table of Contents",
   "title_sidebar": "Contents",
   "toc_cell": true,
   "toc_position": {},
   "toc_section_display": true,
   "toc_window_display": false
  }
 },
 "nbformat": 4,
 "nbformat_minor": 1
}
