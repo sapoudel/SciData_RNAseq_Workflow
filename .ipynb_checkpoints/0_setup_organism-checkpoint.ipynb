{
 "cells": [
  {
   "cell_type": "markdown",
   "metadata": {
    "toc": true
   },
   "source": [
    "<h1>Table of Contents<span class=\"tocSkip\"></span></h1>\n",
    "<div class=\"toc\"><ul class=\"toc-item\"><li><span><a href=\"#Set-up-Organism-Files.\" data-toc-modified-id=\"Set-up-Organism-Files.-1\"><span class=\"toc-item-num\">1&nbsp;&nbsp;</span>Set up Organism Files.</a></span><ul class=\"toc-item\"><li><span><a href=\"#Setup\" data-toc-modified-id=\"Setup-1.1\"><span class=\"toc-item-num\">1.1&nbsp;&nbsp;</span>Setup</a></span></li><li><span><a href=\"#Set-variables\" data-toc-modified-id=\"Set-variables-1.2\"><span class=\"toc-item-num\">1.2&nbsp;&nbsp;</span>Set variables</a></span></li></ul></li></ul></div>"
   ]
  },
  {
   "cell_type": "markdown",
   "metadata": {},
   "source": [
    "# Set up Organism Files.\n",
    "** Only run this script once for each strain/organism. This is not necessary for E. coli K-12 MG1655. **"
   ]
  },
  {
   "cell_type": "markdown",
   "metadata": {},
   "source": [
    "## Setup"
   ]
  },
  {
   "cell_type": "code",
   "execution_count": 1,
   "metadata": {},
   "outputs": [],
   "source": [
    "import os,sys,subprocess,shutil\n",
    "from rnaseq import initialize_reference,build_index"
   ]
  },
  {
   "cell_type": "markdown",
   "metadata": {},
   "source": [
    "## Set variables"
   ]
  },
  {
   "cell_type": "code",
   "execution_count": 2,
   "metadata": {},
   "outputs": [],
   "source": [
    "ORG_ID = 'MG1655' # Organism ID\n",
    "FASTA = 'example/NC_000913.3.fasta' # Absolute location of FASTA file\n",
    "GB_FULL = 'example/NC_000913.3.gb' # Absolute location of Genbank File\n",
    "ALIGNER = 'bowtie' # OR bowtie2"
   ]
  },
  {
   "cell_type": "markdown",
   "metadata": {},
   "source": [
    "We will now create a reference genome subdirectory in the ~/ref/ directory.  \n",
    "Then we will build the bowtie index for aligning:\n",
    "`bowtie-build -f <fasta> <org_id>`  \n",
    "Finally, we will create the GFF file for read counting."
   ]
  },
  {
   "cell_type": "code",
   "execution_count": 3,
   "metadata": {},
   "outputs": [
    {
     "name": "stdout",
     "output_type": "stream",
     "text": [
      "Building bowtie index: bowtie-build -f ref/MG1655/MG1655.fasta ref/MG1655/MG1655\n",
      "Making GFF file...\n",
      "\n",
      "Created Directory: ref/MG1655\n",
      "-> MG1655.1.ebwt\n",
      "-> MG1655.2.ebwt\n",
      "-> MG1655.3.ebwt\n",
      "-> MG1655.4.ebwt\n",
      "-> MG1655.fasta\n",
      "-> MG1655.gb\n",
      "-> MG1655.gff\n",
      "-> MG1655.rev.1.ebwt\n",
      "-> MG1655.rev.2.ebwt\n",
      "-> info.txt\n"
     ]
    }
   ],
   "source": [
    "initialize_reference(ORG_ID,FASTA,GB_FULL,ALIGNER)"
   ]
  },
  {
   "cell_type": "code",
   "execution_count": null,
   "metadata": {},
   "outputs": [],
   "source": []
  }
 ],
 "metadata": {
  "kernelspec": {
   "display_name": "Python 2",
   "language": "python",
   "name": "python2"
  },
  "language_info": {
   "codemirror_mode": {
    "name": "ipython",
    "version": 2
   },
   "file_extension": ".py",
   "mimetype": "text/x-python",
   "name": "python",
   "nbconvert_exporter": "python",
   "pygments_lexer": "ipython2",
   "version": "2.7.12"
  },
  "toc": {
   "nav_menu": {},
   "number_sections": true,
   "sideBar": true,
   "skip_h1_title": false,
   "title_cell": "Table of Contents",
   "title_sidebar": "Contents",
   "toc_cell": true,
   "toc_position": {},
   "toc_section_display": true,
   "toc_window_display": false
  }
 },
 "nbformat": 4,
 "nbformat_minor": 2
}
