{
 "cells": [
  {
   "cell_type": "markdown",
   "metadata": {},
   "source": [
    "# Set up Organism Files.\n",
    "** Only run this script once for each strain/organism. This is not necessary for E. coli K-12 MG1655. **"
   ]
  },
  {
   "cell_type": "markdown",
   "metadata": {},
   "source": [
    "## Setup"
   ]
  },
  {
   "cell_type": "code",
   "execution_count": null,
   "metadata": {},
   "outputs": [],
   "source": [
    "import os,sys,subprocess,shutil\n",
    "from rnaseq import initialize_reference,build_index"
   ]
  },
  {
   "cell_type": "markdown",
   "metadata": {},
   "source": [
    "## Set variables"
   ]
  },
  {
   "cell_type": "code",
   "execution_count": null,
   "metadata": {},
   "outputs": [],
   "source": [
    "ORG_ID = 'D712' # Organism ID\n",
    "FASTA = '/home/avsastry/saugat/D712.fa' # Absolute location of FASTA file\n",
    "GB_FULL = '/home/avsastry/saugat/U01_D712.gb' # Absolute location of Genbank File\n",
    "ALIGNER = 'bowtie2' # OR bowtie2"
   ]
  },
  {
   "cell_type": "code",
   "execution_count": 4,
   "metadata": {},
   "outputs": [],
   "source": [
    "ORG_ID = 'MG1655' # Organism ID\n",
    "FASTA = 'example/ref/NC_000913.3.fasta' # Absolute location of FASTA file\n",
    "GB_FULL = 'example/ref/NC_000913.3.gb' # Absolute location of Genbank File\n",
    "ALIGNER = 'bowtie' # OR bowtie2"
   ]
  },
  {
   "cell_type": "markdown",
   "metadata": {},
   "source": [
    "We will now create a reference genome subdirectory in the ~/ref/ directory.  \n",
    "Then we will build the bowtie index for aligning:\n",
    "`bowtie-build -f <fasta> <org_id>`  \n",
    "Finally, we will create the GFF file for read counting."
   ]
  },
  {
   "cell_type": "code",
   "execution_count": 5,
   "metadata": {},
   "outputs": [
    {
     "name": "stdout",
     "output_type": "stream",
     "text": [
      "Building bowtie index: bowtie-build -f /home/avsastry/ref/MG1655/MG1655.fasta /home/avsastry/ref/MG1655/MG1655\n",
      "Making GFF file...\n"
     ]
    },
    {
     "ename": "ValueError",
     "evalue": "Fasta file is missing record: NC_000913.3",
     "output_type": "error",
     "traceback": [
      "\u001b[0;31m---------------------------------------------------------------------------\u001b[0m",
      "\u001b[0;31mValueError\u001b[0m                                Traceback (most recent call last)",
      "\u001b[0;32m<ipython-input-5-81f0d53dd4b5>\u001b[0m in \u001b[0;36m<module>\u001b[0;34m()\u001b[0m\n\u001b[0;32m----> 1\u001b[0;31m \u001b[0minitialize_reference\u001b[0m\u001b[0;34m(\u001b[0m\u001b[0mORG_ID\u001b[0m\u001b[0;34m,\u001b[0m\u001b[0mFASTA\u001b[0m\u001b[0;34m,\u001b[0m\u001b[0mGB_FULL\u001b[0m\u001b[0;34m,\u001b[0m\u001b[0mALIGNER\u001b[0m\u001b[0;34m)\u001b[0m\u001b[0;34m\u001b[0m\u001b[0m\n\u001b[0m",
      "\u001b[0;32m/home/avsastry/RNAseq_workflow/rnaseq.py\u001b[0m in \u001b[0;36minitialize_reference\u001b[0;34m(org_id, fasta, gb, aligner)\u001b[0m\n\u001b[1;32m     33\u001b[0m     \u001b[0;31m# Make GFF file\u001b[0m\u001b[0;34m\u001b[0m\u001b[0;34m\u001b[0m\u001b[0m\n\u001b[1;32m     34\u001b[0m     \u001b[0;32mprint\u001b[0m\u001b[0;34m(\u001b[0m\u001b[0;34m'Making GFF file...'\u001b[0m\u001b[0;34m)\u001b[0m\u001b[0;34m\u001b[0m\u001b[0m\n\u001b[0;32m---> 35\u001b[0;31m     \u001b[0mgff\u001b[0m \u001b[0;34m=\u001b[0m \u001b[0mgb2gff\u001b[0m\u001b[0;34m(\u001b[0m\u001b[0mnew_fasta\u001b[0m\u001b[0;34m,\u001b[0m\u001b[0mnew_gb\u001b[0m\u001b[0;34m)\u001b[0m\u001b[0;34m\u001b[0m\u001b[0m\n\u001b[0m\u001b[1;32m     36\u001b[0m \u001b[0;34m\u001b[0m\u001b[0m\n\u001b[1;32m     37\u001b[0m     \u001b[0;31m# Add aligner info\u001b[0m\u001b[0;34m\u001b[0m\u001b[0;34m\u001b[0m\u001b[0m\n",
      "\u001b[0;32m/home/avsastry/RNAseq_workflow/rnaseq.py\u001b[0m in \u001b[0;36mgb2gff\u001b[0;34m(sequence, genbank, id_tag)\u001b[0m\n\u001b[1;32m     96\u001b[0m             \u001b[0;31m# Check that record is also in fasta\u001b[0m\u001b[0;34m\u001b[0m\u001b[0;34m\u001b[0m\u001b[0m\n\u001b[1;32m     97\u001b[0m             \u001b[0;32mif\u001b[0m \u001b[0mrec\u001b[0m\u001b[0;34m.\u001b[0m\u001b[0mid\u001b[0m \u001b[0;32mnot\u001b[0m \u001b[0;32min\u001b[0m \u001b[0mfasta_ids\u001b[0m\u001b[0;34m:\u001b[0m\u001b[0;34m\u001b[0m\u001b[0m\n\u001b[0;32m---> 98\u001b[0;31m                 \u001b[0;32mraise\u001b[0m \u001b[0mValueError\u001b[0m\u001b[0;34m(\u001b[0m\u001b[0;34m'Fasta file is missing record: '\u001b[0m\u001b[0;34m+\u001b[0m\u001b[0mrec\u001b[0m\u001b[0;34m.\u001b[0m\u001b[0mid\u001b[0m\u001b[0;34m)\u001b[0m\u001b[0;34m\u001b[0m\u001b[0m\n\u001b[0m\u001b[1;32m     99\u001b[0m             \u001b[0;31m# Parse through each feature in genbank record\u001b[0m\u001b[0;34m\u001b[0m\u001b[0;34m\u001b[0m\u001b[0m\n\u001b[1;32m    100\u001b[0m             \u001b[0;32mfor\u001b[0m \u001b[0mfeature\u001b[0m \u001b[0;32min\u001b[0m \u001b[0mrec\u001b[0m\u001b[0;34m.\u001b[0m\u001b[0mfeatures\u001b[0m\u001b[0;34m:\u001b[0m\u001b[0;34m\u001b[0m\u001b[0m\n",
      "\u001b[0;31mValueError\u001b[0m: Fasta file is missing record: NC_000913.3"
     ]
    }
   ],
   "source": [
    "initialize_reference(ORG_ID,FASTA,GB_FULL,ALIGNER)"
   ]
  },
  {
   "cell_type": "code",
   "execution_count": null,
   "metadata": {},
   "outputs": [],
   "source": []
  }
 ],
 "metadata": {
  "kernelspec": {
   "display_name": "Python 2",
   "language": "python",
   "name": "python2"
  },
  "language_info": {
   "codemirror_mode": {
    "name": "ipython",
    "version": 2
   },
   "file_extension": ".py",
   "mimetype": "text/x-python",
   "name": "python",
   "nbconvert_exporter": "python",
   "pygments_lexer": "ipython2",
   "version": "2.7.15"
  }
 },
 "nbformat": 4,
 "nbformat_minor": 2
}
