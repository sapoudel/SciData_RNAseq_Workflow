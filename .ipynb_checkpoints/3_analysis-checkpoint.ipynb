{
 "cells": [
  {
   "cell_type": "markdown",
   "metadata": {
    "toc": true
   },
   "source": [
    "<h1>Table of Contents<span class=\"tocSkip\"></span></h1>\n",
    "<div class=\"toc\"><ul class=\"toc-item\"><li><span><a href=\"#Adapted-from:--http://www.bioconductor.org/help/workflows/rnaseqGene/\" data-toc-modified-id=\"Adapted-from:--http://www.bioconductor.org/help/workflows/rnaseqGene/-1\"><span class=\"toc-item-num\">1&nbsp;&nbsp;</span>Adapted from:  <a href=\"http://www.bioconductor.org/help/workflows/rnaseqGene/\" target=\"_blank\">http://www.bioconductor.org/help/workflows/rnaseqGene/</a></a></span></li><li><span><a href=\"#Setup\" data-toc-modified-id=\"Setup-2\"><span class=\"toc-item-num\">2&nbsp;&nbsp;</span>Setup</a></span></li><li><span><a href=\"#Create-DESeq-Data-Set\" data-toc-modified-id=\"Create-DESeq-Data-Set-3\"><span class=\"toc-item-num\">3&nbsp;&nbsp;</span>Create DESeq Data Set</a></span></li><li><span><a href=\"#Calculate-TPM\" data-toc-modified-id=\"Calculate-TPM-4\"><span class=\"toc-item-num\">4&nbsp;&nbsp;</span>Calculate TPM</a></span></li><li><span><a href=\"#PCA-and-clustering\" data-toc-modified-id=\"PCA-and-clustering-5\"><span class=\"toc-item-num\">5&nbsp;&nbsp;</span>PCA and clustering</a></span><ul class=\"toc-item\"><li><span><a href=\"#PCA\" data-toc-modified-id=\"PCA-5.1\"><span class=\"toc-item-num\">5.1&nbsp;&nbsp;</span>PCA</a></span></li><li><span><a href=\"#Clustering\" data-toc-modified-id=\"Clustering-5.2\"><span class=\"toc-item-num\">5.2&nbsp;&nbsp;</span>Clustering</a></span></li></ul></li><li><span><a href=\"#Find-DEGs\" data-toc-modified-id=\"Find-DEGs-6\"><span class=\"toc-item-num\">6&nbsp;&nbsp;</span>Find DEGs</a></span></li></ul></div>"
   ]
  },
  {
   "cell_type": "markdown",
   "metadata": {},
   "source": [
    "# Adapted from:  http://www.bioconductor.org/help/workflows/rnaseqGene/"
   ]
  },
  {
   "cell_type": "markdown",
   "metadata": {},
   "source": [
    "To learn basics of R: https://www.datacamp.com/courses/free-introduction-to-r"
   ]
  },
  {
   "cell_type": "markdown",
   "metadata": {},
   "source": [
    "# Setup"
   ]
  },
  {
   "cell_type": "code",
   "execution_count": 1,
   "metadata": {},
   "outputs": [],
   "source": [
    "suppressPackageStartupMessages(library('SummarizedExperiment'))\n",
    "suppressPackageStartupMessages(library('GenomicFeatures'))\n",
    "suppressPackageStartupMessages(library('DESeq2'))"
   ]
  },
  {
   "cell_type": "markdown",
   "metadata": {},
   "source": [
    "# Create DESeq Data Set"
   ]
  },
  {
   "cell_type": "code",
   "execution_count": 2,
   "metadata": {},
   "outputs": [],
   "source": [
    "load('example/se.rda')"
   ]
  },
  {
   "cell_type": "markdown",
   "metadata": {},
   "source": [
    "Create the DESeqDataSet, and designate the experimental design. The experimental design can include information from the colData. Use ~1 to ignore design criteria."
   ]
  },
  {
   "cell_type": "code",
   "execution_count": 3,
   "metadata": {},
   "outputs": [
    {
     "data": {
      "text/html": [
       "<ol class=list-inline>\n",
       "\t<li>'wt_fe2_1'</li>\n",
       "\t<li>'wt_fe2_2'</li>\n",
       "\t<li>'wt_dpd_1'</li>\n",
       "\t<li>'wt_dpd_2'</li>\n",
       "\t<li>'delfur_fe2_1'</li>\n",
       "\t<li>'delfur_fe2_2'</li>\n",
       "\t<li>'delfur_dpd_1'</li>\n",
       "\t<li>'delfur_dpd_2'</li>\n",
       "</ol>\n"
      ],
      "text/latex": [
       "\\begin{enumerate*}\n",
       "\\item 'wt\\_fe2\\_1'\n",
       "\\item 'wt\\_fe2\\_2'\n",
       "\\item 'wt\\_dpd\\_1'\n",
       "\\item 'wt\\_dpd\\_2'\n",
       "\\item 'delfur\\_fe2\\_1'\n",
       "\\item 'delfur\\_fe2\\_2'\n",
       "\\item 'delfur\\_dpd\\_1'\n",
       "\\item 'delfur\\_dpd\\_2'\n",
       "\\end{enumerate*}\n"
      ],
      "text/markdown": [
       "1. 'wt_fe2_1'\n",
       "2. 'wt_fe2_2'\n",
       "3. 'wt_dpd_1'\n",
       "4. 'wt_dpd_2'\n",
       "5. 'delfur_fe2_1'\n",
       "6. 'delfur_fe2_2'\n",
       "7. 'delfur_dpd_1'\n",
       "8. 'delfur_dpd_2'\n",
       "\n",
       "\n"
      ],
      "text/plain": [
       "[1] \"wt_fe2_1\"     \"wt_fe2_2\"     \"wt_dpd_1\"     \"wt_dpd_2\"     \"delfur_fe2_1\"\n",
       "[6] \"delfur_fe2_2\" \"delfur_dpd_1\" \"delfur_dpd_2\""
      ]
     },
     "metadata": {},
     "output_type": "display_data"
    }
   ],
   "source": [
    "colnames(se)"
   ]
  },
  {
   "cell_type": "code",
   "execution_count": 4,
   "metadata": {},
   "outputs": [
    {
     "data": {
      "text/html": [
       "<ol class=list-inline>\n",
       "\t<li>'wt_fe2'</li>\n",
       "\t<li>'wt_fe2'</li>\n",
       "\t<li>'wt_dpd'</li>\n",
       "\t<li>'wt_dpd'</li>\n",
       "\t<li>'delfur_fe2'</li>\n",
       "\t<li>'delfur_fe2'</li>\n",
       "\t<li>'delfur_dpd'</li>\n",
       "\t<li>'delfur_dpd'</li>\n",
       "</ol>\n"
      ],
      "text/latex": [
       "\\begin{enumerate*}\n",
       "\\item 'wt\\_fe2'\n",
       "\\item 'wt\\_fe2'\n",
       "\\item 'wt\\_dpd'\n",
       "\\item 'wt\\_dpd'\n",
       "\\item 'delfur\\_fe2'\n",
       "\\item 'delfur\\_fe2'\n",
       "\\item 'delfur\\_dpd'\n",
       "\\item 'delfur\\_dpd'\n",
       "\\end{enumerate*}\n"
      ],
      "text/markdown": [
       "1. 'wt_fe2'\n",
       "2. 'wt_fe2'\n",
       "3. 'wt_dpd'\n",
       "4. 'wt_dpd'\n",
       "5. 'delfur_fe2'\n",
       "6. 'delfur_fe2'\n",
       "7. 'delfur_dpd'\n",
       "8. 'delfur_dpd'\n",
       "\n",
       "\n"
      ],
      "text/plain": [
       "[1] \"wt_fe2\"     \"wt_fe2\"     \"wt_dpd\"     \"wt_dpd\"     \"delfur_fe2\"\n",
       "[6] \"delfur_fe2\" \"delfur_dpd\" \"delfur_dpd\""
      ]
     },
     "metadata": {},
     "output_type": "display_data"
    }
   ],
   "source": [
    "# Designate groups for comparisons by removing the replicate subscript from colnames\n",
    "colData(se)$group <- gsub('.{2}$', '', colnames(se))\n",
    "colData(se)$group"
   ]
  },
  {
   "cell_type": "code",
   "execution_count": 5,
   "metadata": {
    "scrolled": true
   },
   "outputs": [
    {
     "name": "stderr",
     "output_type": "stream",
     "text": [
      "Warning message in DESeqDataSet(se, design = ~group):\n",
      "“some variables in design formula are characters, converting to factors”"
     ]
    }
   ],
   "source": [
    "dds <- DESeqDataSet(se, design = ~group)"
   ]
  },
  {
   "cell_type": "markdown",
   "metadata": {},
   "source": [
    "Remove genes that have 0 counts across experimental conditions"
   ]
  },
  {
   "cell_type": "code",
   "execution_count": 6,
   "metadata": {},
   "outputs": [
    {
     "data": {
      "text/html": [
       "4386"
      ],
      "text/latex": [
       "4386"
      ],
      "text/markdown": [
       "4386"
      ],
      "text/plain": [
       "[1] 4386"
      ]
     },
     "metadata": {},
     "output_type": "display_data"
    },
    {
     "data": {
      "text/html": [
       "4296"
      ],
      "text/latex": [
       "4296"
      ],
      "text/markdown": [
       "4296"
      ],
      "text/plain": [
       "[1] 4296"
      ]
     },
     "metadata": {},
     "output_type": "display_data"
    }
   ],
   "source": [
    "nrow(dds)\n",
    "dds <- dds[rowSums(assay(dds)) > 0, ]\n",
    "nrow(dds)"
   ]
  },
  {
   "cell_type": "code",
   "execution_count": 7,
   "metadata": {},
   "outputs": [
    {
     "data": {
      "text/html": [
       "<table>\n",
       "<thead><tr><th></th><th scope=col>wt_fe2_1</th><th scope=col>wt_fe2_2</th><th scope=col>wt_dpd_1</th><th scope=col>wt_dpd_2</th><th scope=col>delfur_fe2_1</th><th scope=col>delfur_fe2_2</th><th scope=col>delfur_dpd_1</th><th scope=col>delfur_dpd_2</th></tr></thead>\n",
       "<tbody>\n",
       "\t<tr><th scope=row>b0001</th><td> 218</td><td> 294</td><td>  29</td><td>  29</td><td> 316</td><td> 367</td><td>  27</td><td>  21</td></tr>\n",
       "\t<tr><th scope=row>b0002</th><td>3382</td><td>2782</td><td>5099</td><td>5787</td><td>3607</td><td>3763</td><td>1579</td><td>1876</td></tr>\n",
       "\t<tr><th scope=row>b0003</th><td>1027</td><td> 901</td><td>1411</td><td>1945</td><td>1061</td><td>1028</td><td> 450</td><td> 642</td></tr>\n",
       "\t<tr><th scope=row>b0004</th><td>1062</td><td> 977</td><td>1038</td><td>1366</td><td> 929</td><td> 920</td><td> 326</td><td> 420</td></tr>\n",
       "\t<tr><th scope=row>b0005</th><td>  45</td><td>  34</td><td>  18</td><td>  24</td><td>  30</td><td>  25</td><td>  11</td><td>  10</td></tr>\n",
       "\t<tr><th scope=row>b0006</th><td>  58</td><td>  53</td><td>  63</td><td>  78</td><td>  64</td><td>  52</td><td>  57</td><td>  63</td></tr>\n",
       "</tbody>\n",
       "</table>\n"
      ],
      "text/latex": [
       "\\begin{tabular}{r|llllllll}\n",
       "  & wt\\_fe2\\_1 & wt\\_fe2\\_2 & wt\\_dpd\\_1 & wt\\_dpd\\_2 & delfur\\_fe2\\_1 & delfur\\_fe2\\_2 & delfur\\_dpd\\_1 & delfur\\_dpd\\_2\\\\\n",
       "\\hline\n",
       "\tb0001 &  218 &  294 &   29 &   29 &  316 &  367 &   27 &   21\\\\\n",
       "\tb0002 & 3382 & 2782 & 5099 & 5787 & 3607 & 3763 & 1579 & 1876\\\\\n",
       "\tb0003 & 1027 &  901 & 1411 & 1945 & 1061 & 1028 &  450 &  642\\\\\n",
       "\tb0004 & 1062 &  977 & 1038 & 1366 &  929 &  920 &  326 &  420\\\\\n",
       "\tb0005 &   45 &   34 &   18 &   24 &   30 &   25 &   11 &   10\\\\\n",
       "\tb0006 &   58 &   53 &   63 &   78 &   64 &   52 &   57 &   63\\\\\n",
       "\\end{tabular}\n"
      ],
      "text/markdown": [
       "\n",
       "| <!--/--> | wt_fe2_1 | wt_fe2_2 | wt_dpd_1 | wt_dpd_2 | delfur_fe2_1 | delfur_fe2_2 | delfur_dpd_1 | delfur_dpd_2 | \n",
       "|---|---|---|---|---|---|\n",
       "| b0001 |  218 |  294 |   29 |   29 |  316 |  367 |   27 |   21 | \n",
       "| b0002 | 3382 | 2782 | 5099 | 5787 | 3607 | 3763 | 1579 | 1876 | \n",
       "| b0003 | 1027 |  901 | 1411 | 1945 | 1061 | 1028 |  450 |  642 | \n",
       "| b0004 | 1062 |  977 | 1038 | 1366 |  929 |  920 |  326 |  420 | \n",
       "| b0005 |   45 |   34 |   18 |   24 |   30 |   25 |   11 |   10 | \n",
       "| b0006 |   58 |   53 |   63 |   78 |   64 |   52 |   57 |   63 | \n",
       "\n",
       "\n"
      ],
      "text/plain": [
       "      wt_fe2_1 wt_fe2_2 wt_dpd_1 wt_dpd_2 delfur_fe2_1 delfur_fe2_2\n",
       "b0001  218      294       29       29      316          367        \n",
       "b0002 3382     2782     5099     5787     3607         3763        \n",
       "b0003 1027      901     1411     1945     1061         1028        \n",
       "b0004 1062      977     1038     1366      929          920        \n",
       "b0005   45       34       18       24       30           25        \n",
       "b0006   58       53       63       78       64           52        \n",
       "      delfur_dpd_1 delfur_dpd_2\n",
       "b0001   27           21        \n",
       "b0002 1579         1876        \n",
       "b0003  450          642        \n",
       "b0004  326          420        \n",
       "b0005   11           10        \n",
       "b0006   57           63        "
      ]
     },
     "metadata": {},
     "output_type": "display_data"
    }
   ],
   "source": [
    "head(assay(dds))"
   ]
  },
  {
   "cell_type": "markdown",
   "metadata": {},
   "source": [
    "# Calculate TPM"
   ]
  },
  {
   "cell_type": "code",
   "execution_count": 8,
   "metadata": {},
   "outputs": [
    {
     "data": {
      "text/html": [
       "<table>\n",
       "<thead><tr><th></th><th scope=col>wt_fe2_1</th><th scope=col>wt_fe2_2</th><th scope=col>wt_dpd_1</th><th scope=col>wt_dpd_2</th><th scope=col>delfur_fe2_1</th><th scope=col>delfur_fe2_2</th><th scope=col>delfur_dpd_1</th><th scope=col>delfur_dpd_2</th></tr></thead>\n",
       "<tbody>\n",
       "\t<tr><th scope=row>b0001</th><td>4803.8413 </td><td>6446.7638 </td><td> 572.72061</td><td> 572.0612 </td><td>6550.3662 </td><td>7589.69845</td><td>525.80367 </td><td>411.34454 </td></tr>\n",
       "\t<tr><th scope=row>b0002</th><td>2026.4685 </td><td>1658.7680 </td><td>2738.19219</td><td>3104.0741 </td><td>2033.1000 </td><td>2116.05414</td><td>836.13438 </td><td>999.20220 </td></tr>\n",
       "\t<tr><th scope=row>b0003</th><td>1623.4187 </td><td>1417.2522 </td><td>1998.93999</td><td>2752.2763 </td><td>1577.6905 </td><td>1525.03390</td><td>628.63751 </td><td>902.08903 </td></tr>\n",
       "\t<tr><th scope=row>b0004</th><td>1217.3504 </td><td>1114.4175 </td><td>1066.35328</td><td>1401.6970 </td><td>1001.7357 </td><td> 989.70377</td><td>330.24511 </td><td>427.95162 </td></tr>\n",
       "\t<tr><th scope=row>b0005</th><td> 222.9478 </td><td> 167.6223 </td><td>  79.92375</td><td> 106.4423 </td><td> 139.8165 </td><td> 116.24038</td><td> 48.16273 </td><td> 44.03976 </td></tr>\n",
       "\t<tr><th scope=row>b0006</th><td> 110.0666 </td><td> 100.0842 </td><td> 107.14714</td><td> 132.5056 </td><td> 114.2493 </td><td>  92.60981</td><td> 95.59384 </td><td>106.27282 </td></tr>\n",
       "</tbody>\n",
       "</table>\n"
      ],
      "text/latex": [
       "\\begin{tabular}{r|llllllll}\n",
       "  & wt\\_fe2\\_1 & wt\\_fe2\\_2 & wt\\_dpd\\_1 & wt\\_dpd\\_2 & delfur\\_fe2\\_1 & delfur\\_fe2\\_2 & delfur\\_dpd\\_1 & delfur\\_dpd\\_2\\\\\n",
       "\\hline\n",
       "\tb0001 & 4803.8413  & 6446.7638  &  572.72061 &  572.0612  & 6550.3662  & 7589.69845 & 525.80367  & 411.34454 \\\\\n",
       "\tb0002 & 2026.4685  & 1658.7680  & 2738.19219 & 3104.0741  & 2033.1000  & 2116.05414 & 836.13438  & 999.20220 \\\\\n",
       "\tb0003 & 1623.4187  & 1417.2522  & 1998.93999 & 2752.2763  & 1577.6905  & 1525.03390 & 628.63751  & 902.08903 \\\\\n",
       "\tb0004 & 1217.3504  & 1114.4175  & 1066.35328 & 1401.6970  & 1001.7357  &  989.70377 & 330.24511  & 427.95162 \\\\\n",
       "\tb0005 &  222.9478  &  167.6223  &   79.92375 &  106.4423  &  139.8165  &  116.24038 &  48.16273  &  44.03976 \\\\\n",
       "\tb0006 &  110.0666  &  100.0842  &  107.14714 &  132.5056  &  114.2493  &   92.60981 &  95.59384  & 106.27282 \\\\\n",
       "\\end{tabular}\n"
      ],
      "text/markdown": [
       "\n",
       "| <!--/--> | wt_fe2_1 | wt_fe2_2 | wt_dpd_1 | wt_dpd_2 | delfur_fe2_1 | delfur_fe2_2 | delfur_dpd_1 | delfur_dpd_2 | \n",
       "|---|---|---|---|---|---|\n",
       "| b0001 | 4803.8413  | 6446.7638  |  572.72061 |  572.0612  | 6550.3662  | 7589.69845 | 525.80367  | 411.34454  | \n",
       "| b0002 | 2026.4685  | 1658.7680  | 2738.19219 | 3104.0741  | 2033.1000  | 2116.05414 | 836.13438  | 999.20220  | \n",
       "| b0003 | 1623.4187  | 1417.2522  | 1998.93999 | 2752.2763  | 1577.6905  | 1525.03390 | 628.63751  | 902.08903  | \n",
       "| b0004 | 1217.3504  | 1114.4175  | 1066.35328 | 1401.6970  | 1001.7357  |  989.70377 | 330.24511  | 427.95162  | \n",
       "| b0005 |  222.9478  |  167.6223  |   79.92375 |  106.4423  |  139.8165  |  116.24038 |  48.16273  |  44.03976  | \n",
       "| b0006 |  110.0666  |  100.0842  |  107.14714 |  132.5056  |  114.2493  |   92.60981 |  95.59384  | 106.27282  | \n",
       "\n",
       "\n"
      ],
      "text/plain": [
       "      wt_fe2_1  wt_fe2_2  wt_dpd_1   wt_dpd_2  delfur_fe2_1 delfur_fe2_2\n",
       "b0001 4803.8413 6446.7638  572.72061  572.0612 6550.3662    7589.69845  \n",
       "b0002 2026.4685 1658.7680 2738.19219 3104.0741 2033.1000    2116.05414  \n",
       "b0003 1623.4187 1417.2522 1998.93999 2752.2763 1577.6905    1525.03390  \n",
       "b0004 1217.3504 1114.4175 1066.35328 1401.6970 1001.7357     989.70377  \n",
       "b0005  222.9478  167.6223   79.92375  106.4423  139.8165     116.24038  \n",
       "b0006  110.0666  100.0842  107.14714  132.5056  114.2493      92.60981  \n",
       "      delfur_dpd_1 delfur_dpd_2\n",
       "b0001 525.80367    411.34454   \n",
       "b0002 836.13438    999.20220   \n",
       "b0003 628.63751    902.08903   \n",
       "b0004 330.24511    427.95162   \n",
       "b0005  48.16273     44.03976   \n",
       "b0006  95.59384    106.27282   "
      ]
     },
     "metadata": {},
     "output_type": "display_data"
    }
   ],
   "source": [
    "fpkm_data <- fpkm(dds)\n",
    "head(fpkm_data)"
   ]
  },
  {
   "cell_type": "code",
   "execution_count": 9,
   "metadata": {},
   "outputs": [
    {
     "data": {
      "text/html": [
       "<table>\n",
       "<thead><tr><th></th><th scope=col>wt_fe2_1</th><th scope=col>wt_fe2_2</th><th scope=col>wt_dpd_1</th><th scope=col>wt_dpd_2</th><th scope=col>delfur_fe2_1</th><th scope=col>delfur_fe2_2</th><th scope=col>delfur_dpd_1</th><th scope=col>delfur_dpd_2</th></tr></thead>\n",
       "<tbody>\n",
       "\t<tr><th scope=row>b0001</th><td>3568.40476</td><td>4769.24885</td><td> 509.62495</td><td> 515.87170</td><td>5382.89109</td><td>6229.76308</td><td>460.57682 </td><td>365.90250 </td></tr>\n",
       "\t<tr><th scope=row>b0002</th><td>1505.30782</td><td>1227.13934</td><td>2436.53016</td><td>2799.18299</td><td>1670.73955</td><td>1736.89588</td><td>732.41047 </td><td>888.81835 </td></tr>\n",
       "\t<tr><th scope=row>b0003</th><td>1205.91303</td><td>1048.46846</td><td>1778.72014</td><td>2481.93979</td><td>1296.49791</td><td>1251.77567</td><td>550.65395 </td><td>802.43347 </td></tr>\n",
       "\t<tr><th scope=row>b0004</th><td> 904.27614</td><td> 824.43450</td><td> 948.87493</td><td>1264.01826</td><td> 823.19583</td><td> 812.36693</td><td>289.27763 </td><td>380.67496 </td></tr>\n",
       "\t<tr><th scope=row>b0005</th><td> 165.61081</td><td> 124.00526</td><td>  71.11869</td><td>  95.98724</td><td> 114.89690</td><td>  95.41222</td><td> 42.18806 </td><td> 39.17460 </td></tr>\n",
       "\t<tr><th scope=row>b0006</th><td>  81.75999</td><td>  74.04125</td><td>  95.34292</td><td> 119.49054</td><td>  93.88662</td><td>  76.01583</td><td> 83.73526 </td><td> 94.53265 </td></tr>\n",
       "</tbody>\n",
       "</table>\n"
      ],
      "text/latex": [
       "\\begin{tabular}{r|llllllll}\n",
       "  & wt\\_fe2\\_1 & wt\\_fe2\\_2 & wt\\_dpd\\_1 & wt\\_dpd\\_2 & delfur\\_fe2\\_1 & delfur\\_fe2\\_2 & delfur\\_dpd\\_1 & delfur\\_dpd\\_2\\\\\n",
       "\\hline\n",
       "\tb0001 & 3568.40476 & 4769.24885 &  509.62495 &  515.87170 & 5382.89109 & 6229.76308 & 460.57682  & 365.90250 \\\\\n",
       "\tb0002 & 1505.30782 & 1227.13934 & 2436.53016 & 2799.18299 & 1670.73955 & 1736.89588 & 732.41047  & 888.81835 \\\\\n",
       "\tb0003 & 1205.91303 & 1048.46846 & 1778.72014 & 2481.93979 & 1296.49791 & 1251.77567 & 550.65395  & 802.43347 \\\\\n",
       "\tb0004 &  904.27614 &  824.43450 &  948.87493 & 1264.01826 &  823.19583 &  812.36693 & 289.27763  & 380.67496 \\\\\n",
       "\tb0005 &  165.61081 &  124.00526 &   71.11869 &   95.98724 &  114.89690 &   95.41222 &  42.18806  &  39.17460 \\\\\n",
       "\tb0006 &   81.75999 &   74.04125 &   95.34292 &  119.49054 &   93.88662 &   76.01583 &  83.73526  &  94.53265 \\\\\n",
       "\\end{tabular}\n"
      ],
      "text/markdown": [
       "\n",
       "| <!--/--> | wt_fe2_1 | wt_fe2_2 | wt_dpd_1 | wt_dpd_2 | delfur_fe2_1 | delfur_fe2_2 | delfur_dpd_1 | delfur_dpd_2 | \n",
       "|---|---|---|---|---|---|\n",
       "| b0001 | 3568.40476 | 4769.24885 |  509.62495 |  515.87170 | 5382.89109 | 6229.76308 | 460.57682  | 365.90250  | \n",
       "| b0002 | 1505.30782 | 1227.13934 | 2436.53016 | 2799.18299 | 1670.73955 | 1736.89588 | 732.41047  | 888.81835  | \n",
       "| b0003 | 1205.91303 | 1048.46846 | 1778.72014 | 2481.93979 | 1296.49791 | 1251.77567 | 550.65395  | 802.43347  | \n",
       "| b0004 |  904.27614 |  824.43450 |  948.87493 | 1264.01826 |  823.19583 |  812.36693 | 289.27763  | 380.67496  | \n",
       "| b0005 |  165.61081 |  124.00526 |   71.11869 |   95.98724 |  114.89690 |   95.41222 |  42.18806  |  39.17460  | \n",
       "| b0006 |   81.75999 |   74.04125 |   95.34292 |  119.49054 |   93.88662 |   76.01583 |  83.73526  |  94.53265  | \n",
       "\n",
       "\n"
      ],
      "text/plain": [
       "      wt_fe2_1   wt_fe2_2   wt_dpd_1   wt_dpd_2   delfur_fe2_1 delfur_fe2_2\n",
       "b0001 3568.40476 4769.24885  509.62495  515.87170 5382.89109   6229.76308  \n",
       "b0002 1505.30782 1227.13934 2436.53016 2799.18299 1670.73955   1736.89588  \n",
       "b0003 1205.91303 1048.46846 1778.72014 2481.93979 1296.49791   1251.77567  \n",
       "b0004  904.27614  824.43450  948.87493 1264.01826  823.19583    812.36693  \n",
       "b0005  165.61081  124.00526   71.11869   95.98724  114.89690     95.41222  \n",
       "b0006   81.75999   74.04125   95.34292  119.49054   93.88662     76.01583  \n",
       "      delfur_dpd_1 delfur_dpd_2\n",
       "b0001 460.57682    365.90250   \n",
       "b0002 732.41047    888.81835   \n",
       "b0003 550.65395    802.43347   \n",
       "b0004 289.27763    380.67496   \n",
       "b0005  42.18806     39.17460   \n",
       "b0006  83.73526     94.53265   "
      ]
     },
     "metadata": {},
     "output_type": "display_data"
    }
   ],
   "source": [
    "tpm_data <- sweep(fpkm_data,2,colSums(fpkm_data),`/`)*1e6 # Divide each column by the column sum (times 1e6)\n",
    "head(tpm_data)"
   ]
  },
  {
   "cell_type": "code",
   "execution_count": 11,
   "metadata": {},
   "outputs": [],
   "source": [
    "write.csv(tpm_data, file = \"example/deseq2-tpm.csv\")"
   ]
  },
  {
   "cell_type": "markdown",
   "metadata": {},
   "source": [
    "# PCA and clustering"
   ]
  },
  {
   "cell_type": "markdown",
   "metadata": {},
   "source": [
    "Raw counts from RNAseq tend to be exponentially distributed, so a log transform must be applied before running linear methods such as PCA or clustering. Since some counts can be 0, we must apply log(x + 1) to avoid infinite values. However, due to technical reasons, genes with lower counts have higher variance than genes with higher counts. PCA works best with constant variance, so to fix this DESeq2 has a model-based regularized log transform (rlog) to normalize the variance. The rlog counts are only used for this QC step, and should not be used for finding DEGs or other statistical tests."
   ]
  },
  {
   "cell_type": "code",
   "execution_count": 12,
   "metadata": {},
   "outputs": [],
   "source": [
    "rld <- rlog(dds)"
   ]
  },
  {
   "cell_type": "code",
   "execution_count": 13,
   "metadata": {},
   "outputs": [],
   "source": [
    "library(\"pheatmap\")\n",
    "library(\"RColorBrewer\")"
   ]
  },
  {
   "cell_type": "markdown",
   "metadata": {},
   "source": [
    "## PCA"
   ]
  },
  {
   "cell_type": "code",
   "execution_count": 14,
   "metadata": {},
   "outputs": [
    {
     "data": {},
     "metadata": {},
     "output_type": "display_data"
    },
    {
     "data": {
      "image/png": "[encoded data removed]",
      "text/plain": [
       "plot without title"
      ]
     },
     "metadata": {},
     "output_type": "display_data"
    }
   ],
   "source": [
    "options(repr.plot.width=7, repr.plot.height=3)\n",
    "plotPCA(rld,intgroup=c('group'))"
   ]
  },
  {
   "cell_type": "markdown",
   "metadata": {},
   "source": [
    "## Clustering"
   ]
  },
  {
   "cell_type": "code",
   "execution_count": 15,
   "metadata": {},
   "outputs": [
    {
     "data": {
      "image/png": "[encoded data removed]",
      "text/plain": [
       "plot without title"
      ]
     },
     "metadata": {},
     "output_type": "display_data"
    }
   ],
   "source": [
    "options(repr.plot.width=5, repr.plot.height=3)\n",
    "# Generate (euclidean) distance matrix\n",
    "sampleDists <- dist(t(assay(rld)))\n",
    "sampleDistMatrix <- as.matrix( sampleDists )\n",
    "# Designate the names for the rows\n",
    "rownames(sampleDistMatrix) <- colData(rld)$group\n",
    "# Designate the names for the columns\n",
    "colnames(sampleDistMatrix) <- NULL\n",
    "# Choose color palette\n",
    "colors <- colorRampPalette( rev(brewer.pal(9, \"Blues\")) )(255)\n",
    "# Create heatmap\n",
    "pheatmap(sampleDistMatrix,\n",
    "         clustering_distance_rows = sampleDists,\n",
    "         clustering_distance_cols = sampleDists,\n",
    "         col = colors)"
   ]
  },
  {
   "cell_type": "markdown",
   "metadata": {
    "collapsed": true
   },
   "source": [
    "# Find DEGs"
   ]
  },
  {
   "cell_type": "code",
   "execution_count": 16,
   "metadata": {},
   "outputs": [
    {
     "name": "stderr",
     "output_type": "stream",
     "text": [
      "estimating size factors\n",
      "estimating dispersions\n",
      "gene-wise dispersion estimates\n",
      "mean-dispersion relationship\n",
      "final dispersion estimates\n",
      "fitting model and testing\n"
     ]
    }
   ],
   "source": [
    "dds <- DESeq(dds)"
   ]
  },
  {
   "cell_type": "markdown",
   "metadata": {},
   "source": [
    "Designate which groups you want to compare for DEGs."
   ]
  },
  {
   "cell_type": "code",
   "execution_count": 17,
   "metadata": {},
   "outputs": [],
   "source": [
    "res_FeCl2 <- results(dds,contrast = c('group','delfur_fe2','wt_fe2'))\n",
    "res_DPD <- results(dds,contrast = c('group','delfur_dpd','wt_dpd'))"
   ]
  },
  {
   "cell_type": "markdown",
   "metadata": {},
   "source": [
    "Put results into table form. Log2foldchange is positive if the first group (e.g. delfur_fe2) is larger than the second (e.g. wt_fe2)"
   ]
  },
  {
   "cell_type": "code",
   "execution_count": 18,
   "metadata": {},
   "outputs": [],
   "source": [
    "resTable_FeCl2 <- data.frame(res_FeCl2@listData,row.names = res_FeCl2@rownames)\n",
    "resTable_DPD <- data.frame(res_DPD@listData,row.names = res_DPD@rownames)"
   ]
  },
  {
   "cell_type": "code",
   "execution_count": 19,
   "metadata": {},
   "outputs": [
    {
     "data": {
      "text/html": [
       "<table>\n",
       "<thead><tr><th></th><th scope=col>baseMean</th><th scope=col>log2FoldChange</th><th scope=col>lfcSE</th><th scope=col>stat</th><th scope=col>pvalue</th><th scope=col>padj</th></tr></thead>\n",
       "<tbody>\n",
       "\t<tr><th scope=row>b0001</th><td> 165.69371 </td><td> 0.32595929</td><td>0.2144027  </td><td> 1.52031352</td><td>0.1284322  </td><td>0.5899230  </td></tr>\n",
       "\t<tr><th scope=row>b0002</th><td>3440.64426 </td><td> 0.16992545</td><td>0.1438663  </td><td> 1.18113420</td><td>0.2375494  </td><td>0.7858632  </td></tr>\n",
       "\t<tr><th scope=row>b0003</th><td>1044.68785 </td><td> 0.02884104</td><td>0.1841897  </td><td> 0.15658332</td><td>0.8755733  </td><td>0.9950179  </td></tr>\n",
       "\t<tr><th scope=row>b0004</th><td> 875.31200 </td><td>-0.22557046</td><td>0.1664815  </td><td>-1.35492824</td><td>0.1754404  </td><td>0.6947670  </td></tr>\n",
       "\t<tr><th scope=row>b0005</th><td>  24.81883 </td><td>-0.57606885</td><td>0.4238237  </td><td>-1.35921804</td><td>0.1740775  </td><td>0.6933004  </td></tr>\n",
       "\t<tr><th scope=row>b0006</th><td>  60.12654 </td><td>-0.02207137</td><td>0.3086625  </td><td>-0.07150649</td><td>0.9429947  </td><td>0.9950179  </td></tr>\n",
       "</tbody>\n",
       "</table>\n"
      ],
      "text/latex": [
       "\\begin{tabular}{r|llllll}\n",
       "  & baseMean & log2FoldChange & lfcSE & stat & pvalue & padj\\\\\n",
       "\\hline\n",
       "\tb0001 &  165.69371  &  0.32595929 & 0.2144027   &  1.52031352 & 0.1284322   & 0.5899230  \\\\\n",
       "\tb0002 & 3440.64426  &  0.16992545 & 0.1438663   &  1.18113420 & 0.2375494   & 0.7858632  \\\\\n",
       "\tb0003 & 1044.68785  &  0.02884104 & 0.1841897   &  0.15658332 & 0.8755733   & 0.9950179  \\\\\n",
       "\tb0004 &  875.31200  & -0.22557046 & 0.1664815   & -1.35492824 & 0.1754404   & 0.6947670  \\\\\n",
       "\tb0005 &   24.81883  & -0.57606885 & 0.4238237   & -1.35921804 & 0.1740775   & 0.6933004  \\\\\n",
       "\tb0006 &   60.12654  & -0.02207137 & 0.3086625   & -0.07150649 & 0.9429947   & 0.9950179  \\\\\n",
       "\\end{tabular}\n"
      ],
      "text/markdown": [
       "\n",
       "| <!--/--> | baseMean | log2FoldChange | lfcSE | stat | pvalue | padj | \n",
       "|---|---|---|---|---|---|\n",
       "| b0001 |  165.69371  |  0.32595929 | 0.2144027   |  1.52031352 | 0.1284322   | 0.5899230   | \n",
       "| b0002 | 3440.64426  |  0.16992545 | 0.1438663   |  1.18113420 | 0.2375494   | 0.7858632   | \n",
       "| b0003 | 1044.68785  |  0.02884104 | 0.1841897   |  0.15658332 | 0.8755733   | 0.9950179   | \n",
       "| b0004 |  875.31200  | -0.22557046 | 0.1664815   | -1.35492824 | 0.1754404   | 0.6947670   | \n",
       "| b0005 |   24.81883  | -0.57606885 | 0.4238237   | -1.35921804 | 0.1740775   | 0.6933004   | \n",
       "| b0006 |   60.12654  | -0.02207137 | 0.3086625   | -0.07150649 | 0.9429947   | 0.9950179   | \n",
       "\n",
       "\n"
      ],
      "text/plain": [
       "      baseMean   log2FoldChange lfcSE     stat        pvalue    padj     \n",
       "b0001  165.69371  0.32595929    0.2144027  1.52031352 0.1284322 0.5899230\n",
       "b0002 3440.64426  0.16992545    0.1438663  1.18113420 0.2375494 0.7858632\n",
       "b0003 1044.68785  0.02884104    0.1841897  0.15658332 0.8755733 0.9950179\n",
       "b0004  875.31200 -0.22557046    0.1664815 -1.35492824 0.1754404 0.6947670\n",
       "b0005   24.81883 -0.57606885    0.4238237 -1.35921804 0.1740775 0.6933004\n",
       "b0006   60.12654 -0.02207137    0.3086625 -0.07150649 0.9429947 0.9950179"
      ]
     },
     "metadata": {},
     "output_type": "display_data"
    }
   ],
   "source": [
    "head(resTable_FeCl2)"
   ]
  },
  {
   "cell_type": "code",
   "execution_count": 20,
   "metadata": {},
   "outputs": [],
   "source": [
    "deg_FeCl2 <- resTable_FeCl2[complete.cases(resTable_FeCl2[,c('padj','log2FoldChange')]) & \n",
    "                            # ^ Make sure that LogFoldChange and p-adjusted are complete (not null)\n",
    "                            resTable_FeCl2$padj < .05 & # Adjusted p-value cutoff of 0.05\n",
    "                            abs(resTable_FeCl2$log2FoldChange) > 1,] # abs(log2foldChange) cutoff of 1\n",
    "\n",
    "deg_DPD <- resTable_DPD[complete.cases(resTable_DPD[,c('padj','log2FoldChange')]) & \n",
    "                        # ^ Make sure that LogFoldChange and p-adjusted are complete (not null)\n",
    "                        resTable_DPD$padj < .05 & # Adjusted p-value cutoff of 0.05\n",
    "                        abs(resTable_DPD$log2FoldChange) > 1,] # abs(log2foldChange) cutoff of 1"
   ]
  },
  {
   "cell_type": "code",
   "execution_count": 21,
   "metadata": {},
   "outputs": [
    {
     "data": {
      "text/html": [
       "<table>\n",
       "<thead><tr><th></th><th scope=col>baseMean</th><th scope=col>log2FoldChange</th><th scope=col>lfcSE</th><th scope=col>stat</th><th scope=col>pvalue</th><th scope=col>padj</th></tr></thead>\n",
       "<tbody>\n",
       "\t<tr><th scope=row>b0118</th><td>2257.10621  </td><td>-1.272365   </td><td>0.1225904   </td><td>-10.378994  </td><td>3.090144e-25</td><td>2.608964e-23</td></tr>\n",
       "\t<tr><th scope=row>b0123</th><td> 307.93132  </td><td>-2.021256   </td><td>0.1816753   </td><td>-11.125652  </td><td>9.411517e-29</td><td>9.815659e-27</td></tr>\n",
       "\t<tr><th scope=row>b0150</th><td> 668.05446  </td><td> 1.041516   </td><td>0.1798305   </td><td>  5.791657  </td><td>6.969531e-09</td><td>2.287878e-07</td></tr>\n",
       "\t<tr><th scope=row>b0152</th><td>  41.37777  </td><td> 1.207062   </td><td>0.3965876   </td><td>  3.043619  </td><td>2.337510e-03</td><td>2.800273e-02</td></tr>\n",
       "\t<tr><th scope=row>b0272</th><td>  53.15386  </td><td>-1.000125   </td><td>0.3194939   </td><td> -3.130341  </td><td>1.746037e-03</td><td>2.172438e-02</td></tr>\n",
       "\t<tr><th scope=row>b0273</th><td> 319.80446  </td><td>-1.128928   </td><td>0.2117670   </td><td> -5.330993  </td><td>9.767732e-08</td><td>2.727274e-06</td></tr>\n",
       "</tbody>\n",
       "</table>\n"
      ],
      "text/latex": [
       "\\begin{tabular}{r|llllll}\n",
       "  & baseMean & log2FoldChange & lfcSE & stat & pvalue & padj\\\\\n",
       "\\hline\n",
       "\tb0118 & 2257.10621   & -1.272365    & 0.1225904    & -10.378994   & 3.090144e-25 & 2.608964e-23\\\\\n",
       "\tb0123 &  307.93132   & -2.021256    & 0.1816753    & -11.125652   & 9.411517e-29 & 9.815659e-27\\\\\n",
       "\tb0150 &  668.05446   &  1.041516    & 0.1798305    &   5.791657   & 6.969531e-09 & 2.287878e-07\\\\\n",
       "\tb0152 &   41.37777   &  1.207062    & 0.3965876    &   3.043619   & 2.337510e-03 & 2.800273e-02\\\\\n",
       "\tb0272 &   53.15386   & -1.000125    & 0.3194939    &  -3.130341   & 1.746037e-03 & 2.172438e-02\\\\\n",
       "\tb0273 &  319.80446   & -1.128928    & 0.2117670    &  -5.330993   & 9.767732e-08 & 2.727274e-06\\\\\n",
       "\\end{tabular}\n"
      ],
      "text/markdown": [
       "\n",
       "| <!--/--> | baseMean | log2FoldChange | lfcSE | stat | pvalue | padj | \n",
       "|---|---|---|---|---|---|\n",
       "| b0118 | 2257.10621   | -1.272365    | 0.1225904    | -10.378994   | 3.090144e-25 | 2.608964e-23 | \n",
       "| b0123 |  307.93132   | -2.021256    | 0.1816753    | -11.125652   | 9.411517e-29 | 9.815659e-27 | \n",
       "| b0150 |  668.05446   |  1.041516    | 0.1798305    |   5.791657   | 6.969531e-09 | 2.287878e-07 | \n",
       "| b0152 |   41.37777   |  1.207062    | 0.3965876    |   3.043619   | 2.337510e-03 | 2.800273e-02 | \n",
       "| b0272 |   53.15386   | -1.000125    | 0.3194939    |  -3.130341   | 1.746037e-03 | 2.172438e-02 | \n",
       "| b0273 |  319.80446   | -1.128928    | 0.2117670    |  -5.330993   | 9.767732e-08 | 2.727274e-06 | \n",
       "\n",
       "\n"
      ],
      "text/plain": [
       "      baseMean   log2FoldChange lfcSE     stat       pvalue       padj        \n",
       "b0118 2257.10621 -1.272365      0.1225904 -10.378994 3.090144e-25 2.608964e-23\n",
       "b0123  307.93132 -2.021256      0.1816753 -11.125652 9.411517e-29 9.815659e-27\n",
       "b0150  668.05446  1.041516      0.1798305   5.791657 6.969531e-09 2.287878e-07\n",
       "b0152   41.37777  1.207062      0.3965876   3.043619 2.337510e-03 2.800273e-02\n",
       "b0272   53.15386 -1.000125      0.3194939  -3.130341 1.746037e-03 2.172438e-02\n",
       "b0273  319.80446 -1.128928      0.2117670  -5.330993 9.767732e-08 2.727274e-06"
      ]
     },
     "metadata": {},
     "output_type": "display_data"
    }
   ],
   "source": [
    "head(deg_FeCl2)"
   ]
  },
  {
   "cell_type": "code",
   "execution_count": null,
   "metadata": {
    "collapsed": true
   },
   "outputs": [],
   "source": []
  }
 ],
 "metadata": {
  "kernelspec": {
   "display_name": "R",
   "language": "R",
   "name": "ir"
  },
  "language_info": {
   "codemirror_mode": "r",
   "file_extension": ".r",
   "mimetype": "text/x-r-source",
   "name": "R",
   "pygments_lexer": "r",
   "version": "3.3.1"
  },
  "toc": {
   "nav_menu": {},
   "number_sections": true,
   "sideBar": true,
   "skip_h1_title": false,
   "title_cell": "Table of Contents",
   "title_sidebar": "Contents",
   "toc_cell": true,
   "toc_position": {},
   "toc_section_display": true,
   "toc_window_display": false
  }
 },
 "nbformat": 4,
 "nbformat_minor": 1
}
