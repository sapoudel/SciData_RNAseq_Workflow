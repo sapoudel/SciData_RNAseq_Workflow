{
 "cells": [
  {
   "cell_type": "code",
   "execution_count": 1,
   "metadata": {
    "collapsed": true
   },
   "outputs": [],
   "source": [
    "import pandas as pd\n",
    "import subprocess,os\n",
    "import HTSeq"
   ]
  },
  {
   "cell_type": "markdown",
   "metadata": {},
   "source": [
    "# Setup"
   ]
  },
  {
   "cell_type": "markdown",
   "metadata": {},
   "source": [
    "We will be using the HTSeq-count package for this version of the \"count reads\" pipeline.  \n",
    "Add the location of your GFF file and the output directory for the final counts, as HTSeq-count outputs counts to a file."
   ]
  },
  {
   "cell_type": "code",
   "execution_count": 2,
   "metadata": {
    "collapsed": true
   },
   "outputs": [],
   "source": [
    "GFF_FILE = 'example/ref/NC_000913.3.gff'"
   ]
  },
  {
   "cell_type": "code",
   "execution_count": 3,
   "metadata": {
    "collapsed": true
   },
   "outputs": [],
   "source": [
    "import pandas as pd"
   ]
  },
  {
   "cell_type": "code",
   "execution_count": 4,
   "metadata": {
    "collapsed": true
   },
   "outputs": [],
   "source": [
    "OUT_DIR = 'example/counts/'"
   ]
  },
  {
   "cell_type": "code",
   "execution_count": 5,
   "metadata": {
    "collapsed": true
   },
   "outputs": [],
   "source": [
    "DF_files = pd.read_csv('example/aligned_files.csv',index_col=0)"
   ]
  },
  {
   "cell_type": "markdown",
   "metadata": {},
   "source": [
    "# Load BAM information"
   ]
  },
  {
   "cell_type": "code",
   "execution_count": 6,
   "metadata": {
    "collapsed": true
   },
   "outputs": [],
   "source": [
    "DF_counts = pd.DataFrame()\n",
    "for i,row in DF_files.iterrows():\n",
    "    bamfile = row.BAM\n",
    "    outname = OUT_DIR+row.sample_id+'.txt'\n",
    "    if not os.path.isfile(outname):\n",
    "        with open(outname,'w') as outfile:\n",
    "            subprocess.call(['htseq-count','-f','bam','-s','reverse','-r','pos',bamfile,GFF_FILE],stdout=outfile)\n",
    "    # Write reads to dataframe\n",
    "    df = pd.read_csv(outname,sep='\\t',header=None,index_col=0,names=[row.sample_id])\n",
    "    DF_counts = pd.concat([DF_counts,df],axis=1)\n",
    "    \n",
    "DF_counts = DF_counts.drop(['__no_feature','__ambiguous','__too_low_aQual','__not_aligned','__alignment_not_unique'])"
   ]
  },
  {
   "cell_type": "code",
   "execution_count": 7,
   "metadata": {
    "collapsed": true
   },
   "outputs": [],
   "source": [
    "# Remove genes with 0 counts over all conditions\n",
    "DF_counts = DF_counts.loc[(DF_counts != 0).any(axis=1)]"
   ]
  },
  {
   "cell_type": "code",
   "execution_count": 8,
   "metadata": {
    "collapsed": true
   },
   "outputs": [],
   "source": [
    "# Save to file\n",
    "DF_counts.to_csv(os.path.join(OUT_DIR,'counts.csv'))"
   ]
  }
 ],
 "metadata": {
  "kernelspec": {
   "display_name": "Python 2",
   "language": "python",
   "name": "python2"
  },
  "language_info": {
   "codemirror_mode": {
    "name": "ipython",
    "version": 2
   },
   "file_extension": ".py",
   "mimetype": "text/x-python",
   "name": "python",
   "nbconvert_exporter": "python",
   "pygments_lexer": "ipython2",
   "version": "2.7.12"
  }
 },
 "nbformat": 4,
 "nbformat_minor": 2
}
