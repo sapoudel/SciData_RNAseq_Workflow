{
 "cells": [
  {
   "cell_type": "markdown",
   "metadata": {},
   "source": [
    "# Setup"
   ]
  },
  {
   "cell_type": "code",
   "execution_count": 1,
   "metadata": {},
   "outputs": [],
   "source": [
    "from rnaseq import mount_bucket,align_reads\n",
    "import pandas as pd\n",
    "import os"
   ]
  },
  {
   "cell_type": "code",
   "execution_count": 2,
   "metadata": {},
   "outputs": [],
   "source": [
    "# Set raw data bucket\n",
    "DATA_BUCKET = 'sbrg-precise-db'"
   ]
  },
  {
   "cell_type": "markdown",
   "metadata": {},
   "source": [
    "## Mount data bucket"
   ]
  },
  {
   "cell_type": "code",
   "execution_count": 3,
   "metadata": {},
   "outputs": [],
   "source": [
    "IN_DIR = mount_bucket(DATA_BUCKET)"
   ]
  },
  {
   "cell_type": "markdown",
   "metadata": {},
   "source": [
    "### Enter files into a csv with 4 columns:\n",
    "1. Unique sample identifier\n",
    "1. Metadata file location (optional)\n",
    "1. R1 file location\n",
    "1. R2 file location"
   ]
  },
  {
   "cell_type": "code",
   "execution_count": 4,
   "metadata": {},
   "outputs": [
    {
     "data": {
      "text/html": [
       "<div>\n",
       "<style scoped>\n",
       "    .dataframe tbody tr th:only-of-type {\n",
       "        vertical-align: middle;\n",
       "    }\n",
       "\n",
       "    .dataframe tbody tr th {\n",
       "        vertical-align: top;\n",
       "    }\n",
       "\n",
       "    .dataframe thead th {\n",
       "        text-align: right;\n",
       "    }\n",
       "</style>\n",
       "<table border=\"1\" class=\"dataframe\">\n",
       "  <thead>\n",
       "    <tr style=\"text-align: right;\">\n",
       "      <th></th>\n",
       "      <th>sample_id</th>\n",
       "      <th>R1</th>\n",
       "      <th>R2</th>\n",
       "      <th>organism</th>\n",
       "    </tr>\n",
       "  </thead>\n",
       "  <tbody>\n",
       "    <tr>\n",
       "      <th>0</th>\n",
       "      <td>camhb__1</td>\n",
       "      <td>ARM_HRS_D712_CAMHB_0_ugmL_Naf_Rep_1_S37_L003_R...</td>\n",
       "      <td>ARM_HRS_D712_CAMHB_0_ugmL_Naf_Rep_1_S37_L003_R...</td>\n",
       "      <td>D712</td>\n",
       "    </tr>\n",
       "    <tr>\n",
       "      <th>1</th>\n",
       "      <td>camhb__2</td>\n",
       "      <td>ARM_HRS_D712_CAMHB_0_ugmL_Naf_Rep_2_S38_L003_R...</td>\n",
       "      <td>ARM_HRS_D712_CAMHB_0_ugmL_Naf_Rep_2_S38_L003_R...</td>\n",
       "      <td>D712</td>\n",
       "    </tr>\n",
       "    <tr>\n",
       "      <th>2</th>\n",
       "      <td>rpmi_25__1</td>\n",
       "      <td>ARM_HRS_D712_RPMI_0_25_ugmL_Rep_1_S4_L003_R1_0...</td>\n",
       "      <td>ARM_HRS_D712_RPMI_0_25_ugmL_Rep_1_S4_L003_R2_0...</td>\n",
       "      <td>D712</td>\n",
       "    </tr>\n",
       "    <tr>\n",
       "      <th>3</th>\n",
       "      <td>rpmi_25__2</td>\n",
       "      <td>ARM_HRS_D712_RPMI_0_25_ugmL_Rep_2_S5_L003_R1_0...</td>\n",
       "      <td>ARM_HRS_D712_RPMI_0_25_ugmL_Rep_2_S5_L003_R2_0...</td>\n",
       "      <td>D712</td>\n",
       "    </tr>\n",
       "    <tr>\n",
       "      <th>4</th>\n",
       "      <td>rpmi_25__3</td>\n",
       "      <td>ARM_HRS_D712_RPMI_0_25_ugmL_Rep_3_S6_L003_R1_0...</td>\n",
       "      <td>ARM_HRS_D712_RPMI_0_25_ugmL_Rep_3_S6_L003_R2_0...</td>\n",
       "      <td>D712</td>\n",
       "    </tr>\n",
       "    <tr>\n",
       "      <th>5</th>\n",
       "      <td>rpmi_5__1</td>\n",
       "      <td>ARM_HRS_D712_RPMI_0_5_ugmL_Rep_1_S7_L003_R1_00...</td>\n",
       "      <td>ARM_HRS_D712_RPMI_0_5_ugmL_Rep_1_S7_L003_R2_00...</td>\n",
       "      <td>D712</td>\n",
       "    </tr>\n",
       "    <tr>\n",
       "      <th>6</th>\n",
       "      <td>rpmi_5__2</td>\n",
       "      <td>ARM_HRS_D712_RPMI_0_5_ugmL_Rep_2_S8_L003_R1_00...</td>\n",
       "      <td>ARM_HRS_D712_RPMI_0_5_ugmL_Rep_2_S8_L003_R2_00...</td>\n",
       "      <td>D712</td>\n",
       "    </tr>\n",
       "    <tr>\n",
       "      <th>7</th>\n",
       "      <td>rpmi_5__3</td>\n",
       "      <td>ARM_HRS_D712_RPMI_0_5_ugmL_Rep_3_S9_L003_R1_00...</td>\n",
       "      <td>ARM_HRS_D712_RPMI_0_5_ugmL_Rep_3_S9_L003_R2_00...</td>\n",
       "      <td>D712</td>\n",
       "    </tr>\n",
       "    <tr>\n",
       "      <th>8</th>\n",
       "      <td>rpmi_0__1</td>\n",
       "      <td>ARM_HRS_D712_RPMI_0_ugmL_Naf_Rep_1_S1_L003_R1_...</td>\n",
       "      <td>ARM_HRS_D712_RPMI_0_ugmL_Naf_Rep_1_S1_L003_R2_...</td>\n",
       "      <td>D712</td>\n",
       "    </tr>\n",
       "    <tr>\n",
       "      <th>9</th>\n",
       "      <td>rpmi_0__2</td>\n",
       "      <td>ARM_HRS_D712_RPMI_0_ugmL_Naf_Rep_2_S2_L003_R1_...</td>\n",
       "      <td>ARM_HRS_D712_RPMI_0_ugmL_Naf_Rep_2_S2_L003_R2_...</td>\n",
       "      <td>D712</td>\n",
       "    </tr>\n",
       "    <tr>\n",
       "      <th>10</th>\n",
       "      <td>rpmi_0__3</td>\n",
       "      <td>ARM_HRS_D712_RPMI_0_ugmL_Naf_Rep_3_S3_L003_R1_...</td>\n",
       "      <td>ARM_HRS_D712_RPMI_0_ugmL_Naf_Rep_3_S3_L003_R2_...</td>\n",
       "      <td>D712</td>\n",
       "    </tr>\n",
       "    <tr>\n",
       "      <th>11</th>\n",
       "      <td>rpmi_pre__1</td>\n",
       "      <td>ARM_HRS_D712_RPMI_Pre-Culture_S10_L003_R1_001....</td>\n",
       "      <td>ARM_HRS_D712_RPMI_Pre-Culture_S10_L003_R2_001....</td>\n",
       "      <td>D712</td>\n",
       "    </tr>\n",
       "  </tbody>\n",
       "</table>\n",
       "</div>"
      ],
      "text/plain": [
       "      sample_id                                                 R1  \\\n",
       "0      camhb__1  ARM_HRS_D712_CAMHB_0_ugmL_Naf_Rep_1_S37_L003_R...   \n",
       "1      camhb__2  ARM_HRS_D712_CAMHB_0_ugmL_Naf_Rep_2_S38_L003_R...   \n",
       "2    rpmi_25__1  ARM_HRS_D712_RPMI_0_25_ugmL_Rep_1_S4_L003_R1_0...   \n",
       "3    rpmi_25__2  ARM_HRS_D712_RPMI_0_25_ugmL_Rep_2_S5_L003_R1_0...   \n",
       "4    rpmi_25__3  ARM_HRS_D712_RPMI_0_25_ugmL_Rep_3_S6_L003_R1_0...   \n",
       "5     rpmi_5__1  ARM_HRS_D712_RPMI_0_5_ugmL_Rep_1_S7_L003_R1_00...   \n",
       "6     rpmi_5__2  ARM_HRS_D712_RPMI_0_5_ugmL_Rep_2_S8_L003_R1_00...   \n",
       "7     rpmi_5__3  ARM_HRS_D712_RPMI_0_5_ugmL_Rep_3_S9_L003_R1_00...   \n",
       "8     rpmi_0__1  ARM_HRS_D712_RPMI_0_ugmL_Naf_Rep_1_S1_L003_R1_...   \n",
       "9     rpmi_0__2  ARM_HRS_D712_RPMI_0_ugmL_Naf_Rep_2_S2_L003_R1_...   \n",
       "10    rpmi_0__3  ARM_HRS_D712_RPMI_0_ugmL_Naf_Rep_3_S3_L003_R1_...   \n",
       "11  rpmi_pre__1  ARM_HRS_D712_RPMI_Pre-Culture_S10_L003_R1_001....   \n",
       "\n",
       "                                                   R2 organism  \n",
       "0   ARM_HRS_D712_CAMHB_0_ugmL_Naf_Rep_1_S37_L003_R...     D712  \n",
       "1   ARM_HRS_D712_CAMHB_0_ugmL_Naf_Rep_2_S38_L003_R...     D712  \n",
       "2   ARM_HRS_D712_RPMI_0_25_ugmL_Rep_1_S4_L003_R2_0...     D712  \n",
       "3   ARM_HRS_D712_RPMI_0_25_ugmL_Rep_2_S5_L003_R2_0...     D712  \n",
       "4   ARM_HRS_D712_RPMI_0_25_ugmL_Rep_3_S6_L003_R2_0...     D712  \n",
       "5   ARM_HRS_D712_RPMI_0_5_ugmL_Rep_1_S7_L003_R2_00...     D712  \n",
       "6   ARM_HRS_D712_RPMI_0_5_ugmL_Rep_2_S8_L003_R2_00...     D712  \n",
       "7   ARM_HRS_D712_RPMI_0_5_ugmL_Rep_3_S9_L003_R2_00...     D712  \n",
       "8   ARM_HRS_D712_RPMI_0_ugmL_Naf_Rep_1_S1_L003_R2_...     D712  \n",
       "9   ARM_HRS_D712_RPMI_0_ugmL_Naf_Rep_2_S2_L003_R2_...     D712  \n",
       "10  ARM_HRS_D712_RPMI_0_ugmL_Naf_Rep_3_S3_L003_R2_...     D712  \n",
       "11  ARM_HRS_D712_RPMI_Pre-Culture_S10_L003_R2_001....     D712  "
      ]
     },
     "execution_count": 4,
     "metadata": {},
     "output_type": "execute_result"
    }
   ],
   "source": [
    "DF_files = pd.read_csv('/home/avsastry/saugat/D712_saugat.csv')\n",
    "DF_files"
   ]
  },
  {
   "cell_type": "markdown",
   "metadata": {},
   "source": [
    "# QC"
   ]
  },
  {
   "cell_type": "markdown",
   "metadata": {},
   "source": [
    "**Before alignment, run FastQC on your samples to assess the quality of the raw reads.**"
   ]
  },
  {
   "cell_type": "code",
   "execution_count": 5,
   "metadata": {},
   "outputs": [
    {
     "name": "stdout",
     "output_type": "stream",
     "text": [
      "Number of unique sample IDs: 12\n"
     ]
    }
   ],
   "source": [
    "print 'Number of unique sample IDs: %d'%len(DF_files.sample_id.unique())"
   ]
  },
  {
   "cell_type": "code",
   "execution_count": 6,
   "metadata": {},
   "outputs": [
    {
     "name": "stdout",
     "output_type": "stream",
     "text": [
      "Number of unique R1 files: 12\n",
      "Number of unique R2 lists: 12\n"
     ]
    }
   ],
   "source": [
    "all_R1 = [r1.split(',') for r1 in DF_files.R1.values]\n",
    "all_R2 = [r1.split(',') for r1 in DF_files.R2.values]\n",
    "print 'Number of unique R1 files: %d'%len(DF_files.R1.unique())\n",
    "print 'Number of unique R2 lists: %d'%len(DF_files.R2.unique())"
   ]
  },
  {
   "cell_type": "markdown",
   "metadata": {},
   "source": [
    "# Align Reads"
   ]
  },
  {
   "cell_type": "markdown",
   "metadata": {},
   "source": [
    "The `align_reads` function takes the following required arguments:\n",
    "* `name`: The unique sample name used to name the output files\n",
    "* `R1`: Location of the R1 file\n",
    "* `R2`: Location of the R2 file\n",
    "* `bt_index`: Location of bowtie index to use for alignment\n",
    "* `out_dir`: Output directory\n",
    "\n",
    "Optional arguments:\n",
    "* `aligner`: 'bowtie' or 'bowtie2' (default 'bowtie')\n",
    "* `insertsize`: Maximum distance between paired ends (default 1000)\n",
    "* `cores`: Number of cores to use (default 1)\n",
    "* `force`: Re-runs alignment even if BAM file already exists\n",
    "* `verbose`: Update user with current process\n",
    "\n",
    "`align_reads` performs the following:\n",
    "1. Unzips .gz files into a temporary folder (if necessary)\n",
    "2. Uses the bowtie aligner to align reads to a bowtie index:\n",
    "    * Bowtie: `bowtie -X 1000 -n 2 -p 1 -3 3 -S -1 <R1_files> -2 <R2_files> <bt_index>`\n",
    "    * Bowtie2: `bowtie2 -X 1000 -N 1 -p 1 -3 3 -1 <R1_files> -2 <R2_files> -x <bt_index>`\n",
    "    * For information about these options, see docs for [bowtie](http://bowtie-bio.sourceforge.net/manual.shtml) and [bowtie2](http://bowtie-bio.sourceforge.net/bowtie2/manual.shtml)\n",
    "3. Converts the SAM output of bowtie to BAM\n",
    "    * `samtools view -bS <bowtie_out> -o <unsorted_bam>`\n",
    "4. Sorts the resulting BAM file\n",
    "    * `samtools sort <unsorted_bam> -o <sorted_bam>`\n",
    "5. Cleans up intermediate files\n",
    "\n",
    "The final output is the alignment score (%) and the location of the final BAM file"
   ]
  },
  {
   "cell_type": "code",
   "execution_count": 7,
   "metadata": {},
   "outputs": [],
   "source": [
    "IN_DIR = IN_DIR + '/saugat/'\n",
    "OUT_DIR = '../saugat/processed_data/'"
   ]
  },
  {
   "cell_type": "code",
   "execution_count": null,
   "metadata": {},
   "outputs": [
    {
     "name": "stdout",
     "output_type": "stream",
     "text": [
      "Processing camhb__1\n",
      "Running bowtie: bowtie2 -X 1000 -N 1 -p 8 -3 3 -1 /home/avsastry/sbrg-precise-db/saugat/ARM_HRS_D712_CAMHB_0_ugmL_Naf_Rep_1_S37_L003_R1_001.fastq.gz -2 /home/avsastry/sbrg-precise-db/saugat/ARM_HRS_D712_CAMHB_0_ugmL_Naf_Rep_1_S37_L003_R2_001.fastq.gz -x /home/avsastry/ref/D712/D712\n"
     ]
    }
   ],
   "source": [
    "for i,row in DF_files.iterrows():\n",
    "    bam,score = align_reads(row.sample_id,row.R1,row.R2,row.organism,\n",
    "                            IN_DIR,OUT_DIR,cores=8,verbose=True)\n",
    "    \n",
    "    DF_files.loc[i,'BAM'] = bam\n",
    "    DF_files.loc[i,'alignment'] = score"
   ]
  },
  {
   "cell_type": "code",
   "execution_count": null,
   "metadata": {},
   "outputs": [],
   "source": [
    "DF_files.to_csv('../saugat/aligned_files.csv')"
   ]
  },
  {
   "cell_type": "markdown",
   "metadata": {},
   "source": [
    "# Merge metadata (optional)"
   ]
  },
  {
   "cell_type": "code",
   "execution_count": 15,
   "metadata": {
    "scrolled": false
   },
   "outputs": [
    {
     "data": {
      "text/html": [
       "<div>\n",
       "<table border=\"1\" class=\"dataframe\">\n",
       "  <thead>\n",
       "    <tr style=\"text-align: right;\">\n",
       "      <th></th>\n",
       "      <th>creator</th>\n",
       "      <th>creator-email</th>\n",
       "      <th>project</th>\n",
       "      <th>data-type</th>\n",
       "      <th>run-date</th>\n",
       "      <th>taxonomy-id</th>\n",
       "      <th>strain-description</th>\n",
       "      <th>growth-stage</th>\n",
       "      <th>antibody</th>\n",
       "      <th>base-media</th>\n",
       "      <th>...</th>\n",
       "      <th>supplement</th>\n",
       "      <th>antibiotic</th>\n",
       "      <th>biological-replicates</th>\n",
       "      <th>technical-replicates</th>\n",
       "      <th>machine</th>\n",
       "      <th>illumina-kit</th>\n",
       "      <th>read-type</th>\n",
       "      <th>read-length</th>\n",
       "      <th>experiment-details</th>\n",
       "      <th>metadata</th>\n",
       "    </tr>\n",
       "    <tr>\n",
       "      <th>sample_id</th>\n",
       "      <th></th>\n",
       "      <th></th>\n",
       "      <th></th>\n",
       "      <th></th>\n",
       "      <th></th>\n",
       "      <th></th>\n",
       "      <th></th>\n",
       "      <th></th>\n",
       "      <th></th>\n",
       "      <th></th>\n",
       "      <th></th>\n",
       "      <th></th>\n",
       "      <th></th>\n",
       "      <th></th>\n",
       "      <th></th>\n",
       "      <th></th>\n",
       "      <th></th>\n",
       "      <th></th>\n",
       "      <th></th>\n",
       "      <th></th>\n",
       "      <th></th>\n",
       "    </tr>\n",
       "  </thead>\n",
       "  <tbody>\n",
       "    <tr>\n",
       "      <th>wt_fe2_1</th>\n",
       "      <td>Donghyuk Kim</td>\n",
       "      <td>dok023@ucsd.edu</td>\n",
       "      <td>fur</td>\n",
       "      <td>RNA-seq</td>\n",
       "      <td>2016-02-14</td>\n",
       "      <td>511145</td>\n",
       "      <td>Escherichia coli K-12 MG1655</td>\n",
       "      <td>mid-log</td>\n",
       "      <td>NaN</td>\n",
       "      <td>M9</td>\n",
       "      <td>...</td>\n",
       "      <td>non-sauer trace element mixture,FeCl2</td>\n",
       "      <td>NaN</td>\n",
       "      <td>2</td>\n",
       "      <td>1</td>\n",
       "      <td>MiSeq</td>\n",
       "      <td>50 Cycle</td>\n",
       "      <td>Paired-end reads</td>\n",
       "      <td>31</td>\n",
       "      <td>NaN</td>\n",
       "      <td>/media/nucleoid/raw_data/dhkim/fur/2016-02-14_...</td>\n",
       "    </tr>\n",
       "    <tr>\n",
       "      <th>wt_fe2_2</th>\n",
       "      <td>Donghyuk Kim</td>\n",
       "      <td>dok023@ucsd.edu</td>\n",
       "      <td>fur</td>\n",
       "      <td>RNA-seq</td>\n",
       "      <td>2016-02-14</td>\n",
       "      <td>511145</td>\n",
       "      <td>Escherichia coli K-12 MG1655</td>\n",
       "      <td>mid-log</td>\n",
       "      <td>NaN</td>\n",
       "      <td>M9</td>\n",
       "      <td>...</td>\n",
       "      <td>non-sauer trace element mixture,FeCl2</td>\n",
       "      <td>NaN</td>\n",
       "      <td>2</td>\n",
       "      <td>1</td>\n",
       "      <td>MiSeq</td>\n",
       "      <td>50 Cycle</td>\n",
       "      <td>Paired-end reads</td>\n",
       "      <td>31</td>\n",
       "      <td>NaN</td>\n",
       "      <td>/media/nucleoid/raw_data/dhkim/fur/2016-02-14_...</td>\n",
       "    </tr>\n",
       "    <tr>\n",
       "      <th>wt_dpd_1</th>\n",
       "      <td>Donghyuk Kim</td>\n",
       "      <td>dok023@ucsd.edu</td>\n",
       "      <td>fur</td>\n",
       "      <td>RNA-seq</td>\n",
       "      <td>2016-02-13</td>\n",
       "      <td>511145</td>\n",
       "      <td>Escherichia coli K-12 MG1655</td>\n",
       "      <td>mid-log</td>\n",
       "      <td>NaN</td>\n",
       "      <td>M9</td>\n",
       "      <td>...</td>\n",
       "      <td>non-sauer trace element mixture,DPD</td>\n",
       "      <td>NaN</td>\n",
       "      <td>2</td>\n",
       "      <td>1</td>\n",
       "      <td>MiSeq</td>\n",
       "      <td>50 Cycle</td>\n",
       "      <td>Paired-end reads</td>\n",
       "      <td>31</td>\n",
       "      <td>NaN</td>\n",
       "      <td>/media/nucleoid/raw_data/dhkim/fur/2016-02-13_...</td>\n",
       "    </tr>\n",
       "    <tr>\n",
       "      <th>wt_dpd_2</th>\n",
       "      <td>Donghyuk Kim</td>\n",
       "      <td>dok023@ucsd.edu</td>\n",
       "      <td>fur</td>\n",
       "      <td>RNA-seq</td>\n",
       "      <td>2016-02-13</td>\n",
       "      <td>511145</td>\n",
       "      <td>Escherichia coli K-12 MG1655</td>\n",
       "      <td>mid-log</td>\n",
       "      <td>NaN</td>\n",
       "      <td>M9</td>\n",
       "      <td>...</td>\n",
       "      <td>non-sauer trace element mixture,DPD</td>\n",
       "      <td>NaN</td>\n",
       "      <td>2</td>\n",
       "      <td>1</td>\n",
       "      <td>MiSeq</td>\n",
       "      <td>50 Cycle</td>\n",
       "      <td>Paired-end reads</td>\n",
       "      <td>31</td>\n",
       "      <td>NaN</td>\n",
       "      <td>/media/nucleoid/raw_data/dhkim/fur/2016-02-13_...</td>\n",
       "    </tr>\n",
       "    <tr>\n",
       "      <th>delfur_fe2_1</th>\n",
       "      <td>Donghyuk Kim</td>\n",
       "      <td>dok023@ucsd.edu</td>\n",
       "      <td>fur</td>\n",
       "      <td>RNA-seq</td>\n",
       "      <td>2016-02-11</td>\n",
       "      <td>511145</td>\n",
       "      <td>Escherichia coli K-12 MG1655 del_fur</td>\n",
       "      <td>mid-log</td>\n",
       "      <td>NaN</td>\n",
       "      <td>M9</td>\n",
       "      <td>...</td>\n",
       "      <td>non-sauer trace element mixture,FeCl2</td>\n",
       "      <td>Kanamycin</td>\n",
       "      <td>2</td>\n",
       "      <td>1</td>\n",
       "      <td>MiSeq</td>\n",
       "      <td>50 Cycle</td>\n",
       "      <td>Paired-end reads</td>\n",
       "      <td>31</td>\n",
       "      <td>NaN</td>\n",
       "      <td>/media/nucleoid/raw_data/dhkim/fur/2016-02-11_...</td>\n",
       "    </tr>\n",
       "  </tbody>\n",
       "</table>\n",
       "<p>5 rows × 26 columns</p>\n",
       "</div>"
      ],
      "text/plain": [
       "0                  creator    creator-email project data-type    run-date  \\\n",
       "sample_id                                                                   \n",
       "wt_fe2_1      Donghyuk Kim  dok023@ucsd.edu     fur   RNA-seq  2016-02-14   \n",
       "wt_fe2_2      Donghyuk Kim  dok023@ucsd.edu     fur   RNA-seq  2016-02-14   \n",
       "wt_dpd_1      Donghyuk Kim  dok023@ucsd.edu     fur   RNA-seq  2016-02-13   \n",
       "wt_dpd_2      Donghyuk Kim  dok023@ucsd.edu     fur   RNA-seq  2016-02-13   \n",
       "delfur_fe2_1  Donghyuk Kim  dok023@ucsd.edu     fur   RNA-seq  2016-02-11   \n",
       "\n",
       "0            taxonomy-id                    strain-description growth-stage  \\\n",
       "sample_id                                                                     \n",
       "wt_fe2_1          511145          Escherichia coli K-12 MG1655      mid-log   \n",
       "wt_fe2_2          511145          Escherichia coli K-12 MG1655      mid-log   \n",
       "wt_dpd_1          511145          Escherichia coli K-12 MG1655      mid-log   \n",
       "wt_dpd_2          511145          Escherichia coli K-12 MG1655      mid-log   \n",
       "delfur_fe2_1      511145  Escherichia coli K-12 MG1655 del_fur      mid-log   \n",
       "\n",
       "0            antibody base-media  \\\n",
       "sample_id                          \n",
       "wt_fe2_1          NaN         M9   \n",
       "wt_fe2_2          NaN         M9   \n",
       "wt_dpd_1          NaN         M9   \n",
       "wt_dpd_2          NaN         M9   \n",
       "delfur_fe2_1      NaN         M9   \n",
       "\n",
       "0                                   ...                          \\\n",
       "sample_id                           ...                           \n",
       "wt_fe2_1                            ...                           \n",
       "wt_fe2_2                            ...                           \n",
       "wt_dpd_1                            ...                           \n",
       "wt_dpd_2                            ...                           \n",
       "delfur_fe2_1                        ...                           \n",
       "\n",
       "0                                        supplement antibiotic  \\\n",
       "sample_id                                                        \n",
       "wt_fe2_1      non-sauer trace element mixture,FeCl2        NaN   \n",
       "wt_fe2_2      non-sauer trace element mixture,FeCl2        NaN   \n",
       "wt_dpd_1        non-sauer trace element mixture,DPD        NaN   \n",
       "wt_dpd_2        non-sauer trace element mixture,DPD        NaN   \n",
       "delfur_fe2_1  non-sauer trace element mixture,FeCl2  Kanamycin   \n",
       "\n",
       "0            biological-replicates technical-replicates machine illumina-kit  \\\n",
       "sample_id                                                                      \n",
       "wt_fe2_1                         2                    1   MiSeq     50 Cycle   \n",
       "wt_fe2_2                         2                    1   MiSeq     50 Cycle   \n",
       "wt_dpd_1                         2                    1   MiSeq     50 Cycle   \n",
       "wt_dpd_2                         2                    1   MiSeq     50 Cycle   \n",
       "delfur_fe2_1                     2                    1   MiSeq     50 Cycle   \n",
       "\n",
       "0                    read-type read-length experiment-details  \\\n",
       "sample_id                                                       \n",
       "wt_fe2_1      Paired-end reads          31                NaN   \n",
       "wt_fe2_2      Paired-end reads          31                NaN   \n",
       "wt_dpd_1      Paired-end reads          31                NaN   \n",
       "wt_dpd_2      Paired-end reads          31                NaN   \n",
       "delfur_fe2_1  Paired-end reads          31                NaN   \n",
       "\n",
       "0                                                      metadata  \n",
       "sample_id                                                        \n",
       "wt_fe2_1      /media/nucleoid/raw_data/dhkim/fur/2016-02-14_...  \n",
       "wt_fe2_2      /media/nucleoid/raw_data/dhkim/fur/2016-02-14_...  \n",
       "wt_dpd_1      /media/nucleoid/raw_data/dhkim/fur/2016-02-13_...  \n",
       "wt_dpd_2      /media/nucleoid/raw_data/dhkim/fur/2016-02-13_...  \n",
       "delfur_fe2_1  /media/nucleoid/raw_data/dhkim/fur/2016-02-11_...  \n",
       "\n",
       "[5 rows x 26 columns]"
      ]
     },
     "execution_count": 15,
     "metadata": {},
     "output_type": "execute_result"
    }
   ],
   "source": [
    "DF_metadata = pd.DataFrame()\n",
    "for metadata in DF_files.metadata:\n",
    "    df = pd.read_csv(metadata,index_col=0,header=None)\n",
    "    df.loc['metadata'] = metadata\n",
    "    DF_metadata = pd.concat([DF_metadata,df.transpose()])\n",
    "DF_metadata.index = DF_files.sample_id\n",
    "DF_metadata.head()"
   ]
  },
  {
   "cell_type": "code",
   "execution_count": 16,
   "metadata": {
    "collapsed": true
   },
   "outputs": [],
   "source": [
    "DF_metadata.to_csv('example/metadata.csv')"
   ]
  },
  {
   "cell_type": "code",
   "execution_count": null,
   "metadata": {
    "collapsed": true
   },
   "outputs": [],
   "source": []
  }
 ],
 "metadata": {
  "kernelspec": {
   "display_name": "Python 2",
   "language": "python",
   "name": "python2"
  },
  "language_info": {
   "codemirror_mode": {
    "name": "ipython",
    "version": 2
   },
   "file_extension": ".py",
   "mimetype": "text/x-python",
   "name": "python",
   "nbconvert_exporter": "python",
   "pygments_lexer": "ipython2",
   "version": "2.7.15"
  },
  "toc": {
   "nav_menu": {},
   "number_sections": true,
   "sideBar": true,
   "skip_h1_title": false,
   "title_cell": "Table of Contents",
   "title_sidebar": "Contents",
   "toc_cell": true,
   "toc_position": {},
   "toc_section_display": true,
   "toc_window_display": false
  }
 },
 "nbformat": 4,
 "nbformat_minor": 2
}
