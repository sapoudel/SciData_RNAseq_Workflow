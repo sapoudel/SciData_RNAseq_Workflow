{
 "cells": [
  {
   "cell_type": "markdown",
   "metadata": {},
   "source": [
    "# Setup"
   ]
  },
  {
   "cell_type": "code",
   "execution_count": 2,
   "metadata": {},
   "outputs": [],
   "source": [
    "from rnaseq import mount_bucket,align_reads\n",
    "import pandas as pd\n",
    "import os"
   ]
  },
  {
   "cell_type": "code",
   "execution_count": 2,
   "metadata": {},
   "outputs": [],
   "source": [
    "# Set raw data bucket\n",
    "DATA_BUCKET = '2018-20-06-test-data'"
   ]
  },
  {
   "cell_type": "markdown",
   "metadata": {},
   "source": [
    "## Mount data bucket"
   ]
  },
  {
   "cell_type": "code",
   "execution_count": 3,
   "metadata": {},
   "outputs": [],
   "source": [
    "IN_DIR = mount_bucket(DATA_BUCKET)"
   ]
  },
  {
   "cell_type": "markdown",
   "metadata": {},
   "source": [
    "### Enter files into a Tab-separated file with 4 columns:\n",
    "1. Unique sample identifier\n",
    "  * Make these easy to read and understand\n",
    "  * Biological replicates should end with _1, _2, etc.\n",
    "1. R1 file location\n",
    "  * If your fastq files are split across >1 files, separate using semicolons\n",
    "1. R2 file location\n",
    "1. Organism ID (from 0_setup_organism)"
   ]
  },
  {
   "cell_type": "code",
   "execution_count": 17,
   "metadata": {},
   "outputs": [
    {
     "data": {
      "text/html": [
       "<div>\n",
       "<style scoped>\n",
       "    .dataframe tbody tr th:only-of-type {\n",
       "        vertical-align: middle;\n",
       "    }\n",
       "\n",
       "    .dataframe tbody tr th {\n",
       "        vertical-align: top;\n",
       "    }\n",
       "\n",
       "    .dataframe thead th {\n",
       "        text-align: right;\n",
       "    }\n",
       "</style>\n",
       "<table border=\"1\" class=\"dataframe\">\n",
       "  <thead>\n",
       "    <tr style=\"text-align: right;\">\n",
       "      <th></th>\n",
       "      <th>sample_id</th>\n",
       "      <th>R1</th>\n",
       "      <th>R2</th>\n",
       "      <th>organism</th>\n",
       "    </tr>\n",
       "  </thead>\n",
       "  <tbody>\n",
       "    <tr>\n",
       "      <th>0</th>\n",
       "      <td>wt_fe2_1</td>\n",
       "      <td>WT-Fe2-1_S1_L001_R1_001.fastq.gz</td>\n",
       "      <td>WT-Fe2-1_S1_L001_R2_001.fastq.gz</td>\n",
       "      <td>MG1655</td>\n",
       "    </tr>\n",
       "    <tr>\n",
       "      <th>1</th>\n",
       "      <td>wt_fe2_2</td>\n",
       "      <td>WT-FE2-2_S2_L001_R1_001.fastq.gz</td>\n",
       "      <td>WT-FE2-2_S2_L001_R2_001.fastq.gz</td>\n",
       "      <td>MG1655</td>\n",
       "    </tr>\n",
       "    <tr>\n",
       "      <th>2</th>\n",
       "      <td>wt_dpd_1</td>\n",
       "      <td>WTDPD1_S1_L001_R1_001.fastq.gz</td>\n",
       "      <td>WTDPD1_S1_L001_R2_001.fastq.gz</td>\n",
       "      <td>MG1655</td>\n",
       "    </tr>\n",
       "    <tr>\n",
       "      <th>3</th>\n",
       "      <td>wt_dpd_2</td>\n",
       "      <td>WTDPD2_S1_L001_R1_001.fastq.gz</td>\n",
       "      <td>WTDPD2_S1_L001_R2_001.fastq.gz</td>\n",
       "      <td>MG1655</td>\n",
       "    </tr>\n",
       "    <tr>\n",
       "      <th>4</th>\n",
       "      <td>delfur_fe2_1</td>\n",
       "      <td>del-fur-Fe2-1_S1_L001_R1_001.fastq.gz</td>\n",
       "      <td>del-fur-Fe2-1_S1_L001_R2_001.fastq.gz</td>\n",
       "      <td>MG1655</td>\n",
       "    </tr>\n",
       "    <tr>\n",
       "      <th>5</th>\n",
       "      <td>delfur_fe2_2</td>\n",
       "      <td>del-fur-Fe2-2_S2_L001_R1_001.fastq.gz</td>\n",
       "      <td>del-fur-Fe2-2_S2_L001_R2_001.fastq.gz</td>\n",
       "      <td>MG1655</td>\n",
       "    </tr>\n",
       "    <tr>\n",
       "      <th>6</th>\n",
       "      <td>delfur_dpd_1</td>\n",
       "      <td>delfurDPD1_S2_L001_R1_001.fastq.gz</td>\n",
       "      <td>delfurDPD1_S2_L001_R2_001.fastq.gz</td>\n",
       "      <td>MG1655</td>\n",
       "    </tr>\n",
       "    <tr>\n",
       "      <th>7</th>\n",
       "      <td>delfur_dpd_2</td>\n",
       "      <td>delfurDPD2_S2_L001_R1_001.fastq.gz</td>\n",
       "      <td>delfurDPD2_S2_L001_R2_001.fastq.gz</td>\n",
       "      <td>MG1655</td>\n",
       "    </tr>\n",
       "  </tbody>\n",
       "</table>\n",
       "</div>"
      ],
      "text/plain": [
       "      sample_id                                     R1  \\\n",
       "0      wt_fe2_1       WT-Fe2-1_S1_L001_R1_001.fastq.gz   \n",
       "1      wt_fe2_2       WT-FE2-2_S2_L001_R1_001.fastq.gz   \n",
       "2      wt_dpd_1         WTDPD1_S1_L001_R1_001.fastq.gz   \n",
       "3      wt_dpd_2         WTDPD2_S1_L001_R1_001.fastq.gz   \n",
       "4  delfur_fe2_1  del-fur-Fe2-1_S1_L001_R1_001.fastq.gz   \n",
       "5  delfur_fe2_2  del-fur-Fe2-2_S2_L001_R1_001.fastq.gz   \n",
       "6  delfur_dpd_1     delfurDPD1_S2_L001_R1_001.fastq.gz   \n",
       "7  delfur_dpd_2     delfurDPD2_S2_L001_R1_001.fastq.gz   \n",
       "\n",
       "                                      R2 organism  \n",
       "0       WT-Fe2-1_S1_L001_R2_001.fastq.gz   MG1655  \n",
       "1       WT-FE2-2_S2_L001_R2_001.fastq.gz   MG1655  \n",
       "2         WTDPD1_S1_L001_R2_001.fastq.gz   MG1655  \n",
       "3         WTDPD2_S1_L001_R2_001.fastq.gz   MG1655  \n",
       "4  del-fur-Fe2-1_S1_L001_R2_001.fastq.gz   MG1655  \n",
       "5  del-fur-Fe2-2_S2_L001_R2_001.fastq.gz   MG1655  \n",
       "6     delfurDPD1_S2_L001_R2_001.fastq.gz   MG1655  \n",
       "7     delfurDPD2_S2_L001_R2_001.fastq.gz   MG1655  "
      ]
     },
     "execution_count": 17,
     "metadata": {},
     "output_type": "execute_result"
    }
   ],
   "source": [
    "DF_files = pd.read_csv('example/raw_files.csv')\n",
    "DF_files"
   ]
  },
  {
   "cell_type": "markdown",
   "metadata": {},
   "source": [
    "# QC"
   ]
  },
  {
   "cell_type": "markdown",
   "metadata": {},
   "source": [
    "**Before alignment, run FastQC on your samples to assess the quality of the raw reads.**"
   ]
  },
  {
   "cell_type": "code",
   "execution_count": 18,
   "metadata": {},
   "outputs": [
    {
     "name": "stdout",
     "output_type": "stream",
     "text": [
      "Number of unique sample IDs: 8\n"
     ]
    }
   ],
   "source": [
    "print 'Number of unique sample IDs: %d'%len(DF_files.sample_id.unique())"
   ]
  },
  {
   "cell_type": "code",
   "execution_count": 19,
   "metadata": {},
   "outputs": [
    {
     "name": "stdout",
     "output_type": "stream",
     "text": [
      "Number of unique R1 files: 8\n",
      "Number of unique R2 lists: 8\n"
     ]
    }
   ],
   "source": [
    "all_R1 = [r1.split(',') for r1 in DF_files.R1.values]\n",
    "all_R2 = [r1.split(',') for r1 in DF_files.R2.values]\n",
    "print 'Number of unique R1 files: %d'%len(DF_files.R1.unique())\n",
    "print 'Number of unique R2 lists: %d'%len(DF_files.R2.unique())"
   ]
  },
  {
   "cell_type": "markdown",
   "metadata": {},
   "source": [
    "# Align Reads"
   ]
  },
  {
   "cell_type": "markdown",
   "metadata": {},
   "source": [
    "The `align_reads` function takes the following required arguments:\n",
    "* `name`: The unique sample name used to name the output files\n",
    "* `R1`: Location of the R1 file\n",
    "* `R2`: Location of the R2 file\n",
    "* `bt_index`: Location of bowtie index to use for alignment\n",
    "* `out_dir`: Output directory\n",
    "\n",
    "Optional arguments:\n",
    "* `aligner`: 'bowtie' or 'bowtie2' (default 'bowtie')\n",
    "* `insertsize`: Maximum distance between paired ends (default 1000)\n",
    "* `cores`: Number of cores to use (default 1)\n",
    "* `force`: Re-runs alignment even if BAM file already exists\n",
    "* `verbose`: Update user with current process\n",
    "\n",
    "`align_reads` performs the following:\n",
    "1. Unzips .gz files into a temporary folder (if necessary)\n",
    "2. Uses the bowtie aligner to align reads to a bowtie index:\n",
    "    * Bowtie: `bowtie -X 1000 -n 2 -p <cores> -3 3 -S -1 <R1_files> -2 <R2_files> <bt_index>`\n",
    "    * Bowtie2: `bowtie2 -X 1000 -N 1 -p <cores> -3 3 -1 <R1_files> -2 <R2_files> -x <bt_index>`\n",
    "    * For information about these options, see docs for [bowtie](http://bowtie-bio.sourceforge.net/manual.shtml) and [bowtie2](http://bowtie-bio.sourceforge.net/bowtie2/manual.shtml)\n",
    "3. Converts the SAM output of bowtie to BAM\n",
    "    * `samtools view -b <bowtie_out> -@ <cores> -o <unsorted_bam>`\n",
    "4. Sorts the resulting BAM file\n",
    "    * `samtools sort <unsorted_bam> -@ <cores> -o <sorted_bam>`\n",
    "5. Cleans up intermediate files\n",
    "\n",
    "The final output is the alignment score (%) and the location of the final BAM file"
   ]
  },
  {
   "cell_type": "code",
   "execution_count": 36,
   "metadata": {},
   "outputs": [],
   "source": [
    "OUT_DIR = '../processed_data/bam_files/'"
   ]
  },
  {
   "cell_type": "code",
   "execution_count": 23,
   "metadata": {},
   "outputs": [
    {
     "name": "stdout",
     "output_type": "stream",
     "text": [
      "Processing wt_fe2_1\n",
      "Unzipping file: /home/avsastry/2018-20-06-test-data/WT-Fe2-1_S1_L001_R1_001.fastq.gz\n",
      "Unzipping file: /home/avsastry/2018-20-06-test-data/WT-Fe2-1_S1_L001_R2_001.fastq.gz\n",
      "Running bowtie: bowtie -X 1000 -n 2 -p 12 -3 3 -S -1 ../processed_data/bam_files/tmp/WT-Fe2-1_S1_L001_R1_001.fastq -2 ../processed_data/bam_files/tmp/WT-Fe2-1_S1_L001_R2_001.fastq /home/avsastry/ref/MG1655/MG1655\n",
      "Converting to BAM: samtools view -b ../processed_data/bam_files/tmp/wt_fe2_1.sam -@ 12 -o ../processed_data/bam_files/tmp/wt_fe2_1.unsorted.bam\n",
      "Sorting BAM file: samtools sort ../processed_data/bam_files/tmp/wt_fe2_1.unsorted.bam -@ 12 -o ../processed_data/bam_files/wt_fe2_1.bam\n",
      "Cleaning up...\n",
      "Processing wt_fe2_2\n",
      "Unzipping file: /home/avsastry/2018-20-06-test-data/WT-FE2-2_S2_L001_R1_001.fastq.gz\n",
      "Unzipping file: /home/avsastry/2018-20-06-test-data/WT-FE2-2_S2_L001_R2_001.fastq.gz\n",
      "Running bowtie: bowtie -X 1000 -n 2 -p 12 -3 3 -S -1 ../processed_data/bam_files/tmp/WT-FE2-2_S2_L001_R1_001.fastq -2 ../processed_data/bam_files/tmp/WT-FE2-2_S2_L001_R2_001.fastq /home/avsastry/ref/MG1655/MG1655\n",
      "Converting to BAM: samtools view -b ../processed_data/bam_files/tmp/wt_fe2_2.sam -@ 12 -o ../processed_data/bam_files/tmp/wt_fe2_2.unsorted.bam\n",
      "Sorting BAM file: samtools sort ../processed_data/bam_files/tmp/wt_fe2_2.unsorted.bam -@ 12 -o ../processed_data/bam_files/wt_fe2_2.bam\n",
      "Cleaning up...\n",
      "Processing wt_dpd_1\n",
      "Unzipping file: /home/avsastry/2018-20-06-test-data/WTDPD1_S1_L001_R1_001.fastq.gz\n",
      "Unzipping file: /home/avsastry/2018-20-06-test-data/WTDPD1_S1_L001_R2_001.fastq.gz\n",
      "Running bowtie: bowtie -X 1000 -n 2 -p 12 -3 3 -S -1 ../processed_data/bam_files/tmp/WTDPD1_S1_L001_R1_001.fastq -2 ../processed_data/bam_files/tmp/WTDPD1_S1_L001_R2_001.fastq /home/avsastry/ref/MG1655/MG1655\n",
      "Converting to BAM: samtools view -b ../processed_data/bam_files/tmp/wt_dpd_1.sam -@ 12 -o ../processed_data/bam_files/tmp/wt_dpd_1.unsorted.bam\n",
      "Sorting BAM file: samtools sort ../processed_data/bam_files/tmp/wt_dpd_1.unsorted.bam -@ 12 -o ../processed_data/bam_files/wt_dpd_1.bam\n",
      "Cleaning up...\n",
      "Processing wt_dpd_2\n",
      "Unzipping file: /home/avsastry/2018-20-06-test-data/WTDPD2_S1_L001_R1_001.fastq.gz\n",
      "Unzipping file: /home/avsastry/2018-20-06-test-data/WTDPD2_S1_L001_R2_001.fastq.gz\n",
      "Running bowtie: bowtie -X 1000 -n 2 -p 12 -3 3 -S -1 ../processed_data/bam_files/tmp/WTDPD2_S1_L001_R1_001.fastq -2 ../processed_data/bam_files/tmp/WTDPD2_S1_L001_R2_001.fastq /home/avsastry/ref/MG1655/MG1655\n",
      "Converting to BAM: samtools view -b ../processed_data/bam_files/tmp/wt_dpd_2.sam -@ 12 -o ../processed_data/bam_files/tmp/wt_dpd_2.unsorted.bam\n",
      "Sorting BAM file: samtools sort ../processed_data/bam_files/tmp/wt_dpd_2.unsorted.bam -@ 12 -o ../processed_data/bam_files/wt_dpd_2.bam\n",
      "Cleaning up...\n",
      "Processing delfur_fe2_1\n",
      "Unzipping file: /home/avsastry/2018-20-06-test-data/del-fur-Fe2-1_S1_L001_R1_001.fastq.gz\n",
      "Unzipping file: /home/avsastry/2018-20-06-test-data/del-fur-Fe2-1_S1_L001_R2_001.fastq.gz\n",
      "Running bowtie: bowtie -X 1000 -n 2 -p 12 -3 3 -S -1 ../processed_data/bam_files/tmp/del-fur-Fe2-1_S1_L001_R1_001.fastq -2 ../processed_data/bam_files/tmp/del-fur-Fe2-1_S1_L001_R2_001.fastq /home/avsastry/ref/MG1655/MG1655\n",
      "Converting to BAM: samtools view -b ../processed_data/bam_files/tmp/delfur_fe2_1.sam -@ 12 -o ../processed_data/bam_files/tmp/delfur_fe2_1.unsorted.bam\n",
      "Sorting BAM file: samtools sort ../processed_data/bam_files/tmp/delfur_fe2_1.unsorted.bam -@ 12 -o ../processed_data/bam_files/delfur_fe2_1.bam\n",
      "Cleaning up...\n",
      "Processing delfur_fe2_2\n",
      "Unzipping file: /home/avsastry/2018-20-06-test-data/del-fur-Fe2-2_S2_L001_R1_001.fastq.gz\n",
      "Unzipping file: /home/avsastry/2018-20-06-test-data/del-fur-Fe2-2_S2_L001_R2_001.fastq.gz\n",
      "Running bowtie: bowtie -X 1000 -n 2 -p 12 -3 3 -S -1 ../processed_data/bam_files/tmp/del-fur-Fe2-2_S2_L001_R1_001.fastq -2 ../processed_data/bam_files/tmp/del-fur-Fe2-2_S2_L001_R2_001.fastq /home/avsastry/ref/MG1655/MG1655\n",
      "Converting to BAM: samtools view -b ../processed_data/bam_files/tmp/delfur_fe2_2.sam -@ 12 -o ../processed_data/bam_files/tmp/delfur_fe2_2.unsorted.bam\n",
      "Sorting BAM file: samtools sort ../processed_data/bam_files/tmp/delfur_fe2_2.unsorted.bam -@ 12 -o ../processed_data/bam_files/delfur_fe2_2.bam\n",
      "Cleaning up...\n",
      "Processing delfur_dpd_1\n",
      "Unzipping file: /home/avsastry/2018-20-06-test-data/delfurDPD1_S2_L001_R1_001.fastq.gz\n",
      "Unzipping file: /home/avsastry/2018-20-06-test-data/delfurDPD1_S2_L001_R2_001.fastq.gz\n",
      "Running bowtie: bowtie -X 1000 -n 2 -p 12 -3 3 -S -1 ../processed_data/bam_files/tmp/delfurDPD1_S2_L001_R1_001.fastq -2 ../processed_data/bam_files/tmp/delfurDPD1_S2_L001_R2_001.fastq /home/avsastry/ref/MG1655/MG1655\n",
      "Converting to BAM: samtools view -b ../processed_data/bam_files/tmp/delfur_dpd_1.sam -@ 12 -o ../processed_data/bam_files/tmp/delfur_dpd_1.unsorted.bam\n",
      "Sorting BAM file: samtools sort ../processed_data/bam_files/tmp/delfur_dpd_1.unsorted.bam -@ 12 -o ../processed_data/bam_files/delfur_dpd_1.bam\n",
      "Cleaning up...\n",
      "Processing delfur_dpd_2\n",
      "Unzipping file: /home/avsastry/2018-20-06-test-data/delfurDPD2_S2_L001_R1_001.fastq.gz\n",
      "Unzipping file: /home/avsastry/2018-20-06-test-data/delfurDPD2_S2_L001_R2_001.fastq.gz\n",
      "Running bowtie: bowtie -X 1000 -n 2 -p 12 -3 3 -S -1 ../processed_data/bam_files/tmp/delfurDPD2_S2_L001_R1_001.fastq -2 ../processed_data/bam_files/tmp/delfurDPD2_S2_L001_R2_001.fastq /home/avsastry/ref/MG1655/MG1655\n",
      "Converting to BAM: samtools view -b ../processed_data/bam_files/tmp/delfur_dpd_2.sam -@ 12 -o ../processed_data/bam_files/tmp/delfur_dpd_2.unsorted.bam\n",
      "Sorting BAM file: samtools sort ../processed_data/bam_files/tmp/delfur_dpd_2.unsorted.bam -@ 12 -o ../processed_data/bam_files/delfur_dpd_2.bam\n",
      "Cleaning up...\n"
     ]
    }
   ],
   "source": [
    "for i,row in DF_files.iterrows():\n",
    "    bam,score = align_reads(row.sample_id,row.R1,row.R2,row.organism,\n",
    "                            IN_DIR,OUT_DIR,cores=12,verbose=True)\n",
    "    \n",
    "    DF_files.loc[i,'BAM'] = bam\n",
    "    DF_files.loc[i,'alignment'] = score"
   ]
  },
  {
   "cell_type": "code",
   "execution_count": 6,
   "metadata": {},
   "outputs": [],
   "source": [
    "DF_files.to_csv('../processed_data/aligned_files.csv')"
   ]
  },
  {
   "cell_type": "code",
   "execution_count": null,
   "metadata": {},
   "outputs": [],
   "source": []
  }
 ],
 "metadata": {
  "kernelspec": {
   "display_name": "Python 2",
   "language": "python",
   "name": "python2"
  },
  "language_info": {
   "codemirror_mode": {
    "name": "ipython",
    "version": 2
   },
   "file_extension": ".py",
   "mimetype": "text/x-python",
   "name": "python",
   "nbconvert_exporter": "python",
   "pygments_lexer": "ipython2",
   "version": "2.7.15"
  },
  "toc": {
   "nav_menu": {},
   "number_sections": true,
   "sideBar": true,
   "skip_h1_title": false,
   "title_cell": "Table of Contents",
   "title_sidebar": "Contents",
   "toc_cell": true,
   "toc_position": {},
   "toc_section_display": true,
   "toc_window_display": false
  }
 },
 "nbformat": 4,
 "nbformat_minor": 2
}
