{
 "cells": [
  {
   "cell_type": "markdown",
   "metadata": {
    "toc": true
   },
   "source": [
    "<h1>Table of Contents<span class=\"tocSkip\"></span></h1>\n",
    "<div class=\"toc\"><ul class=\"toc-item\"><li><span><a href=\"#Setup\" data-toc-modified-id=\"Setup-1\"><span class=\"toc-item-num\">1&nbsp;&nbsp;</span>Setup</a></span><ul class=\"toc-item\"><li><span><a href=\"#Locate-data-files\" data-toc-modified-id=\"Locate-data-files-1.1\"><span class=\"toc-item-num\">1.1&nbsp;&nbsp;</span>Locate data files</a></span></li><li><span><a href=\"#Enter-files-into-a-Tab-separated-file-with-4-columns:\" data-toc-modified-id=\"Enter-files-into-a-Tab-separated-file-with-4-columns:-1.2\"><span class=\"toc-item-num\">1.2&nbsp;&nbsp;</span>Enter files into a Tab-separated file with 4 columns:</a></span></li></ul></li><li><span><a href=\"#QC\" data-toc-modified-id=\"QC-2\"><span class=\"toc-item-num\">2&nbsp;&nbsp;</span>QC</a></span></li><li><span><a href=\"#Align-Reads\" data-toc-modified-id=\"Align-Reads-3\"><span class=\"toc-item-num\">3&nbsp;&nbsp;</span>Align Reads</a></span></li></ul></div>"
   ]
  },
  {
   "cell_type": "markdown",
   "metadata": {},
   "source": [
    "# Setup"
   ]
  },
  {
   "cell_type": "code",
   "execution_count": 1,
   "metadata": {
    "ExecuteTime": {
     "end_time": "2019-01-09T20:18:24.680569Z",
     "start_time": "2019-01-09T20:18:24.536605Z"
    }
   },
   "outputs": [],
   "source": [
    "from rnaseq import align_reads\n",
    "import pandas as pd\n",
    "import os"
   ]
  },
  {
   "cell_type": "markdown",
   "metadata": {},
   "source": [
    "## Locate data files"
   ]
  },
  {
   "cell_type": "markdown",
   "metadata": {},
   "source": [
    "To test out the pipeline on an example dataset, download this file and extract it into the `example` folder: [RNAseq_pipeline_example_data.tar.gz](https://www.dropbox.com/s/xvvy18lz5rergvd/RNAseq_pipeline_example_data.tar.gz?dl=0)"
   ]
  },
  {
   "cell_type": "code",
   "execution_count": 2,
   "metadata": {
    "ExecuteTime": {
     "end_time": "2019-01-09T20:18:25.103463Z",
     "start_time": "2019-01-09T20:18:25.098788Z"
    }
   },
   "outputs": [],
   "source": [
    "# Set data location\n",
    "DATA_DIR = './fq'"
   ]
  },
  {
   "cell_type": "markdown",
   "metadata": {},
   "source": [
    "## Enter files into a Tab-separated file with 4 columns:\n",
    "1. Unique sample identifier\n",
    "  * Make these easy to read and understand\n",
    "  * Biological replicates should end with _1, _2, etc.\n",
    "1. R1 file location\n",
    "  * If your fastq files are split across >1 files, separate using semicolons\n",
    "1. R2 file location\n",
    "1. Organism ID (from 0_setup_organism)"
   ]
  },
  {
   "cell_type": "markdown",
   "metadata": {},
   "source": [
    "**NOTE**: In order to reduce file size and computation speed, I have provided truncated versions of the fastq files. The fastq/bam files in the example folder are test files only."
   ]
  },
  {
   "cell_type": "code",
   "execution_count": 3,
   "metadata": {
    "ExecuteTime": {
     "end_time": "2019-01-09T20:18:25.205478Z",
     "start_time": "2019-01-09T20:18:25.185997Z"
    }
   },
   "outputs": [],
   "source": [
    "master = pd.read_csv('./master.csv', index_col=0)"
   ]
  },
  {
   "cell_type": "code",
   "execution_count": 5,
   "metadata": {
    "ExecuteTime": {
     "end_time": "2019-01-09T20:18:25.389123Z",
     "start_time": "2019-01-09T20:18:25.292541Z"
    }
   },
   "outputs": [],
   "source": [
    "count = 0\n",
    "DF_files = pd.DataFrame(index=range(17), columns=['sample_id', 'R1', 'R2', 'organism'])\n",
    "DF_files['organism'] = ['USA300_TCH1516'] * len(DF_files)\n",
    "fastq_files = os.listdir('fq/')\n",
    "idx = 0\n",
    "for files in fastq_files:\n",
    "    if 'R1' in files:\n",
    "        uid = master[master['fastq-read1'] == files].index[0]\n",
    "        DF_files.loc[idx, 'sample_id'] = uid\n",
    "        DF_files.loc[idx, 'R1'] = files\n",
    "        DF_files.loc[idx, 'R2'] = files.replace('_R1_', '_R2_')\n",
    "        idx += 1"
   ]
  },
  {
   "cell_type": "markdown",
   "metadata": {},
   "source": [
    "# QC"
   ]
  },
  {
   "cell_type": "markdown",
   "metadata": {},
   "source": [
    "**Before alignment, run FastQC on your samples to assess the quality of the raw reads.**"
   ]
  },
  {
   "cell_type": "code",
   "execution_count": 7,
   "metadata": {
    "ExecuteTime": {
     "end_time": "2019-01-09T20:18:25.548117Z",
     "start_time": "2019-01-09T20:18:25.482803Z"
    }
   },
   "outputs": [],
   "source": [
    "DF_files = pd.read_csv('DF_files.csv', index_col=0)"
   ]
  },
  {
   "cell_type": "code",
   "execution_count": 8,
   "metadata": {
    "ExecuteTime": {
     "end_time": "2019-01-09T20:18:25.626679Z",
     "start_time": "2019-01-09T20:18:25.551688Z"
    }
   },
   "outputs": [
    {
     "name": "stdout",
     "output_type": "stream",
     "text": [
      "Number of unique sample IDs: 23\n"
     ]
    }
   ],
   "source": [
    "print 'Number of unique sample IDs: %d'%len(DF_files.sample_id.unique())"
   ]
  },
  {
   "cell_type": "code",
   "execution_count": 9,
   "metadata": {
    "ExecuteTime": {
     "end_time": "2019-01-09T20:18:25.716452Z",
     "start_time": "2019-01-09T20:18:25.634302Z"
    }
   },
   "outputs": [
    {
     "name": "stdout",
     "output_type": "stream",
     "text": [
      "Number of unique R1 files: 23\n",
      "Number of unique R2 lists: 23\n"
     ]
    }
   ],
   "source": [
    "all_R1 = [r1.split(',') for r1 in DF_files.R1.values]\n",
    "all_R2 = [r1.split(',') for r1 in DF_files.R2.values]\n",
    "print 'Number of unique R1 files: %d'%len(DF_files.R1.unique())\n",
    "print 'Number of unique R2 lists: %d'%len(DF_files.R2.unique())"
   ]
  },
  {
   "cell_type": "markdown",
   "metadata": {},
   "source": [
    "# Align Reads"
   ]
  },
  {
   "cell_type": "markdown",
   "metadata": {},
   "source": [
    "The `align_reads` function takes the following required arguments:\n",
    "* `name`: The unique sample name used to name the output files\n",
    "* `R1`: Location of the R1 file\n",
    "* `R2`: Location of the R2 file\n",
    "* `bt_index`: Location of bowtie index to use for alignment\n",
    "* `out_dir`: Output directory\n",
    "\n",
    "Optional arguments:\n",
    "* `aligner`: 'bowtie' or 'bowtie2' (default 'bowtie')\n",
    "* `insertsize`: Maximum distance between paired ends (default 1000)\n",
    "* `cores`: Number of cores to use (default 1)\n",
    "* `force`: Re-runs alignment even if BAM file already exists\n",
    "* `verbose`: Update user with current process\n",
    "\n",
    "`align_reads` performs the following:\n",
    "1. Unzips .gz files into a temporary folder (if necessary)\n",
    "2. Uses the bowtie aligner to align reads to a bowtie index:\n",
    "    * Bowtie: `bowtie -X 1000 -n 2 -p <cores> -3 3 -S -1 <R1_files> -2 <R2_files> <bt_index>`\n",
    "    * Bowtie2: `bowtie2 -X 1000 -N 1 -p <cores> -3 3 -1 <R1_files> -2 <R2_files> -x <bt_index>`\n",
    "    * For information about these options, see docs for [bowtie](http://bowtie-bio.sourceforge.net/manual.shtml) and [bowtie2](http://bowtie-bio.sourceforge.net/bowtie2/manual.shtml)\n",
    "3. Converts the SAM output of bowtie to BAM\n",
    "    * `samtools view -b <bowtie_out> -@ <cores> -o <unsorted_bam>`\n",
    "4. Sorts the resulting BAM file\n",
    "    * `samtools sort <unsorted_bam> -@ <cores> -o <sorted_bam>`\n",
    "5. Cleans up intermediate files\n",
    "\n",
    "The final output is the alignment score (%) and the location of the final BAM file"
   ]
  },
  {
   "cell_type": "code",
   "execution_count": 10,
   "metadata": {
    "ExecuteTime": {
     "end_time": "2019-01-09T20:18:26.463804Z",
     "start_time": "2019-01-09T20:18:26.460030Z"
    }
   },
   "outputs": [],
   "source": [
    "OUT_DIR = './bam'"
   ]
  },
  {
   "cell_type": "code",
   "execution_count": 11,
   "metadata": {
    "ExecuteTime": {
     "end_time": "2019-01-09T20:24:40.503910Z",
     "start_time": "2019-01-09T20:18:27.268424Z"
    }
   },
   "outputs": [
    {
     "name": "stdout",
     "output_type": "stream",
     "text": [
      "Processing U01_53\n",
      "Processing U01_50\n",
      "Processing U01_56\n",
      "Processing U01_61\n",
      "Processing U01_70\n",
      "Processing U01_59\n",
      "Processing U01_67\n",
      "Processing U01_60\n",
      "Processing U01_55\n",
      "Processing U01_57\n",
      "Processing U01_66\n",
      "Processing U01_62\n",
      "Processing U01_51\n",
      "Processing U01_65\n",
      "Processing U01_63\n",
      "Processing U01_54\n",
      "Processing U01_72\n",
      "Processing U01_64\n",
      "Processing U01_69\n",
      "Processing U01_71\n",
      "Processing U01_68\n",
      "Processing U01_52\n",
      "Processing U01_58\n"
     ]
    }
   ],
   "source": [
    "for i,row in DF_files.iterrows():\n",
    "    if row.sample_id == 'U01_201' or row.sample_id == 'U01_199':\n",
    "        continue\n",
    "    bam,score, bam_stats = align_reads(row.sample_id,row.R1,row.R2,row.organism,\n",
    "                            DATA_DIR,OUT_DIR,cores=8,verbose=True)\n",
    "    \n",
    "    \n",
    "    DF_files.loc[i,'BAM'] = bam\n",
    "    DF_files.loc[i,'percent aligned'] = score\n",
    "    DF_files.loc[i, 'mean phred scores'] = bam_stats[0]\n",
    "    DF_files.loc[i, 'total reads'] = bam_stats[1]\n",
    "    DF_files.loc[i, 'mapped reads'] = bam_stats[2]"
   ]
  },
  {
   "cell_type": "code",
   "execution_count": 16,
   "metadata": {
    "ExecuteTime": {
     "end_time": "2019-01-09T20:26:31.586485Z",
     "start_time": "2019-01-09T20:26:31.581538Z"
    }
   },
   "outputs": [],
   "source": [
    "DF_files.to_csv('./DF_files.csv')"
   ]
  }
 ],
 "metadata": {
  "kernelspec": {
   "display_name": "Python 2",
   "language": "python",
   "name": "python2"
  },
  "language_info": {
   "codemirror_mode": {
    "name": "ipython",
    "version": 2
   },
   "file_extension": ".py",
   "mimetype": "text/x-python",
   "name": "python",
   "nbconvert_exporter": "python",
   "pygments_lexer": "ipython2",
   "version": "2.7.15"
  },
  "toc": {
   "nav_menu": {},
   "number_sections": true,
   "sideBar": true,
   "skip_h1_title": false,
   "title_cell": "Table of Contents",
   "title_sidebar": "Contents",
   "toc_cell": true,
   "toc_position": {},
   "toc_section_display": true,
   "toc_window_display": false
  }
 },
 "nbformat": 4,
 "nbformat_minor": 2
}
