{
 "cells": [
  {
   "cell_type": "markdown",
   "metadata": {},
   "source": [
    "# Adapted from:  http://www.bioconductor.org/help/workflows/rnaseqGene/"
   ]
  },
  {
   "cell_type": "markdown",
   "metadata": {},
   "source": [
    "#### To learn basics of R: https://www.datacamp.com/courses/free-introduction-to-r"
   ]
  },
  {
   "cell_type": "markdown",
   "metadata": {},
   "source": [
    "# Table of Contents"
   ]
  },
  {
   "cell_type": "markdown",
   "metadata": {},
   "source": [
    "1. [Setup](#Setup)\n",
    "1. [Create DESeq Data Set](#Create-DESeq-Data-Set)\n",
    "1. [Calculate TPM](#Calculate-TPM)\n",
    "1. [PCA and Clustering](#PCA-and-Clustering)\n",
    "    1. [PCA](#PCA)\n",
    "    1. [Clustering](#Clustering)\n",
    "1. [Find DEGs](#Find-DEGs)"
   ]
  },
  {
   "cell_type": "markdown",
   "metadata": {},
   "source": [
    "# Setup"
   ]
  },
  {
   "cell_type": "code",
   "execution_count": 1,
   "metadata": {},
   "outputs": [],
   "source": [
    "suppressPackageStartupMessages(library('SummarizedExperiment'))\n",
    "suppressPackageStartupMessages(library('GenomicFeatures'))\n",
    "suppressPackageStartupMessages(library('DESeq2'))"
   ]
  },
  {
   "cell_type": "markdown",
   "metadata": {},
   "source": [
    "# Create DESeq Data Set"
   ]
  },
  {
   "cell_type": "code",
   "execution_count": 2,
   "metadata": {},
   "outputs": [],
   "source": [
    "load('../processed_data/se.rda')"
   ]
  },
  {
   "cell_type": "markdown",
   "metadata": {},
   "source": [
    "Create the DESeqDataSet, and designate the experimental design. The experimental design can include information from the colData. Use ~1 to ignore design criteria."
   ]
  },
  {
   "cell_type": "code",
   "execution_count": 3,
   "metadata": {},
   "outputs": [
    {
     "data": {
      "text/html": [
       "<ol class=list-inline>\n",
       "\t<li>'wt_fe2_1'</li>\n",
       "\t<li>'wt_fe2_2'</li>\n",
       "\t<li>'wt_dpd_1'</li>\n",
       "\t<li>'wt_dpd_2'</li>\n",
       "\t<li>'delfur_fe2_1'</li>\n",
       "\t<li>'delfur_fe2_2'</li>\n",
       "\t<li>'delfur_dpd_1'</li>\n",
       "\t<li>'delfur_dpd_2'</li>\n",
       "</ol>\n"
      ],
      "text/latex": [
       "\\begin{enumerate*}\n",
       "\\item 'wt\\_fe2\\_1'\n",
       "\\item 'wt\\_fe2\\_2'\n",
       "\\item 'wt\\_dpd\\_1'\n",
       "\\item 'wt\\_dpd\\_2'\n",
       "\\item 'delfur\\_fe2\\_1'\n",
       "\\item 'delfur\\_fe2\\_2'\n",
       "\\item 'delfur\\_dpd\\_1'\n",
       "\\item 'delfur\\_dpd\\_2'\n",
       "\\end{enumerate*}\n"
      ],
      "text/markdown": [
       "1. 'wt_fe2_1'\n",
       "2. 'wt_fe2_2'\n",
       "3. 'wt_dpd_1'\n",
       "4. 'wt_dpd_2'\n",
       "5. 'delfur_fe2_1'\n",
       "6. 'delfur_fe2_2'\n",
       "7. 'delfur_dpd_1'\n",
       "8. 'delfur_dpd_2'\n",
       "\n",
       "\n"
      ],
      "text/plain": [
       "[1] \"wt_fe2_1\"     \"wt_fe2_2\"     \"wt_dpd_1\"     \"wt_dpd_2\"     \"delfur_fe2_1\"\n",
       "[6] \"delfur_fe2_2\" \"delfur_dpd_1\" \"delfur_dpd_2\""
      ]
     },
     "metadata": {},
     "output_type": "display_data"
    }
   ],
   "source": [
    "colnames(se)"
   ]
  },
  {
   "cell_type": "code",
   "execution_count": 4,
   "metadata": {},
   "outputs": [
    {
     "data": {
      "text/html": [
       "<ol class=list-inline>\n",
       "\t<li>'wt_fe2'</li>\n",
       "\t<li>'wt_fe2'</li>\n",
       "\t<li>'wt_dpd'</li>\n",
       "\t<li>'wt_dpd'</li>\n",
       "\t<li>'delfur_fe2'</li>\n",
       "\t<li>'delfur_fe2'</li>\n",
       "\t<li>'delfur_dpd'</li>\n",
       "\t<li>'delfur_dpd'</li>\n",
       "</ol>\n"
      ],
      "text/latex": [
       "\\begin{enumerate*}\n",
       "\\item 'wt\\_fe2'\n",
       "\\item 'wt\\_fe2'\n",
       "\\item 'wt\\_dpd'\n",
       "\\item 'wt\\_dpd'\n",
       "\\item 'delfur\\_fe2'\n",
       "\\item 'delfur\\_fe2'\n",
       "\\item 'delfur\\_dpd'\n",
       "\\item 'delfur\\_dpd'\n",
       "\\end{enumerate*}\n"
      ],
      "text/markdown": [
       "1. 'wt_fe2'\n",
       "2. 'wt_fe2'\n",
       "3. 'wt_dpd'\n",
       "4. 'wt_dpd'\n",
       "5. 'delfur_fe2'\n",
       "6. 'delfur_fe2'\n",
       "7. 'delfur_dpd'\n",
       "8. 'delfur_dpd'\n",
       "\n",
       "\n"
      ],
      "text/plain": [
       "[1] \"wt_fe2\"     \"wt_fe2\"     \"wt_dpd\"     \"wt_dpd\"     \"delfur_fe2\"\n",
       "[6] \"delfur_fe2\" \"delfur_dpd\" \"delfur_dpd\""
      ]
     },
     "metadata": {},
     "output_type": "display_data"
    }
   ],
   "source": [
    "# Designate groups for comparisons by removing the replicate subscript from colnames\n",
    "colData(se)$group <- gsub('.{2}$', '', colnames(se))\n",
    "colData(se)$group"
   ]
  },
  {
   "cell_type": "code",
   "execution_count": 5,
   "metadata": {
    "scrolled": true
   },
   "outputs": [
    {
     "name": "stderr",
     "output_type": "stream",
     "text": [
      "Warning message in DESeqDataSet(se, design = ~group):\n",
      "“some variables in design formula are characters, converting to factors”"
     ]
    }
   ],
   "source": [
    "dds <- DESeqDataSet(se, design = ~group)"
   ]
  },
  {
   "cell_type": "markdown",
   "metadata": {},
   "source": [
    "Remove genes that have 0 counts across experimental conditions"
   ]
  },
  {
   "cell_type": "code",
   "execution_count": 6,
   "metadata": {},
   "outputs": [
    {
     "data": {
      "text/html": [
       "4386"
      ],
      "text/latex": [
       "4386"
      ],
      "text/markdown": [
       "4386"
      ],
      "text/plain": [
       "[1] 4386"
      ]
     },
     "metadata": {},
     "output_type": "display_data"
    },
    {
     "data": {
      "text/html": [
       "4368"
      ],
      "text/latex": [
       "4368"
      ],
      "text/markdown": [
       "4368"
      ],
      "text/plain": [
       "[1] 4368"
      ]
     },
     "metadata": {},
     "output_type": "display_data"
    }
   ],
   "source": [
    "nrow(dds)\n",
    "dds <- dds[rowSums(assay(dds)) > 0, ]\n",
    "nrow(dds)"
   ]
  },
  {
   "cell_type": "code",
   "execution_count": 7,
   "metadata": {},
   "outputs": [
    {
     "data": {
      "text/html": [
       "<table>\n",
       "<thead><tr><th></th><th scope=col>wt_fe2_1</th><th scope=col>wt_fe2_2</th><th scope=col>wt_dpd_1</th><th scope=col>wt_dpd_2</th><th scope=col>delfur_fe2_1</th><th scope=col>delfur_fe2_2</th><th scope=col>delfur_dpd_1</th><th scope=col>delfur_dpd_2</th></tr></thead>\n",
       "<tbody>\n",
       "\t<tr><th scope=row>b0001</th><td> 2303</td><td> 2354</td><td>  311</td><td>  284</td><td> 3019</td><td> 3485</td><td>  245</td><td>  232</td></tr>\n",
       "\t<tr><th scope=row>b0002</th><td>36937</td><td>25801</td><td>58117</td><td>60901</td><td>40532</td><td>38470</td><td>17890</td><td>23112</td></tr>\n",
       "\t<tr><th scope=row>b0003</th><td>10922</td><td> 8250</td><td>16854</td><td>21042</td><td>11589</td><td>10840</td><td> 4805</td><td> 7879</td></tr>\n",
       "\t<tr><th scope=row>b0004</th><td>11953</td><td> 8463</td><td>12127</td><td>14498</td><td>10077</td><td> 9532</td><td> 3727</td><td> 5103</td></tr>\n",
       "\t<tr><th scope=row>b0005</th><td>  472</td><td>  345</td><td>  216</td><td>  178</td><td>  362</td><td>  297</td><td>  104</td><td>  120</td></tr>\n",
       "\t<tr><th scope=row>b0006</th><td>  669</td><td>  588</td><td>  703</td><td>  633</td><td>  682</td><td>  653</td><td>  660</td><td>  767</td></tr>\n",
       "</tbody>\n",
       "</table>\n"
      ],
      "text/latex": [
       "\\begin{tabular}{r|llllllll}\n",
       "  & wt\\_fe2\\_1 & wt\\_fe2\\_2 & wt\\_dpd\\_1 & wt\\_dpd\\_2 & delfur\\_fe2\\_1 & delfur\\_fe2\\_2 & delfur\\_dpd\\_1 & delfur\\_dpd\\_2\\\\\n",
       "\\hline\n",
       "\tb0001 &  2303 &  2354 &   311 &   284 &  3019 &  3485 &   245 &   232\\\\\n",
       "\tb0002 & 36937 & 25801 & 58117 & 60901 & 40532 & 38470 & 17890 & 23112\\\\\n",
       "\tb0003 & 10922 &  8250 & 16854 & 21042 & 11589 & 10840 &  4805 &  7879\\\\\n",
       "\tb0004 & 11953 &  8463 & 12127 & 14498 & 10077 &  9532 &  3727 &  5103\\\\\n",
       "\tb0005 &   472 &   345 &   216 &   178 &   362 &   297 &   104 &   120\\\\\n",
       "\tb0006 &   669 &   588 &   703 &   633 &   682 &   653 &   660 &   767\\\\\n",
       "\\end{tabular}\n"
      ],
      "text/markdown": [
       "\n",
       "| <!--/--> | wt_fe2_1 | wt_fe2_2 | wt_dpd_1 | wt_dpd_2 | delfur_fe2_1 | delfur_fe2_2 | delfur_dpd_1 | delfur_dpd_2 | \n",
       "|---|---|---|---|---|---|\n",
       "| b0001 |  2303 |  2354 |   311 |   284 |  3019 |  3485 |   245 |   232 | \n",
       "| b0002 | 36937 | 25801 | 58117 | 60901 | 40532 | 38470 | 17890 | 23112 | \n",
       "| b0003 | 10922 |  8250 | 16854 | 21042 | 11589 | 10840 |  4805 |  7879 | \n",
       "| b0004 | 11953 |  8463 | 12127 | 14498 | 10077 |  9532 |  3727 |  5103 | \n",
       "| b0005 |   472 |   345 |   216 |   178 |   362 |   297 |   104 |   120 | \n",
       "| b0006 |   669 |   588 |   703 |   633 |   682 |   653 |   660 |   767 | \n",
       "\n",
       "\n"
      ],
      "text/plain": [
       "      wt_fe2_1 wt_fe2_2 wt_dpd_1 wt_dpd_2 delfur_fe2_1 delfur_fe2_2\n",
       "b0001  2303     2354      311      284     3019         3485       \n",
       "b0002 36937    25801    58117    60901    40532        38470       \n",
       "b0003 10922     8250    16854    21042    11589        10840       \n",
       "b0004 11953     8463    12127    14498    10077         9532       \n",
       "b0005   472      345      216      178      362          297       \n",
       "b0006   669      588      703      633      682          653       \n",
       "      delfur_dpd_1 delfur_dpd_2\n",
       "b0001   245          232       \n",
       "b0002 17890        23112       \n",
       "b0003  4805         7879       \n",
       "b0004  3727         5103       \n",
       "b0005   104          120       \n",
       "b0006   660          767       "
      ]
     },
     "metadata": {},
     "output_type": "display_data"
    }
   ],
   "source": [
    "head(assay(dds))"
   ]
  },
  {
   "cell_type": "markdown",
   "metadata": {},
   "source": [
    "# Calculate TPM"
   ]
  },
  {
   "cell_type": "code",
   "execution_count": 8,
   "metadata": {},
   "outputs": [
    {
     "data": {
      "text/html": [
       "<table>\n",
       "<thead><tr><th></th><th scope=col>wt_fe2_1</th><th scope=col>wt_fe2_2</th><th scope=col>wt_dpd_1</th><th scope=col>wt_dpd_2</th><th scope=col>delfur_fe2_1</th><th scope=col>delfur_fe2_2</th><th scope=col>delfur_dpd_1</th><th scope=col>delfur_dpd_2</th></tr></thead>\n",
       "<tbody>\n",
       "\t<tr><th scope=row>b0001</th><td>4755.5713 </td><td>5818.9772 </td><td> 538.16942</td><td> 532.27483</td><td>5856.0006 </td><td>7072.9981 </td><td>424.78352 </td><td> 391.13893</td></tr>\n",
       "\t<tr><th scope=row>b0002</th><td>2073.9796 </td><td>1734.2465 </td><td>2734.61328</td><td>3103.67411</td><td>2137.8151 </td><td>2123.0345 </td><td>843.42411 </td><td>1059.53348</td></tr>\n",
       "\t<tr><th scope=row>b0003</th><td>1617.8522 </td><td>1462.9250 </td><td>2092.13424</td><td>2828.99730</td><td>1612.5452 </td><td>1578.1852 </td><td>597.61693 </td><td> 952.88850</td></tr>\n",
       "\t<tr><th scope=row>b0004</th><td>1283.9397 </td><td>1088.2370 </td><td>1091.61865</td><td>1413.46359</td><td>1016.7828 </td><td>1006.3377 </td><td>336.13978 </td><td> 447.53558</td></tr>\n",
       "\t<tr><th scope=row>b0005</th><td> 219.1338 </td><td> 191.7423 </td><td>  84.03707</td><td>  75.00602</td><td> 157.8720 </td><td> 135.5239 </td><td> 40.54091 </td><td>  45.48653</td></tr>\n",
       "\t<tr><th scope=row>b0006</th><td> 118.9680 </td><td> 125.1736 </td><td> 104.76330</td><td> 102.16838</td><td> 113.9246 </td><td> 114.1325 </td><td> 98.54639 </td><td> 111.36113</td></tr>\n",
       "</tbody>\n",
       "</table>\n"
      ],
      "text/latex": [
       "\\begin{tabular}{r|llllllll}\n",
       "  & wt\\_fe2\\_1 & wt\\_fe2\\_2 & wt\\_dpd\\_1 & wt\\_dpd\\_2 & delfur\\_fe2\\_1 & delfur\\_fe2\\_2 & delfur\\_dpd\\_1 & delfur\\_dpd\\_2\\\\\n",
       "\\hline\n",
       "\tb0001 & 4755.5713  & 5818.9772  &  538.16942 &  532.27483 & 5856.0006  & 7072.9981  & 424.78352  &  391.13893\\\\\n",
       "\tb0002 & 2073.9796  & 1734.2465  & 2734.61328 & 3103.67411 & 2137.8151  & 2123.0345  & 843.42411  & 1059.53348\\\\\n",
       "\tb0003 & 1617.8522  & 1462.9250  & 2092.13424 & 2828.99730 & 1612.5452  & 1578.1852  & 597.61693  &  952.88850\\\\\n",
       "\tb0004 & 1283.9397  & 1088.2370  & 1091.61865 & 1413.46359 & 1016.7828  & 1006.3377  & 336.13978  &  447.53558\\\\\n",
       "\tb0005 &  219.1338  &  191.7423  &   84.03707 &   75.00602 &  157.8720  &  135.5239  &  40.54091  &   45.48653\\\\\n",
       "\tb0006 &  118.9680  &  125.1736  &  104.76330 &  102.16838 &  113.9246  &  114.1325  &  98.54639  &  111.36113\\\\\n",
       "\\end{tabular}\n"
      ],
      "text/markdown": [
       "\n",
       "| <!--/--> | wt_fe2_1 | wt_fe2_2 | wt_dpd_1 | wt_dpd_2 | delfur_fe2_1 | delfur_fe2_2 | delfur_dpd_1 | delfur_dpd_2 | \n",
       "|---|---|---|---|---|---|\n",
       "| b0001 | 4755.5713  | 5818.9772  |  538.16942 |  532.27483 | 5856.0006  | 7072.9981  | 424.78352  |  391.13893 | \n",
       "| b0002 | 2073.9796  | 1734.2465  | 2734.61328 | 3103.67411 | 2137.8151  | 2123.0345  | 843.42411  | 1059.53348 | \n",
       "| b0003 | 1617.8522  | 1462.9250  | 2092.13424 | 2828.99730 | 1612.5452  | 1578.1852  | 597.61693  |  952.88850 | \n",
       "| b0004 | 1283.9397  | 1088.2370  | 1091.61865 | 1413.46359 | 1016.7828  | 1006.3377  | 336.13978  |  447.53558 | \n",
       "| b0005 |  219.1338  |  191.7423  |   84.03707 |   75.00602 |  157.8720  |  135.5239  |  40.54091  |   45.48653 | \n",
       "| b0006 |  118.9680  |  125.1736  |  104.76330 |  102.16838 |  113.9246  |  114.1325  |  98.54639  |  111.36113 | \n",
       "\n",
       "\n"
      ],
      "text/plain": [
       "      wt_fe2_1  wt_fe2_2  wt_dpd_1   wt_dpd_2   delfur_fe2_1 delfur_fe2_2\n",
       "b0001 4755.5713 5818.9772  538.16942  532.27483 5856.0006    7072.9981   \n",
       "b0002 2073.9796 1734.2465 2734.61328 3103.67411 2137.8151    2123.0345   \n",
       "b0003 1617.8522 1462.9250 2092.13424 2828.99730 1612.5452    1578.1852   \n",
       "b0004 1283.9397 1088.2370 1091.61865 1413.46359 1016.7828    1006.3377   \n",
       "b0005  219.1338  191.7423   84.03707   75.00602  157.8720     135.5239   \n",
       "b0006  118.9680  125.1736  104.76330  102.16838  113.9246     114.1325   \n",
       "      delfur_dpd_1 delfur_dpd_2\n",
       "b0001 424.78352     391.13893  \n",
       "b0002 843.42411    1059.53348  \n",
       "b0003 597.61693     952.88850  \n",
       "b0004 336.13978     447.53558  \n",
       "b0005  40.54091      45.48653  \n",
       "b0006  98.54639     111.36113  "
      ]
     },
     "metadata": {},
     "output_type": "display_data"
    }
   ],
   "source": [
    "fpkm_data <- fpkm(dds)\n",
    "head(fpkm_data)"
   ]
  },
  {
   "cell_type": "code",
   "execution_count": 9,
   "metadata": {},
   "outputs": [
    {
     "data": {
      "text/html": [
       "<table>\n",
       "<thead><tr><th></th><th scope=col>wt_fe2_1</th><th scope=col>wt_fe2_2</th><th scope=col>wt_dpd_1</th><th scope=col>wt_dpd_2</th><th scope=col>delfur_fe2_1</th><th scope=col>delfur_fe2_2</th><th scope=col>delfur_dpd_1</th><th scope=col>delfur_dpd_2</th></tr></thead>\n",
       "<tbody>\n",
       "\t<tr><th scope=row>b0001</th><td>3485.20690</td><td>4234.6825 </td><td> 478.50593</td><td> 479.12630</td><td>4813.58088</td><td>5798.12160</td><td>370.68256 </td><td>343.88450 </td></tr>\n",
       "\t<tr><th scope=row>b0002</th><td>1519.95366</td><td>1262.0746 </td><td>2431.44374</td><td>2793.76705</td><td>1757.26514</td><td>1740.36693</td><td>736.00456 </td><td>931.52870 </td></tr>\n",
       "\t<tr><th scope=row>b0003</th><td>1185.67244</td><td>1064.6241 </td><td>1860.19235</td><td>2546.51718</td><td>1325.49792</td><td>1293.72433</td><td>521.50369 </td><td>837.76775 </td></tr>\n",
       "\t<tr><th scope=row>b0004</th><td> 940.95854</td><td> 791.9498 </td><td> 970.59769</td><td>1272.32688</td><td> 835.78651</td><td> 824.94978</td><td>293.32859 </td><td>393.46773 </td></tr>\n",
       "\t<tr><th scope=row>b0005</th><td> 160.59616</td><td> 139.5379 </td><td>  74.72041</td><td>  67.51654</td><td> 129.76939</td><td> 111.09628</td><td> 35.37757 </td><td> 39.99120 </td></tr>\n",
       "\t<tr><th scope=row>b0006</th><td>  87.18785</td><td>  91.0934 </td><td>  93.14884</td><td>  91.96670</td><td>  93.64503</td><td>  93.56058</td><td> 85.99540 </td><td> 97.90732 </td></tr>\n",
       "</tbody>\n",
       "</table>\n"
      ],
      "text/latex": [
       "\\begin{tabular}{r|llllllll}\n",
       "  & wt\\_fe2\\_1 & wt\\_fe2\\_2 & wt\\_dpd\\_1 & wt\\_dpd\\_2 & delfur\\_fe2\\_1 & delfur\\_fe2\\_2 & delfur\\_dpd\\_1 & delfur\\_dpd\\_2\\\\\n",
       "\\hline\n",
       "\tb0001 & 3485.20690 & 4234.6825  &  478.50593 &  479.12630 & 4813.58088 & 5798.12160 & 370.68256  & 343.88450 \\\\\n",
       "\tb0002 & 1519.95366 & 1262.0746  & 2431.44374 & 2793.76705 & 1757.26514 & 1740.36693 & 736.00456  & 931.52870 \\\\\n",
       "\tb0003 & 1185.67244 & 1064.6241  & 1860.19235 & 2546.51718 & 1325.49792 & 1293.72433 & 521.50369  & 837.76775 \\\\\n",
       "\tb0004 &  940.95854 &  791.9498  &  970.59769 & 1272.32688 &  835.78651 &  824.94978 & 293.32859  & 393.46773 \\\\\n",
       "\tb0005 &  160.59616 &  139.5379  &   74.72041 &   67.51654 &  129.76939 &  111.09628 &  35.37757  &  39.99120 \\\\\n",
       "\tb0006 &   87.18785 &   91.0934  &   93.14884 &   91.96670 &   93.64503 &   93.56058 &  85.99540  &  97.90732 \\\\\n",
       "\\end{tabular}\n"
      ],
      "text/markdown": [
       "\n",
       "| <!--/--> | wt_fe2_1 | wt_fe2_2 | wt_dpd_1 | wt_dpd_2 | delfur_fe2_1 | delfur_fe2_2 | delfur_dpd_1 | delfur_dpd_2 | \n",
       "|---|---|---|---|---|---|\n",
       "| b0001 | 3485.20690 | 4234.6825  |  478.50593 |  479.12630 | 4813.58088 | 5798.12160 | 370.68256  | 343.88450  | \n",
       "| b0002 | 1519.95366 | 1262.0746  | 2431.44374 | 2793.76705 | 1757.26514 | 1740.36693 | 736.00456  | 931.52870  | \n",
       "| b0003 | 1185.67244 | 1064.6241  | 1860.19235 | 2546.51718 | 1325.49792 | 1293.72433 | 521.50369  | 837.76775  | \n",
       "| b0004 |  940.95854 |  791.9498  |  970.59769 | 1272.32688 |  835.78651 |  824.94978 | 293.32859  | 393.46773  | \n",
       "| b0005 |  160.59616 |  139.5379  |   74.72041 |   67.51654 |  129.76939 |  111.09628 |  35.37757  |  39.99120  | \n",
       "| b0006 |   87.18785 |   91.0934  |   93.14884 |   91.96670 |   93.64503 |   93.56058 |  85.99540  |  97.90732  | \n",
       "\n",
       "\n"
      ],
      "text/plain": [
       "      wt_fe2_1   wt_fe2_2  wt_dpd_1   wt_dpd_2   delfur_fe2_1 delfur_fe2_2\n",
       "b0001 3485.20690 4234.6825  478.50593  479.12630 4813.58088   5798.12160  \n",
       "b0002 1519.95366 1262.0746 2431.44374 2793.76705 1757.26514   1740.36693  \n",
       "b0003 1185.67244 1064.6241 1860.19235 2546.51718 1325.49792   1293.72433  \n",
       "b0004  940.95854  791.9498  970.59769 1272.32688  835.78651    824.94978  \n",
       "b0005  160.59616  139.5379   74.72041   67.51654  129.76939    111.09628  \n",
       "b0006   87.18785   91.0934   93.14884   91.96670   93.64503     93.56058  \n",
       "      delfur_dpd_1 delfur_dpd_2\n",
       "b0001 370.68256    343.88450   \n",
       "b0002 736.00456    931.52870   \n",
       "b0003 521.50369    837.76775   \n",
       "b0004 293.32859    393.46773   \n",
       "b0005  35.37757     39.99120   \n",
       "b0006  85.99540     97.90732   "
      ]
     },
     "metadata": {},
     "output_type": "display_data"
    }
   ],
   "source": [
    "tpm_data <- sweep(fpkm_data,2,colSums(fpkm_data),`/`)*1e6 # Divide each column by the column sum (times 1e6)\n",
    "head(tpm_data)"
   ]
  },
  {
   "cell_type": "code",
   "execution_count": 10,
   "metadata": {},
   "outputs": [],
   "source": [
    "write.csv(tpm_data, file = \"../processed_data/deseq2-tpm.csv\")"
   ]
  },
  {
   "cell_type": "markdown",
   "metadata": {},
   "source": [
    "# PCA and clustering"
   ]
  },
  {
   "cell_type": "markdown",
   "metadata": {},
   "source": [
    "Raw counts from RNAseq tend to be exponentially distributed, so a log transform must be applied before running linear methods such as PCA or clustering. Since some counts can be 0, we must apply log(x + 1) to avoid infinite values. However, due to technical reasons, genes with lower counts have higher variance than genes with higher counts. PCA works best with constant variance, so to fix this DESeq2 has a model-based regularized log transform (rlog) to normalize the variance. The rlog counts are only used for this QC step, and should not be used for finding DEGs or other statistical tests."
   ]
  },
  {
   "cell_type": "code",
   "execution_count": 11,
   "metadata": {},
   "outputs": [],
   "source": [
    "rld <- rlog(dds)"
   ]
  },
  {
   "cell_type": "code",
   "execution_count": 12,
   "metadata": {},
   "outputs": [],
   "source": [
    "library(\"pheatmap\")\n",
    "library(\"RColorBrewer\")"
   ]
  },
  {
   "cell_type": "markdown",
   "metadata": {},
   "source": [
    "## PCA"
   ]
  },
  {
   "cell_type": "code",
   "execution_count": 13,
   "metadata": {},
   "outputs": [
    {
     "data": {},
     "metadata": {},
     "output_type": "display_data"
    },
    {
     "data": {
      "image/png": "[encoded data removed]",
      "text/plain": [
       "plot without title"
      ]
     },
     "metadata": {},
     "output_type": "display_data"
    }
   ],
   "source": [
    "options(repr.plot.width=7, repr.plot.height=3)\n",
    "plotPCA(rld,intgroup=c('group'))"
   ]
  },
  {
   "cell_type": "markdown",
   "metadata": {},
   "source": [
    "## Clustering"
   ]
  },
  {
   "cell_type": "code",
   "execution_count": 14,
   "metadata": {},
   "outputs": [
    {
     "data": {
      "image/png": "[encoded data removed]",
      "text/plain": [
       "plot without title"
      ]
     },
     "metadata": {},
     "output_type": "display_data"
    }
   ],
   "source": [
    "options(repr.plot.width=5, repr.plot.height=3)\n",
    "# Generate (euclidean) distance matrix\n",
    "sampleDists <- dist(t(assay(rld)))\n",
    "sampleDistMatrix <- as.matrix( sampleDists )\n",
    "# Designate the names for the rows\n",
    "rownames(sampleDistMatrix) <- colData(rld)$group\n",
    "# Designate the names for the columns\n",
    "colnames(sampleDistMatrix) <- NULL\n",
    "# Choose color palette\n",
    "colors <- colorRampPalette( rev(brewer.pal(9, \"Blues\")) )(255)\n",
    "# Create heatmap\n",
    "pheatmap(sampleDistMatrix,\n",
    "         clustering_distance_rows = sampleDists,\n",
    "         clustering_distance_cols = sampleDists,\n",
    "         col = colors)"
   ]
  },
  {
   "cell_type": "markdown",
   "metadata": {
    "collapsed": true
   },
   "source": [
    "# Find DEGs"
   ]
  },
  {
   "cell_type": "code",
   "execution_count": 15,
   "metadata": {},
   "outputs": [
    {
     "name": "stderr",
     "output_type": "stream",
     "text": [
      "estimating size factors\n",
      "estimating dispersions\n",
      "gene-wise dispersion estimates\n",
      "mean-dispersion relationship\n",
      "final dispersion estimates\n",
      "fitting model and testing\n"
     ]
    }
   ],
   "source": [
    "dds <- DESeq(dds)"
   ]
  },
  {
   "cell_type": "markdown",
   "metadata": {},
   "source": [
    "Designate which groups you want to compare for DEGs."
   ]
  },
  {
   "cell_type": "code",
   "execution_count": 16,
   "metadata": {},
   "outputs": [],
   "source": [
    "res_FeCl2 <- results(dds,contrast = c('group','delfur_fe2','wt_fe2'))\n",
    "res_DPD <- results(dds,contrast = c('group','delfur_dpd','wt_dpd'))"
   ]
  },
  {
   "cell_type": "markdown",
   "metadata": {},
   "source": [
    "Put results into table form. Log2foldchange is positive if the first group (e.g. delfur_fe2) is larger than the second (e.g. wt_fe2)"
   ]
  },
  {
   "cell_type": "code",
   "execution_count": 17,
   "metadata": {},
   "outputs": [],
   "source": [
    "resTable_FeCl2 <- data.frame(res_FeCl2@listData,row.names = res_FeCl2@rownames)\n",
    "resTable_DPD <- data.frame(res_DPD@listData,row.names = res_DPD@rownames)"
   ]
  },
  {
   "cell_type": "code",
   "execution_count": 18,
   "metadata": {},
   "outputs": [
    {
     "data": {
      "text/html": [
       "<table>\n",
       "<thead><tr><th></th><th scope=col>baseMean</th><th scope=col>log2FoldChange</th><th scope=col>lfcSE</th><th scope=col>stat</th><th scope=col>pvalue</th><th scope=col>padj</th></tr></thead>\n",
       "<tbody>\n",
       "\t<tr><th scope=row>b0001</th><td> 1639.8918 </td><td> 0.29049700</td><td>0.1408963  </td><td> 2.0617781 </td><td>0.039228863</td><td>0.14129556 </td></tr>\n",
       "\t<tr><th scope=row>b0002</th><td>37554.3766 </td><td> 0.16198085</td><td>0.1370202  </td><td> 1.1821678 </td><td>0.237139129</td><td>0.50521185 </td></tr>\n",
       "\t<tr><th scope=row>b0003</th><td>11473.6782 </td><td> 0.05055377</td><td>0.1881449  </td><td> 0.2686959 </td><td>0.788163733</td><td>0.91265936 </td></tr>\n",
       "\t<tr><th scope=row>b0004</th><td> 9540.8153 </td><td>-0.22971528</td><td>0.1589479  </td><td>-1.4452237 </td><td>0.148395065</td><td>0.36786307 </td></tr>\n",
       "\t<tr><th scope=row>b0005</th><td>  272.7208 </td><td>-0.48684824</td><td>0.1736124  </td><td>-2.8042244 </td><td>0.005043778</td><td>0.02655896 </td></tr>\n",
       "\t<tr><th scope=row>b0006</th><td>  666.7746 </td><td>-0.09770109</td><td>0.1317905  </td><td>-0.7413363 </td><td>0.458489532</td><td>0.72360253 </td></tr>\n",
       "</tbody>\n",
       "</table>\n"
      ],
      "text/latex": [
       "\\begin{tabular}{r|llllll}\n",
       "  & baseMean & log2FoldChange & lfcSE & stat & pvalue & padj\\\\\n",
       "\\hline\n",
       "\tb0001 &  1639.8918  &  0.29049700 & 0.1408963   &  2.0617781  & 0.039228863 & 0.14129556 \\\\\n",
       "\tb0002 & 37554.3766  &  0.16198085 & 0.1370202   &  1.1821678  & 0.237139129 & 0.50521185 \\\\\n",
       "\tb0003 & 11473.6782  &  0.05055377 & 0.1881449   &  0.2686959  & 0.788163733 & 0.91265936 \\\\\n",
       "\tb0004 &  9540.8153  & -0.22971528 & 0.1589479   & -1.4452237  & 0.148395065 & 0.36786307 \\\\\n",
       "\tb0005 &   272.7208  & -0.48684824 & 0.1736124   & -2.8042244  & 0.005043778 & 0.02655896 \\\\\n",
       "\tb0006 &   666.7746  & -0.09770109 & 0.1317905   & -0.7413363  & 0.458489532 & 0.72360253 \\\\\n",
       "\\end{tabular}\n"
      ],
      "text/markdown": [
       "\n",
       "| <!--/--> | baseMean | log2FoldChange | lfcSE | stat | pvalue | padj | \n",
       "|---|---|---|---|---|---|\n",
       "| b0001 |  1639.8918  |  0.29049700 | 0.1408963   |  2.0617781  | 0.039228863 | 0.14129556  | \n",
       "| b0002 | 37554.3766  |  0.16198085 | 0.1370202   |  1.1821678  | 0.237139129 | 0.50521185  | \n",
       "| b0003 | 11473.6782  |  0.05055377 | 0.1881449   |  0.2686959  | 0.788163733 | 0.91265936  | \n",
       "| b0004 |  9540.8153  | -0.22971528 | 0.1589479   | -1.4452237  | 0.148395065 | 0.36786307  | \n",
       "| b0005 |   272.7208  | -0.48684824 | 0.1736124   | -2.8042244  | 0.005043778 | 0.02655896  | \n",
       "| b0006 |   666.7746  | -0.09770109 | 0.1317905   | -0.7413363  | 0.458489532 | 0.72360253  | \n",
       "\n",
       "\n"
      ],
      "text/plain": [
       "      baseMean   log2FoldChange lfcSE     stat       pvalue      padj      \n",
       "b0001  1639.8918  0.29049700    0.1408963  2.0617781 0.039228863 0.14129556\n",
       "b0002 37554.3766  0.16198085    0.1370202  1.1821678 0.237139129 0.50521185\n",
       "b0003 11473.6782  0.05055377    0.1881449  0.2686959 0.788163733 0.91265936\n",
       "b0004  9540.8153 -0.22971528    0.1589479 -1.4452237 0.148395065 0.36786307\n",
       "b0005   272.7208 -0.48684824    0.1736124 -2.8042244 0.005043778 0.02655896\n",
       "b0006   666.7746 -0.09770109    0.1317905 -0.7413363 0.458489532 0.72360253"
      ]
     },
     "metadata": {},
     "output_type": "display_data"
    }
   ],
   "source": [
    "head(resTable_FeCl2)"
   ]
  },
  {
   "cell_type": "code",
   "execution_count": 19,
   "metadata": {},
   "outputs": [],
   "source": [
    "deg_FeCl2 <- resTable_FeCl2[complete.cases(resTable_FeCl2[,c('padj','log2FoldChange')]) & \n",
    "                            # ^ Make sure that LogFoldChange and p-adjusted are complete (not null)\n",
    "                            resTable_FeCl2$padj < .05 & # Adjusted p-value cutoff of 0.05\n",
    "                            abs(resTable_FeCl2$log2FoldChange) > 1,] # abs(log2foldChange) cutoff of 1\n",
    "\n",
    "deg_DPD <- resTable_DPD[complete.cases(resTable_DPD[,c('padj','log2FoldChange')]) & \n",
    "                        # ^ Make sure that LogFoldChange and p-adjusted are complete (not null)\n",
    "                        resTable_DPD$padj < .05 & # Adjusted p-value cutoff of 0.05\n",
    "                        abs(resTable_DPD$log2FoldChange) > 1,] # abs(log2foldChange) cutoff of 1"
   ]
  },
  {
   "cell_type": "code",
   "execution_count": 20,
   "metadata": {},
   "outputs": [
    {
     "data": {
      "text/html": [
       "<table>\n",
       "<thead><tr><th></th><th scope=col>baseMean</th><th scope=col>log2FoldChange</th><th scope=col>lfcSE</th><th scope=col>stat</th><th scope=col>pvalue</th><th scope=col>padj</th></tr></thead>\n",
       "<tbody>\n",
       "\t<tr><th scope=row>b0034</th><td>  166.3882  </td><td>-1.146223   </td><td>0.2145647   </td><td> -5.342084  </td><td>9.188428e-08</td><td>1.372695e-06</td></tr>\n",
       "\t<tr><th scope=row>b0118</th><td>24663.8057  </td><td>-1.332324   </td><td>0.1002175   </td><td>-13.294335  </td><td>2.496831e-40</td><td>1.278896e-38</td></tr>\n",
       "\t<tr><th scope=row>b0123</th><td> 3275.9626  </td><td>-2.059760   </td><td>0.1186186   </td><td>-17.364571  </td><td>1.530400e-67</td><td>1.508974e-65</td></tr>\n",
       "\t<tr><th scope=row>b0150</th><td> 7195.7090  </td><td> 1.108790   </td><td>0.1464946   </td><td>  7.568811  </td><td>3.766556e-14</td><td>8.537526e-13</td></tr>\n",
       "\t<tr><th scope=row>b0152</th><td>  424.6157  </td><td> 1.064129   </td><td>0.1729466   </td><td>  6.152935  </td><td>7.606202e-10</td><td>1.357414e-08</td></tr>\n",
       "\t<tr><th scope=row>b0273</th><td> 3505.2194  </td><td>-1.201679   </td><td>0.2065283   </td><td> -5.818472  </td><td>5.938795e-09</td><td>1.000966e-07</td></tr>\n",
       "</tbody>\n",
       "</table>\n"
      ],
      "text/latex": [
       "\\begin{tabular}{r|llllll}\n",
       "  & baseMean & log2FoldChange & lfcSE & stat & pvalue & padj\\\\\n",
       "\\hline\n",
       "\tb0034 &   166.3882   & -1.146223    & 0.2145647    &  -5.342084   & 9.188428e-08 & 1.372695e-06\\\\\n",
       "\tb0118 & 24663.8057   & -1.332324    & 0.1002175    & -13.294335   & 2.496831e-40 & 1.278896e-38\\\\\n",
       "\tb0123 &  3275.9626   & -2.059760    & 0.1186186    & -17.364571   & 1.530400e-67 & 1.508974e-65\\\\\n",
       "\tb0150 &  7195.7090   &  1.108790    & 0.1464946    &   7.568811   & 3.766556e-14 & 8.537526e-13\\\\\n",
       "\tb0152 &   424.6157   &  1.064129    & 0.1729466    &   6.152935   & 7.606202e-10 & 1.357414e-08\\\\\n",
       "\tb0273 &  3505.2194   & -1.201679    & 0.2065283    &  -5.818472   & 5.938795e-09 & 1.000966e-07\\\\\n",
       "\\end{tabular}\n"
      ],
      "text/markdown": [
       "\n",
       "| <!--/--> | baseMean | log2FoldChange | lfcSE | stat | pvalue | padj | \n",
       "|---|---|---|---|---|---|\n",
       "| b0034 |   166.3882   | -1.146223    | 0.2145647    |  -5.342084   | 9.188428e-08 | 1.372695e-06 | \n",
       "| b0118 | 24663.8057   | -1.332324    | 0.1002175    | -13.294335   | 2.496831e-40 | 1.278896e-38 | \n",
       "| b0123 |  3275.9626   | -2.059760    | 0.1186186    | -17.364571   | 1.530400e-67 | 1.508974e-65 | \n",
       "| b0150 |  7195.7090   |  1.108790    | 0.1464946    |   7.568811   | 3.766556e-14 | 8.537526e-13 | \n",
       "| b0152 |   424.6157   |  1.064129    | 0.1729466    |   6.152935   | 7.606202e-10 | 1.357414e-08 | \n",
       "| b0273 |  3505.2194   | -1.201679    | 0.2065283    |  -5.818472   | 5.938795e-09 | 1.000966e-07 | \n",
       "\n",
       "\n"
      ],
      "text/plain": [
       "      baseMean   log2FoldChange lfcSE     stat       pvalue       padj        \n",
       "b0034   166.3882 -1.146223      0.2145647  -5.342084 9.188428e-08 1.372695e-06\n",
       "b0118 24663.8057 -1.332324      0.1002175 -13.294335 2.496831e-40 1.278896e-38\n",
       "b0123  3275.9626 -2.059760      0.1186186 -17.364571 1.530400e-67 1.508974e-65\n",
       "b0150  7195.7090  1.108790      0.1464946   7.568811 3.766556e-14 8.537526e-13\n",
       "b0152   424.6157  1.064129      0.1729466   6.152935 7.606202e-10 1.357414e-08\n",
       "b0273  3505.2194 -1.201679      0.2065283  -5.818472 5.938795e-09 1.000966e-07"
      ]
     },
     "metadata": {},
     "output_type": "display_data"
    }
   ],
   "source": [
    "head(deg_FeCl2)"
   ]
  },
  {
   "cell_type": "code",
   "execution_count": null,
   "metadata": {
    "collapsed": true
   },
   "outputs": [],
   "source": []
  }
 ],
 "metadata": {
  "kernelspec": {
   "display_name": "R",
   "language": "R",
   "name": "ir"
  },
  "language_info": {
   "codemirror_mode": "r",
   "file_extension": ".r",
   "mimetype": "text/x-r-source",
   "name": "R",
   "pygments_lexer": "r",
   "version": "3.4.3"
  },
  "toc": {
   "nav_menu": {},
   "number_sections": true,
   "sideBar": true,
   "skip_h1_title": false,
   "title_cell": "Table of Contents",
   "title_sidebar": "Contents",
   "toc_cell": true,
   "toc_position": {},
   "toc_section_display": true,
   "toc_window_display": false
  }
 },
 "nbformat": 4,
 "nbformat_minor": 1
}
