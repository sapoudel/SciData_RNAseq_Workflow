{
 "cells": [
  {
   "cell_type": "markdown",
   "metadata": {
    "toc": true
   },
   "source": [
    "<h1>Table of Contents<span class=\"tocSkip\"></span></h1>\n",
    "<div class=\"toc\"><ul class=\"toc-item\"><li><span><a href=\"#Adapted-from:--http://www.bioconductor.org/help/workflows/rnaseqGene/\" data-toc-modified-id=\"Adapted-from:--http://www.bioconductor.org/help/workflows/rnaseqGene/-1\"><span class=\"toc-item-num\">1&nbsp;&nbsp;</span>Adapted from:  <a href=\"http://www.bioconductor.org/help/workflows/rnaseqGene/\" target=\"_blank\">http://www.bioconductor.org/help/workflows/rnaseqGene/</a></a></span></li><li><span><a href=\"#Table-of-Contents\" data-toc-modified-id=\"Table-of-Contents-2\"><span class=\"toc-item-num\">2&nbsp;&nbsp;</span>Table of Contents</a></span></li><li><span><a href=\"#Import-Libraries\" data-toc-modified-id=\"Import-Libraries-3\"><span class=\"toc-item-num\">3&nbsp;&nbsp;</span>Import Libraries</a></span></li><li><span><a href=\"#Load-BAM-files\" data-toc-modified-id=\"Load-BAM-files-4\"><span class=\"toc-item-num\">4&nbsp;&nbsp;</span>Load BAM files</a></span></li><li><span><a href=\"#Load-GFF-File\" data-toc-modified-id=\"Load-GFF-File-5\"><span class=\"toc-item-num\">5&nbsp;&nbsp;</span>Load GFF File</a></span></li><li><span><a href=\"#Count-Reads\" data-toc-modified-id=\"Count-Reads-6\"><span class=\"toc-item-num\">6&nbsp;&nbsp;</span>Count Reads</a></span></li></ul></div>"
   ]
  },
  {
   "cell_type": "markdown",
   "metadata": {},
   "source": [
    "# Adapted from:  http://www.bioconductor.org/help/workflows/rnaseqGene/"
   ]
  },
  {
   "cell_type": "markdown",
   "metadata": {},
   "source": [
    "To learn basics of R: https://www.datacamp.com/courses/free-introduction-to-r"
   ]
  },
  {
   "cell_type": "markdown",
   "metadata": {},
   "source": [
    "# Table of Contents"
   ]
  },
  {
   "cell_type": "markdown",
   "metadata": {},
   "source": [
    "1. [Setup](#Setup)\n",
    "1. [Load BAM files](#Load-BAM-files)\n",
    "1. [Load GFF file](#Load-GFF-file)\n",
    "1. [Count Reads](#Count-Reads)"
   ]
  },
  {
   "cell_type": "markdown",
   "metadata": {},
   "source": [
    "# Import Libraries"
   ]
  },
  {
   "cell_type": "code",
   "execution_count": 1,
   "metadata": {},
   "outputs": [],
   "source": [
    "suppressPackageStartupMessages(library('Rsamtools'))\n",
    "suppressPackageStartupMessages(library('GenomicFeatures'))\n",
    "suppressPackageStartupMessages(library('GenomicAlignments'))\n",
    "suppressPackageStartupMessages(library('BiocParallel'))\n",
    "suppressPackageStartupMessages(library('SummarizedExperiment'))"
   ]
  },
  {
   "cell_type": "markdown",
   "metadata": {},
   "source": [
    "# Load BAM files"
   ]
  },
  {
   "cell_type": "markdown",
   "metadata": {},
   "source": [
    "The `align_reads.ipynb` script stored all our BAM files in `example/aligned_files.csv`.  \n",
    "**Enter your alignment csv here:**"
   ]
  },
  {
   "cell_type": "code",
   "execution_count": 2,
   "metadata": {},
   "outputs": [],
   "source": [
    "ALIGNMENT_CSV <- 'example/aligned_files.csv'"
   ]
  },
  {
   "cell_type": "code",
   "execution_count": 3,
   "metadata": {
    "scrolled": false
   },
   "outputs": [
    {
     "data": {
      "text/html": [
       "<table>\n",
       "<thead><tr><th></th><th scope=col>sample_id</th><th scope=col>R1</th><th scope=col>R2</th><th scope=col>organism</th><th scope=col>BAM</th><th scope=col>alignment</th></tr></thead>\n",
       "<tbody>\n",
       "\t<tr><th scope=row>0</th><td>wt_fe2_1                                   </td><td>WT-Fe2-1_S1_L001_R1_001.fastq.trunc.gz     </td><td>WT-Fe2-1_S1_L001_R2_001.fastq.trunc.gz     </td><td>MG1655                                     </td><td>example/bam/wt_fe2_1.bam                   </td><td>93.43                                      </td></tr>\n",
       "\t<tr><th scope=row>1</th><td>wt_fe2_2                                   </td><td>WT-FE2-2_S2_L001_R1_001.fastq.trunc.gz     </td><td>WT-FE2-2_S2_L001_R2_001.fastq.trunc.gz     </td><td>MG1655                                     </td><td>example/bam/wt_fe2_2.bam                   </td><td>92.38                                      </td></tr>\n",
       "\t<tr><th scope=row>2</th><td>wt_dpd_1                                   </td><td>WTDPD1_S1_L001_R1_001.fastq.trunc.gz       </td><td>WTDPD1_S1_L001_R2_001.fastq.trunc.gz       </td><td>MG1655                                     </td><td>example/bam/wt_dpd_1.bam                   </td><td>98.11                                      </td></tr>\n",
       "\t<tr><th scope=row>3</th><td>wt_dpd_2                                   </td><td>WTDPD2_S1_L001_R1_001.fastq.trunc.gz       </td><td>WTDPD2_S1_L001_R2_001.fastq.trunc.gz       </td><td>MG1655                                     </td><td>example/bam/wt_dpd_2.bam                   </td><td>98.31                                      </td></tr>\n",
       "\t<tr><th scope=row>4</th><td>delfur_fe2_1                               </td><td>del-fur-Fe2-1_S1_L001_R1_001.fastq.trunc.gz</td><td>del-fur-Fe2-1_S1_L001_R2_001.fastq.trunc.gz</td><td>MG1655                                     </td><td>example/bam/delfur_fe2_1.bam               </td><td>92.82                                      </td></tr>\n",
       "\t<tr><th scope=row>5</th><td>delfur_fe2_2                               </td><td>del-fur-Fe2-2_S2_L001_R1_001.fastq.trunc.gz</td><td>del-fur-Fe2-2_S2_L001_R2_001.fastq.trunc.gz</td><td>MG1655                                     </td><td>example/bam/delfur_fe2_2.bam               </td><td>93.30                                      </td></tr>\n",
       "</tbody>\n",
       "</table>\n"
      ],
      "text/latex": [
       "\\begin{tabular}{r|llllll}\n",
       "  & sample\\_id & R1 & R2 & organism & BAM & alignment\\\\\n",
       "\\hline\n",
       "\t0 & wt\\_fe2\\_1                                        & WT-Fe2-1\\_S1\\_L001\\_R1\\_001.fastq.trunc.gz      & WT-Fe2-1\\_S1\\_L001\\_R2\\_001.fastq.trunc.gz      & MG1655                                              & example/bam/wt\\_fe2\\_1.bam                        & 93.43                                              \\\\\n",
       "\t1 & wt\\_fe2\\_2                                        & WT-FE2-2\\_S2\\_L001\\_R1\\_001.fastq.trunc.gz      & WT-FE2-2\\_S2\\_L001\\_R2\\_001.fastq.trunc.gz      & MG1655                                              & example/bam/wt\\_fe2\\_2.bam                        & 92.38                                              \\\\\n",
       "\t2 & wt\\_dpd\\_1                                        & WTDPD1\\_S1\\_L001\\_R1\\_001.fastq.trunc.gz        & WTDPD1\\_S1\\_L001\\_R2\\_001.fastq.trunc.gz        & MG1655                                              & example/bam/wt\\_dpd\\_1.bam                        & 98.11                                              \\\\\n",
       "\t3 & wt\\_dpd\\_2                                        & WTDPD2\\_S1\\_L001\\_R1\\_001.fastq.trunc.gz        & WTDPD2\\_S1\\_L001\\_R2\\_001.fastq.trunc.gz        & MG1655                                              & example/bam/wt\\_dpd\\_2.bam                        & 98.31                                              \\\\\n",
       "\t4 & delfur\\_fe2\\_1                                    & del-fur-Fe2-1\\_S1\\_L001\\_R1\\_001.fastq.trunc.gz & del-fur-Fe2-1\\_S1\\_L001\\_R2\\_001.fastq.trunc.gz & MG1655                                              & example/bam/delfur\\_fe2\\_1.bam                    & 92.82                                              \\\\\n",
       "\t5 & delfur\\_fe2\\_2                                    & del-fur-Fe2-2\\_S2\\_L001\\_R1\\_001.fastq.trunc.gz & del-fur-Fe2-2\\_S2\\_L001\\_R2\\_001.fastq.trunc.gz & MG1655                                              & example/bam/delfur\\_fe2\\_2.bam                    & 93.30                                              \\\\\n",
       "\\end{tabular}\n"
      ],
      "text/markdown": [
       "\n",
       "| <!--/--> | sample_id | R1 | R2 | organism | BAM | alignment | \n",
       "|---|---|---|---|---|---|\n",
       "| 0 | wt_fe2_1                                    | WT-Fe2-1_S1_L001_R1_001.fastq.trunc.gz      | WT-Fe2-1_S1_L001_R2_001.fastq.trunc.gz      | MG1655                                      | example/bam/wt_fe2_1.bam                    | 93.43                                       | \n",
       "| 1 | wt_fe2_2                                    | WT-FE2-2_S2_L001_R1_001.fastq.trunc.gz      | WT-FE2-2_S2_L001_R2_001.fastq.trunc.gz      | MG1655                                      | example/bam/wt_fe2_2.bam                    | 92.38                                       | \n",
       "| 2 | wt_dpd_1                                    | WTDPD1_S1_L001_R1_001.fastq.trunc.gz        | WTDPD1_S1_L001_R2_001.fastq.trunc.gz        | MG1655                                      | example/bam/wt_dpd_1.bam                    | 98.11                                       | \n",
       "| 3 | wt_dpd_2                                    | WTDPD2_S1_L001_R1_001.fastq.trunc.gz        | WTDPD2_S1_L001_R2_001.fastq.trunc.gz        | MG1655                                      | example/bam/wt_dpd_2.bam                    | 98.31                                       | \n",
       "| 4 | delfur_fe2_1                                | del-fur-Fe2-1_S1_L001_R1_001.fastq.trunc.gz | del-fur-Fe2-1_S1_L001_R2_001.fastq.trunc.gz | MG1655                                      | example/bam/delfur_fe2_1.bam                | 92.82                                       | \n",
       "| 5 | delfur_fe2_2                                | del-fur-Fe2-2_S2_L001_R1_001.fastq.trunc.gz | del-fur-Fe2-2_S2_L001_R2_001.fastq.trunc.gz | MG1655                                      | example/bam/delfur_fe2_2.bam                | 93.30                                       | \n",
       "\n",
       "\n"
      ],
      "text/plain": [
       "  sample_id    R1                                         \n",
       "0 wt_fe2_1     WT-Fe2-1_S1_L001_R1_001.fastq.trunc.gz     \n",
       "1 wt_fe2_2     WT-FE2-2_S2_L001_R1_001.fastq.trunc.gz     \n",
       "2 wt_dpd_1     WTDPD1_S1_L001_R1_001.fastq.trunc.gz       \n",
       "3 wt_dpd_2     WTDPD2_S1_L001_R1_001.fastq.trunc.gz       \n",
       "4 delfur_fe2_1 del-fur-Fe2-1_S1_L001_R1_001.fastq.trunc.gz\n",
       "5 delfur_fe2_2 del-fur-Fe2-2_S2_L001_R1_001.fastq.trunc.gz\n",
       "  R2                                          organism\n",
       "0 WT-Fe2-1_S1_L001_R2_001.fastq.trunc.gz      MG1655  \n",
       "1 WT-FE2-2_S2_L001_R2_001.fastq.trunc.gz      MG1655  \n",
       "2 WTDPD1_S1_L001_R2_001.fastq.trunc.gz        MG1655  \n",
       "3 WTDPD2_S1_L001_R2_001.fastq.trunc.gz        MG1655  \n",
       "4 del-fur-Fe2-1_S1_L001_R2_001.fastq.trunc.gz MG1655  \n",
       "5 del-fur-Fe2-2_S2_L001_R2_001.fastq.trunc.gz MG1655  \n",
       "  BAM                          alignment\n",
       "0 example/bam/wt_fe2_1.bam     93.43    \n",
       "1 example/bam/wt_fe2_2.bam     92.38    \n",
       "2 example/bam/wt_dpd_1.bam     98.11    \n",
       "3 example/bam/wt_dpd_2.bam     98.31    \n",
       "4 example/bam/delfur_fe2_1.bam 92.82    \n",
       "5 example/bam/delfur_fe2_2.bam 93.30    "
      ]
     },
     "metadata": {},
     "output_type": "display_data"
    }
   ],
   "source": [
    "sampleTable <- read.csv(ALIGNMENT_CSV,row.names=1)\n",
    "head(sampleTable)"
   ]
  },
  {
   "cell_type": "markdown",
   "metadata": {},
   "source": [
    "Put filenames into a character vector and check that they all exist."
   ]
  },
  {
   "cell_type": "code",
   "execution_count": 4,
   "metadata": {},
   "outputs": [
    {
     "data": {
      "text/html": [
       "TRUE"
      ],
      "text/latex": [
       "TRUE"
      ],
      "text/markdown": [
       "TRUE"
      ],
      "text/plain": [
       "[1] TRUE"
      ]
     },
     "metadata": {},
     "output_type": "display_data"
    }
   ],
   "source": [
    "filenames <- as.character(sampleTable$BAM)\n",
    "all(file.exists(filenames))"
   ]
  },
  {
   "cell_type": "markdown",
   "metadata": {},
   "source": [
    "The BamFileList function prepares the BAM files to be processed. The `yieldSize` argument states how many reads can be processed at once (default 2,000,000). This can be increased to speed alignment time, or decreased to reduce memory load."
   ]
  },
  {
   "cell_type": "code",
   "execution_count": 5,
   "metadata": {
    "scrolled": true
   },
   "outputs": [
    {
     "data": {
      "text/plain": [
       "BamFileList of length 8\n",
       "names(8): wt_fe2_1.bam wt_fe2_2.bam ... delfur_dpd_1.bam delfur_dpd_2.bam"
      ]
     },
     "metadata": {},
     "output_type": "display_data"
    }
   ],
   "source": [
    "(bamfiles <- BamFileList(filenames, yieldSize=2000000))"
   ]
  },
  {
   "cell_type": "markdown",
   "metadata": {},
   "source": [
    "# Load GFF File"
   ]
  },
  {
   "cell_type": "markdown",
   "metadata": {},
   "source": [
    "Set `ORG_ID` using the ID from 0_setup_organism  \n",
    "`makeTxDbFromGFF` loads the GFF file into a database.  \n",
    "`exonsBy` extracts the exons from the GFF file."
   ]
  },
  {
   "cell_type": "code",
   "execution_count": 6,
   "metadata": {},
   "outputs": [],
   "source": [
    "ORG_ID <- \"MG1655\""
   ]
  },
  {
   "cell_type": "code",
   "execution_count": 8,
   "metadata": {},
   "outputs": [
    {
     "name": "stderr",
     "output_type": "stream",
     "text": [
      "Import genomic features from the file as a GRanges object ... OK\n",
      "Prepare the 'metadata' data frame ... OK\n",
      "Make the TxDb object ... Warning message:\n",
      "“RSQLite::dbGetPreparedQuery() is deprecated, please switch to DBI::dbGetQuery(params = bind.data).”Warning message:\n",
      "“Named parameters not used in query: internal_chrom_id, chrom, length, is_circular”Warning message:\n",
      "“Named parameters not used in query: internal_id, name, type, chrom, strand, start, end”Warning message:\n",
      "“Named parameters not used in query: internal_id, name, chrom, strand, start, end”Warning message:\n",
      "“Named parameters not used in query: internal_tx_id, exon_rank, internal_exon_id, internal_cds_id”Warning message:\n",
      "“Named parameters not used in query: gene_id, internal_tx_id”OK\n"
     ]
    }
   ],
   "source": [
    "info <- suppressWarnings(readLines(file.path(\"ref\",ORG_ID,\"info.txt\")))\n",
    "gff <- info[3]\n",
    "txdb <- makeTxDbFromGFF(gff, format=\"gtf\")\n",
    "exons <- exonsBy(txdb, by=\"gene\")"
   ]
  },
  {
   "cell_type": "markdown",
   "metadata": {},
   "source": [
    "# Count Reads"
   ]
  },
  {
   "cell_type": "markdown",
   "metadata": {},
   "source": [
    "`summarizeOverlaps` counts the number of reads that overlap each gene in the GFF file. First, we intialize the multiprocessing, using the `workers` argument to set the number of cores to use. The `summarizeOverlaps` arguments are as follows:\n",
    "* `features`: The genomic features loaded in the previous code block\n",
    "* `reads`: The bam files listed above\n",
    "* `mode`: How to deal with potential overlaps. See [HTSeq-count](http://www-huber.embl.de/HTSeq/doc/count.html) documentation.\n",
    "* `singleEnd`: TRUE if single-end, FALSE if paired-end\n",
    "* `ignore.strand`: Whether the strand information is useful for mapping, based on library preparation method\n",
    "    * TRUE: Standard Illumina\n",
    "    * FALSE: Directional Illumina (Ligation), Standard SOLiD, dUTP, NSR, NNSR\n",
    "* `preprocess.reads` (optional): Modify reads before aligning\n",
    "    * invertStrand: Necessary for dUTP, NSR and NNSR library preparation methods\n",
    "* `fragments`: Whether to count unpaired reads"
   ]
  },
  {
   "cell_type": "code",
   "execution_count": 10,
   "metadata": {},
   "outputs": [],
   "source": [
    "register(MulticoreParam(workers = 8))\n",
    "se <- summarizeOverlaps(features=exons, reads=bamfiles,\n",
    "                        mode=\"IntersectionStrict\",\n",
    "                        singleEnd=FALSE,\n",
    "                        ignore.strand=FALSE,\n",
    "                        preprocess.reads=invertStrand,\n",
    "                        fragments=FALSE)"
   ]
  },
  {
   "cell_type": "markdown",
   "metadata": {},
   "source": [
    "The final counts are stored in the [SummarizedExperiment](https://www.bioconductor.org/help/workflows/rnaseqGene/#summarizedexperiment) object. "
   ]
  },
  {
   "cell_type": "code",
   "execution_count": 11,
   "metadata": {},
   "outputs": [
    {
     "data": {
      "text/plain": [
       "class: RangedSummarizedExperiment \n",
       "dim: 4386 8 \n",
       "metadata(0):\n",
       "assays(1): counts\n",
       "rownames(4386): b0001 b0002 ... b4706 b4708\n",
       "rowData names(0):\n",
       "colnames(8): wt_fe2_1.bam wt_fe2_2.bam ... delfur_dpd_1.bam\n",
       "  delfur_dpd_2.bam\n",
       "colData names(0):"
      ]
     },
     "metadata": {},
     "output_type": "display_data"
    }
   ],
   "source": [
    "se"
   ]
  },
  {
   "cell_type": "markdown",
   "metadata": {},
   "source": [
    "Let's add the metadata information into colData, and set the colnames"
   ]
  },
  {
   "cell_type": "code",
   "execution_count": 12,
   "metadata": {},
   "outputs": [],
   "source": [
    "metadata <- sampleTable\n",
    "colData(se) <- DataFrame(metadata)\n",
    "colnames(se) <- colData(se)$sample_id"
   ]
  },
  {
   "cell_type": "markdown",
   "metadata": {},
   "source": [
    "To view raw counts, use `assay(se)`"
   ]
  },
  {
   "cell_type": "code",
   "execution_count": 13,
   "metadata": {},
   "outputs": [
    {
     "data": {
      "text/html": [
       "<table>\n",
       "<thead><tr><th></th><th scope=col>wt_fe2_1</th><th scope=col>wt_fe2_2</th><th scope=col>wt_dpd_1</th><th scope=col>wt_dpd_2</th><th scope=col>delfur_fe2_1</th><th scope=col>delfur_fe2_2</th><th scope=col>delfur_dpd_1</th><th scope=col>delfur_dpd_2</th></tr></thead>\n",
       "<tbody>\n",
       "\t<tr><th scope=row>b0001</th><td> 218</td><td> 294</td><td>  29</td><td>  29</td><td> 316</td><td> 367</td><td>  27</td><td>  21</td></tr>\n",
       "\t<tr><th scope=row>b0002</th><td>3382</td><td>2782</td><td>5099</td><td>5787</td><td>3607</td><td>3763</td><td>1579</td><td>1876</td></tr>\n",
       "\t<tr><th scope=row>b0003</th><td>1027</td><td> 901</td><td>1411</td><td>1945</td><td>1061</td><td>1028</td><td> 450</td><td> 642</td></tr>\n",
       "\t<tr><th scope=row>b0004</th><td>1062</td><td> 977</td><td>1038</td><td>1366</td><td> 929</td><td> 920</td><td> 326</td><td> 420</td></tr>\n",
       "\t<tr><th scope=row>b0005</th><td>  45</td><td>  34</td><td>  18</td><td>  24</td><td>  30</td><td>  25</td><td>  11</td><td>  10</td></tr>\n",
       "\t<tr><th scope=row>b0006</th><td>  58</td><td>  53</td><td>  63</td><td>  78</td><td>  64</td><td>  52</td><td>  57</td><td>  63</td></tr>\n",
       "</tbody>\n",
       "</table>\n"
      ],
      "text/latex": [
       "\\begin{tabular}{r|llllllll}\n",
       "  & wt\\_fe2\\_1 & wt\\_fe2\\_2 & wt\\_dpd\\_1 & wt\\_dpd\\_2 & delfur\\_fe2\\_1 & delfur\\_fe2\\_2 & delfur\\_dpd\\_1 & delfur\\_dpd\\_2\\\\\n",
       "\\hline\n",
       "\tb0001 &  218 &  294 &   29 &   29 &  316 &  367 &   27 &   21\\\\\n",
       "\tb0002 & 3382 & 2782 & 5099 & 5787 & 3607 & 3763 & 1579 & 1876\\\\\n",
       "\tb0003 & 1027 &  901 & 1411 & 1945 & 1061 & 1028 &  450 &  642\\\\\n",
       "\tb0004 & 1062 &  977 & 1038 & 1366 &  929 &  920 &  326 &  420\\\\\n",
       "\tb0005 &   45 &   34 &   18 &   24 &   30 &   25 &   11 &   10\\\\\n",
       "\tb0006 &   58 &   53 &   63 &   78 &   64 &   52 &   57 &   63\\\\\n",
       "\\end{tabular}\n"
      ],
      "text/markdown": [
       "\n",
       "| <!--/--> | wt_fe2_1 | wt_fe2_2 | wt_dpd_1 | wt_dpd_2 | delfur_fe2_1 | delfur_fe2_2 | delfur_dpd_1 | delfur_dpd_2 | \n",
       "|---|---|---|---|---|---|\n",
       "| b0001 |  218 |  294 |   29 |   29 |  316 |  367 |   27 |   21 | \n",
       "| b0002 | 3382 | 2782 | 5099 | 5787 | 3607 | 3763 | 1579 | 1876 | \n",
       "| b0003 | 1027 |  901 | 1411 | 1945 | 1061 | 1028 |  450 |  642 | \n",
       "| b0004 | 1062 |  977 | 1038 | 1366 |  929 |  920 |  326 |  420 | \n",
       "| b0005 |   45 |   34 |   18 |   24 |   30 |   25 |   11 |   10 | \n",
       "| b0006 |   58 |   53 |   63 |   78 |   64 |   52 |   57 |   63 | \n",
       "\n",
       "\n"
      ],
      "text/plain": [
       "      wt_fe2_1 wt_fe2_2 wt_dpd_1 wt_dpd_2 delfur_fe2_1 delfur_fe2_2\n",
       "b0001  218      294       29       29      316          367        \n",
       "b0002 3382     2782     5099     5787     3607         3763        \n",
       "b0003 1027      901     1411     1945     1061         1028        \n",
       "b0004 1062      977     1038     1366      929          920        \n",
       "b0005   45       34       18       24       30           25        \n",
       "b0006   58       53       63       78       64           52        \n",
       "      delfur_dpd_1 delfur_dpd_2\n",
       "b0001   27           21        \n",
       "b0002 1579         1876        \n",
       "b0003  450          642        \n",
       "b0004  326          420        \n",
       "b0005   11           10        \n",
       "b0006   57           63        "
      ]
     },
     "metadata": {},
     "output_type": "display_data"
    }
   ],
   "source": [
    "head(assay(se))"
   ]
  },
  {
   "cell_type": "markdown",
   "metadata": {},
   "source": [
    "Finally, save the summarizedExperiment object as a checkpoint"
   ]
  },
  {
   "cell_type": "code",
   "execution_count": 15,
   "metadata": {},
   "outputs": [],
   "source": [
    "save(se,file='example/se.rda')"
   ]
  },
  {
   "cell_type": "code",
   "execution_count": null,
   "metadata": {},
   "outputs": [],
   "source": []
  }
 ],
 "metadata": {
  "kernelspec": {
   "display_name": "R",
   "language": "R",
   "name": "ir"
  },
  "language_info": {
   "codemirror_mode": "r",
   "file_extension": ".r",
   "mimetype": "text/x-r-source",
   "name": "R",
   "pygments_lexer": "r",
   "version": "3.3.1"
  },
  "toc": {
   "nav_menu": {},
   "number_sections": true,
   "sideBar": true,
   "skip_h1_title": false,
   "title_cell": "Table of Contents",
   "title_sidebar": "Contents",
   "toc_cell": true,
   "toc_position": {},
   "toc_section_display": true,
   "toc_window_display": false
  }
 },
 "nbformat": 4,
 "nbformat_minor": 1
}
