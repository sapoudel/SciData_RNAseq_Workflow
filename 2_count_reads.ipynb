{
 "cells": [
  {
   "cell_type": "markdown",
   "metadata": {},
   "source": [
    "# Adapted from:  http://www.bioconductor.org/help/workflows/rnaseqGene/"
   ]
  },
  {
   "cell_type": "markdown",
   "metadata": {},
   "source": [
    "#### To learn basics of R: https://www.datacamp.com/courses/free-introduction-to-r"
   ]
  },
  {
   "cell_type": "markdown",
   "metadata": {},
   "source": [
    "# Table of Contents"
   ]
  },
  {
   "cell_type": "markdown",
   "metadata": {},
   "source": [
    "1. [Setup](#Setup)\n",
    "1. [Load BAM files](#Load-BAM-files)\n",
    "1. [Load GFF file](#Load-GFF-file)\n",
    "1. [Count Reads](#Count-Reads)"
   ]
  },
  {
   "cell_type": "markdown",
   "metadata": {},
   "source": [
    "# Import Libraries"
   ]
  },
  {
   "cell_type": "code",
   "execution_count": 1,
   "metadata": {},
   "outputs": [],
   "source": [
    "suppressPackageStartupMessages(library('Rsamtools'))\n",
    "suppressPackageStartupMessages(library('GenomicFeatures'))\n",
    "suppressPackageStartupMessages(library('GenomicAlignments'))\n",
    "suppressPackageStartupMessages(library('BiocParallel'))\n",
    "suppressPackageStartupMessages(library('SummarizedExperiment'))"
   ]
  },
  {
   "cell_type": "markdown",
   "metadata": {},
   "source": [
    "# Load BAM files"
   ]
  },
  {
   "cell_type": "markdown",
   "metadata": {},
   "source": [
    "The `align_reads.ipynb` script stored all our BAM files in `example/aligned_files.csv`.  \n",
    "**Enter your alignment csv here:**"
   ]
  },
  {
   "cell_type": "code",
   "execution_count": 2,
   "metadata": {},
   "outputs": [],
   "source": [
    "ALIGNMENT_CSV <- '../processed_data/aligned_files.csv'"
   ]
  },
  {
   "cell_type": "code",
   "execution_count": 3,
   "metadata": {
    "scrolled": false
   },
   "outputs": [
    {
     "data": {
      "text/html": [
       "<table>\n",
       "<thead><tr><th></th><th scope=col>sample_id</th><th scope=col>R1</th><th scope=col>R2</th><th scope=col>organism</th><th scope=col>BAM</th><th scope=col>alignment</th></tr></thead>\n",
       "<tbody>\n",
       "\t<tr><th scope=row>0</th><td>wt_fe2_1                                    </td><td>WT-Fe2-1_S1_L001_R1_001.fastq.gz            </td><td>WT-Fe2-1_S1_L001_R2_001.fastq.gz            </td><td>MG1655                                      </td><td>../processed_data/bam_files/wt_fe2_1.bam    </td><td>93.35                                       </td></tr>\n",
       "\t<tr><th scope=row>1</th><td>wt_fe2_2                                    </td><td>WT-FE2-2_S2_L001_R1_001.fastq.gz            </td><td>WT-FE2-2_S2_L001_R2_001.fastq.gz            </td><td>MG1655                                      </td><td>../processed_data/bam_files/wt_fe2_2.bam    </td><td>92.38                                       </td></tr>\n",
       "\t<tr><th scope=row>2</th><td>wt_dpd_1                                    </td><td>WTDPD1_S1_L001_R1_001.fastq.gz              </td><td>WTDPD1_S1_L001_R2_001.fastq.gz              </td><td>MG1655                                      </td><td>../processed_data/bam_files/wt_dpd_1.bam    </td><td>98.04                                       </td></tr>\n",
       "\t<tr><th scope=row>3</th><td>wt_dpd_2                                    </td><td>WTDPD2_S1_L001_R1_001.fastq.gz              </td><td>WTDPD2_S1_L001_R2_001.fastq.gz              </td><td>MG1655                                      </td><td>../processed_data/bam_files/wt_dpd_2.bam    </td><td>98.30                                       </td></tr>\n",
       "\t<tr><th scope=row>4</th><td>delfur_fe2_1                                </td><td>del-fur-Fe2-1_S1_L001_R1_001.fastq.gz       </td><td>del-fur-Fe2-1_S1_L001_R2_001.fastq.gz       </td><td>MG1655                                      </td><td>../processed_data/bam_files/delfur_fe2_1.bam</td><td>92.80                                       </td></tr>\n",
       "\t<tr><th scope=row>5</th><td>delfur_fe2_2                                </td><td>del-fur-Fe2-2_S2_L001_R1_001.fastq.gz       </td><td>del-fur-Fe2-2_S2_L001_R2_001.fastq.gz       </td><td>MG1655                                      </td><td>../processed_data/bam_files/delfur_fe2_2.bam</td><td>93.24                                       </td></tr>\n",
       "</tbody>\n",
       "</table>\n"
      ],
      "text/latex": [
       "\\begin{tabular}{r|llllll}\n",
       "  & sample\\_id & R1 & R2 & organism & BAM & alignment\\\\\n",
       "\\hline\n",
       "\t0 & wt\\_fe2\\_1                                         & WT-Fe2-1\\_S1\\_L001\\_R1\\_001.fastq.gz             & WT-Fe2-1\\_S1\\_L001\\_R2\\_001.fastq.gz             & MG1655                                               & ../processed\\_data/bam\\_files/wt\\_fe2\\_1.bam     & 93.35                                               \\\\\n",
       "\t1 & wt\\_fe2\\_2                                         & WT-FE2-2\\_S2\\_L001\\_R1\\_001.fastq.gz             & WT-FE2-2\\_S2\\_L001\\_R2\\_001.fastq.gz             & MG1655                                               & ../processed\\_data/bam\\_files/wt\\_fe2\\_2.bam     & 92.38                                               \\\\\n",
       "\t2 & wt\\_dpd\\_1                                         & WTDPD1\\_S1\\_L001\\_R1\\_001.fastq.gz               & WTDPD1\\_S1\\_L001\\_R2\\_001.fastq.gz               & MG1655                                               & ../processed\\_data/bam\\_files/wt\\_dpd\\_1.bam     & 98.04                                               \\\\\n",
       "\t3 & wt\\_dpd\\_2                                         & WTDPD2\\_S1\\_L001\\_R1\\_001.fastq.gz               & WTDPD2\\_S1\\_L001\\_R2\\_001.fastq.gz               & MG1655                                               & ../processed\\_data/bam\\_files/wt\\_dpd\\_2.bam     & 98.30                                               \\\\\n",
       "\t4 & delfur\\_fe2\\_1                                     & del-fur-Fe2-1\\_S1\\_L001\\_R1\\_001.fastq.gz        & del-fur-Fe2-1\\_S1\\_L001\\_R2\\_001.fastq.gz        & MG1655                                               & ../processed\\_data/bam\\_files/delfur\\_fe2\\_1.bam & 92.80                                               \\\\\n",
       "\t5 & delfur\\_fe2\\_2                                     & del-fur-Fe2-2\\_S2\\_L001\\_R1\\_001.fastq.gz        & del-fur-Fe2-2\\_S2\\_L001\\_R2\\_001.fastq.gz        & MG1655                                               & ../processed\\_data/bam\\_files/delfur\\_fe2\\_2.bam & 93.24                                               \\\\\n",
       "\\end{tabular}\n"
      ],
      "text/markdown": [
       "\n",
       "| <!--/--> | sample_id | R1 | R2 | organism | BAM | alignment | \n",
       "|---|---|---|---|---|---|\n",
       "| 0 | wt_fe2_1                                     | WT-Fe2-1_S1_L001_R1_001.fastq.gz             | WT-Fe2-1_S1_L001_R2_001.fastq.gz             | MG1655                                       | ../processed_data/bam_files/wt_fe2_1.bam     | 93.35                                        | \n",
       "| 1 | wt_fe2_2                                     | WT-FE2-2_S2_L001_R1_001.fastq.gz             | WT-FE2-2_S2_L001_R2_001.fastq.gz             | MG1655                                       | ../processed_data/bam_files/wt_fe2_2.bam     | 92.38                                        | \n",
       "| 2 | wt_dpd_1                                     | WTDPD1_S1_L001_R1_001.fastq.gz               | WTDPD1_S1_L001_R2_001.fastq.gz               | MG1655                                       | ../processed_data/bam_files/wt_dpd_1.bam     | 98.04                                        | \n",
       "| 3 | wt_dpd_2                                     | WTDPD2_S1_L001_R1_001.fastq.gz               | WTDPD2_S1_L001_R2_001.fastq.gz               | MG1655                                       | ../processed_data/bam_files/wt_dpd_2.bam     | 98.30                                        | \n",
       "| 4 | delfur_fe2_1                                 | del-fur-Fe2-1_S1_L001_R1_001.fastq.gz        | del-fur-Fe2-1_S1_L001_R2_001.fastq.gz        | MG1655                                       | ../processed_data/bam_files/delfur_fe2_1.bam | 92.80                                        | \n",
       "| 5 | delfur_fe2_2                                 | del-fur-Fe2-2_S2_L001_R1_001.fastq.gz        | del-fur-Fe2-2_S2_L001_R2_001.fastq.gz        | MG1655                                       | ../processed_data/bam_files/delfur_fe2_2.bam | 93.24                                        | \n",
       "\n",
       "\n"
      ],
      "text/plain": [
       "  sample_id    R1                                   \n",
       "0 wt_fe2_1     WT-Fe2-1_S1_L001_R1_001.fastq.gz     \n",
       "1 wt_fe2_2     WT-FE2-2_S2_L001_R1_001.fastq.gz     \n",
       "2 wt_dpd_1     WTDPD1_S1_L001_R1_001.fastq.gz       \n",
       "3 wt_dpd_2     WTDPD2_S1_L001_R1_001.fastq.gz       \n",
       "4 delfur_fe2_1 del-fur-Fe2-1_S1_L001_R1_001.fastq.gz\n",
       "5 delfur_fe2_2 del-fur-Fe2-2_S2_L001_R1_001.fastq.gz\n",
       "  R2                                    organism\n",
       "0 WT-Fe2-1_S1_L001_R2_001.fastq.gz      MG1655  \n",
       "1 WT-FE2-2_S2_L001_R2_001.fastq.gz      MG1655  \n",
       "2 WTDPD1_S1_L001_R2_001.fastq.gz        MG1655  \n",
       "3 WTDPD2_S1_L001_R2_001.fastq.gz        MG1655  \n",
       "4 del-fur-Fe2-1_S1_L001_R2_001.fastq.gz MG1655  \n",
       "5 del-fur-Fe2-2_S2_L001_R2_001.fastq.gz MG1655  \n",
       "  BAM                                          alignment\n",
       "0 ../processed_data/bam_files/wt_fe2_1.bam     93.35    \n",
       "1 ../processed_data/bam_files/wt_fe2_2.bam     92.38    \n",
       "2 ../processed_data/bam_files/wt_dpd_1.bam     98.04    \n",
       "3 ../processed_data/bam_files/wt_dpd_2.bam     98.30    \n",
       "4 ../processed_data/bam_files/delfur_fe2_1.bam 92.80    \n",
       "5 ../processed_data/bam_files/delfur_fe2_2.bam 93.24    "
      ]
     },
     "metadata": {},
     "output_type": "display_data"
    }
   ],
   "source": [
    "sampleTable <- read.csv(ALIGNMENT_CSV,row.names=1)\n",
    "head(sampleTable)"
   ]
  },
  {
   "cell_type": "markdown",
   "metadata": {},
   "source": [
    "Put filenames into a character vector and check that they all exist."
   ]
  },
  {
   "cell_type": "code",
   "execution_count": 4,
   "metadata": {},
   "outputs": [
    {
     "data": {
      "text/html": [
       "TRUE"
      ],
      "text/latex": [
       "TRUE"
      ],
      "text/markdown": [
       "TRUE"
      ],
      "text/plain": [
       "[1] TRUE"
      ]
     },
     "metadata": {},
     "output_type": "display_data"
    }
   ],
   "source": [
    "filenames <- as.character(sampleTable$BAM)\n",
    "all(file.exists(filenames))"
   ]
  },
  {
   "cell_type": "markdown",
   "metadata": {},
   "source": [
    "The BamFileList function prepares the BAM files to be processed. The `yieldSize` argument states how many reads can be processed at once (default 2,000,000). This can be increased to speed alignment time, or decreased to reduce memory load."
   ]
  },
  {
   "cell_type": "code",
   "execution_count": 5,
   "metadata": {
    "scrolled": true
   },
   "outputs": [
    {
     "data": {
      "text/plain": [
       "BamFileList of length 8\n",
       "names(8): wt_fe2_1.bam wt_fe2_2.bam ... delfur_dpd_1.bam delfur_dpd_2.bam"
      ]
     },
     "metadata": {},
     "output_type": "display_data"
    }
   ],
   "source": [
    "(bamfiles <- BamFileList(filenames, yieldSize=2000000))"
   ]
  },
  {
   "cell_type": "markdown",
   "metadata": {},
   "source": [
    "# Load GFF File"
   ]
  },
  {
   "cell_type": "markdown",
   "metadata": {},
   "source": [
    "Set `ORG_ID` using the ID from 0_setup_organism  \n",
    "`makeTxDbFromGFF` loads the GFF file into a database.  \n",
    "`exonsBy` extracts the exons from the GFF file."
   ]
  },
  {
   "cell_type": "code",
   "execution_count": 6,
   "metadata": {},
   "outputs": [],
   "source": [
    "ORG_ID <- \"MG1655\""
   ]
  },
  {
   "cell_type": "code",
   "execution_count": 7,
   "metadata": {},
   "outputs": [
    {
     "name": "stderr",
     "output_type": "stream",
     "text": [
      "Import genomic features from the file as a GRanges object ... OK\n",
      "Prepare the 'metadata' data frame ... OK\n",
      "Make the TxDb object ... OK\n"
     ]
    }
   ],
   "source": [
    "info <- suppressWarnings(readLines(file.path(\"~\",\"ref\",ORG_ID,\"info.txt\")))\n",
    "gff <- info[3]\n",
    "txdb <- makeTxDbFromGFF(gff, format=\"gtf\")\n",
    "exons <- exonsBy(txdb, by=\"gene\")"
   ]
  },
  {
   "cell_type": "markdown",
   "metadata": {},
   "source": [
    "# Count Reads"
   ]
  },
  {
   "cell_type": "markdown",
   "metadata": {},
   "source": [
    "`summarizeOverlaps` counts the number of reads that overlap each gene in the GFF file. First, we intialize the multiprocessing, using the `workers` argument to set the number of cores to use. The `summarizeOverlaps` arguments are as follows:\n",
    "* `features`: The genomic features loaded in the previous code block\n",
    "* `reads`: The bam files listed above\n",
    "* `mode`: How to deal with potential overlaps. See [HTSeq-count](http://www-huber.embl.de/HTSeq/doc/count.html) documentation.\n",
    "* `singleEnd`: TRUE if single-end, FALSE if paired-end\n",
    "* `ignore.strand`: Whether the strand information is useful for mapping, based on library preparation method\n",
    "    * TRUE: Standard Illumina\n",
    "    * FALSE: Directional Illumina (Ligation), Standard SOLiD, dUTP, NSR, NNSR\n",
    "* `preprocess.reads` (optional): Modify reads before aligning\n",
    "    * invertStrand: Necessary for dUTP, NSR and NNSR library preparation methods\n",
    "* `fragments`: Whether to count unpaired reads"
   ]
  },
  {
   "cell_type": "code",
   "execution_count": 8,
   "metadata": {},
   "outputs": [],
   "source": [
    "register(MulticoreParam(workers = 12))\n",
    "se <- summarizeOverlaps(features=exons, reads=bamfiles,\n",
    "                        mode=\"Union\",\n",
    "                        singleEnd=FALSE,\n",
    "                        ignore.strand=FALSE,\n",
    "                        preprocess.reads=invertStrand,\n",
    "                        fragments=FALSE)"
   ]
  },
  {
   "cell_type": "markdown",
   "metadata": {},
   "source": [
    "The final counts are stored in the [SummarizedExperiment](https://www.bioconductor.org/help/workflows/rnaseqGene/#summarizedexperiment) object. "
   ]
  },
  {
   "cell_type": "code",
   "execution_count": 9,
   "metadata": {},
   "outputs": [
    {
     "data": {
      "text/plain": [
       "class: RangedSummarizedExperiment \n",
       "dim: 4386 8 \n",
       "metadata(0):\n",
       "assays(1): counts\n",
       "rownames(4386): b0001 b0002 ... b4706 b4708\n",
       "rowData names(0):\n",
       "colnames(8): wt_fe2_1.bam wt_fe2_2.bam ... delfur_dpd_1.bam\n",
       "  delfur_dpd_2.bam\n",
       "colData names(0):"
      ]
     },
     "metadata": {},
     "output_type": "display_data"
    }
   ],
   "source": [
    "se"
   ]
  },
  {
   "cell_type": "markdown",
   "metadata": {},
   "source": [
    "Let's add the metadata information into colData, and set the colnames"
   ]
  },
  {
   "cell_type": "code",
   "execution_count": 10,
   "metadata": {},
   "outputs": [],
   "source": [
    "metadata <- sampleTable\n",
    "colData(se) <- DataFrame(metadata)\n",
    "colnames(se) <- colData(se)$sample_id"
   ]
  },
  {
   "cell_type": "markdown",
   "metadata": {},
   "source": [
    "To view raw counts, use `assay(se)`"
   ]
  },
  {
   "cell_type": "code",
   "execution_count": 11,
   "metadata": {},
   "outputs": [
    {
     "data": {
      "text/html": [
       "<table>\n",
       "<thead><tr><th></th><th scope=col>wt_fe2_1</th><th scope=col>wt_fe2_2</th><th scope=col>wt_dpd_1</th><th scope=col>wt_dpd_2</th><th scope=col>delfur_fe2_1</th><th scope=col>delfur_fe2_2</th><th scope=col>delfur_dpd_1</th><th scope=col>delfur_dpd_2</th></tr></thead>\n",
       "<tbody>\n",
       "\t<tr><th scope=row>b0001</th><td> 2303</td><td> 2354</td><td>  311</td><td>  284</td><td> 3019</td><td> 3485</td><td>  245</td><td>  232</td></tr>\n",
       "\t<tr><th scope=row>b0002</th><td>36937</td><td>25801</td><td>58117</td><td>60901</td><td>40532</td><td>38470</td><td>17890</td><td>23112</td></tr>\n",
       "\t<tr><th scope=row>b0003</th><td>10922</td><td> 8250</td><td>16854</td><td>21042</td><td>11589</td><td>10840</td><td> 4805</td><td> 7879</td></tr>\n",
       "\t<tr><th scope=row>b0004</th><td>11953</td><td> 8463</td><td>12127</td><td>14498</td><td>10077</td><td> 9532</td><td> 3727</td><td> 5103</td></tr>\n",
       "\t<tr><th scope=row>b0005</th><td>  472</td><td>  345</td><td>  216</td><td>  178</td><td>  362</td><td>  297</td><td>  104</td><td>  120</td></tr>\n",
       "\t<tr><th scope=row>b0006</th><td>  669</td><td>  588</td><td>  703</td><td>  633</td><td>  682</td><td>  653</td><td>  660</td><td>  767</td></tr>\n",
       "</tbody>\n",
       "</table>\n"
      ],
      "text/latex": [
       "\\begin{tabular}{r|llllllll}\n",
       "  & wt\\_fe2\\_1 & wt\\_fe2\\_2 & wt\\_dpd\\_1 & wt\\_dpd\\_2 & delfur\\_fe2\\_1 & delfur\\_fe2\\_2 & delfur\\_dpd\\_1 & delfur\\_dpd\\_2\\\\\n",
       "\\hline\n",
       "\tb0001 &  2303 &  2354 &   311 &   284 &  3019 &  3485 &   245 &   232\\\\\n",
       "\tb0002 & 36937 & 25801 & 58117 & 60901 & 40532 & 38470 & 17890 & 23112\\\\\n",
       "\tb0003 & 10922 &  8250 & 16854 & 21042 & 11589 & 10840 &  4805 &  7879\\\\\n",
       "\tb0004 & 11953 &  8463 & 12127 & 14498 & 10077 &  9532 &  3727 &  5103\\\\\n",
       "\tb0005 &   472 &   345 &   216 &   178 &   362 &   297 &   104 &   120\\\\\n",
       "\tb0006 &   669 &   588 &   703 &   633 &   682 &   653 &   660 &   767\\\\\n",
       "\\end{tabular}\n"
      ],
      "text/markdown": [
       "\n",
       "| <!--/--> | wt_fe2_1 | wt_fe2_2 | wt_dpd_1 | wt_dpd_2 | delfur_fe2_1 | delfur_fe2_2 | delfur_dpd_1 | delfur_dpd_2 | \n",
       "|---|---|---|---|---|---|\n",
       "| b0001 |  2303 |  2354 |   311 |   284 |  3019 |  3485 |   245 |   232 | \n",
       "| b0002 | 36937 | 25801 | 58117 | 60901 | 40532 | 38470 | 17890 | 23112 | \n",
       "| b0003 | 10922 |  8250 | 16854 | 21042 | 11589 | 10840 |  4805 |  7879 | \n",
       "| b0004 | 11953 |  8463 | 12127 | 14498 | 10077 |  9532 |  3727 |  5103 | \n",
       "| b0005 |   472 |   345 |   216 |   178 |   362 |   297 |   104 |   120 | \n",
       "| b0006 |   669 |   588 |   703 |   633 |   682 |   653 |   660 |   767 | \n",
       "\n",
       "\n"
      ],
      "text/plain": [
       "      wt_fe2_1 wt_fe2_2 wt_dpd_1 wt_dpd_2 delfur_fe2_1 delfur_fe2_2\n",
       "b0001  2303     2354      311      284     3019         3485       \n",
       "b0002 36937    25801    58117    60901    40532        38470       \n",
       "b0003 10922     8250    16854    21042    11589        10840       \n",
       "b0004 11953     8463    12127    14498    10077         9532       \n",
       "b0005   472      345      216      178      362          297       \n",
       "b0006   669      588      703      633      682          653       \n",
       "      delfur_dpd_1 delfur_dpd_2\n",
       "b0001   245          232       \n",
       "b0002 17890        23112       \n",
       "b0003  4805         7879       \n",
       "b0004  3727         5103       \n",
       "b0005   104          120       \n",
       "b0006   660          767       "
      ]
     },
     "metadata": {},
     "output_type": "display_data"
    }
   ],
   "source": [
    "head(assay(se))"
   ]
  },
  {
   "cell_type": "markdown",
   "metadata": {},
   "source": [
    "Finally, save the summarizedExperiment object as a checkpoint"
   ]
  },
  {
   "cell_type": "code",
   "execution_count": 12,
   "metadata": {},
   "outputs": [],
   "source": [
    "save(se,file='../processed_data/se.rda')"
   ]
  },
  {
   "cell_type": "code",
   "execution_count": null,
   "metadata": {},
   "outputs": [],
   "source": []
  }
 ],
 "metadata": {
  "kernelspec": {
   "display_name": "R",
   "language": "R",
   "name": "ir"
  },
  "language_info": {
   "codemirror_mode": "r",
   "file_extension": ".r",
   "mimetype": "text/x-r-source",
   "name": "R",
   "pygments_lexer": "r",
   "version": "3.4.3"
  },
  "toc": {
   "nav_menu": {},
   "number_sections": true,
   "sideBar": true,
   "skip_h1_title": false,
   "title_cell": "Table of Contents",
   "title_sidebar": "Contents",
   "toc_cell": true,
   "toc_position": {},
   "toc_section_display": true,
   "toc_window_display": false
  }
 },
 "nbformat": 4,
 "nbformat_minor": 1
}
