{
 "cells": [
  {
   "cell_type": "markdown",
   "metadata": {
    "toc": true
   },
   "source": [
    "<h1>Table of Contents<span class=\"tocSkip\"></span></h1>\n",
    "<div class=\"toc\"><ul class=\"toc-item\"><li><span><a href=\"#Adapted-from:--http://www.bioconductor.org/help/workflows/rnaseqGene/\" data-toc-modified-id=\"Adapted-from:--http://www.bioconductor.org/help/workflows/rnaseqGene/-1\"><span class=\"toc-item-num\">1&nbsp;&nbsp;</span>Adapted from:  <a href=\"http://www.bioconductor.org/help/workflows/rnaseqGene/\" target=\"_blank\">http://www.bioconductor.org/help/workflows/rnaseqGene/</a></a></span></li><li><span><a href=\"#Table-of-Contents\" data-toc-modified-id=\"Table-of-Contents-2\"><span class=\"toc-item-num\">2&nbsp;&nbsp;</span>Table of Contents</a></span></li><li><span><a href=\"#Import-Libraries\" data-toc-modified-id=\"Import-Libraries-3\"><span class=\"toc-item-num\">3&nbsp;&nbsp;</span>Import Libraries</a></span></li><li><span><a href=\"#Load-BAM-files\" data-toc-modified-id=\"Load-BAM-files-4\"><span class=\"toc-item-num\">4&nbsp;&nbsp;</span>Load BAM files</a></span></li><li><span><a href=\"#Load-GFF-File\" data-toc-modified-id=\"Load-GFF-File-5\"><span class=\"toc-item-num\">5&nbsp;&nbsp;</span>Load GFF File</a></span></li><li><span><a href=\"#Count-Reads\" data-toc-modified-id=\"Count-Reads-6\"><span class=\"toc-item-num\">6&nbsp;&nbsp;</span>Count Reads</a></span></li></ul></div>"
   ]
  },
  {
   "cell_type": "markdown",
   "metadata": {},
   "source": [
    "# Adapted from:  http://www.bioconductor.org/help/workflows/rnaseqGene/"
   ]
  },
  {
   "cell_type": "markdown",
   "metadata": {},
   "source": [
    "To learn basics of R: https://www.datacamp.com/courses/free-introduction-to-r"
   ]
  },
  {
   "cell_type": "markdown",
   "metadata": {},
   "source": [
    "# Table of Contents"
   ]
  },
  {
   "cell_type": "markdown",
   "metadata": {},
   "source": [
    "1. [Setup](#Setup)\n",
    "1. [Load BAM files](#Load-BAM-files)\n",
    "1. [Load GFF file](#Load-GFF-file)\n",
    "1. [Count Reads](#Count-Reads)"
   ]
  },
  {
   "cell_type": "markdown",
   "metadata": {},
   "source": [
    "# Import Libraries"
   ]
  },
  {
   "cell_type": "code",
   "execution_count": 2,
   "metadata": {
    "ExecuteTime": {
     "end_time": "2019-01-09T20:30:30.604241Z",
     "start_time": "2019-01-09T20:30:30.585Z"
    }
   },
   "outputs": [],
   "source": [
    "suppressPackageStartupMessages(library('Rsamtools'))\n",
    "suppressPackageStartupMessages(library('GenomicFeatures'))\n",
    "suppressPackageStartupMessages(library('GenomicAlignments'))\n",
    "suppressPackageStartupMessages(library('BiocParallel'))\n",
    "suppressPackageStartupMessages(library('SummarizedExperiment'))"
   ]
  },
  {
   "cell_type": "markdown",
   "metadata": {},
   "source": [
    "# Load BAM files"
   ]
  },
  {
   "cell_type": "markdown",
   "metadata": {},
   "source": [
    "The `align_reads.ipynb` script stored all our BAM files in `example/aligned_files.csv`.  \n",
    "**Enter your alignment csv here:**"
   ]
  },
  {
   "cell_type": "code",
   "execution_count": 3,
   "metadata": {
    "ExecuteTime": {
     "end_time": "2019-01-09T20:30:31.693460Z",
     "start_time": "2019-01-09T20:30:31.673Z"
    }
   },
   "outputs": [],
   "source": [
    "ALIGNMENT_CSV <- './DF_files.csv'"
   ]
  },
  {
   "cell_type": "code",
   "execution_count": 4,
   "metadata": {
    "ExecuteTime": {
     "end_time": "2019-01-09T20:30:35.405445Z",
     "start_time": "2019-01-09T20:30:35.375Z"
    },
    "scrolled": false
   },
   "outputs": [
    {
     "data": {
      "text/html": [
       "<table>\n",
       "<thead><tr><th></th><th scope=col>sample_id</th><th scope=col>R1</th><th scope=col>R2</th><th scope=col>organism</th><th scope=col>BAM</th><th scope=col>percent.aligned</th><th scope=col>mean.phred.scores</th><th scope=col>total.reads</th><th scope=col>mapped.reads</th></tr></thead>\n",
       "<tbody>\n",
       "\t<tr><th scope=row>0</th><td>U01_53                                                             </td><td>ARM_HRS_TCH1516_RPMI_Naf_0ug_mLNafRep3_S28_L001_R1_001.fastq.gz    </td><td>ARM_HRS_TCH1516_RPMI_Naf_0ug_mLNafRep3_S28_L001_R2_001.fastq.gz    </td><td>USA300_TCH1516                                                     </td><td>./bam/U01_53.bam                                                   </td><td>94.66                                                              </td><td>38.7                                                               </td><td>15294662                                                           </td><td>14477782                                                           </td></tr>\n",
       "\t<tr><th scope=row>1</th><td>U01_50                                                             </td><td>ARM_HRS_TCH1516_RPMI_Naf_PreCulture_S2_L001_R1_001.fastq.gz        </td><td>ARM_HRS_TCH1516_RPMI_Naf_PreCulture_S2_L001_R2_001.fastq.gz        </td><td>USA300_TCH1516                                                     </td><td>./bam/U01_50.bam                                                   </td><td>98.15                                                              </td><td>38.8                                                               </td><td>19890598                                                           </td><td>19523607                                                           </td></tr>\n",
       "\t<tr><th scope=row>2</th><td>U01_56                                                             </td><td>ARM_HRS_TCH1516_RPMI_Naf_0_031ug_mLNafRep3_S9_L001_R1_001.fastq.gz </td><td>ARM_HRS_TCH1516_RPMI_Naf_0_031ug_mLNafRep3_S9_L001_R2_001.fastq.gz </td><td>USA300_TCH1516                                                     </td><td>./bam/U01_56.bam                                                   </td><td>93.82                                                              </td><td>38.6                                                               </td><td>13181966                                                           </td><td>12366915                                                           </td></tr>\n",
       "\t<tr><th scope=row>3</th><td>U01_61                                                             </td><td>ARM_HRS_TCH1516_CAMHB_Naf_0ug_mLNafRep1_S6_L001_R1_001.fastq.gz    </td><td>ARM_HRS_TCH1516_CAMHB_Naf_0ug_mLNafRep1_S6_L001_R2_001.fastq.gz    </td><td>USA300_TCH1516                                                     </td><td>./bam/U01_61.bam                                                   </td><td>95.08                                                              </td><td>38.1                                                               </td><td>16494676                                                           </td><td>15683459                                                           </td></tr>\n",
       "\t<tr><th scope=row>4</th><td>U01_70                                                             </td><td>ARM_HRS_TCH1516_CAMHB_Naf_1ug_mLNafRep1_S19_L001_R1_001.fastq.gz   </td><td>ARM_HRS_TCH1516_CAMHB_Naf_1ug_mLNafRep1_S19_L001_R2_001.fastq.gz   </td><td>USA300_TCH1516                                                     </td><td>./bam/U01_70.bam                                                   </td><td>96.89                                                              </td><td>38.6                                                               </td><td>15621372                                                           </td><td>15135285                                                           </td></tr>\n",
       "\t<tr><th scope=row>5</th><td>U01_59                                                             </td><td>ARM_HRS_TCH1516_RPMI_Naf_0_063ug_mLNafRep3_S14_L001_R1_001.fastq.gz</td><td>ARM_HRS_TCH1516_RPMI_Naf_0_063ug_mLNafRep3_S14_L001_R2_001.fastq.gz</td><td>USA300_TCH1516                                                     </td><td>./bam/U01_59.bam                                                   </td><td>96.02                                                              </td><td>38.7                                                               </td><td>14998926                                                           </td><td>14402693                                                           </td></tr>\n",
       "</tbody>\n",
       "</table>\n"
      ],
      "text/latex": [
       "\\begin{tabular}{r|lllllllll}\n",
       "  & sample\\_id & R1 & R2 & organism & BAM & percent.aligned & mean.phred.scores & total.reads & mapped.reads\\\\\n",
       "\\hline\n",
       "\t0 & U01\\_53                                                                                & ARM\\_HRS\\_TCH1516\\_RPMI\\_Naf\\_0ug\\_mLNafRep3\\_S28\\_L001\\_R1\\_001.fastq.gz     & ARM\\_HRS\\_TCH1516\\_RPMI\\_Naf\\_0ug\\_mLNafRep3\\_S28\\_L001\\_R2\\_001.fastq.gz     & USA300\\_TCH1516                                                                        & ./bam/U01\\_53.bam                                                                      & 94.66                                                                                   & 38.7                                                                                    & 15294662                                                                                & 14477782                                                                               \\\\\n",
       "\t1 & U01\\_50                                                                              & ARM\\_HRS\\_TCH1516\\_RPMI\\_Naf\\_PreCulture\\_S2\\_L001\\_R1\\_001.fastq.gz         & ARM\\_HRS\\_TCH1516\\_RPMI\\_Naf\\_PreCulture\\_S2\\_L001\\_R2\\_001.fastq.gz         & USA300\\_TCH1516                                                                      & ./bam/U01\\_50.bam                                                                    & 98.15                                                                                 & 38.8                                                                                  & 19890598                                                                              & 19523607                                                                             \\\\\n",
       "\t2 & U01\\_56                                                                                  & ARM\\_HRS\\_TCH1516\\_RPMI\\_Naf\\_0\\_031ug\\_mLNafRep3\\_S9\\_L001\\_R1\\_001.fastq.gz  & ARM\\_HRS\\_TCH1516\\_RPMI\\_Naf\\_0\\_031ug\\_mLNafRep3\\_S9\\_L001\\_R2\\_001.fastq.gz  & USA300\\_TCH1516                                                                          & ./bam/U01\\_56.bam                                                                        & 93.82                                                                                     & 38.6                                                                                      & 13181966                                                                                  & 12366915                                                                                 \\\\\n",
       "\t3 & U01\\_61                                                                                & ARM\\_HRS\\_TCH1516\\_CAMHB\\_Naf\\_0ug\\_mLNafRep1\\_S6\\_L001\\_R1\\_001.fastq.gz     & ARM\\_HRS\\_TCH1516\\_CAMHB\\_Naf\\_0ug\\_mLNafRep1\\_S6\\_L001\\_R2\\_001.fastq.gz     & USA300\\_TCH1516                                                                        & ./bam/U01\\_61.bam                                                                      & 95.08                                                                                   & 38.1                                                                                    & 16494676                                                                                & 15683459                                                                               \\\\\n",
       "\t4 & U01\\_70                                                                                & ARM\\_HRS\\_TCH1516\\_CAMHB\\_Naf\\_1ug\\_mLNafRep1\\_S19\\_L001\\_R1\\_001.fastq.gz    & ARM\\_HRS\\_TCH1516\\_CAMHB\\_Naf\\_1ug\\_mLNafRep1\\_S19\\_L001\\_R2\\_001.fastq.gz    & USA300\\_TCH1516                                                                        & ./bam/U01\\_70.bam                                                                      & 96.89                                                                                   & 38.6                                                                                    & 15621372                                                                                & 15135285                                                                               \\\\\n",
       "\t5 & U01\\_59                                                                                  & ARM\\_HRS\\_TCH1516\\_RPMI\\_Naf\\_0\\_063ug\\_mLNafRep3\\_S14\\_L001\\_R1\\_001.fastq.gz & ARM\\_HRS\\_TCH1516\\_RPMI\\_Naf\\_0\\_063ug\\_mLNafRep3\\_S14\\_L001\\_R2\\_001.fastq.gz & USA300\\_TCH1516                                                                          & ./bam/U01\\_59.bam                                                                        & 96.02                                                                                     & 38.7                                                                                      & 14998926                                                                                  & 14402693                                                                                 \\\\\n",
       "\\end{tabular}\n"
      ],
      "text/markdown": [
       "\n",
       "| <!--/--> | sample_id | R1 | R2 | organism | BAM | percent.aligned | mean.phred.scores | total.reads | mapped.reads | \n",
       "|---|---|---|---|---|---|\n",
       "| 0 | U01_53                                                              | ARM_HRS_TCH1516_RPMI_Naf_0ug_mLNafRep3_S28_L001_R1_001.fastq.gz     | ARM_HRS_TCH1516_RPMI_Naf_0ug_mLNafRep3_S28_L001_R2_001.fastq.gz     | USA300_TCH1516                                                      | ./bam/U01_53.bam                                                    | 94.66                                                               | 38.7                                                                | 15294662                                                            | 14477782                                                            | \n",
       "| 1 | U01_50                                                              | ARM_HRS_TCH1516_RPMI_Naf_PreCulture_S2_L001_R1_001.fastq.gz         | ARM_HRS_TCH1516_RPMI_Naf_PreCulture_S2_L001_R2_001.fastq.gz         | USA300_TCH1516                                                      | ./bam/U01_50.bam                                                    | 98.15                                                               | 38.8                                                                | 19890598                                                            | 19523607                                                            | \n",
       "| 2 | U01_56                                                              | ARM_HRS_TCH1516_RPMI_Naf_0_031ug_mLNafRep3_S9_L001_R1_001.fastq.gz  | ARM_HRS_TCH1516_RPMI_Naf_0_031ug_mLNafRep3_S9_L001_R2_001.fastq.gz  | USA300_TCH1516                                                      | ./bam/U01_56.bam                                                    | 93.82                                                               | 38.6                                                                | 13181966                                                            | 12366915                                                            | \n",
       "| 3 | U01_61                                                              | ARM_HRS_TCH1516_CAMHB_Naf_0ug_mLNafRep1_S6_L001_R1_001.fastq.gz     | ARM_HRS_TCH1516_CAMHB_Naf_0ug_mLNafRep1_S6_L001_R2_001.fastq.gz     | USA300_TCH1516                                                      | ./bam/U01_61.bam                                                    | 95.08                                                               | 38.1                                                                | 16494676                                                            | 15683459                                                            | \n",
       "| 4 | U01_70                                                              | ARM_HRS_TCH1516_CAMHB_Naf_1ug_mLNafRep1_S19_L001_R1_001.fastq.gz    | ARM_HRS_TCH1516_CAMHB_Naf_1ug_mLNafRep1_S19_L001_R2_001.fastq.gz    | USA300_TCH1516                                                      | ./bam/U01_70.bam                                                    | 96.89                                                               | 38.6                                                                | 15621372                                                            | 15135285                                                            | \n",
       "| 5 | U01_59                                                              | ARM_HRS_TCH1516_RPMI_Naf_0_063ug_mLNafRep3_S14_L001_R1_001.fastq.gz | ARM_HRS_TCH1516_RPMI_Naf_0_063ug_mLNafRep3_S14_L001_R2_001.fastq.gz | USA300_TCH1516                                                      | ./bam/U01_59.bam                                                    | 96.02                                                               | 38.7                                                                | 14998926                                                            | 14402693                                                            | \n",
       "\n",
       "\n"
      ],
      "text/plain": [
       "  sample_id R1                                                                 \n",
       "0 U01_53    ARM_HRS_TCH1516_RPMI_Naf_0ug_mLNafRep3_S28_L001_R1_001.fastq.gz    \n",
       "1 U01_50    ARM_HRS_TCH1516_RPMI_Naf_PreCulture_S2_L001_R1_001.fastq.gz        \n",
       "2 U01_56    ARM_HRS_TCH1516_RPMI_Naf_0_031ug_mLNafRep3_S9_L001_R1_001.fastq.gz \n",
       "3 U01_61    ARM_HRS_TCH1516_CAMHB_Naf_0ug_mLNafRep1_S6_L001_R1_001.fastq.gz    \n",
       "4 U01_70    ARM_HRS_TCH1516_CAMHB_Naf_1ug_mLNafRep1_S19_L001_R1_001.fastq.gz   \n",
       "5 U01_59    ARM_HRS_TCH1516_RPMI_Naf_0_063ug_mLNafRep3_S14_L001_R1_001.fastq.gz\n",
       "  R2                                                                 \n",
       "0 ARM_HRS_TCH1516_RPMI_Naf_0ug_mLNafRep3_S28_L001_R2_001.fastq.gz    \n",
       "1 ARM_HRS_TCH1516_RPMI_Naf_PreCulture_S2_L001_R2_001.fastq.gz        \n",
       "2 ARM_HRS_TCH1516_RPMI_Naf_0_031ug_mLNafRep3_S9_L001_R2_001.fastq.gz \n",
       "3 ARM_HRS_TCH1516_CAMHB_Naf_0ug_mLNafRep1_S6_L001_R2_001.fastq.gz    \n",
       "4 ARM_HRS_TCH1516_CAMHB_Naf_1ug_mLNafRep1_S19_L001_R2_001.fastq.gz   \n",
       "5 ARM_HRS_TCH1516_RPMI_Naf_0_063ug_mLNafRep3_S14_L001_R2_001.fastq.gz\n",
       "  organism       BAM              percent.aligned mean.phred.scores total.reads\n",
       "0 USA300_TCH1516 ./bam/U01_53.bam 94.66           38.7              15294662   \n",
       "1 USA300_TCH1516 ./bam/U01_50.bam 98.15           38.8              19890598   \n",
       "2 USA300_TCH1516 ./bam/U01_56.bam 93.82           38.6              13181966   \n",
       "3 USA300_TCH1516 ./bam/U01_61.bam 95.08           38.1              16494676   \n",
       "4 USA300_TCH1516 ./bam/U01_70.bam 96.89           38.6              15621372   \n",
       "5 USA300_TCH1516 ./bam/U01_59.bam 96.02           38.7              14998926   \n",
       "  mapped.reads\n",
       "0 14477782    \n",
       "1 19523607    \n",
       "2 12366915    \n",
       "3 15683459    \n",
       "4 15135285    \n",
       "5 14402693    "
      ]
     },
     "metadata": {},
     "output_type": "display_data"
    }
   ],
   "source": [
    "sampleTable <- read.csv(ALIGNMENT_CSV,row.names=1)\n",
    "head(sampleTable)"
   ]
  },
  {
   "cell_type": "markdown",
   "metadata": {},
   "source": [
    "Put filenames into a character vector and check that they all exist."
   ]
  },
  {
   "cell_type": "code",
   "execution_count": 5,
   "metadata": {
    "ExecuteTime": {
     "end_time": "2019-01-09T20:30:39.216216Z",
     "start_time": "2019-01-09T20:30:39.200Z"
    }
   },
   "outputs": [
    {
     "data": {
      "text/html": [
       "TRUE"
      ],
      "text/latex": [
       "TRUE"
      ],
      "text/markdown": [
       "TRUE"
      ],
      "text/plain": [
       "[1] TRUE"
      ]
     },
     "metadata": {},
     "output_type": "display_data"
    }
   ],
   "source": [
    "filenames <- as.character(sampleTable$BAM)\n",
    "all(file.exists(filenames))"
   ]
  },
  {
   "cell_type": "markdown",
   "metadata": {},
   "source": [
    "The BamFileList function prepares the BAM files to be processed. The `yieldSize` argument states how many reads can be processed at once (default 2,000,000). This can be increased to speed alignment time, or decreased to reduce memory load."
   ]
  },
  {
   "cell_type": "code",
   "execution_count": 6,
   "metadata": {
    "ExecuteTime": {
     "end_time": "2019-01-09T20:30:46.751699Z",
     "start_time": "2019-01-09T20:30:46.688Z"
    },
    "scrolled": true
   },
   "outputs": [
    {
     "data": {
      "text/plain": [
       "BamFileList of length 23\n",
       "names(23): U01_53.bam U01_50.bam U01_56.bam ... U01_52.bam U01_58.bam"
      ]
     },
     "metadata": {},
     "output_type": "display_data"
    }
   ],
   "source": [
    "(bamfiles <- BamFileList(filenames, yieldSize=2000000))"
   ]
  },
  {
   "cell_type": "markdown",
   "metadata": {},
   "source": [
    "# Load GFF File"
   ]
  },
  {
   "cell_type": "markdown",
   "metadata": {},
   "source": [
    "Set `ORG_ID` using the ID from 0_setup_organism  \n",
    "`makeTxDbFromGFF` loads the GFF file into a database.  \n",
    "`exonsBy` extracts the exons from the GFF file."
   ]
  },
  {
   "cell_type": "markdown",
   "metadata": {},
   "source": [
    "# Count Reads"
   ]
  },
  {
   "cell_type": "markdown",
   "metadata": {},
   "source": [
    "`summarizeOverlaps` counts the number of reads that overlap each gene in the GFF file. First, we intialize the multiprocessing, using the `workers` argument to set the number of cores to use. The `summarizeOverlaps` arguments are as follows:\n",
    "* `features`: The genomic features loaded in the previous code block\n",
    "* `reads`: The bam files listed above\n",
    "* `mode`: How to deal with potential overlaps. See [HTSeq-count](http://www-huber.embl.de/HTSeq/doc/count.html) documentation.\n",
    "* `singleEnd`: TRUE if single-end, FALSE if paired-end\n",
    "* `ignore.strand`: Whether the strand information is useful for mapping, based on library preparation method\n",
    "    * TRUE: Standard Illumina\n",
    "    * FALSE: Directional Illumina (Ligation), Standard SOLiD, dUTP, NSR, NNSR\n",
    "* `preprocess.reads` (optional): Modify reads before aligning\n",
    "    * invertStrand: Necessary for dUTP, NSR and NNSR library preparation methods\n",
    "* `fragments`: Whether to count unpaired reads"
   ]
  },
  {
   "cell_type": "code",
   "execution_count": 9,
   "metadata": {
    "ExecuteTime": {
     "end_time": "2019-01-09T20:45:03.787228Z",
     "start_time": "2019-01-09T20:32:36.611Z"
    }
   },
   "outputs": [
    {
     "name": "stderr",
     "output_type": "stream",
     "text": [
      "Import genomic features from the file as a GRanges object ... OK\n",
      "Prepare the 'metadata' data frame ... OK\n",
      "Make the TxDb object ... OK\n"
     ]
    }
   ],
   "source": [
    "for (org_id in unique(sampleTable$organism)){\n",
    "    info <- suppressWarnings(readLines(file.path(\"ref\",org_id,\"info.txt\")))\n",
    "    gff <- info[3]\n",
    "    txdb <- makeTxDbFromGFF(gff, format=\"gtf\")\n",
    "    exons <- exonsBy(txdb, by=\"gene\")\n",
    "    filenames <- as.character(sampleTable[sampleTable$organism == org_id,'BAM'])\n",
    "    (bamfiles <- BamFileList(filenames, yieldSize=2000000))\n",
    "    register(MulticoreParam(workers = 8))\n",
    "    se <- summarizeOverlaps(features=exons, reads=bamfiles,\n",
    "                        mode=\"IntersectionStrict\",\n",
    "                        singleEnd=FALSE,\n",
    "                        ignore.strand=FALSE,\n",
    "                        preprocess.reads=invertStrand,\n",
    "                        fragments=FALSE)\n",
    "    save(se, file=paste('./counts/',org_id,'.se'))\n",
    "    write.csv(assay(se), file=paste('./counts/',org_id,'_counts.csv', sep=''))\n",
    "}"
   ]
  }
 ],
 "metadata": {
  "kernelspec": {
   "display_name": "R",
   "language": "R",
   "name": "ir"
  },
  "language_info": {
   "codemirror_mode": "r",
   "file_extension": ".r",
   "mimetype": "text/x-r-source",
   "name": "R",
   "pygments_lexer": "r",
   "version": "3.5.2"
  },
  "toc": {
   "nav_menu": {},
   "number_sections": true,
   "sideBar": true,
   "skip_h1_title": false,
   "title_cell": "Table of Contents",
   "title_sidebar": "Contents",
   "toc_cell": true,
   "toc_position": {},
   "toc_section_display": true,
   "toc_window_display": false
  }
 },
 "nbformat": 4,
 "nbformat_minor": 1
}
