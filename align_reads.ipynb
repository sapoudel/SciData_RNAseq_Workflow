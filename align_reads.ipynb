{
 "cells": [
  {
   "cell_type": "code",
   "execution_count": 1,
   "metadata": {
    "collapsed": true
   },
   "outputs": [],
   "source": [
    "import pandas as pd\n",
    "import os,sys,subprocess\n",
    "from os.path import join"
   ]
  },
  {
   "cell_type": "markdown",
   "metadata": {},
   "source": [
    "# Setup"
   ]
  },
  {
   "cell_type": "code",
   "execution_count": 2,
   "metadata": {
    "collapsed": true
   },
   "outputs": [],
   "source": [
    "ROOT_DIR = os.getcwd() # Location of github folder"
   ]
  },
  {
   "cell_type": "code",
   "execution_count": 3,
   "metadata": {
    "collapsed": false
   },
   "outputs": [],
   "source": [
    "sys.path.append(join(ROOT_DIR,'align_reads.py'))\n",
    "from align_reads import align_reads"
   ]
  },
  {
   "cell_type": "markdown",
   "metadata": {},
   "source": [
    "### Choose bowtie or bowtie2 as your aligner:"
   ]
  },
  {
   "cell_type": "code",
   "execution_count": 4,
   "metadata": {
    "collapsed": false
   },
   "outputs": [
    {
     "name": "stdout",
     "output_type": "stream",
     "text": [
      "bowtie version 1.1.2\n",
      "64-bit\n",
      "Built on localhost.localdomain\n",
      "Tue Jun 23 13:28:18 EDT 2015\n",
      "Compiler: gcc version 4.1.2 20080704 (Red Hat 4.1.2-54)\n",
      "Options: -O3 -m64  -Wl,--hash-style=both -DPOPCNT_CAPABILITY  \n",
      "Sizeof {int, long, long long, void*, size_t, off_t}: {4, 8, 8, 8, 8, 8}\n",
      "\n"
     ]
    }
   ],
   "source": [
    "ALIGNER = 'bowtie' # 'bowtie2'\n",
    "try:\n",
    "    print subprocess.check_output([ALIGNER,'--version'])\n",
    "except:\n",
    "    print 'Aligner not installed correctly.'"
   ]
  },
  {
   "cell_type": "markdown",
   "metadata": {},
   "source": [
    "### Build bowtie index and format GFF file (optional)\n",
    "This only needs to be done once per organism. Make sure you get your Genbank file and FASTA file from the same source.\n",
    "\n",
    "`build_index` creates the bowtie index for alignment using the following:\n",
    "* `sequence`: Organism sequence as FASTA file\n",
    "* `bt_index`: Location and basename of index\n",
    "* `aligner` (optional): `'bowtie'` or `'bowtie2'` (default `'bowtie'`)\n",
    "    \n",
    "`gb2gff` creates a GFF file for downstream processing using the following:\n",
    "* `sequence`: Organism sequence as a FASTA file\n",
    "* `genbank`: Full genbank file for your organism\n",
    "\n",
    "`gb2gff` also requires the following packages: [Biopython](#http://biopython.org/) and [BCBio](#https://github.com/chapmanb/bcbb/tree/master/gff)"
   ]
  },
  {
   "cell_type": "code",
   "execution_count": 5,
   "metadata": {
    "collapsed": false
   },
   "outputs": [],
   "source": [
    "from align_reads import build_index,gb2gff\n",
    "\n",
    "FASTA = join(ROOT_DIR,'example/ref/NC_000913.3.fasta')\n",
    "GB_FULL = join(ROOT_DIR,'example/ref/NC_000913.3.gb')\n",
    "BT_INDEX = join(ROOT_DIR,'example/ref/NC_000913.3')\n",
    "\n",
    "build_index(FASTA,BT_INDEX)\n",
    "gb2gff(FASTA,GB_FULL)"
   ]
  },
  {
   "cell_type": "markdown",
   "metadata": {},
   "source": [
    "### Enter bowtie index location"
   ]
  },
  {
   "cell_type": "code",
   "execution_count": 6,
   "metadata": {
    "collapsed": true
   },
   "outputs": [],
   "source": [
    "BT_INDEX = join(ROOT_DIR,'example/ref/NC_000913.3')"
   ]
  },
  {
   "cell_type": "markdown",
   "metadata": {},
   "source": [
    "### Choose directory for aligned files"
   ]
  },
  {
   "cell_type": "code",
   "execution_count": 7,
   "metadata": {
    "collapsed": false
   },
   "outputs": [],
   "source": [
    "OUT_DIR = join(ROOT_DIR,'example/bam/')"
   ]
  },
  {
   "cell_type": "markdown",
   "metadata": {},
   "source": [
    "### Enter files into a csv with 4 columns:\n",
    "1. Unique sample identifier\n",
    "1. Metadata file location (optional)\n",
    "1. R1 file location\n",
    "1. R2 file location"
   ]
  },
  {
   "cell_type": "code",
   "execution_count": 8,
   "metadata": {
    "collapsed": false
   },
   "outputs": [
    {
     "data": {
      "text/html": [
       "<div>\n",
       "<table border=\"1\" class=\"dataframe\">\n",
       "  <thead>\n",
       "    <tr style=\"text-align: right;\">\n",
       "      <th></th>\n",
       "      <th>sample_id</th>\n",
       "      <th>metadata</th>\n",
       "      <th>R1</th>\n",
       "      <th>R2</th>\n",
       "    </tr>\n",
       "  </thead>\n",
       "  <tbody>\n",
       "    <tr>\n",
       "      <th>0</th>\n",
       "      <td>wt_fe2_1</td>\n",
       "      <td>/media/nucleoid/raw_data/dhkim/fur/2016-02-14_...</td>\n",
       "      <td>/media/nucleoid/raw_data/dhkim/fur/2016-02-14_...</td>\n",
       "      <td>/media/nucleoid/raw_data/dhkim/fur/2016-02-14_...</td>\n",
       "    </tr>\n",
       "    <tr>\n",
       "      <th>1</th>\n",
       "      <td>wt_fe2_2</td>\n",
       "      <td>/media/nucleoid/raw_data/dhkim/fur/2016-02-14_...</td>\n",
       "      <td>/media/nucleoid/raw_data/dhkim/fur/2016-02-14_...</td>\n",
       "      <td>/media/nucleoid/raw_data/dhkim/fur/2016-02-14_...</td>\n",
       "    </tr>\n",
       "    <tr>\n",
       "      <th>2</th>\n",
       "      <td>wt_dpd_1</td>\n",
       "      <td>/media/nucleoid/raw_data/dhkim/fur/2016-02-13_...</td>\n",
       "      <td>/media/nucleoid/raw_data/dhkim/fur/2016-02-13_...</td>\n",
       "      <td>/media/nucleoid/raw_data/dhkim/fur/2016-02-13_...</td>\n",
       "    </tr>\n",
       "    <tr>\n",
       "      <th>3</th>\n",
       "      <td>wt_dpd_2</td>\n",
       "      <td>/media/nucleoid/raw_data/dhkim/fur/2016-02-13_...</td>\n",
       "      <td>/media/nucleoid/raw_data/dhkim/fur/2016-02-13_...</td>\n",
       "      <td>/media/nucleoid/raw_data/dhkim/fur/2016-02-13_...</td>\n",
       "    </tr>\n",
       "    <tr>\n",
       "      <th>4</th>\n",
       "      <td>delfur_fe2_1</td>\n",
       "      <td>/media/nucleoid/raw_data/dhkim/fur/2016-02-11_...</td>\n",
       "      <td>/media/nucleoid/raw_data/dhkim/fur/2016-02-11_...</td>\n",
       "      <td>/media/nucleoid/raw_data/dhkim/fur/2016-02-11_...</td>\n",
       "    </tr>\n",
       "  </tbody>\n",
       "</table>\n",
       "</div>"
      ],
      "text/plain": [
       "      sample_id                                           metadata  \\\n",
       "0      wt_fe2_1  /media/nucleoid/raw_data/dhkim/fur/2016-02-14_...   \n",
       "1      wt_fe2_2  /media/nucleoid/raw_data/dhkim/fur/2016-02-14_...   \n",
       "2      wt_dpd_1  /media/nucleoid/raw_data/dhkim/fur/2016-02-13_...   \n",
       "3      wt_dpd_2  /media/nucleoid/raw_data/dhkim/fur/2016-02-13_...   \n",
       "4  delfur_fe2_1  /media/nucleoid/raw_data/dhkim/fur/2016-02-11_...   \n",
       "\n",
       "                                                  R1  \\\n",
       "0  /media/nucleoid/raw_data/dhkim/fur/2016-02-14_...   \n",
       "1  /media/nucleoid/raw_data/dhkim/fur/2016-02-14_...   \n",
       "2  /media/nucleoid/raw_data/dhkim/fur/2016-02-13_...   \n",
       "3  /media/nucleoid/raw_data/dhkim/fur/2016-02-13_...   \n",
       "4  /media/nucleoid/raw_data/dhkim/fur/2016-02-11_...   \n",
       "\n",
       "                                                  R2  \n",
       "0  /media/nucleoid/raw_data/dhkim/fur/2016-02-14_...  \n",
       "1  /media/nucleoid/raw_data/dhkim/fur/2016-02-14_...  \n",
       "2  /media/nucleoid/raw_data/dhkim/fur/2016-02-13_...  \n",
       "3  /media/nucleoid/raw_data/dhkim/fur/2016-02-13_...  \n",
       "4  /media/nucleoid/raw_data/dhkim/fur/2016-02-11_...  "
      ]
     },
     "execution_count": 8,
     "metadata": {},
     "output_type": "execute_result"
    }
   ],
   "source": [
    "DF_files = pd.read_csv('example/raw_files.csv')\n",
    "DF_files.head()"
   ]
  },
  {
   "cell_type": "markdown",
   "metadata": {},
   "source": [
    "# QC"
   ]
  },
  {
   "cell_type": "markdown",
   "metadata": {},
   "source": [
    "**Before alignment, run FastQC on your samples to assess the quality of the raw reads.**"
   ]
  },
  {
   "cell_type": "code",
   "execution_count": 9,
   "metadata": {
    "collapsed": false
   },
   "outputs": [
    {
     "name": "stdout",
     "output_type": "stream",
     "text": [
      "Number of unique sample IDs: 8\n",
      "Number of unique metadata files: 4\n"
     ]
    }
   ],
   "source": [
    "print 'Number of unique sample IDs: %d'%len(DF_files.sample_id.unique())\n",
    "print 'Number of unique metadata files: %d'%len(DF_files.metadata.unique())"
   ]
  },
  {
   "cell_type": "code",
   "execution_count": 10,
   "metadata": {
    "collapsed": false
   },
   "outputs": [
    {
     "name": "stdout",
     "output_type": "stream",
     "text": [
      "Number of unique R1 files: 8\n",
      "Number of unique R2 lists: 8\n"
     ]
    }
   ],
   "source": [
    "all_R1 = [r1.split(',') for r1 in DF_files.R1.values]\n",
    "all_R2 = [r1.split(',') for r1 in DF_files.R2.values]\n",
    "print 'Number of unique R1 files: %d'%len(DF_files.R1.unique())\n",
    "print 'Number of unique R2 lists: %d'%len(DF_files.R2.unique())"
   ]
  },
  {
   "cell_type": "markdown",
   "metadata": {},
   "source": [
    "# Align Reads"
   ]
  },
  {
   "cell_type": "markdown",
   "metadata": {},
   "source": [
    "The `align_reads` function takes the following required arguments:\n",
    "* `name`: The unique sample name used to name the output files\n",
    "* `R1`: Location of the R1 file\n",
    "* `R2`: Location of the R2 file\n",
    "* `bt_index`: Location of bowtie index to use for alignment\n",
    "* `out_dir`: Output directory\n",
    "\n",
    "Optional arguments:\n",
    "* `aligner`: 'bowtie' or 'bowtie2' (default 'bowtie')\n",
    "* `insertsize`: Maximum distance between paired ends (default 1000)\n",
    "* `cores`: Number of cores to use (default 1)\n",
    "* `force`: Re-runs alignment even if BAM file already exists\n",
    "* `verbose`: Update user with current process\n",
    "\n",
    "`align_reads` performs the following:\n",
    "1. Unzips .gz files into a temporary folder (if necessary)\n",
    "2. Uses the bowtie aligner to align reads to a bowtie index:\n",
    "    * Bowtie: `bowtie -X 1000 -n 2 -p 1 -3 3 -S -1 <R1_files> -2 <R2_files> <bt_index>`\n",
    "    * Bowtie2: `bowtie2 -X 1000 -N 1 -p 1 -3 3 -1 <R1_files> -2 <R2_files> -x <bt_index>`\n",
    "    * For information about these options, see docs for [bowtie](#http://bowtie-bio.sourceforge.net/manual.shtml) and [bowtie2](#http://bowtie-bio.sourceforge.net/bowtie2/manual.shtml)\n",
    "3. Converts the SAM output of bowtie to BAM\n",
    "    * `samtools view -bS <bowtie_out> -o <unsorted_bam>`\n",
    "4. Sorts the resulting BAM file\n",
    "    * `samtools sort <unsorted_bam> -o <sorted_bam>`\n",
    "5. Cleans up intermediate files\n",
    "\n",
    "The final output is the alignment score (%) and the location of the final BAM file"
   ]
  },
  {
   "cell_type": "code",
   "execution_count": 11,
   "metadata": {
    "collapsed": false
   },
   "outputs": [
    {
     "name": "stdout",
     "output_type": "stream",
     "text": [
      "Processing wt_fe2_1\n",
      "Processing wt_fe2_2\n",
      "Processing wt_dpd_1\n",
      "Processing wt_dpd_2\n",
      "Processing delfur_fe2_1\n",
      "Processing delfur_fe2_2\n",
      "Processing delfur_dpd_1\n",
      "Unzipping file: /media/nucleoid/raw_data/dhkim/fur/2016-02-12_RNA-seq/delfurDPD1_S2_L001_R1_001.fastq.gz\n",
      "Unzipping file: /media/nucleoid/raw_data/dhkim/fur/2016-02-12_RNA-seq/delfurDPD1_S2_L001_R2_001.fastq.gz\n",
      "Running bowtie: bowtie -X 1000 -n 2 -p 4 -3 3 -S -1 /home/anand/Documents/github/RNAseq_workflow/example/bam/tmp/delfurDPD1_S2_L001_R1_001.fastq -2 /home/anand/Documents/github/RNAseq_workflow/example/bam/tmp/delfurDPD1_S2_L001_R2_001.fastq /home/anand/Documents/github/RNAseq_workflow/example/ref/NC_000913.3\n",
      "Converting to BAM: samtools view -bS /home/anand/Documents/github/RNAseq_workflow/example/bam/tmp/delfur_dpd_1.sam -o /home/anand/Documents/github/RNAseq_workflow/example/bam/tmp/delfur_dpd_1.unsorted.bam\n",
      "Sorting BAM file: samtools sort /home/anand/Documents/github/RNAseq_workflow/example/bam/tmp/delfur_dpd_1.unsorted.bam -o /home/anand/Documents/github/RNAseq_workflow/example/bam/delfur_dpd_1.bam\n",
      "Cleaning up...\n",
      "Processing delfur_dpd_2\n"
     ]
    }
   ],
   "source": [
    "for i,row in DF_files.iterrows():\n",
    "    bam,score = align_reads(row.sample_id,row.R1,row.R2,BT_INDEX,OUT_DIR,\n",
    "                            aligner=ALIGNER,cores=4,verbose=True)\n",
    "    DF_files.loc[i,'BAM'] = bam\n",
    "    DF_files.loc[i,'alignment'] = score"
   ]
  },
  {
   "cell_type": "code",
   "execution_count": 14,
   "metadata": {
    "collapsed": false
   },
   "outputs": [],
   "source": [
    "DF_files.to_csv('example/aligned_files.csv')"
   ]
  },
  {
   "cell_type": "markdown",
   "metadata": {},
   "source": [
    "# Merge metadata (optional)"
   ]
  },
  {
   "cell_type": "code",
   "execution_count": 15,
   "metadata": {
    "collapsed": false
   },
   "outputs": [
    {
     "data": {
      "text/html": [
       "<div>\n",
       "<table border=\"1\" class=\"dataframe\">\n",
       "  <thead>\n",
       "    <tr style=\"text-align: right;\">\n",
       "      <th></th>\n",
       "      <th>creator</th>\n",
       "      <th>creator-email</th>\n",
       "      <th>project</th>\n",
       "      <th>data-type</th>\n",
       "      <th>run-date</th>\n",
       "      <th>taxonomy-id</th>\n",
       "      <th>strain-description</th>\n",
       "      <th>growth-stage</th>\n",
       "      <th>antibody</th>\n",
       "      <th>base-media</th>\n",
       "      <th>...</th>\n",
       "      <th>supplement</th>\n",
       "      <th>antibiotic</th>\n",
       "      <th>biological-replicates</th>\n",
       "      <th>technical-replicates</th>\n",
       "      <th>machine</th>\n",
       "      <th>illumina-kit</th>\n",
       "      <th>read-type</th>\n",
       "      <th>read-length</th>\n",
       "      <th>experiment-details</th>\n",
       "      <th>metadata</th>\n",
       "    </tr>\n",
       "    <tr>\n",
       "      <th>sample_id</th>\n",
       "      <th></th>\n",
       "      <th></th>\n",
       "      <th></th>\n",
       "      <th></th>\n",
       "      <th></th>\n",
       "      <th></th>\n",
       "      <th></th>\n",
       "      <th></th>\n",
       "      <th></th>\n",
       "      <th></th>\n",
       "      <th></th>\n",
       "      <th></th>\n",
       "      <th></th>\n",
       "      <th></th>\n",
       "      <th></th>\n",
       "      <th></th>\n",
       "      <th></th>\n",
       "      <th></th>\n",
       "      <th></th>\n",
       "      <th></th>\n",
       "      <th></th>\n",
       "    </tr>\n",
       "  </thead>\n",
       "  <tbody>\n",
       "    <tr>\n",
       "      <th>wt_fe2_1</th>\n",
       "      <td>Donghyuk Kim</td>\n",
       "      <td>dok023@ucsd.edu</td>\n",
       "      <td>fur</td>\n",
       "      <td>RNA-seq</td>\n",
       "      <td>2016-02-14</td>\n",
       "      <td>511145</td>\n",
       "      <td>Escherichia coli K-12 MG1655</td>\n",
       "      <td>mid-log</td>\n",
       "      <td>NaN</td>\n",
       "      <td>M9</td>\n",
       "      <td>...</td>\n",
       "      <td>non-sauer trace element mixture,FeCl2</td>\n",
       "      <td>NaN</td>\n",
       "      <td>2</td>\n",
       "      <td>1</td>\n",
       "      <td>MiSeq</td>\n",
       "      <td>50 Cycle</td>\n",
       "      <td>Paired-end reads</td>\n",
       "      <td>31</td>\n",
       "      <td>NaN</td>\n",
       "      <td>/media/nucleoid/raw_data/dhkim/fur/2016-02-14_...</td>\n",
       "    </tr>\n",
       "    <tr>\n",
       "      <th>wt_fe2_2</th>\n",
       "      <td>Donghyuk Kim</td>\n",
       "      <td>dok023@ucsd.edu</td>\n",
       "      <td>fur</td>\n",
       "      <td>RNA-seq</td>\n",
       "      <td>2016-02-14</td>\n",
       "      <td>511145</td>\n",
       "      <td>Escherichia coli K-12 MG1655</td>\n",
       "      <td>mid-log</td>\n",
       "      <td>NaN</td>\n",
       "      <td>M9</td>\n",
       "      <td>...</td>\n",
       "      <td>non-sauer trace element mixture,FeCl2</td>\n",
       "      <td>NaN</td>\n",
       "      <td>2</td>\n",
       "      <td>1</td>\n",
       "      <td>MiSeq</td>\n",
       "      <td>50 Cycle</td>\n",
       "      <td>Paired-end reads</td>\n",
       "      <td>31</td>\n",
       "      <td>NaN</td>\n",
       "      <td>/media/nucleoid/raw_data/dhkim/fur/2016-02-14_...</td>\n",
       "    </tr>\n",
       "    <tr>\n",
       "      <th>wt_dpd_1</th>\n",
       "      <td>Donghyuk Kim</td>\n",
       "      <td>dok023@ucsd.edu</td>\n",
       "      <td>fur</td>\n",
       "      <td>RNA-seq</td>\n",
       "      <td>2016-02-13</td>\n",
       "      <td>511145</td>\n",
       "      <td>Escherichia coli K-12 MG1655</td>\n",
       "      <td>mid-log</td>\n",
       "      <td>NaN</td>\n",
       "      <td>M9</td>\n",
       "      <td>...</td>\n",
       "      <td>non-sauer trace element mixture,DPD</td>\n",
       "      <td>NaN</td>\n",
       "      <td>2</td>\n",
       "      <td>1</td>\n",
       "      <td>MiSeq</td>\n",
       "      <td>50 Cycle</td>\n",
       "      <td>Paired-end reads</td>\n",
       "      <td>31</td>\n",
       "      <td>NaN</td>\n",
       "      <td>/media/nucleoid/raw_data/dhkim/fur/2016-02-13_...</td>\n",
       "    </tr>\n",
       "    <tr>\n",
       "      <th>wt_dpd_2</th>\n",
       "      <td>Donghyuk Kim</td>\n",
       "      <td>dok023@ucsd.edu</td>\n",
       "      <td>fur</td>\n",
       "      <td>RNA-seq</td>\n",
       "      <td>2016-02-13</td>\n",
       "      <td>511145</td>\n",
       "      <td>Escherichia coli K-12 MG1655</td>\n",
       "      <td>mid-log</td>\n",
       "      <td>NaN</td>\n",
       "      <td>M9</td>\n",
       "      <td>...</td>\n",
       "      <td>non-sauer trace element mixture,DPD</td>\n",
       "      <td>NaN</td>\n",
       "      <td>2</td>\n",
       "      <td>1</td>\n",
       "      <td>MiSeq</td>\n",
       "      <td>50 Cycle</td>\n",
       "      <td>Paired-end reads</td>\n",
       "      <td>31</td>\n",
       "      <td>NaN</td>\n",
       "      <td>/media/nucleoid/raw_data/dhkim/fur/2016-02-13_...</td>\n",
       "    </tr>\n",
       "    <tr>\n",
       "      <th>delfur_fe2_1</th>\n",
       "      <td>Donghyuk Kim</td>\n",
       "      <td>dok023@ucsd.edu</td>\n",
       "      <td>fur</td>\n",
       "      <td>RNA-seq</td>\n",
       "      <td>2016-02-11</td>\n",
       "      <td>511145</td>\n",
       "      <td>Escherichia coli K-12 MG1655 del_fur</td>\n",
       "      <td>mid-log</td>\n",
       "      <td>NaN</td>\n",
       "      <td>M9</td>\n",
       "      <td>...</td>\n",
       "      <td>non-sauer trace element mixture,FeCl2</td>\n",
       "      <td>Kanamycin</td>\n",
       "      <td>2</td>\n",
       "      <td>1</td>\n",
       "      <td>MiSeq</td>\n",
       "      <td>50 Cycle</td>\n",
       "      <td>Paired-end reads</td>\n",
       "      <td>31</td>\n",
       "      <td>NaN</td>\n",
       "      <td>/media/nucleoid/raw_data/dhkim/fur/2016-02-11_...</td>\n",
       "    </tr>\n",
       "  </tbody>\n",
       "</table>\n",
       "<p>5 rows × 26 columns</p>\n",
       "</div>"
      ],
      "text/plain": [
       "0                  creator    creator-email project data-type    run-date  \\\n",
       "sample_id                                                                   \n",
       "wt_fe2_1      Donghyuk Kim  dok023@ucsd.edu     fur   RNA-seq  2016-02-14   \n",
       "wt_fe2_2      Donghyuk Kim  dok023@ucsd.edu     fur   RNA-seq  2016-02-14   \n",
       "wt_dpd_1      Donghyuk Kim  dok023@ucsd.edu     fur   RNA-seq  2016-02-13   \n",
       "wt_dpd_2      Donghyuk Kim  dok023@ucsd.edu     fur   RNA-seq  2016-02-13   \n",
       "delfur_fe2_1  Donghyuk Kim  dok023@ucsd.edu     fur   RNA-seq  2016-02-11   \n",
       "\n",
       "0            taxonomy-id                    strain-description growth-stage  \\\n",
       "sample_id                                                                     \n",
       "wt_fe2_1          511145          Escherichia coli K-12 MG1655      mid-log   \n",
       "wt_fe2_2          511145          Escherichia coli K-12 MG1655      mid-log   \n",
       "wt_dpd_1          511145          Escherichia coli K-12 MG1655      mid-log   \n",
       "wt_dpd_2          511145          Escherichia coli K-12 MG1655      mid-log   \n",
       "delfur_fe2_1      511145  Escherichia coli K-12 MG1655 del_fur      mid-log   \n",
       "\n",
       "0            antibody base-media  \\\n",
       "sample_id                          \n",
       "wt_fe2_1          NaN         M9   \n",
       "wt_fe2_2          NaN         M9   \n",
       "wt_dpd_1          NaN         M9   \n",
       "wt_dpd_2          NaN         M9   \n",
       "delfur_fe2_1      NaN         M9   \n",
       "\n",
       "0                                   ...                          \\\n",
       "sample_id                           ...                           \n",
       "wt_fe2_1                            ...                           \n",
       "wt_fe2_2                            ...                           \n",
       "wt_dpd_1                            ...                           \n",
       "wt_dpd_2                            ...                           \n",
       "delfur_fe2_1                        ...                           \n",
       "\n",
       "0                                        supplement antibiotic  \\\n",
       "sample_id                                                        \n",
       "wt_fe2_1      non-sauer trace element mixture,FeCl2        NaN   \n",
       "wt_fe2_2      non-sauer trace element mixture,FeCl2        NaN   \n",
       "wt_dpd_1        non-sauer trace element mixture,DPD        NaN   \n",
       "wt_dpd_2        non-sauer trace element mixture,DPD        NaN   \n",
       "delfur_fe2_1  non-sauer trace element mixture,FeCl2  Kanamycin   \n",
       "\n",
       "0            biological-replicates technical-replicates machine illumina-kit  \\\n",
       "sample_id                                                                      \n",
       "wt_fe2_1                         2                    1   MiSeq     50 Cycle   \n",
       "wt_fe2_2                         2                    1   MiSeq     50 Cycle   \n",
       "wt_dpd_1                         2                    1   MiSeq     50 Cycle   \n",
       "wt_dpd_2                         2                    1   MiSeq     50 Cycle   \n",
       "delfur_fe2_1                     2                    1   MiSeq     50 Cycle   \n",
       "\n",
       "0                    read-type read-length experiment-details  \\\n",
       "sample_id                                                       \n",
       "wt_fe2_1      Paired-end reads          31                NaN   \n",
       "wt_fe2_2      Paired-end reads          31                NaN   \n",
       "wt_dpd_1      Paired-end reads          31                NaN   \n",
       "wt_dpd_2      Paired-end reads          31                NaN   \n",
       "delfur_fe2_1  Paired-end reads          31                NaN   \n",
       "\n",
       "0                                                      metadata  \n",
       "sample_id                                                        \n",
       "wt_fe2_1      /media/nucleoid/raw_data/dhkim/fur/2016-02-14_...  \n",
       "wt_fe2_2      /media/nucleoid/raw_data/dhkim/fur/2016-02-14_...  \n",
       "wt_dpd_1      /media/nucleoid/raw_data/dhkim/fur/2016-02-13_...  \n",
       "wt_dpd_2      /media/nucleoid/raw_data/dhkim/fur/2016-02-13_...  \n",
       "delfur_fe2_1  /media/nucleoid/raw_data/dhkim/fur/2016-02-11_...  \n",
       "\n",
       "[5 rows x 26 columns]"
      ]
     },
     "execution_count": 15,
     "metadata": {},
     "output_type": "execute_result"
    }
   ],
   "source": [
    "DF_metadata = pd.DataFrame()\n",
    "for metadata in DF_files.metadata:\n",
    "    df = pd.read_csv(metadata,index_col=0,header=None)\n",
    "    df.loc['metadata'] = metadata\n",
    "    DF_metadata = pd.concat([DF_metadata,df.transpose()])\n",
    "DF_metadata.index = DF_files.sample_id\n",
    "DF_metadata.head()"
   ]
  },
  {
   "cell_type": "code",
   "execution_count": 16,
   "metadata": {
    "collapsed": true
   },
   "outputs": [],
   "source": [
    "DF_metadata.to_csv('example/metadata.csv')"
   ]
  },
  {
   "cell_type": "code",
   "execution_count": null,
   "metadata": {
    "collapsed": true
   },
   "outputs": [],
   "source": []
  }
 ],
 "metadata": {
  "kernelspec": {
   "display_name": "Python 2",
   "language": "python",
   "name": "python2"
  },
  "language_info": {
   "codemirror_mode": {
    "name": "ipython",
    "version": 2
   },
   "file_extension": ".py",
   "mimetype": "text/x-python",
   "name": "python",
   "nbconvert_exporter": "python",
   "pygments_lexer": "ipython2",
   "version": "2.7.12"
  }
 },
 "nbformat": 4,
 "nbformat_minor": 2
}
