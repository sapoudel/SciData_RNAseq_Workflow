{
 "cells": [
  {
   "cell_type": "markdown",
   "metadata": {},
   "source": [
    "# Adapted from:  http://www.bioconductor.org/help/workflows/rnaseqGene/"
   ]
  },
  {
   "cell_type": "markdown",
   "metadata": {},
   "source": [
    "#### To learn basics of R: https://www.datacamp.com/courses/free-introduction-to-r"
   ]
  },
  {
   "cell_type": "markdown",
   "metadata": {},
   "source": [
    "# Table of Contents"
   ]
  },
  {
   "cell_type": "markdown",
   "metadata": {},
   "source": [
    "1. [Setup](#Setup)\n",
    "1. [Load BAM files](#Load-BAM-files)\n",
    "1. [Load GFF file](#Load-GFF-file)\n",
    "1. [Count Reads](#Count-Reads)"
   ]
  },
  {
   "cell_type": "markdown",
   "metadata": {},
   "source": [
    "# Setup"
   ]
  },
  {
   "cell_type": "markdown",
   "metadata": {},
   "source": [
    "If this is your first time running this script, uncomment and run the following code block. This will install all necessary R packages, but it may take 5-10 minutes to complete"
   ]
  },
  {
   "cell_type": "code",
   "execution_count": 1,
   "metadata": {
    "collapsed": true
   },
   "outputs": [],
   "source": [
    "# source(\"https://bioconductor.org/biocLite.R\")\n",
    "# biocLite('Rsamtools')\n",
    "# biocLite('GenomicFeatures')\n",
    "# biocLite('GenomicAlignments')\n",
    "# biocLite('BiocParallel')\n",
    "# biocLite('SummarizedExperiment')"
   ]
  },
  {
   "cell_type": "markdown",
   "metadata": {},
   "source": [
    "Now import the libraries. This code block must be run each time."
   ]
  },
  {
   "cell_type": "code",
   "execution_count": 20,
   "metadata": {
    "collapsed": true
   },
   "outputs": [],
   "source": [
    "suppressPackageStartupMessages(library('Rsamtools'))\n",
    "suppressPackageStartupMessages(library('GenomicFeatures'))\n",
    "suppressPackageStartupMessages(library('GenomicAlignments'))\n",
    "suppressPackageStartupMessages(library('BiocParallel'))\n",
    "suppressPackageStartupMessages(library('SummarizedExperiment'))"
   ]
  },
  {
   "cell_type": "markdown",
   "metadata": {},
   "source": [
    "# Load BAM files"
   ]
  },
  {
   "cell_type": "markdown",
   "metadata": {},
   "source": [
    "The `align_reads.ipynb` script stored all our BAM files in `example/aligned_files.csv`.  \n",
    "**Enter your alignment csv here:**"
   ]
  },
  {
   "cell_type": "code",
   "execution_count": 6,
   "metadata": {
    "collapsed": true
   },
   "outputs": [],
   "source": [
    "ALIGNMENT_CSV <- 'example/aligned_files.csv'"
   ]
  },
  {
   "cell_type": "code",
   "execution_count": 7,
   "metadata": {
    "scrolled": false
   },
   "outputs": [
    {
     "data": {
      "text/html": [
       "<table>\n",
       "<thead><tr><th></th><th scope=col>sample_id</th><th scope=col>metadata</th><th scope=col>R1</th><th scope=col>R2</th><th scope=col>BAM</th><th scope=col>alignment</th></tr></thead>\n",
       "<tbody>\n",
       "\t<tr><th scope=row>0</th><td>wt_fe2_1                                                                                   </td><td>/media/nucleoid/raw_data/dhkim/fur/2016-02-14_RNA-seq/2016-02-14_RNA-seq.csv               </td><td>/media/nucleoid/raw_data/dhkim/fur/2016-02-14_RNA-seq/WT-Fe2-1_S1_L001_R1_001.fastq.gz     </td><td>/media/nucleoid/raw_data/dhkim/fur/2016-02-14_RNA-seq/WT-Fe2-1_S1_L001_R2_001.fastq.gz     </td><td>/home/anand/Documents/github/RNAseq_workflow/example/bam_dup/wt_fe2_1.bam                  </td><td>93.71                                                                                      </td></tr>\n",
       "\t<tr><th scope=row>1</th><td>wt_fe2_2                                                                                   </td><td>/media/nucleoid/raw_data/dhkim/fur/2016-02-14_RNA-seq/2016-02-14_RNA-seq.csv               </td><td>/media/nucleoid/raw_data/dhkim/fur/2016-02-14_RNA-seq/WT-FE2-2_S2_L001_R1_001.fastq.gz     </td><td>/media/nucleoid/raw_data/dhkim/fur/2016-02-14_RNA-seq/WT-FE2-2_S2_L001_R2_001.fastq.gz     </td><td>/home/anand/Documents/github/RNAseq_workflow/example/bam_dup/wt_fe2_2.bam                  </td><td>92.75                                                                                      </td></tr>\n",
       "\t<tr><th scope=row>2</th><td>wt_dpd_1                                                                                   </td><td>/media/nucleoid/raw_data/dhkim/fur/2016-02-13_RNA-seq/2016-02-13_RNA-seq.csv               </td><td>/media/nucleoid/raw_data/dhkim/fur/2016-02-13_RNA-seq/WTDPD1_S1_L001_R1_001.fastq.gz       </td><td>/media/nucleoid/raw_data/dhkim/fur/2016-02-13_RNA-seq/WTDPD1_S1_L001_R2_001.fastq.gz       </td><td>/home/anand/Documents/github/RNAseq_workflow/example/bam_dup/wt_dpd_1.bam                  </td><td>98.39                                                                                      </td></tr>\n",
       "\t<tr><th scope=row>3</th><td>wt_dpd_2                                                                                   </td><td>/media/nucleoid/raw_data/dhkim/fur/2016-02-13_RNA-seq/2016-02-13_RNA-seq.csv               </td><td>/media/nucleoid/raw_data/dhkim/fur/2016-02-13_RNA-seq/WTDPD2_S1_L001_R1_001.fastq.gz       </td><td>/media/nucleoid/raw_data/dhkim/fur/2016-02-13_RNA-seq/WTDPD2_S1_L001_R2_001.fastq.gz       </td><td>/home/anand/Documents/github/RNAseq_workflow/example/bam_dup/wt_dpd_2.bam                  </td><td>98.72                                                                                      </td></tr>\n",
       "\t<tr><th scope=row>4</th><td>delfur_fe2_1                                                                               </td><td>/media/nucleoid/raw_data/dhkim/fur/2016-02-11_RNA-seq/2016-02-11_RNA-seq.csv               </td><td>/media/nucleoid/raw_data/dhkim/fur/2016-02-11_RNA-seq/del-fur-Fe2-1_S1_L001_R1_001.fastq.gz</td><td>/media/nucleoid/raw_data/dhkim/fur/2016-02-11_RNA-seq/del-fur-Fe2-1_S1_L001_R2_001.fastq.gz</td><td>/home/anand/Documents/github/RNAseq_workflow/example/bam_dup/delfur_fe2_1.bam              </td><td>93.23                                                                                      </td></tr>\n",
       "\t<tr><th scope=row>5</th><td>delfur_fe2_2                                                                               </td><td>/media/nucleoid/raw_data/dhkim/fur/2016-02-11_RNA-seq/2016-02-11_RNA-seq.csv               </td><td>/media/nucleoid/raw_data/dhkim/fur/2016-02-11_RNA-seq/del-fur-Fe2-2_S2_L001_R1_001.fastq.gz</td><td>/media/nucleoid/raw_data/dhkim/fur/2016-02-11_RNA-seq/del-fur-Fe2-2_S2_L001_R2_001.fastq.gz</td><td>/home/anand/Documents/github/RNAseq_workflow/example/bam_dup/delfur_fe2_2.bam              </td><td>93.62                                                                                      </td></tr>\n",
       "</tbody>\n",
       "</table>\n"
      ],
      "text/latex": [
       "\\begin{tabular}{r|llllll}\n",
       "  & sample\\_id & metadata & R1 & R2 & BAM & alignment\\\\\n",
       "\\hline\n",
       "\t0 & wt\\_fe2\\_1                                                                                            & /media/nucleoid/raw\\_data/dhkim/fur/2016-02-14\\_RNA-seq/2016-02-14\\_RNA-seq.csv                      & /media/nucleoid/raw\\_data/dhkim/fur/2016-02-14\\_RNA-seq/WT-Fe2-1\\_S1\\_L001\\_R1\\_001.fastq.gz      & /media/nucleoid/raw\\_data/dhkim/fur/2016-02-14\\_RNA-seq/WT-Fe2-1\\_S1\\_L001\\_R2\\_001.fastq.gz      & /home/anand/Documents/github/RNAseq\\_workflow/example/bam\\_dup/wt\\_fe2\\_1.bam                       & 93.71                                                                                                  \\\\\n",
       "\t1 & wt\\_fe2\\_2                                                                                            & /media/nucleoid/raw\\_data/dhkim/fur/2016-02-14\\_RNA-seq/2016-02-14\\_RNA-seq.csv                      & /media/nucleoid/raw\\_data/dhkim/fur/2016-02-14\\_RNA-seq/WT-FE2-2\\_S2\\_L001\\_R1\\_001.fastq.gz      & /media/nucleoid/raw\\_data/dhkim/fur/2016-02-14\\_RNA-seq/WT-FE2-2\\_S2\\_L001\\_R2\\_001.fastq.gz      & /home/anand/Documents/github/RNAseq\\_workflow/example/bam\\_dup/wt\\_fe2\\_2.bam                       & 92.75                                                                                                  \\\\\n",
       "\t2 & wt\\_dpd\\_1                                                                                            & /media/nucleoid/raw\\_data/dhkim/fur/2016-02-13\\_RNA-seq/2016-02-13\\_RNA-seq.csv                      & /media/nucleoid/raw\\_data/dhkim/fur/2016-02-13\\_RNA-seq/WTDPD1\\_S1\\_L001\\_R1\\_001.fastq.gz        & /media/nucleoid/raw\\_data/dhkim/fur/2016-02-13\\_RNA-seq/WTDPD1\\_S1\\_L001\\_R2\\_001.fastq.gz        & /home/anand/Documents/github/RNAseq\\_workflow/example/bam\\_dup/wt\\_dpd\\_1.bam                       & 98.39                                                                                                  \\\\\n",
       "\t3 & wt\\_dpd\\_2                                                                                            & /media/nucleoid/raw\\_data/dhkim/fur/2016-02-13\\_RNA-seq/2016-02-13\\_RNA-seq.csv                      & /media/nucleoid/raw\\_data/dhkim/fur/2016-02-13\\_RNA-seq/WTDPD2\\_S1\\_L001\\_R1\\_001.fastq.gz        & /media/nucleoid/raw\\_data/dhkim/fur/2016-02-13\\_RNA-seq/WTDPD2\\_S1\\_L001\\_R2\\_001.fastq.gz        & /home/anand/Documents/github/RNAseq\\_workflow/example/bam\\_dup/wt\\_dpd\\_2.bam                       & 98.72                                                                                                  \\\\\n",
       "\t4 & delfur\\_fe2\\_1                                                                                        & /media/nucleoid/raw\\_data/dhkim/fur/2016-02-11\\_RNA-seq/2016-02-11\\_RNA-seq.csv                      & /media/nucleoid/raw\\_data/dhkim/fur/2016-02-11\\_RNA-seq/del-fur-Fe2-1\\_S1\\_L001\\_R1\\_001.fastq.gz & /media/nucleoid/raw\\_data/dhkim/fur/2016-02-11\\_RNA-seq/del-fur-Fe2-1\\_S1\\_L001\\_R2\\_001.fastq.gz & /home/anand/Documents/github/RNAseq\\_workflow/example/bam\\_dup/delfur\\_fe2\\_1.bam                   & 93.23                                                                                                  \\\\\n",
       "\t5 & delfur\\_fe2\\_2                                                                                        & /media/nucleoid/raw\\_data/dhkim/fur/2016-02-11\\_RNA-seq/2016-02-11\\_RNA-seq.csv                      & /media/nucleoid/raw\\_data/dhkim/fur/2016-02-11\\_RNA-seq/del-fur-Fe2-2\\_S2\\_L001\\_R1\\_001.fastq.gz & /media/nucleoid/raw\\_data/dhkim/fur/2016-02-11\\_RNA-seq/del-fur-Fe2-2\\_S2\\_L001\\_R2\\_001.fastq.gz & /home/anand/Documents/github/RNAseq\\_workflow/example/bam\\_dup/delfur\\_fe2\\_2.bam                   & 93.62                                                                                                  \\\\\n",
       "\\end{tabular}\n"
      ],
      "text/markdown": [
       "\n",
       "| <!--/--> | sample_id | metadata | R1 | R2 | BAM | alignment | \n",
       "|---|---|---|---|---|---|\n",
       "| 0 | wt_fe2_1                                                                                    | /media/nucleoid/raw_data/dhkim/fur/2016-02-14_RNA-seq/2016-02-14_RNA-seq.csv                | /media/nucleoid/raw_data/dhkim/fur/2016-02-14_RNA-seq/WT-Fe2-1_S1_L001_R1_001.fastq.gz      | /media/nucleoid/raw_data/dhkim/fur/2016-02-14_RNA-seq/WT-Fe2-1_S1_L001_R2_001.fastq.gz      | /home/anand/Documents/github/RNAseq_workflow/example/bam_dup/wt_fe2_1.bam                   | 93.71                                                                                       | \n",
       "| 1 | wt_fe2_2                                                                                    | /media/nucleoid/raw_data/dhkim/fur/2016-02-14_RNA-seq/2016-02-14_RNA-seq.csv                | /media/nucleoid/raw_data/dhkim/fur/2016-02-14_RNA-seq/WT-FE2-2_S2_L001_R1_001.fastq.gz      | /media/nucleoid/raw_data/dhkim/fur/2016-02-14_RNA-seq/WT-FE2-2_S2_L001_R2_001.fastq.gz      | /home/anand/Documents/github/RNAseq_workflow/example/bam_dup/wt_fe2_2.bam                   | 92.75                                                                                       | \n",
       "| 2 | wt_dpd_1                                                                                    | /media/nucleoid/raw_data/dhkim/fur/2016-02-13_RNA-seq/2016-02-13_RNA-seq.csv                | /media/nucleoid/raw_data/dhkim/fur/2016-02-13_RNA-seq/WTDPD1_S1_L001_R1_001.fastq.gz        | /media/nucleoid/raw_data/dhkim/fur/2016-02-13_RNA-seq/WTDPD1_S1_L001_R2_001.fastq.gz        | /home/anand/Documents/github/RNAseq_workflow/example/bam_dup/wt_dpd_1.bam                   | 98.39                                                                                       | \n",
       "| 3 | wt_dpd_2                                                                                    | /media/nucleoid/raw_data/dhkim/fur/2016-02-13_RNA-seq/2016-02-13_RNA-seq.csv                | /media/nucleoid/raw_data/dhkim/fur/2016-02-13_RNA-seq/WTDPD2_S1_L001_R1_001.fastq.gz        | /media/nucleoid/raw_data/dhkim/fur/2016-02-13_RNA-seq/WTDPD2_S1_L001_R2_001.fastq.gz        | /home/anand/Documents/github/RNAseq_workflow/example/bam_dup/wt_dpd_2.bam                   | 98.72                                                                                       | \n",
       "| 4 | delfur_fe2_1                                                                                | /media/nucleoid/raw_data/dhkim/fur/2016-02-11_RNA-seq/2016-02-11_RNA-seq.csv                | /media/nucleoid/raw_data/dhkim/fur/2016-02-11_RNA-seq/del-fur-Fe2-1_S1_L001_R1_001.fastq.gz | /media/nucleoid/raw_data/dhkim/fur/2016-02-11_RNA-seq/del-fur-Fe2-1_S1_L001_R2_001.fastq.gz | /home/anand/Documents/github/RNAseq_workflow/example/bam_dup/delfur_fe2_1.bam               | 93.23                                                                                       | \n",
       "| 5 | delfur_fe2_2                                                                                | /media/nucleoid/raw_data/dhkim/fur/2016-02-11_RNA-seq/2016-02-11_RNA-seq.csv                | /media/nucleoid/raw_data/dhkim/fur/2016-02-11_RNA-seq/del-fur-Fe2-2_S2_L001_R1_001.fastq.gz | /media/nucleoid/raw_data/dhkim/fur/2016-02-11_RNA-seq/del-fur-Fe2-2_S2_L001_R2_001.fastq.gz | /home/anand/Documents/github/RNAseq_workflow/example/bam_dup/delfur_fe2_2.bam               | 93.62                                                                                       | \n",
       "\n",
       "\n"
      ],
      "text/plain": [
       "  sample_id   \n",
       "0 wt_fe2_1    \n",
       "1 wt_fe2_2    \n",
       "2 wt_dpd_1    \n",
       "3 wt_dpd_2    \n",
       "4 delfur_fe2_1\n",
       "5 delfur_fe2_2\n",
       "  metadata                                                                    \n",
       "0 /media/nucleoid/raw_data/dhkim/fur/2016-02-14_RNA-seq/2016-02-14_RNA-seq.csv\n",
       "1 /media/nucleoid/raw_data/dhkim/fur/2016-02-14_RNA-seq/2016-02-14_RNA-seq.csv\n",
       "2 /media/nucleoid/raw_data/dhkim/fur/2016-02-13_RNA-seq/2016-02-13_RNA-seq.csv\n",
       "3 /media/nucleoid/raw_data/dhkim/fur/2016-02-13_RNA-seq/2016-02-13_RNA-seq.csv\n",
       "4 /media/nucleoid/raw_data/dhkim/fur/2016-02-11_RNA-seq/2016-02-11_RNA-seq.csv\n",
       "5 /media/nucleoid/raw_data/dhkim/fur/2016-02-11_RNA-seq/2016-02-11_RNA-seq.csv\n",
       "  R1                                                                                         \n",
       "0 /media/nucleoid/raw_data/dhkim/fur/2016-02-14_RNA-seq/WT-Fe2-1_S1_L001_R1_001.fastq.gz     \n",
       "1 /media/nucleoid/raw_data/dhkim/fur/2016-02-14_RNA-seq/WT-FE2-2_S2_L001_R1_001.fastq.gz     \n",
       "2 /media/nucleoid/raw_data/dhkim/fur/2016-02-13_RNA-seq/WTDPD1_S1_L001_R1_001.fastq.gz       \n",
       "3 /media/nucleoid/raw_data/dhkim/fur/2016-02-13_RNA-seq/WTDPD2_S1_L001_R1_001.fastq.gz       \n",
       "4 /media/nucleoid/raw_data/dhkim/fur/2016-02-11_RNA-seq/del-fur-Fe2-1_S1_L001_R1_001.fastq.gz\n",
       "5 /media/nucleoid/raw_data/dhkim/fur/2016-02-11_RNA-seq/del-fur-Fe2-2_S2_L001_R1_001.fastq.gz\n",
       "  R2                                                                                         \n",
       "0 /media/nucleoid/raw_data/dhkim/fur/2016-02-14_RNA-seq/WT-Fe2-1_S1_L001_R2_001.fastq.gz     \n",
       "1 /media/nucleoid/raw_data/dhkim/fur/2016-02-14_RNA-seq/WT-FE2-2_S2_L001_R2_001.fastq.gz     \n",
       "2 /media/nucleoid/raw_data/dhkim/fur/2016-02-13_RNA-seq/WTDPD1_S1_L001_R2_001.fastq.gz       \n",
       "3 /media/nucleoid/raw_data/dhkim/fur/2016-02-13_RNA-seq/WTDPD2_S1_L001_R2_001.fastq.gz       \n",
       "4 /media/nucleoid/raw_data/dhkim/fur/2016-02-11_RNA-seq/del-fur-Fe2-1_S1_L001_R2_001.fastq.gz\n",
       "5 /media/nucleoid/raw_data/dhkim/fur/2016-02-11_RNA-seq/del-fur-Fe2-2_S2_L001_R2_001.fastq.gz\n",
       "  BAM                                                                          \n",
       "0 /home/anand/Documents/github/RNAseq_workflow/example/bam_dup/wt_fe2_1.bam    \n",
       "1 /home/anand/Documents/github/RNAseq_workflow/example/bam_dup/wt_fe2_2.bam    \n",
       "2 /home/anand/Documents/github/RNAseq_workflow/example/bam_dup/wt_dpd_1.bam    \n",
       "3 /home/anand/Documents/github/RNAseq_workflow/example/bam_dup/wt_dpd_2.bam    \n",
       "4 /home/anand/Documents/github/RNAseq_workflow/example/bam_dup/delfur_fe2_1.bam\n",
       "5 /home/anand/Documents/github/RNAseq_workflow/example/bam_dup/delfur_fe2_2.bam\n",
       "  alignment\n",
       "0 93.71    \n",
       "1 92.75    \n",
       "2 98.39    \n",
       "3 98.72    \n",
       "4 93.23    \n",
       "5 93.62    "
      ]
     },
     "metadata": {},
     "output_type": "display_data"
    }
   ],
   "source": [
    "sampleTable <- read.csv(ALIGNMENT_CSV,row.names=1)\n",
    "head(sampleTable)"
   ]
  },
  {
   "cell_type": "markdown",
   "metadata": {},
   "source": [
    "Put filenames into a character vector and check that they all exist."
   ]
  },
  {
   "cell_type": "code",
   "execution_count": 8,
   "metadata": {},
   "outputs": [
    {
     "data": {
      "text/html": [
       "TRUE"
      ],
      "text/latex": [
       "TRUE"
      ],
      "text/markdown": [
       "TRUE"
      ],
      "text/plain": [
       "[1] TRUE"
      ]
     },
     "metadata": {},
     "output_type": "display_data"
    }
   ],
   "source": [
    "filenames <- as.character(sampleTable$BAM)\n",
    "all(file.exists(filenames))"
   ]
  },
  {
   "cell_type": "markdown",
   "metadata": {},
   "source": [
    "The BamFileList function prepares the BAM files to be processed. The `yieldSize` argument states how many reads can be processed at once (default 2,000,000). This can be increased to speed alignment time, or decreased to reduce memory load."
   ]
  },
  {
   "cell_type": "code",
   "execution_count": 9,
   "metadata": {
    "scrolled": true
   },
   "outputs": [
    {
     "data": {
      "text/plain": [
       "BamFileList of length 8\n",
       "names(8): wt_fe2_1.bam wt_fe2_2.bam ... delfur_dpd_1.bam delfur_dpd_2.bam"
      ]
     },
     "metadata": {},
     "output_type": "display_data"
    }
   ],
   "source": [
    "(bamfiles <- BamFileList(filenames, yieldSize=2000000))"
   ]
  },
  {
   "cell_type": "markdown",
   "metadata": {},
   "source": [
    "# Load GFF File"
   ]
  },
  {
   "cell_type": "markdown",
   "metadata": {},
   "source": [
    "`makeTxDbFromGFF` loads the GFF file into a database.  \n",
    "`exonsBy` extracts the exons from the GFF file."
   ]
  },
  {
   "cell_type": "code",
   "execution_count": 10,
   "metadata": {},
   "outputs": [
    {
     "name": "stderr",
     "output_type": "stream",
     "text": [
      "Import genomic features from the file as a GRanges object ... OK\n",
      "Prepare the 'metadata' data frame ... OK\n",
      "Make the TxDb object ... Warning message:\n",
      "“RSQLite::dbGetPreparedQuery() is deprecated, please switch to DBI::dbGetQuery(params = bind.data).”Warning message:\n",
      "“Named parameters not used in query: internal_chrom_id, chrom, length, is_circular”Warning message:\n",
      "“Named parameters not used in query: internal_id, name, type, chrom, strand, start, end”Warning message:\n",
      "“Named parameters not used in query: internal_id, name, chrom, strand, start, end”Warning message:\n",
      "“Named parameters not used in query: internal_tx_id, exon_rank, internal_exon_id, internal_cds_id”Warning message:\n",
      "“Named parameters not used in query: gene_id, internal_tx_id”OK\n"
     ]
    }
   ],
   "source": [
    "GFF_FILE <- \"./example/ref/NC_000913.3.gff\"\n",
    "txdb <- makeTxDbFromGFF(GFF_FILE, format=\"gtf\")\n",
    "exons <- exonsBy(txdb, by=\"gene\")"
   ]
  },
  {
   "cell_type": "markdown",
   "metadata": {},
   "source": [
    "# Count Reads"
   ]
  },
  {
   "cell_type": "markdown",
   "metadata": {},
   "source": [
    "`summarizeOverlaps` counts the number of reads that overlap each gene in the GFF file. First, we intialize the multiprocessing, using the `workers` argument to set the number of cores to use. The `summarizeOverlaps` arguments are as follows:\n",
    "* `features`: The genomic features loaded in the previous code block\n",
    "* `reads`: The bam files listed above\n",
    "* `mode`: How to deal with potential overlaps. See [HTSeq-count](http://www-huber.embl.de/HTSeq/doc/count.html) documentation.\n",
    "* `singleEnd`: TRUE if single-end, FALSE if paired-end\n",
    "* `ignore.strand`: Whether the strand information is useful for mapping, based on library preparation method\n",
    "    * TRUE: Standard Illumina\n",
    "    * FALSE: Directional Illumina (Ligation), Standard SOLiD, dUTP, NSR, NNSR\n",
    "* `preprocess.reads` (optional): Modify reads before aligning\n",
    "    * invertStrand: Necessary for dUTP, NSR and NNSR library preparation methods\n",
    "* `fragments`: Whether to count unpaired reads"
   ]
  },
  {
   "cell_type": "code",
   "execution_count": 11,
   "metadata": {
    "collapsed": true
   },
   "outputs": [],
   "source": [
    "register(MulticoreParam(workers = 6))\n",
    "se <- summarizeOverlaps(features=exons, reads=bamfiles,\n",
    "                        mode=\"Union\",\n",
    "                        singleEnd=FALSE,\n",
    "                        ignore.strand=FALSE,\n",
    "                        preprocess.reads=invertStrand,\n",
    "                        fragments=FALSE)"
   ]
  },
  {
   "cell_type": "markdown",
   "metadata": {},
   "source": [
    "The final counts are stored in the [SummarizedExperiment](https://www.bioconductor.org/help/workflows/rnaseqGene/#summarizedexperiment) object. "
   ]
  },
  {
   "cell_type": "code",
   "execution_count": 12,
   "metadata": {},
   "outputs": [
    {
     "data": {
      "text/plain": [
       "class: RangedSummarizedExperiment \n",
       "dim: 4319 8 \n",
       "metadata(0):\n",
       "assays(1): counts\n",
       "rownames(4319): b0001 b0002 ... b4706 b4708\n",
       "rowData names(0):\n",
       "colnames(8): wt_fe2_1.bam wt_fe2_2.bam ... delfur_dpd_1.bam\n",
       "  delfur_dpd_2.bam\n",
       "colData names(0):"
      ]
     },
     "metadata": {},
     "output_type": "display_data"
    }
   ],
   "source": [
    "se"
   ]
  },
  {
   "cell_type": "markdown",
   "metadata": {},
   "source": [
    "Let's add the metadata information into colData, and set the colnames"
   ]
  },
  {
   "cell_type": "code",
   "execution_count": 13,
   "metadata": {
    "collapsed": true
   },
   "outputs": [],
   "source": [
    "metadata <- read.csv('example/metadata.csv')\n",
    "colData(se) <- DataFrame(metadata)\n",
    "colnames(se) <- colData(se)$sample_id"
   ]
  },
  {
   "cell_type": "markdown",
   "metadata": {},
   "source": [
    "To view raw counts, use `assay(se)`"
   ]
  },
  {
   "cell_type": "code",
   "execution_count": 17,
   "metadata": {},
   "outputs": [
    {
     "data": {
      "text/html": [
       "<table>\n",
       "<thead><tr><th></th><th scope=col>wt_fe2_1</th><th scope=col>wt_fe2_2</th><th scope=col>wt_dpd_1</th><th scope=col>wt_dpd_2</th><th scope=col>delfur_fe2_1</th><th scope=col>delfur_fe2_2</th><th scope=col>delfur_dpd_1</th><th scope=col>delfur_dpd_2</th></tr></thead>\n",
       "<tbody>\n",
       "\t<tr><th scope=row>b0001</th><td> 2303</td><td> 2354</td><td>  311</td><td>  284</td><td> 3022</td><td> 3486</td><td>  245</td><td>  232</td></tr>\n",
       "\t<tr><th scope=row>b0002</th><td>37014</td><td>25850</td><td>58245</td><td>61055</td><td>40634</td><td>38562</td><td>17943</td><td>23165</td></tr>\n",
       "\t<tr><th scope=row>b0003</th><td>10941</td><td> 8272</td><td>16878</td><td>21079</td><td>11610</td><td>10854</td><td> 4817</td><td> 7890</td></tr>\n",
       "\t<tr><th scope=row>b0004</th><td>11987</td><td> 8493</td><td>12182</td><td>14567</td><td>10102</td><td> 9566</td><td> 3738</td><td> 5112</td></tr>\n",
       "\t<tr><th scope=row>b0005</th><td>  473</td><td>  348</td><td>  216</td><td>  178</td><td>  363</td><td>  297</td><td>  104</td><td>  121</td></tr>\n",
       "\t<tr><th scope=row>b0006</th><td>  669</td><td>  590</td><td>  703</td><td>  633</td><td>  682</td><td>  653</td><td>  662</td><td>  767</td></tr>\n",
       "</tbody>\n",
       "</table>\n"
      ],
      "text/latex": [
       "\\begin{tabular}{r|llllllll}\n",
       "  & wt\\_fe2\\_1 & wt\\_fe2\\_2 & wt\\_dpd\\_1 & wt\\_dpd\\_2 & delfur\\_fe2\\_1 & delfur\\_fe2\\_2 & delfur\\_dpd\\_1 & delfur\\_dpd\\_2\\\\\n",
       "\\hline\n",
       "\tb0001 &  2303 &  2354 &   311 &   284 &  3022 &  3486 &   245 &   232\\\\\n",
       "\tb0002 & 37014 & 25850 & 58245 & 61055 & 40634 & 38562 & 17943 & 23165\\\\\n",
       "\tb0003 & 10941 &  8272 & 16878 & 21079 & 11610 & 10854 &  4817 &  7890\\\\\n",
       "\tb0004 & 11987 &  8493 & 12182 & 14567 & 10102 &  9566 &  3738 &  5112\\\\\n",
       "\tb0005 &   473 &   348 &   216 &   178 &   363 &   297 &   104 &   121\\\\\n",
       "\tb0006 &   669 &   590 &   703 &   633 &   682 &   653 &   662 &   767\\\\\n",
       "\\end{tabular}\n"
      ],
      "text/markdown": [
       "\n",
       "| <!--/--> | wt_fe2_1 | wt_fe2_2 | wt_dpd_1 | wt_dpd_2 | delfur_fe2_1 | delfur_fe2_2 | delfur_dpd_1 | delfur_dpd_2 | \n",
       "|---|---|---|---|---|---|\n",
       "| b0001 |  2303 |  2354 |   311 |   284 |  3022 |  3486 |   245 |   232 | \n",
       "| b0002 | 37014 | 25850 | 58245 | 61055 | 40634 | 38562 | 17943 | 23165 | \n",
       "| b0003 | 10941 |  8272 | 16878 | 21079 | 11610 | 10854 |  4817 |  7890 | \n",
       "| b0004 | 11987 |  8493 | 12182 | 14567 | 10102 |  9566 |  3738 |  5112 | \n",
       "| b0005 |   473 |   348 |   216 |   178 |   363 |   297 |   104 |   121 | \n",
       "| b0006 |   669 |   590 |   703 |   633 |   682 |   653 |   662 |   767 | \n",
       "\n",
       "\n"
      ],
      "text/plain": [
       "      wt_fe2_1 wt_fe2_2 wt_dpd_1 wt_dpd_2 delfur_fe2_1 delfur_fe2_2\n",
       "b0001  2303     2354      311      284     3022         3486       \n",
       "b0002 37014    25850    58245    61055    40634        38562       \n",
       "b0003 10941     8272    16878    21079    11610        10854       \n",
       "b0004 11987     8493    12182    14567    10102         9566       \n",
       "b0005   473      348      216      178      363          297       \n",
       "b0006   669      590      703      633      682          653       \n",
       "      delfur_dpd_1 delfur_dpd_2\n",
       "b0001   245          232       \n",
       "b0002 17943        23165       \n",
       "b0003  4817         7890       \n",
       "b0004  3738         5112       \n",
       "b0005   104          121       \n",
       "b0006   662          767       "
      ]
     },
     "metadata": {},
     "output_type": "display_data"
    }
   ],
   "source": [
    "head(assay(se))"
   ]
  },
  {
   "cell_type": "markdown",
   "metadata": {},
   "source": [
    "Finally, save the summarizedExperiment object as a checkpoint"
   ]
  },
  {
   "cell_type": "code",
   "execution_count": 80,
   "metadata": {
    "collapsed": true
   },
   "outputs": [],
   "source": [
    "save(se,file='example/se.rda')"
   ]
  }
 ],
 "metadata": {
  "kernelspec": {
   "display_name": "R",
   "language": "R",
   "name": "ir"
  },
  "language_info": {
   "codemirror_mode": "r",
   "file_extension": ".r",
   "mimetype": "text/x-r-source",
   "name": "R",
   "pygments_lexer": "r",
   "version": "3.3.1"
  }
 },
 "nbformat": 4,
 "nbformat_minor": 1
}
